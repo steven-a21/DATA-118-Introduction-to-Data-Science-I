{
 "cells": [
  {
   "cell_type": "markdown",
   "metadata": {
    "id": "y8T7s95P0j-w"
   },
   "source": [
    "## Data 118, Winter 2024, University of Chicago\n",
    "# Homework 1: Strings, Expressions and Arrays (50 points)\n",
    "\n",
    "Please complete this notebook by filling in the cells provided.\n",
    "\n",
    "The solved homework should be uploaded to Gradescope as an .ipynb file. DO NOT put your answers in more than one file or use a different file extension.\n",
    "\n",
    "Make sure to RUN ALL CELLS IN YOUR NOTEBOOK before submitting. All of your answers should be printed and easy for graders to find if you want full credit for your work."
   ]
  },
  {
   "cell_type": "markdown",
   "metadata": {
    "id": "PWfyI6Qk0j-0"
   },
   "source": [
    "#### Deadline:\n",
    "\n",
    "This assignment is due on **Friday, Jan 12th at 11:59pm**. Late work will not be accepted unless it follows the specific policy of your instructor.\n",
    "\n",
    "Directly sharing answers is not okay, but discussing problems with the course instructors and staff is encouraged, and with other students is allowed.\n",
    "\n",
    "You should start early so that you have time to get help if you're stuck."
   ]
  },
  {
   "cell_type": "code",
   "execution_count": null,
   "metadata": {},
   "outputs": [],
   "source": [
    "import numpy as np \n",
    "import pandas as pd"
   ]
  },
  {
   "cell_type": "code",
   "execution_count": 1,
   "metadata": {
    "id": "M-ftgmNO0j-0"
   },
   "outputs": [],
   "source": [
    "# Don't change this cell; just run it.\n",
    "\n",
    "import numpy as np"
   ]
  },
  {
   "cell_type": "markdown",
   "metadata": {
    "id": "ZuENAADw0j-2"
   },
   "source": [
    "## 1. Strings (16 points)"
   ]
  },
  {
   "cell_type": "markdown",
   "metadata": {
    "id": "4WV5SrSE0j-4"
   },
   "source": [
    "**Question 1. (2 pts)** Use the `replace()` function for strings to change the string *'machine learning'* into the string *'learning machine'*. You must do everything into one line of code and you can only replace one full word with a different full word. An example of using `replace()` twice in one line of code is below. [Note: the output should be a string of the same length as the one you started with; no extra spaces etc.]"
   ]
  },
  {
   "cell_type": "code",
   "execution_count": 151,
   "metadata": {
    "id": "t8Ona1kb0j-5"
   },
   "outputs": [
    {
     "data": {
      "text/plain": [
       "'Today is a good day!'"
      ]
     },
     "execution_count": 151,
     "metadata": {},
     "output_type": "execute_result"
    }
   ],
   "source": [
    "# this cell illustrates the use of .replace\n",
    "'Today is a good day.'.replace('.','!')"
   ]
  },
  {
   "cell_type": "code",
   "execution_count": 152,
   "metadata": {
    "id": "_RpPVVZV0j-5"
   },
   "outputs": [
    {
     "data": {
      "text/plain": [
       "'happy place'"
      ]
     },
     "execution_count": 152,
     "metadata": {},
     "output_type": "execute_result"
    }
   ],
   "source": [
    "# this cell illustrates the use of .replace twice\n",
    "'on campus'.replace('on','happy').replace('campus','place')"
   ]
  },
  {
   "cell_type": "code",
   "execution_count": 153,
   "metadata": {
    "id": "yvp1YQGV0j-6"
   },
   "outputs": [
    {
     "data": {
      "text/plain": [
       "'learning machine'"
      ]
     },
     "execution_count": 153,
     "metadata": {},
     "output_type": "execute_result"
    }
   ],
   "source": [
    "#Q1 answer here\n",
    "'machine learning'.replace('machine', 'word').replace('learning', 'machine').replace('word', 'learning')"
   ]
  },
  {
   "cell_type": "markdown",
   "metadata": {
    "id": "jnQxYK1p0j-6"
   },
   "source": [
    "Here is a short poem from Shel Silverstein's *Where the Sidewalk Ends*.\n",
    "Note that the string 'chicken' contains newline characters, which we would like to get rid of."
   ]
  },
  {
   "cell_type": "code",
   "execution_count": 154,
   "metadata": {
    "id": "djYd4RFf0j-6"
   },
   "outputs": [],
   "source": [
    "chicken = '''Oh I am a chicken who lives in an egg, \n",
    "But I will not hatch, I will not hatch.\n",
    "The hens they all cackle, the roosters all beg,\n",
    "But I will not hatch, I will not hatch.\n",
    "For I hear all the talk of pollution and war\n",
    "As the people all shout and the airplanes roar,\n",
    "So I’m staying in here where it’s safe and it’s warm,\n",
    "And I WILL NOT HATCH!'''"
   ]
  },
  {
   "cell_type": "code",
   "execution_count": 155,
   "metadata": {
    "id": "f62Xr21z0j-7"
   },
   "outputs": [
    {
     "data": {
      "text/plain": [
       "'Oh I am a chicken who lives in an egg, \\nBut I will not hatch, I will not hatch.\\nThe hens they all cackle, the roosters all beg,\\nBut I will not hatch, I will not hatch.\\nFor I hear all the talk of pollution and war\\nAs the people all shout and the airplanes roar,\\nSo I’m staying in here where it’s safe and it’s warm,\\nAnd I WILL NOT HATCH!'"
      ]
     },
     "execution_count": 155,
     "metadata": {},
     "output_type": "execute_result"
    }
   ],
   "source": [
    "chicken"
   ]
  },
  {
   "cell_type": "markdown",
   "metadata": {
    "id": "PDA8aJqi0j-7"
   },
   "source": [
    "**Question 2. (2 pts)** Using `str.replace()` and `chicken` from above, create a string called `stanza_oneline` with all the newlines replaced by spaces."
   ]
  },
  {
   "cell_type": "code",
   "execution_count": 156,
   "metadata": {
    "id": "JpkufTl80j-8"
   },
   "outputs": [
    {
     "data": {
      "text/plain": [
       "'Oh I am a chicken who lives in an egg,  But I will not hatch, I will not hatch. The hens they all cackle, the roosters all beg, But I will not hatch, I will not hatch. For I hear all the talk of pollution and war As the people all shout and the airplanes roar, So I’m staying in here where it’s safe and it’s warm, And I WILL NOT HATCH!'"
      ]
     },
     "execution_count": 156,
     "metadata": {},
     "output_type": "execute_result"
    }
   ],
   "source": [
    "#Q2 Answer\n",
    "stanza_oneline = str.replace(chicken, '\\n', ' ')\n",
    "stanza_oneline"
   ]
  },
  {
   "cell_type": "markdown",
   "metadata": {
    "id": "CDdyeCXj0j-8"
   },
   "source": [
    "**Question 3. (4 pts)**  Write python expressions that count the number of words and the number of sentences in `stanza_oneline`.  (**Hint**:  Check your answer. If your expression gives the wrong answer, fix your expression.)"
   ]
  },
  {
   "cell_type": "code",
   "execution_count": 157,
   "metadata": {
    "id": "yhpyyD-D0j-8"
   },
   "outputs": [
    {
     "data": {
      "text/plain": [
       "73"
      ]
     },
     "execution_count": 157,
     "metadata": {},
     "output_type": "execute_result"
    }
   ],
   "source": [
    "#Q3 Answer part 1\n",
    "number_words = len(stanza_oneline.split(\" \"))\n",
    "number_words"
   ]
  },
  {
   "cell_type": "code",
   "execution_count": 158,
   "metadata": {
    "id": "WviPLPBU0j-8"
   },
   "outputs": [
    {
     "data": {
      "text/plain": [
       "3"
      ]
     },
     "execution_count": 158,
     "metadata": {},
     "output_type": "execute_result"
    }
   ],
   "source": [
    "#Q3 Answer part 2\n",
    "number_sentences = stanza_oneline.count('.') + stanza_oneline.count('!')\n",
    "number_sentences"
   ]
  },
  {
   "cell_type": "markdown",
   "metadata": {
    "id": "gjuhtOGv0j-9"
   },
   "source": [
    "The *split* command breaks a string into a list of strings by a specified separator. Also recall that numbers in square braces access elements in a list \"slicing\" by number.  Below is an example of using the `split()` command, list slicing, and the string concatenation using + to execute the following: from the string *'learning is done by machine'* obtain the string '*machine learning'*."
   ]
  },
  {
   "cell_type": "code",
   "execution_count": 159,
   "metadata": {
    "id": "A4F0-has0j-9"
   },
   "outputs": [
    {
     "data": {
      "text/plain": [
       "'machine learning'"
      ]
     },
     "execution_count": 159,
     "metadata": {},
     "output_type": "execute_result"
    }
   ],
   "source": [
    "mystring = \"learning is done by machine\"\n",
    "mynewstring = mystring.split()[4] + \" \" + mystring.split()[0]\n",
    "mynewstring"
   ]
  },
  {
   "cell_type": "code",
   "execution_count": 2,
   "metadata": {
    "id": "-ENi8ttF0j-9"
   },
   "outputs": [],
   "source": [
    "mystring1 = 'Why do we have to do this? Is this going to be on the test?'\n"
   ]
  },
  {
   "cell_type": "markdown",
   "metadata": {
    "id": "M5odTrm50j-9"
   },
   "source": [
    "**Question 4. (5 pts)**   The string `mystring1` is introduced in the cell above. Build the string \"This is on the test.\" from the parts of `mystring1.split()`, and add/remove any capitalization or punctuation as needed. \n"
   ]
  },
  {
   "cell_type": "code",
   "execution_count": 3,
   "metadata": {
    "id": "Nxkiqhvm0j-9"
   },
   "outputs": [
    {
     "data": {
      "text/plain": [
       "'This is on the test.'"
      ]
     },
     "execution_count": 3,
     "metadata": {},
     "output_type": "execute_result"
    }
   ],
   "source": [
    "# Q4 answer here\n",
    "mynewstring1 = \"T\" + mystring1.split()[6][1:4] + \" \" + mystring1.split()[6][2] \\\n",
    "    + mystring1.split()[7][1] + \" \" + mystring1.split()[-3] + \" \" + \\\n",
    "    mystring1.split()[-2] + \" \" + mystring1.split()[-1][0:4] + \".\"\n",
    "mynewstring1"
   ]
  },
  {
   "cell_type": "markdown",
   "metadata": {
    "id": "cYwBbpQONsLg"
   },
   "source": [
    "**Question 5. (1 pt)** Make a list called `phrases` containing the following three strings: \"Rachel Ray finds inspiration in cooking\", \"her family\", \"and her dog\""
   ]
  },
  {
   "cell_type": "code",
   "execution_count": 162,
   "metadata": {
    "id": "RHrI1lwVNsLg"
   },
   "outputs": [
    {
     "data": {
      "text/plain": [
       "['Rachel Ray finds inspiration in cooking', 'her family', 'and her dog']"
      ]
     },
     "execution_count": 162,
     "metadata": {},
     "output_type": "execute_result"
    }
   ],
   "source": [
    "# Q5 answer here\n",
    "phrases = ['Rachel Ray finds inspiration in cooking', 'her family', 'and her dog']\n",
    "phrases"
   ]
  },
  {
   "cell_type": "markdown",
   "metadata": {
    "id": "7fhbzr5QNsLg"
   },
   "source": [
    "Strings have a method called `join`.  `join` takes one argument, a list of strings.  It returns a single string.  Specifically, the value of `a_string.join(a_list)` is a single string that's the [concatenation](https://en.wikipedia.org/wiki/Concatenation) (\"putting together\") of all the strings in `a_list`, **except** `a_string` is inserted in between each string\n",
    "\n",
    "**Question 6. (2 pts)** Use the list `phrases` and the method `join` to make two strings:\n",
    "\n",
    "1. \"Rachel Ray finds inspiration in cooking, her family, and her dog\" (call this one `with_commas`)\n",
    "2. \"Rachel Ray finds inspiration in cooking her family and her dog\" (call this one `without_commas`)"
   ]
  },
  {
   "cell_type": "code",
   "execution_count": 163,
   "metadata": {
    "id": "kQHaXCGCNsLh"
   },
   "outputs": [
    {
     "name": "stdout",
     "output_type": "stream",
     "text": [
      "with_commas: Rachel Ray finds inspiration in cooking, her family, and her dog\n",
      "without_commas: Rachel Ray finds inspiration in cooking her family and her dog\n"
     ]
    }
   ],
   "source": [
    "# Q6 answer here\n",
    "with_commas = \", \".join(phrases)\n",
    "without_commas = \" \".join(phrases)\n",
    "\n",
    "# These lines are provided just to print out your answers.\n",
    "print('with_commas:', with_commas)\n",
    "print('without_commas:', without_commas)"
   ]
  },
  {
   "cell_type": "markdown",
   "metadata": {},
   "source": [
    "Note: This headline was printed 'without_commas' in [Tails magazine!](https://themayhew.org/tails-magazine/)"
   ]
  },
  {
   "cell_type": "markdown",
   "metadata": {
    "id": "eI4LYrxY0j--"
   },
   "source": [
    "## 2. Names and Assignment Statements (7 points)"
   ]
  },
  {
   "cell_type": "markdown",
   "metadata": {
    "id": "bE2P4oNQ0j--"
   },
   "source": [
    "Python sometimes gives you difficult-to-get-used-to error messages."
   ]
  },
  {
   "cell_type": "code",
   "execution_count": 164,
   "metadata": {
    "id": "RINElRiu0j--"
   },
   "outputs": [],
   "source": [
    "# assign four new variables with unsurprising values\n",
    "one, two, three, four = 1,2,3,4"
   ]
  },
  {
   "cell_type": "markdown",
   "metadata": {
    "id": "6wgLHP0d0j--"
   },
   "source": [
    "**Question 7. (1 pt)**\n",
    "What happens when we run this expression?  (You may want to check the python documentation under the heading \"Operator precedence\" https://docs.python.org/3/reference/expressions.html#operator-precedence for the order-of-operations hierarchy in python.)"
   ]
  },
  {
   "cell_type": "code",
   "execution_count": 4,
   "metadata": {
    "id": "2axOwEAr0j--"
   },
   "outputs": [
    {
     "ename": "NameError",
     "evalue": "name 'two' is not defined",
     "output_type": "error",
     "traceback": [
      "\u001b[0;31m---------------------------------------------------------------------------\u001b[0m",
      "\u001b[0;31mNameError\u001b[0m                                 Traceback (most recent call last)",
      "\u001b[1;32m/Users/stevenalnemri/Desktop/DATA 118/HW/HW1/HW1(DATA118).ipynb Cell 31\u001b[0m line \u001b[0;36m1\n\u001b[0;32m----> <a href='vscode-notebook-cell:/Users/stevenalnemri/Desktop/DATA%20118/HW/HW1/HW1%28DATA118%29.ipynb#X42sZmlsZQ%3D%3D?line=0'>1</a>\u001b[0m result \u001b[39m=\u001b[39m \u001b[39m4\u001b[39m \u001b[39m+\u001b[39m two \u001b[39m==\u001b[39m \u001b[39m6\u001b[39m\n",
      "\u001b[0;31mNameError\u001b[0m: name 'two' is not defined"
     ]
    }
   ],
   "source": [
    "result = 4 + two == 6"
   ]
  },
  {
   "cell_type": "markdown",
   "metadata": {
    "id": "bSCBxeKI0j--"
   },
   "source": [
    "Choose the best explanation of what this cell does and put your answer (a, b, c, or d) in the cell below.\n",
    "\n",
    "&emsp;a. Add 4 and two, store the result in 'result' and compare this to the value 6\n",
    "\n",
    "&emsp;b. Compare two and 6 (False), add 4, and store the sum in 'result'\n",
    "\n",
    "&emsp;c. Add 4 and two, compare to 6, and store the comparison in 'result'\n",
    "\n",
    "&emsp;d. Generates an error because 'result' is not defined."
   ]
  },
  {
   "cell_type": "markdown",
   "metadata": {
    "id": "GchMZ_hq0j-_"
   },
   "source": [
    "Answer to Q7 is: C"
   ]
  },
  {
   "cell_type": "markdown",
   "metadata": {
    "id": "Om18AHJ2AzHy"
   },
   "source": [
    "**Question 8. (1 pt)** When you run the following cell, Python produces a cryptic error message."
   ]
  },
  {
   "cell_type": "code",
   "execution_count": 166,
   "metadata": {
    "id": "sLSoBdYKAzHy"
   },
   "outputs": [
    {
     "ename": "SyntaxError",
     "evalue": "cannot assign to literal here. Maybe you meant '==' instead of '='? (339577835.py, line 1)",
     "output_type": "error",
     "traceback": [
      "\u001b[0;36m  Cell \u001b[0;32mIn[166], line 1\u001b[0;36m\u001b[0m\n\u001b[0;31m    4=2+2\u001b[0m\n\u001b[0m    ^\u001b[0m\n\u001b[0;31mSyntaxError\u001b[0m\u001b[0;31m:\u001b[0m cannot assign to literal here. Maybe you meant '==' instead of '='?\n"
     ]
    }
   ],
   "source": [
    "4=2+2"
   ]
  },
  {
   "cell_type": "markdown",
   "metadata": {
    "id": "InMuSu2lAzHy"
   },
   "source": [
    "Choose the best explanation of what's wrong with the code, and put your answer (a, b, c, or d) in the cell below.\n",
    "\n",
    "a. Python is smart and already knows `4 = 2 + 2`.\n",
    "\n",
    "b. `4` is a number, and it doesn't make sense to make a number be a name for something else. In Python, \"`x = 2 + 2`\" means \"assign `x` as the name for the value of `2 + 2`.\"\n",
    "\n",
    "c. It should be `2 + 2 = 4`.\n",
    "\n",
    "d. I don't get an error message. This is a trick question."
   ]
  },
  {
   "cell_type": "markdown",
   "metadata": {
    "id": "VntlB0ANAzHy"
   },
   "source": [
    "Answer to Q8 is: B"
   ]
  },
  {
   "cell_type": "markdown",
   "metadata": {
    "id": "8Pveys-R0j-_"
   },
   "source": [
    "**Question 9. (1 pt)** Choose the best explanation of what's wrong with the code in the cell below and put your answer (a, b, c, or d) in the cell below.\n"
   ]
  },
  {
   "cell_type": "code",
   "execution_count": null,
   "metadata": {
    "id": "TRU4e60Y0j_A"
   },
   "outputs": [
    {
     "ename": "NameError",
     "evalue": "name 'six' is not defined",
     "output_type": "error",
     "traceback": [
      "\u001b[0;31m---------------------------------------------------------------------------\u001b[0m",
      "\u001b[0;31mNameError\u001b[0m                                 Traceback (most recent call last)",
      "\u001b[1;32m/Users/stevenalnemri/Downloads/homework01_Winter24.ipynb Cell 39\u001b[0m line \u001b[0;36m1\n\u001b[0;32m----> <a href='vscode-notebook-cell:/Users/stevenalnemri/Downloads/homework01_Winter24.ipynb#X53sZmlsZQ%3D%3D?line=0'>1</a>\u001b[0m number \u001b[39m=\u001b[39m \u001b[39m2\u001b[39m \u001b[39m+\u001b[39m six\n",
      "\u001b[0;31mNameError\u001b[0m: name 'six' is not defined"
     ]
    }
   ],
   "source": [
    "number = 2 + six"
   ]
  },
  {
   "cell_type": "markdown",
   "metadata": {
    "id": "omcWq3MjkHd5"
   },
   "source": [
    "a. The + operation only applies to numbers, not the word `six`.\n",
    "\n",
    "b. `six` is not defined.\n",
    "\n",
    "c. \"=\" is the assignment operator, not the test-for-equality operator, which is \"==\".\n",
    "\n",
    "d. `+` is not a binary operator."
   ]
  },
  {
   "cell_type": "markdown",
   "metadata": {
    "id": "xRrTLN4J0j_A"
   },
   "source": [
    "Answer to Q9 is: B"
   ]
  },
  {
   "cell_type": "markdown",
   "metadata": {
    "id": "-Aqzi21ta7yb"
   },
   "source": [
    "**Question 10. (4 pt)** Name 2 common error types in Python and give examples of code that would produce each error (the code should be based on topics you've learned so far!) *Hint:* You may need to use Google."
   ]
  },
  {
   "cell_type": "markdown",
   "metadata": {
    "id": "IShB1Ir8bfFK"
   },
   "source": [
    "Q10 Error 1:"
   ]
  },
  {
   "cell_type": "code",
   "execution_count": 5,
   "metadata": {
    "id": "aarO0nrSbfWK"
   },
   "outputs": [
    {
     "ename": "TypeError",
     "evalue": "unsupported operand type(s) for /: 'list' and 'int'",
     "output_type": "error",
     "traceback": [
      "\u001b[0;31m---------------------------------------------------------------------------\u001b[0m",
      "\u001b[0;31mTypeError\u001b[0m                                 Traceback (most recent call last)",
      "\u001b[1;32m/Users/stevenalnemri/Desktop/DATA 118/HW/HW1/HW1(DATA118).ipynb Cell 44\u001b[0m line \u001b[0;36m4\n\u001b[1;32m      <a href='vscode-notebook-cell:/Users/stevenalnemri/Desktop/DATA%20118/HW/HW1/HW1%28DATA118%29.ipynb#X61sZmlsZQ%3D%3D?line=0'>1</a>\u001b[0m \u001b[39m# Q10 error 1 answer code\u001b[39;00m\n\u001b[1;32m      <a href='vscode-notebook-cell:/Users/stevenalnemri/Desktop/DATA%20118/HW/HW1/HW1%28DATA118%29.ipynb#X61sZmlsZQ%3D%3D?line=1'>2</a>\u001b[0m \u001b[39m# TypeError\u001b[39;00m\n\u001b[1;32m      <a href='vscode-notebook-cell:/Users/stevenalnemri/Desktop/DATA%20118/HW/HW1/HW1%28DATA118%29.ipynb#X61sZmlsZQ%3D%3D?line=2'>3</a>\u001b[0m fruit \u001b[39m=\u001b[39m [\u001b[39m'\u001b[39m\u001b[39mapple\u001b[39m\u001b[39m'\u001b[39m, \u001b[39m'\u001b[39m\u001b[39mbanana\u001b[39m\u001b[39m'\u001b[39m, \u001b[39m'\u001b[39m\u001b[39mgrape\u001b[39m\u001b[39m'\u001b[39m]\n\u001b[0;32m----> <a href='vscode-notebook-cell:/Users/stevenalnemri/Desktop/DATA%20118/HW/HW1/HW1%28DATA118%29.ipynb#X61sZmlsZQ%3D%3D?line=3'>4</a>\u001b[0m result \u001b[39m=\u001b[39m fruit \u001b[39m/\u001b[39;49m \u001b[39m3\u001b[39;49m\n",
      "\u001b[0;31mTypeError\u001b[0m: unsupported operand type(s) for /: 'list' and 'int'"
     ]
    }
   ],
   "source": [
    "# Q10 error 1 answer code\n",
    "# TypeError\n",
    "fruit = ['apple', 'banana', 'grape']\n",
    "result = fruit / 3"
   ]
  },
  {
   "cell_type": "markdown",
   "metadata": {
    "id": "XRyxSKKabfg6"
   },
   "source": [
    "Q10 Error 2:"
   ]
  },
  {
   "cell_type": "code",
   "execution_count": null,
   "metadata": {
    "id": "bPQ7HIjabfq9"
   },
   "outputs": [
    {
     "ename": "SyntaxError",
     "evalue": "unterminated string literal (detected at line 2) (280030569.py, line 2)",
     "output_type": "error",
     "traceback": [
      "\u001b[0;36m  Cell \u001b[0;32mIn[80], line 2\u001b[0;36m\u001b[0m\n\u001b[0;31m    message = 'This is a syntax error\u001b[0m\n\u001b[0m              ^\u001b[0m\n\u001b[0;31mSyntaxError\u001b[0m\u001b[0;31m:\u001b[0m unterminated string literal (detected at line 2)\n"
     ]
    }
   ],
   "source": [
    "# Q10 error 1 answer code\n",
    "# SyntaxError\n",
    "message = 'This is a syntax error\n",
    "print(message)"
   ]
  },
  {
   "cell_type": "markdown",
   "metadata": {
    "id": "qmt6tD_-Mmmn"
   },
   "source": [
    "## 3. Mathematical Operations (14 points)"
   ]
  },
  {
   "cell_type": "markdown",
   "metadata": {
    "id": "xHuaLtM10j_A"
   },
   "source": [
    "**Question 11. (1 pt)** Compute the fifth root of 12 using code. (You might have to investigate online how to do this. Reminder, Google is your friend when investigating built in methods and functions in Python!)"
   ]
  },
  {
   "cell_type": "code",
   "execution_count": null,
   "metadata": {
    "id": "K9Nj0N3b0j_A"
   },
   "outputs": [
    {
     "data": {
      "text/plain": [
       "1.6437518295172258"
      ]
     },
     "execution_count": 91,
     "metadata": {},
     "output_type": "execute_result"
    }
   ],
   "source": [
    "# Q11 answer code\n",
    "fifth_root_twelve = np.power(12, 1/5)\n",
    "fifth_root_twelve"
   ]
  },
  {
   "cell_type": "markdown",
   "metadata": {
    "id": "x2uGdj8I0j_A"
   },
   "source": [
    "**Question 12. (2 pts)** You can use NumPy's ```np.pi``` to use pi in any mathematical computation! Round pi to the 8th decimal place using code. NOTE: Here 8 decimal places means 8 digits after the decimal. For instance, pi rounded to 2 decimal place is 3.14"
   ]
  },
  {
   "cell_type": "code",
   "execution_count": null,
   "metadata": {
    "id": "qX5_vlp10j_A"
   },
   "outputs": [
    {
     "data": {
      "text/plain": [
       "3.14159265"
      ]
     },
     "execution_count": 90,
     "metadata": {},
     "output_type": "execute_result"
    }
   ],
   "source": [
    "# Q12 answer code\n",
    "pi = round(np.pi, 8)\n",
    "pi"
   ]
  },
  {
   "cell_type": "markdown",
   "metadata": {
    "id": "BPaOcdh6AzHz"
   },
   "source": [
    "**Question 13. (4 pts)** In the next cell, make an array called `weird_numbers` containing the following numbers (in the given order):\n",
    "\n",
    "1. -9.5\n",
    "2. the tangent of 2.11\n",
    "3. 67\n",
    "4. 3 to the power of the sine of 1.6\n",
    "\n",
    "*Hint:* `sin` and `tan` are functions in the `math` module. You need to import the module first!"
   ]
  },
  {
   "cell_type": "code",
   "execution_count": null,
   "metadata": {
    "id": "rHVie-IkAzHz"
   },
   "outputs": [
    {
     "data": {
      "text/plain": [
       "array([-9.5       , -1.67126912, 67.        ,  2.99859499])"
      ]
     },
     "execution_count": 105,
     "metadata": {},
     "output_type": "execute_result"
    }
   ],
   "source": [
    "# Q13 answer code\n",
    "import math\n",
    "number_list = [-9.5, math.tan(2.11), 67, 3 ** math.sin(1.6)]\n",
    "weird_numbers = np.array(number_list)\n",
    "weird_numbers\n"
   ]
  },
  {
   "cell_type": "markdown",
   "metadata": {
    "id": "5-R1ix-jAzHz"
   },
   "source": [
    "**Question 14. (4 pts)** Finish the code in the following cell so that it calculates the volume of a sphere of radius 10, and it prints **\"Volume of a sphere of radius 10 is ?\"** (with \"?\" replace by the correct answer)."
   ]
  },
  {
   "cell_type": "code",
   "execution_count": null,
   "metadata": {
    "id": "sXfJ_-r7AzHz"
   },
   "outputs": [
    {
     "name": "stdout",
     "output_type": "stream",
     "text": [
      "Volume of a sphere with radius 10 is 4188.790204786391\n"
     ]
    },
    {
     "data": {
      "text/plain": [
       "4188.790204786391"
      ]
     },
     "execution_count": 103,
     "metadata": {},
     "output_type": "execute_result"
    }
   ],
   "source": [
    "# Q14 answer code\n",
    "pi = np.pi\n",
    "r = 10\n",
    "V = (4/3) * pi * r ** 3\n",
    "print('Volume of a sphere with radius 10 is', V)\n",
    "V"
   ]
  },
  {
   "cell_type": "markdown",
   "metadata": {
    "id": "-F-RwuCWD-51"
   },
   "source": [
    "**Question 15. (3 pts)** A certain device was made by casting and machining 6.46 kg of plutonium alloy into the shape of a sphere.  The alloy has a density of 15.6 g / cm$^3$.  What is the diameter of the sphere if the sphere is solid?"
   ]
  },
  {
   "cell_type": "markdown",
   "metadata": {
    "id": "8KbaDSr5D-51"
   },
   "source": [
    "**Hint:** use algebra to find `r` as a function of `V`, then implement your expression in python."
   ]
  },
  {
   "cell_type": "markdown",
   "metadata": {
    "id": "07Mh29NmD-51"
   },
   "source": [
    "<img width=150 src=https://upload.wikimedia.org/wikipedia/commons/1/13/Partially-reflected-plutonium-sphere.jpeg>"
   ]
  },
  {
   "cell_type": "markdown",
   "metadata": {
    "id": "0tzRRKYqD-51"
   },
   "source": [
    "\n",
    "**Hint:** A photograph of the sphere is above with a ruler in inches nearby; image is at https://upload.wikimedia.org/wikipedia/commons/1/13/Partially-reflected-plutonium-sphere.jpeg"
   ]
  },
  {
   "cell_type": "code",
   "execution_count": null,
   "metadata": {
    "id": "wSYWe1vDD-51"
   },
   "outputs": [
    {
     "data": {
      "text/plain": [
       "9.247757490131361"
      ]
     },
     "execution_count": 107,
     "metadata": {},
     "output_type": "execute_result"
    }
   ],
   "source": [
    "#Q15 Answer code\n",
    "Volume = 6460/15.6\n",
    "diameter = 2 * np.power((Volume * (3 / 4)) / np.pi, 1 / 3)\n",
    "diameter"
   ]
  },
  {
   "cell_type": "markdown",
   "metadata": {
    "id": "MDWMxg6N0j_C"
   },
   "source": [
    "## 4.  Arrays Indexing and Arithmetic (13 points)\n",
    "\n",
    "These exercises give you practice accessing individual elements of arrays.  In Python (and in many programming languages), elements are accessed by *index*, so the first element is the element at index 0.  \n",
    "\n",
    "**Question 16. (1 pt)** The cell below creates an array of some numbers.  Set `fifth_element` to the fifth element of `some_numbers`."
   ]
  },
  {
   "cell_type": "code",
   "execution_count": null,
   "metadata": {
    "id": "2oYdP06E0j_C"
   },
   "outputs": [
    {
     "data": {
      "text/plain": [
       "5"
      ]
     },
     "execution_count": 111,
     "metadata": {},
     "output_type": "execute_result"
    }
   ],
   "source": [
    "#Q16 Answer code\n",
    "some_numbers = np.array([1,1,2,3,5,8,13,21])\n",
    "\n",
    "fifth_element = some_numbers[4]\n",
    "fifth_element"
   ]
  },
  {
   "cell_type": "markdown",
   "metadata": {
    "id": "ps3zJNBu0j_D"
   },
   "source": [
    "**Question 17. (3 pts)** We can convert from feet to meters by multiplying by 0.3048. Multiply the numbers 243, 569, 577, 580, 600, and 611 by 0.3048 to convert them from feet to meters. For this question, **don't** use arrays."
   ]
  },
  {
   "cell_type": "code",
   "execution_count": null,
   "metadata": {
    "id": "_NFordHM0j_D"
   },
   "outputs": [
    {
     "name": "stdout",
     "output_type": "stream",
     "text": [
      "74.0664 173.43120000000002 175.86960000000002 176.78400000000002 182.88 186.2328\n"
     ]
    }
   ],
   "source": [
    "#Q17 Answer code\n",
    "first_product = 243 * 0.3048\n",
    "second_product = 569 * 0.3048\n",
    "third_product = 577 * 0.3048\n",
    "fourth_product = 580 * 0.3048\n",
    "fifth_product = 600 * 0.3048\n",
    "sixth_product = 611 * 0.3048\n",
    "\n",
    "print(first_product, second_product, third_product, fourth_product, fifth_product, sixth_product)"
   ]
  },
  {
   "cell_type": "markdown",
   "metadata": {
    "id": "ExmYmcnw0j_D"
   },
   "source": [
    "**Question 18. (2 pts)** Now, do the same calculation, but using an array called `elevations_ft` (that will contain the numbers above) and only a single multiplication (`*`) operator.  Store the 6 results in an array named `elevations_m`."
   ]
  },
  {
   "cell_type": "code",
   "execution_count": null,
   "metadata": {
    "id": "RT3vFmoo0j_D"
   },
   "outputs": [
    {
     "data": {
      "text/plain": [
       "array([ 74.0664, 173.4312, 175.8696, 176.784 , 182.88  , 186.2328])"
      ]
     },
     "execution_count": 114,
     "metadata": {},
     "output_type": "execute_result"
    }
   ],
   "source": [
    "#Q18 answer code\n",
    "elevations_ft = np.array([243, 569, 577, 580, 600, 611])\n",
    "elevations_m = elevations_ft * 0.3048\n",
    "elevations_m"
   ]
  },
  {
   "cell_type": "markdown",
   "metadata": {
    "id": "yQgRKGTiSKR6"
   },
   "source": [
    "**Question 19. (7 pts)** In the following questions, you will apply some built-in Numpy functions to the array named `elevations_m`. It is useful to refer to the documentation when investigating new functions! See [documentation here:](https://numpy.org/doc/stable/reference/routines.math.html)\n",
    "\n",
    "**a. (2 pts)** Use Numpy's cumulative sum function on the array and explain what the function does. Note, do not just copy the documentation, explain what the function does in context of the problem."
   ]
  },
  {
   "cell_type": "code",
   "execution_count": null,
   "metadata": {
    "id": "Te_LBgI6SJRv"
   },
   "outputs": [
    {
     "data": {
      "text/plain": [
       "array([ 74.0664, 247.4976, 423.3672, 600.1512, 783.0312, 969.264 ])"
      ]
     },
     "execution_count": 120,
     "metadata": {},
     "output_type": "execute_result"
    }
   ],
   "source": [
    "# Q19a answer code\n",
    "# Starting at index 0 (first element) and on, this function creates a new array \n",
    "# containing cumulative sums of elevation corresponding to the original array.\n",
    "# The index of each cumulative sum matches with the index of the last added \n",
    "# number of that sum from the original array.\n",
    "cumsum_elevations_m = np.cumsum(elevations_m)\n",
    "cumsum_elevations_m\n"
   ]
  },
  {
   "cell_type": "markdown",
   "metadata": {
    "id": "8VnDY1_GTDYd"
   },
   "source": [
    "Answer to Q19a is:"
   ]
  },
  {
   "cell_type": "markdown",
   "metadata": {
    "id": "AMzgGeNsTMVr"
   },
   "source": [
    "**b. (2 pts)** Use Numpy to find the natural logarithm of each value in the array."
   ]
  },
  {
   "cell_type": "code",
   "execution_count": null,
   "metadata": {
    "id": "byztTWgWSJhj"
   },
   "outputs": [
    {
     "data": {
      "text/plain": [
       "array([4.30496199, 5.15578098, 5.16974281, 5.17492865, 5.2088302 ,\n",
       "       5.2269975 ])"
      ]
     },
     "execution_count": 121,
     "metadata": {},
     "output_type": "execute_result"
    }
   ],
   "source": [
    "# Q19b answer code\n",
    "nlog_elevations_m = np.log(elevations_m)\n",
    "nlog_elevations_m\n"
   ]
  },
  {
   "cell_type": "markdown",
   "metadata": {
    "id": "m8ycpDS2vZnx"
   },
   "source": [
    "**c. (1 pts)** Use Numpy to calculate the median of the values in the array"
   ]
  },
  {
   "cell_type": "code",
   "execution_count": null,
   "metadata": {
    "id": "w0ck6B8FSJlA"
   },
   "outputs": [
    {
     "data": {
      "text/plain": [
       "176.32680000000002"
      ]
     },
     "execution_count": 125,
     "metadata": {},
     "output_type": "execute_result"
    }
   ],
   "source": [
    "#Q19c answer code\n",
    "median = np.median(elevations_m)\n",
    "median"
   ]
  },
  {
   "cell_type": "markdown",
   "metadata": {
    "id": "Vf490sWDTllH"
   },
   "source": [
    "**d. (2 pts)** What is the default sorting algorithm used by `np.sort`? Which sorting algorithm used by `np.sort` is the slowest?"
   ]
  },
  {
   "cell_type": "markdown",
   "metadata": {
    "id": "hCcv5yRAUkv9"
   },
   "source": [
    "Answer to Q19d is:"
   ]
  },
  {
   "cell_type": "code",
   "execution_count": null,
   "metadata": {},
   "outputs": [
    {
     "data": {
      "text/plain": [
       "array([ 74.0664, 173.4312, 175.8696, 176.784 , 182.88  , 186.2328])"
      ]
     },
     "execution_count": 132,
     "metadata": {},
     "output_type": "execute_result"
    }
   ],
   "source": [
    "# The default sorting is 'quicksort'\n",
    "sorted_elevations_m = np.sort(elevations_m)\n",
    "sorted_elevations_m\n",
    "\n",
    "# 'heapsort' is the slowest\n"
   ]
  }
 ],
 "metadata": {
  "colab": {
   "provenance": []
  },
  "kernelspec": {
   "display_name": "Python 3 (ipykernel)",
   "language": "python",
   "name": "python3"
  },
  "language_info": {
   "codemirror_mode": {
    "name": "ipython",
    "version": 3
   },
   "file_extension": ".py",
   "mimetype": "text/x-python",
   "name": "python",
   "nbconvert_exporter": "python",
   "pygments_lexer": "ipython3",
   "version": "3.12.1"
  }
 },
 "nbformat": 4,
 "nbformat_minor": 1
}
