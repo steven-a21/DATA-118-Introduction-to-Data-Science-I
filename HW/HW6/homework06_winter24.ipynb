{
  "cells": [
    {
      "cell_type": "markdown",
      "metadata": {
        "id": "U6CDHYedCVN2"
      },
      "source": [
        "# Homework 6: Hypothesis Testing and Confidence Intervals  (50 points)\n",
        "\n"
      ]
    },
    {
      "cell_type": "markdown",
      "metadata": {
        "id": "cV4ujs8W0Pyc"
      },
      "source": [
        "Please complete this notebook by filling in the cells provided.\n",
        "\n",
        "The solved homework should be uploaded to Gradescope as an .ipynb file. DO NOT put your answers in more than one file or use a different file extension.\n",
        "\n",
        "**<u>Deadline</u>**:\n",
        "\n",
        "This assignment is due on **Friday, February 23** at **11:59pm**. Late work will not be accepted unless it follows the specific policy of the instructor.\n",
        "\n",
        "- Directly sharing answers is not okay, but discussing problems with the course staff or with other students is encouraged.\n",
        "\n",
        "- You should start early so that you have time to get help if you're stuck.\n",
        "\n",
        "- Submit your homework 30-60 minutes to ensure that it will upload before the deadline.\n",
        "\n",
        "- Please run all of your code cells and ensure all of your answers are outputted and visible to graders.\n",
        "\n",
        "- Check the file preview on Gradescope to make sure all of your answers are visible.\n",
        "\n",
        "- Be mindful of your file sizes. Do not print out entire large datasets use .head or .tail instead. Make sure your document is visible in the Gradescope preview.\n",
        "\n",
        "- Your functions should have a docstring. Points may be taken off for not including a docstring.\n",
        "\n",
        "- Your graphs should be labeled with a title, x-label, and y-label and be otherwise readable. Intervals on x- and y-axises should make sense for the data. If these items are missing, points may be taken off."
      ]
    },
    {
      "cell_type": "code",
      "execution_count": 70,
      "metadata": {
        "id": "yegbh6zA0PPP"
      },
      "outputs": [],
      "source": [
        "# Don't change this cell; just run it.\n",
        "\n",
        "import numpy as np\n",
        "import pandas as pd\n",
        "\n",
        "%matplotlib inline\n",
        "\n",
        "import matplotlib.pyplot as plt\n",
        "import warnings\n",
        "warnings.simplefilter('ignore', FutureWarning)"
      ]
    },
    {
      "cell_type": "markdown",
      "metadata": {
        "id": "VMFErTofIlLk"
      },
      "source": [
        "## 1. How Many Devices? (7 points) ##\n",
        "\n",
        "When a company produces medical devices, it must be sure that its devices will not fail.  Sampling is used ubiquitously in the medical device industry to test how well devices work.\n",
        "\n",
        "Suppose you work at a company that produces syringes, and you are responsible for ensuring the syringes work well.  After studying the manufacturing process for the syringes, you have a hunch that they have a 2% failure rate.  That is, you suspect that 2% of the syringes won't work when a doctor uses them to inject a patient with medicine.\n",
        "\n",
        "To test your hunch, you would like to find at least one faulty syringe.  You hire an expert consultant who can test a syringe to check whether it is faulty.  But the expert's time is expensive, so you need to avoid checking more syringes than you need to.\n",
        "\n",
        "**Important note:** This exercise asks you to compute numbers that are related to probabilities.  For all questions, you can calculate your answer using algebra, **or** you can write and run a simulation to compute an approximately-correct answer (we encourage you to try both).  An answer based on an appropriate simulation will receive full credit.  If you simulate, use at least **10,000** trials. An answer based on algebra, should contain some explanation on how the calculation was done.\n"
      ]
    },
    {
      "cell_type": "markdown",
      "metadata": {
        "id": "dvsaagBSLsvl"
      },
      "source": [
        "**Question 1. (2pts)** Suppose there is indeed a 2% failure rate among all syringes.  If you check 50 syringes chosen at random from among all syringes, what is the chance that you find at least 1 faulty syringe? Name your answer `chance_to_find_syringe`. And display the numerical value you get as an answer. *Hint: first decide what probability distribution this situation follows*"
      ]
    },
    {
      "cell_type": "code",
      "execution_count": 71,
      "metadata": {
        "id": "4EdtdODAIlLk"
      },
      "outputs": [
        {
          "data": {
            "text/plain": [
              "0.020061999999999997"
            ]
          },
          "execution_count": 71,
          "metadata": {},
          "output_type": "execute_result"
        }
      ],
      "source": [
        "outcomes = []\n",
        "for i in range(10000):\n",
        "    num_failed = np.random.choice(['Fail', 'Pass'], 50, p=[0.02, 0.98]).tolist().count('Fail') / 50\n",
        "    outcomes.append(num_failed)\n",
        "\n",
        "chance_to_find_syringe = np.mean(outcomes)\n",
        "chance_to_find_syringe"
      ]
    },
    {
      "cell_type": "markdown",
      "metadata": {
        "id": "MhzRdU9rIlLl"
      },
      "source": [
        "This follows a binomial distribution since there is a binary outcome, draws are independent, and the probability of success does nto change between draws. The chance to find a syringe is approximately 0.02021"
      ]
    },
    {
      "cell_type": "markdown",
      "metadata": {
        "id": "LBbfXeqmIlLl"
      },
      "source": [
        "**Question 2. (3pts)** Continue to assume that there really is a 2% failure rate. Find the smallest number of syringes you can check so that you have at least a 75% chance of finding a faulty syringe (your answer should be an integer).  Name that number `num_required_for_75_percent`.  **If you use simulation, it's okay if your answer is off by as many as 5 for full credit.**"
      ]
    },
    {
      "cell_type": "markdown",
      "metadata": {},
      "source": [
        "$(0.02)^n$ is the probability of getting all faulty syringes when drawing n syringes. \n",
        "\n",
        "$(0.98)^n$ is the probability of getting all good syringes (no faulty)when drawing n syringes.\n",
        "\n",
        "$1 - (0.98)^n$ is the probability of getting at least one faulty.\n",
        "\n",
        "Explanation: If we flip a coin five times, the probability of getting all heads (HHHHH) is $(0.5)^n$.\n",
        "That means the complement of NOT getting all heads is the probability of literally anything else, $1-(0.5)^n$, which will \n",
        "always include a tails (THHHH, TTTTT, HHHTH, etc.). Analogous to this, the probability of getting at least one faulty is the \n",
        "complement of the probability of getting all good syringes"
      ]
    },
    {
      "cell_type": "code",
      "execution_count": 72,
      "metadata": {
        "id": "GCHsvyoNIlLl"
      },
      "outputs": [
        {
          "data": {
            "text/plain": [
              "69"
            ]
          },
          "execution_count": 72,
          "metadata": {},
          "output_type": "execute_result"
        }
      ],
      "source": [
        "num_required_for_75_percent = 69\n",
        "num_required_for_75_percent"
      ]
    },
    {
      "cell_type": "markdown",
      "metadata": {},
      "source": [
        "$$1-(0.98)^n >= 0.75$$\n",
        "$$0.98^n >= 0.25$$\n",
        "$$n >= \\frac{\\ln(0.25)}{\\ln(0.98)} >= 68.619$$\n",
        "$$n>=69$$\n"
      ]
    },
    {
      "cell_type": "markdown",
      "metadata": {
        "id": "G4sFHaMTIlLm"
      },
      "source": [
        "**Question 3. (2pts)** A doctor purchased 10 syringes and found 3 of them to be faulty. Assuming that there is indeed a 2% failure rate, what was the probability of **exactly 3** out of 10 syringes being faulty?"
      ]
    },
    {
      "cell_type": "code",
      "execution_count": 73,
      "metadata": {
        "id": "LZR5dForIlLm"
      },
      "outputs": [
        {
          "name": "stderr",
          "output_type": "stream",
          "text": [
            "/var/folders/s_/fr0jyz7s5qv1_648_n3yrj940000gn/T/ipykernel_26304/1053458602.py:4: DeprecationWarning: `np.math` is a deprecated alias for the standard library `math` module (Deprecated Numpy 1.25). Replace usages of `np.math` with `math`\n",
            "  n_choose_j = np.math.factorial(n)/(np.math.factorial(j)*np.math.factorial(n-j))\n"
          ]
        },
        {
          "data": {
            "text/plain": [
              "0.0008334005119168512"
            ]
          },
          "execution_count": 73,
          "metadata": {},
          "output_type": "execute_result"
        }
      ],
      "source": [
        "# Function defined in textbook\n",
        "def binomial_prob(n, p, j):\n",
        "  '''A function that calculates probabilities from a binomial distribution with parameters n and p'''\n",
        "  n_choose_j = np.math.factorial(n)/(np.math.factorial(j)*np.math.factorial(n-j))\n",
        "  return  n_choose_j*p**j*(1-p)**(n-j)\n",
        "\n",
        "\n",
        "probability_of_two_faulty = binomial_prob(10, 0.02, 3)\n",
        "probability_of_two_faulty"
      ]
    },
    {
      "cell_type": "markdown",
      "metadata": {
        "id": "b6dwc8ZUIlLm"
      },
      "source": [
        "*Answer here*"
      ]
    },
    {
      "cell_type": "markdown",
      "metadata": {
        "id": "yoVjz-GPeAvm"
      },
      "source": [
        "## 2. Birth weight data (23 points)\n",
        "\n",
        "For this question we will use a dataset that contains the following variables for 1,174 mother-baby pairs: the baby’s birth weight in ounces, the number of gestational days, the mother’s age in completed years, the mother’s height in inches, pregnancy weight in pounds, and whether or not the mother smoked during pregnancy.  The code to read the data is in the next cell, and the data file is on Canvas.\n"
      ]
    },
    {
      "cell_type": "code",
      "execution_count": 74,
      "metadata": {
        "colab": {
          "base_uri": "https://localhost:8080/",
          "height": 265
        },
        "id": "AHuBR74teAvm",
        "outputId": "8c7db680-e604-4c25-f278-e38c741bf391"
      },
      "outputs": [
        {
          "name": "stdout",
          "output_type": "stream",
          "text": [
            "(1174, 6)\n"
          ]
        },
        {
          "data": {
            "text/html": [
              "<div>\n",
              "<style scoped>\n",
              "    .dataframe tbody tr th:only-of-type {\n",
              "        vertical-align: middle;\n",
              "    }\n",
              "\n",
              "    .dataframe tbody tr th {\n",
              "        vertical-align: top;\n",
              "    }\n",
              "\n",
              "    .dataframe thead th {\n",
              "        text-align: right;\n",
              "    }\n",
              "</style>\n",
              "<table border=\"1\" class=\"dataframe\">\n",
              "  <thead>\n",
              "    <tr style=\"text-align: right;\">\n",
              "      <th></th>\n",
              "      <th>Birth Weight</th>\n",
              "      <th>Gestational Days</th>\n",
              "      <th>Maternal Age</th>\n",
              "      <th>Maternal Height</th>\n",
              "      <th>Maternal Pregnancy Weight</th>\n",
              "      <th>Maternal Smoker</th>\n",
              "    </tr>\n",
              "  </thead>\n",
              "  <tbody>\n",
              "    <tr>\n",
              "      <th>0</th>\n",
              "      <td>120</td>\n",
              "      <td>284</td>\n",
              "      <td>27</td>\n",
              "      <td>62</td>\n",
              "      <td>100</td>\n",
              "      <td>False</td>\n",
              "    </tr>\n",
              "    <tr>\n",
              "      <th>1</th>\n",
              "      <td>113</td>\n",
              "      <td>282</td>\n",
              "      <td>33</td>\n",
              "      <td>64</td>\n",
              "      <td>135</td>\n",
              "      <td>False</td>\n",
              "    </tr>\n",
              "    <tr>\n",
              "      <th>2</th>\n",
              "      <td>128</td>\n",
              "      <td>279</td>\n",
              "      <td>28</td>\n",
              "      <td>64</td>\n",
              "      <td>115</td>\n",
              "      <td>True</td>\n",
              "    </tr>\n",
              "    <tr>\n",
              "      <th>3</th>\n",
              "      <td>108</td>\n",
              "      <td>282</td>\n",
              "      <td>23</td>\n",
              "      <td>67</td>\n",
              "      <td>125</td>\n",
              "      <td>True</td>\n",
              "    </tr>\n",
              "    <tr>\n",
              "      <th>4</th>\n",
              "      <td>136</td>\n",
              "      <td>286</td>\n",
              "      <td>25</td>\n",
              "      <td>62</td>\n",
              "      <td>93</td>\n",
              "      <td>False</td>\n",
              "    </tr>\n",
              "  </tbody>\n",
              "</table>\n",
              "</div>"
            ],
            "text/plain": [
              "   Birth Weight  Gestational Days  Maternal Age  Maternal Height  \\\n",
              "0           120               284            27               62   \n",
              "1           113               282            33               64   \n",
              "2           128               279            28               64   \n",
              "3           108               282            23               67   \n",
              "4           136               286            25               62   \n",
              "\n",
              "   Maternal Pregnancy Weight  Maternal Smoker  \n",
              "0                        100            False  \n",
              "1                        135            False  \n",
              "2                        115             True  \n",
              "3                        125             True  \n",
              "4                         93            False  "
            ]
          },
          "execution_count": 74,
          "metadata": {},
          "output_type": "execute_result"
        }
      ],
      "source": [
        "baby_df = pd.read_csv('baby.csv')\n",
        "print(baby_df.shape)\n",
        "baby_df.head(5)"
      ]
    },
    {
      "cell_type": "markdown",
      "metadata": {
        "id": "cwKUFjpteAvm"
      },
      "source": [
        "Body Mass Index (BMI) is a person’s weight in kilograms divided by the square of height in meters.  BMI can be used to screen for weight categories that may lead to health problems but it is not diagnostic of the health of an individual. It is becoming a less useful measure by itself: [CNet news on BMI](https://www.cnet.com/health/nutrition/your-bmi-doesnt-matter-as-much-as-you-think-heres-why/)\n",
        "\n",
        "Here we will investigate differences in BMI between mothers who smoked and did not."
      ]
    },
    {
      "cell_type": "markdown",
      "metadata": {
        "id": "mOgVGz2WMUAL"
      },
      "source": [
        "**Question 4. (2 pts)** Calculate the BMI for the mothers in this dataset and save it in a variable called `bmi`"
      ]
    },
    {
      "cell_type": "code",
      "execution_count": 75,
      "metadata": {
        "id": "t0pLM7-ieAvn"
      },
      "outputs": [
        {
          "data": {
            "text/html": [
              "<div>\n",
              "<style scoped>\n",
              "    .dataframe tbody tr th:only-of-type {\n",
              "        vertical-align: middle;\n",
              "    }\n",
              "\n",
              "    .dataframe tbody tr th {\n",
              "        vertical-align: top;\n",
              "    }\n",
              "\n",
              "    .dataframe thead th {\n",
              "        text-align: right;\n",
              "    }\n",
              "</style>\n",
              "<table border=\"1\" class=\"dataframe\">\n",
              "  <thead>\n",
              "    <tr style=\"text-align: right;\">\n",
              "      <th></th>\n",
              "      <th>Birth Weight</th>\n",
              "      <th>Gestational Days</th>\n",
              "      <th>Maternal Age</th>\n",
              "      <th>Maternal Height</th>\n",
              "      <th>Maternal Pregnancy Weight</th>\n",
              "      <th>Maternal Smoker</th>\n",
              "      <th>bmi</th>\n",
              "    </tr>\n",
              "  </thead>\n",
              "  <tbody>\n",
              "    <tr>\n",
              "      <th>0</th>\n",
              "      <td>120</td>\n",
              "      <td>284</td>\n",
              "      <td>27</td>\n",
              "      <td>62</td>\n",
              "      <td>100</td>\n",
              "      <td>False</td>\n",
              "      <td>18.290037</td>\n",
              "    </tr>\n",
              "    <tr>\n",
              "      <th>1</th>\n",
              "      <td>113</td>\n",
              "      <td>282</td>\n",
              "      <td>33</td>\n",
              "      <td>64</td>\n",
              "      <td>135</td>\n",
              "      <td>False</td>\n",
              "      <td>23.172440</td>\n",
              "    </tr>\n",
              "    <tr>\n",
              "      <th>2</th>\n",
              "      <td>128</td>\n",
              "      <td>279</td>\n",
              "      <td>28</td>\n",
              "      <td>64</td>\n",
              "      <td>115</td>\n",
              "      <td>True</td>\n",
              "      <td>19.739486</td>\n",
              "    </tr>\n",
              "    <tr>\n",
              "      <th>3</th>\n",
              "      <td>108</td>\n",
              "      <td>282</td>\n",
              "      <td>23</td>\n",
              "      <td>67</td>\n",
              "      <td>125</td>\n",
              "      <td>True</td>\n",
              "      <td>19.577551</td>\n",
              "    </tr>\n",
              "    <tr>\n",
              "      <th>4</th>\n",
              "      <td>136</td>\n",
              "      <td>286</td>\n",
              "      <td>25</td>\n",
              "      <td>62</td>\n",
              "      <td>93</td>\n",
              "      <td>False</td>\n",
              "      <td>17.009734</td>\n",
              "    </tr>\n",
              "    <tr>\n",
              "      <th>...</th>\n",
              "      <td>...</td>\n",
              "      <td>...</td>\n",
              "      <td>...</td>\n",
              "      <td>...</td>\n",
              "      <td>...</td>\n",
              "      <td>...</td>\n",
              "      <td>...</td>\n",
              "    </tr>\n",
              "    <tr>\n",
              "      <th>1169</th>\n",
              "      <td>113</td>\n",
              "      <td>275</td>\n",
              "      <td>27</td>\n",
              "      <td>60</td>\n",
              "      <td>100</td>\n",
              "      <td>False</td>\n",
              "      <td>19.529695</td>\n",
              "    </tr>\n",
              "    <tr>\n",
              "      <th>1170</th>\n",
              "      <td>128</td>\n",
              "      <td>265</td>\n",
              "      <td>24</td>\n",
              "      <td>67</td>\n",
              "      <td>120</td>\n",
              "      <td>False</td>\n",
              "      <td>18.794449</td>\n",
              "    </tr>\n",
              "    <tr>\n",
              "      <th>1171</th>\n",
              "      <td>130</td>\n",
              "      <td>291</td>\n",
              "      <td>30</td>\n",
              "      <td>65</td>\n",
              "      <td>150</td>\n",
              "      <td>True</td>\n",
              "      <td>24.961030</td>\n",
              "    </tr>\n",
              "    <tr>\n",
              "      <th>1172</th>\n",
              "      <td>125</td>\n",
              "      <td>281</td>\n",
              "      <td>21</td>\n",
              "      <td>65</td>\n",
              "      <td>110</td>\n",
              "      <td>False</td>\n",
              "      <td>18.304755</td>\n",
              "    </tr>\n",
              "    <tr>\n",
              "      <th>1173</th>\n",
              "      <td>117</td>\n",
              "      <td>297</td>\n",
              "      <td>38</td>\n",
              "      <td>65</td>\n",
              "      <td>129</td>\n",
              "      <td>False</td>\n",
              "      <td>21.466486</td>\n",
              "    </tr>\n",
              "  </tbody>\n",
              "</table>\n",
              "<p>1174 rows × 7 columns</p>\n",
              "</div>"
            ],
            "text/plain": [
              "      Birth Weight  Gestational Days  Maternal Age  Maternal Height  \\\n",
              "0              120               284            27               62   \n",
              "1              113               282            33               64   \n",
              "2              128               279            28               64   \n",
              "3              108               282            23               67   \n",
              "4              136               286            25               62   \n",
              "...            ...               ...           ...              ...   \n",
              "1169           113               275            27               60   \n",
              "1170           128               265            24               67   \n",
              "1171           130               291            30               65   \n",
              "1172           125               281            21               65   \n",
              "1173           117               297            38               65   \n",
              "\n",
              "      Maternal Pregnancy Weight  Maternal Smoker        bmi  \n",
              "0                           100            False  18.290037  \n",
              "1                           135            False  23.172440  \n",
              "2                           115             True  19.739486  \n",
              "3                           125             True  19.577551  \n",
              "4                            93            False  17.009734  \n",
              "...                         ...              ...        ...  \n",
              "1169                        100            False  19.529695  \n",
              "1170                        120            False  18.794449  \n",
              "1171                        150             True  24.961030  \n",
              "1172                        110            False  18.304755  \n",
              "1173                        129            False  21.466486  \n",
              "\n",
              "[1174 rows x 7 columns]"
            ]
          },
          "execution_count": 75,
          "metadata": {},
          "output_type": "execute_result"
        }
      ],
      "source": [
        "baby_df['bmi'] = (baby_df['Maternal Pregnancy Weight'] * 0.453592) / (baby_df['Maternal Height'] * 0.0254) ** 2\n",
        "baby_df"
      ]
    },
    {
      "cell_type": "markdown",
      "metadata": {
        "id": "wP0Cx1H8eAvn"
      },
      "source": [
        "**Question 5. (4 pts)** Generate overlapping histograms of mother BMI for smokers and non-smokers. (You should make 2 histograms: one for smokers and one for non-smokers. These should be drawn on the **same plot** so that they overlap.)\n",
        "\n",
        "Hint: Plot non-smokers first.\n",
        "\n",
        "Interpret the plots.\n"
      ]
    },
    {
      "cell_type": "code",
      "execution_count": 100,
      "metadata": {
        "id": "r2DnzdNseAvo"
      },
      "outputs": [
        {
          "data": {
            "image/png": "[encoded data removed]",
            "text/plain": [
              "<Figure size 640x480 with 1 Axes>"
            ]
          },
          "metadata": {},
          "output_type": "display_data"
        }
      ],
      "source": [
        "smoker_bmi = baby_df.loc[baby_df['Maternal Smoker'] == True, ['bmi']]\n",
        "\n",
        "nonsmoker_bmi = baby_df.loc[baby_df['Maternal Smoker'] == False][['bmi']]\n",
        "\n",
        "bins = np.linspace(15, 44, 25)\n",
        "plt.figure()\n",
        "plt.hist(nonsmoker_bmi, bins, alpha=0.5, label='Nonsmoker', edgecolor='grey', color='blue')\n",
        "plt.hist(smoker_bmi, bins, alpha=0.5, label='Smoker', edgecolor='grey', color='red')\n",
        "plt.legend()\n",
        "plt.title('Distribution of BMI')\n",
        "plt.xlabel('BMI')\n",
        "plt.ylabel('Frequency')\n",
        "plt.show()"
      ]
    },
    {
      "cell_type": "markdown",
      "metadata": {
        "id": "ORFFj5YteAvo"
      },
      "source": [
        "*Comment here on the plots:* Smokers and nonsmoker have similar distributions but differ mostly in frequency.\n",
        "\n"
      ]
    },
    {
      "cell_type": "markdown",
      "metadata": {
        "id": "GoJtzssvJ8-D"
      },
      "source": [
        "**Question 6. (2 pts)** We want to investigate if the distributions of the BMI in mothers who smoke and mothers who do not smoke are the same.\n",
        "\n",
        "Write the null and alternative hypotheses for this investigation based on the graphs you made above."
      ]
    },
    {
      "cell_type": "markdown",
      "metadata": {
        "id": "vGtI99FVKNrn"
      },
      "source": [
        "**Null Hypothesis:** The distributions of BMI for mothers wo smoke and mothers who don't are the same\n",
        "\n",
        "**Alternative Hypothesis:** The distribution of BMI for mothers who smoke vs mothers who don't are different"
      ]
    },
    {
      "cell_type": "markdown",
      "metadata": {
        "id": "0FFBtrMKeAvp"
      },
      "source": [
        "**Question 7. (4 pts)** We will use first the following test statistic: **the difference in BMI sample means** (between smokers and non-smokers).  \n",
        "\n",
        "Write the code that generates a null distribution for this test statistic (using shuffling/permutations) and calculate the p-value associated with this test statistic.\n"
      ]
    },
    {
      "cell_type": "code",
      "execution_count": 77,
      "metadata": {
        "id": "_Adb4OlJXJZc"
      },
      "outputs": [
        {
          "data": {
            "text/html": [
              "<div>\n",
              "<style scoped>\n",
              "    .dataframe tbody tr th:only-of-type {\n",
              "        vertical-align: middle;\n",
              "    }\n",
              "\n",
              "    .dataframe tbody tr th {\n",
              "        vertical-align: top;\n",
              "    }\n",
              "\n",
              "    .dataframe thead th {\n",
              "        text-align: right;\n",
              "    }\n",
              "</style>\n",
              "<table border=\"1\" class=\"dataframe\">\n",
              "  <thead>\n",
              "    <tr style=\"text-align: right;\">\n",
              "      <th></th>\n",
              "      <th>bmi</th>\n",
              "    </tr>\n",
              "    <tr>\n",
              "      <th>Maternal Smoker</th>\n",
              "      <th></th>\n",
              "    </tr>\n",
              "  </thead>\n",
              "  <tbody>\n",
              "    <tr>\n",
              "      <th>False</th>\n",
              "      <td>22.193779</td>\n",
              "    </tr>\n",
              "    <tr>\n",
              "      <th>True</th>\n",
              "      <td>21.699109</td>\n",
              "    </tr>\n",
              "  </tbody>\n",
              "</table>\n",
              "</div>"
            ],
            "text/plain": [
              "                       bmi\n",
              "Maternal Smoker           \n",
              "False            22.193779\n",
              "True             21.699109"
            ]
          },
          "execution_count": 77,
          "metadata": {},
          "output_type": "execute_result"
        }
      ],
      "source": [
        "# this cell (or cells if you need more than one) contains the code for generating\n",
        "# the null distribution and the p-value\n",
        "means_df = baby_df.groupby('Maternal Smoker').mean()[['bmi']]\n",
        "means_df"
      ]
    },
    {
      "cell_type": "code",
      "execution_count": 78,
      "metadata": {},
      "outputs": [
        {
          "data": {
            "text/plain": [
              "0.4946699674377584"
            ]
          },
          "execution_count": 78,
          "metadata": {},
          "output_type": "execute_result"
        }
      ],
      "source": [
        "observed_difference = means_df.iloc[0, 0] - means_df.iloc[1, 0]\n",
        "observed_difference"
      ]
    },
    {
      "cell_type": "code",
      "execution_count": 79,
      "metadata": {},
      "outputs": [
        {
          "data": {
            "text/plain": [
              "array([ 0.03528609,  0.0408477 , -0.05451649, ...,  0.07891274,\n",
              "       -0.06059492, -0.13066187])"
            ]
          },
          "execution_count": 79,
          "metadata": {},
          "output_type": "execute_result"
        }
      ],
      "source": [
        "bmis = baby_df[['bmi']]    # turn into data frame so we can take random sample\n",
        "group_labels = baby_df['Maternal Smoker'].values    # labels will be switched, so we don't need to shuffle them later\n",
        "\n",
        "differences = np.array([])    # this will be our distribution of differnces\n",
        "\n",
        "for i in np.arange(5000):\n",
        "    shuffled_bmis = bmis.sample(len(bmis), replace=False)['bmi'].values\n",
        "    shuffled_df = pd.DataFrame({\n",
        "        'Shuffled bmi': shuffled_bmis,\n",
        "        'Label': group_labels})    # Assign new groups\n",
        "    shuffled_means_df = shuffled_df.groupby('Label').mean()\n",
        "    new_diff = shuffled_means_df.iloc[0] - shuffled_means_df.iloc[1]\n",
        "    differences = np.append(differences, new_diff)\n",
        "\n",
        "differences"
      ]
    },
    {
      "cell_type": "code",
      "execution_count": 80,
      "metadata": {},
      "outputs": [
        {
          "data": {
            "text/plain": [
              "Text(0, 0.5, 'Frequency')"
            ]
          },
          "execution_count": 80,
          "metadata": {},
          "output_type": "execute_result"
        },
        {
          "data": {
            "image/png": "[encoded data removed]",
            "text/plain": [
              "<Figure size 640x480 with 1 Axes>"
            ]
          },
          "metadata": {},
          "output_type": "display_data"
        }
      ],
      "source": [
        "plt.hist(differences, bins=np.arange(-0.7, 0.7, 0.075), edgecolor='grey')\n",
        "plt.scatter(observed_difference, -2, color='red')\n",
        "plt.title('Distribution of Group Means Difference')\n",
        "plt.xlabel('Mean test statistic')\n",
        "plt.ylabel('Frequency')"
      ]
    },
    {
      "cell_type": "code",
      "execution_count": 81,
      "metadata": {},
      "outputs": [
        {
          "data": {
            "text/plain": [
              "0.008"
            ]
          },
          "execution_count": 81,
          "metadata": {},
          "output_type": "execute_result"
        }
      ],
      "source": [
        "extreme = sum(differences >= observed_difference)/5000\n",
        "\n",
        "p_value = 2*extreme    # multiply by two to get the other side (greater differences may be negative)\n",
        "p_value"
      ]
    },
    {
      "cell_type": "markdown",
      "metadata": {
        "id": "sHNDxNvLeAvp"
      },
      "source": [
        "**Question 8. (4 pts)** Repeat what is asked in Question 7 for the following test statistic: **the difference in BMI sample medians**."
      ]
    },
    {
      "cell_type": "code",
      "execution_count": 82,
      "metadata": {
        "id": "wxVyYnzEeAvp"
      },
      "outputs": [
        {
          "data": {
            "text/html": [
              "<div>\n",
              "<style scoped>\n",
              "    .dataframe tbody tr th:only-of-type {\n",
              "        vertical-align: middle;\n",
              "    }\n",
              "\n",
              "    .dataframe tbody tr th {\n",
              "        vertical-align: top;\n",
              "    }\n",
              "\n",
              "    .dataframe thead th {\n",
              "        text-align: right;\n",
              "    }\n",
              "</style>\n",
              "<table border=\"1\" class=\"dataframe\">\n",
              "  <thead>\n",
              "    <tr style=\"text-align: right;\">\n",
              "      <th></th>\n",
              "      <th>bmi</th>\n",
              "    </tr>\n",
              "    <tr>\n",
              "      <th>Maternal Smoker</th>\n",
              "      <th></th>\n",
              "    </tr>\n",
              "  </thead>\n",
              "  <tbody>\n",
              "    <tr>\n",
              "      <th>False</th>\n",
              "      <td>21.455963</td>\n",
              "    </tr>\n",
              "    <tr>\n",
              "      <th>True</th>\n",
              "      <td>21.033542</td>\n",
              "    </tr>\n",
              "  </tbody>\n",
              "</table>\n",
              "</div>"
            ],
            "text/plain": [
              "                       bmi\n",
              "Maternal Smoker           \n",
              "False            21.455963\n",
              "True             21.033542"
            ]
          },
          "execution_count": 82,
          "metadata": {},
          "output_type": "execute_result"
        }
      ],
      "source": [
        "# this cell (or cells if you need more than one) contains the code for generating\n",
        "# the null distribution and the p-value\n",
        "medians_df = baby_df.groupby('Maternal Smoker').median()[['bmi']]\n",
        "medians_df"
      ]
    },
    {
      "cell_type": "code",
      "execution_count": 83,
      "metadata": {},
      "outputs": [
        {
          "data": {
            "text/plain": [
              "0.4224212549987598"
            ]
          },
          "execution_count": 83,
          "metadata": {},
          "output_type": "execute_result"
        }
      ],
      "source": [
        "observed_med_difference = medians_df.iloc[0, 0] - medians_df.iloc[1, 0]\n",
        "observed_med_difference"
      ]
    },
    {
      "cell_type": "code",
      "execution_count": 84,
      "metadata": {},
      "outputs": [
        {
          "data": {
            "text/plain": [
              "array([-0.04831093,  0.05181348,  0.14293644, ...,  0.        ,\n",
              "        0.34329541, -0.14416675])"
            ]
          },
          "execution_count": 84,
          "metadata": {},
          "output_type": "execute_result"
        }
      ],
      "source": [
        "bmis = baby_df[['bmi']]    # turn into data frame so we can take random sample\n",
        "group_labels = baby_df['Maternal Smoker'].values    # labels will be switched, so we don't need to shuffle them later\n",
        "\n",
        "med_differences = np.array([])    # this will be our distribution of differnces\n",
        "\n",
        "for i in np.arange(5000):\n",
        "    shuffled_bmis = bmis.sample(len(bmis), replace=False)['bmi'].values\n",
        "    shuffled_df = pd.DataFrame({\n",
        "        'Shuffled bmi': shuffled_bmis,\n",
        "        'Label': group_labels})    # Assign new groups\n",
        "    shuffled_medians_df = shuffled_df.groupby('Label').median()\n",
        "    new_diff = shuffled_medians_df.iloc[0] - shuffled_medians_df.iloc[1]\n",
        "    med_differences = np.append(med_differences, new_diff)\n",
        "\n",
        "med_differences"
      ]
    },
    {
      "cell_type": "code",
      "execution_count": 90,
      "metadata": {},
      "outputs": [
        {
          "data": {
            "text/plain": [
              "Text(0, 0.5, 'Frequency')"
            ]
          },
          "execution_count": 90,
          "metadata": {},
          "output_type": "execute_result"
        },
        {
          "data": {
            "image/png": "[encoded data removed]",
            "text/plain": [
              "<Figure size 640x480 with 1 Axes>"
            ]
          },
          "metadata": {},
          "output_type": "display_data"
        }
      ],
      "source": [
        "plt.hist(med_differences, bins=np.arange(-0.6, 0.6, 0.075), edgecolor='grey')\n",
        "plt.scatter(observed_med_difference, -2, color='red')\n",
        "plt.title('Distribution of Group Median Difference')\n",
        "plt.xlabel('Median test statistic')\n",
        "plt.ylabel('Frequency')"
      ]
    },
    {
      "cell_type": "code",
      "execution_count": 91,
      "metadata": {},
      "outputs": [
        {
          "data": {
            "text/plain": [
              "0.0232"
            ]
          },
          "execution_count": 91,
          "metadata": {},
          "output_type": "execute_result"
        }
      ],
      "source": [
        "med_extreme = sum(med_differences >= observed_med_difference)/5000\n",
        "\n",
        "med_p_value = 2*med_extreme    # multiply by two to get the other side (greater differences may be negative)\n",
        "med_p_value"
      ]
    },
    {
      "cell_type": "markdown",
      "metadata": {
        "id": "MiTG0JgxeAvq"
      },
      "source": [
        "**Question 9. (4 pts)** Repeat what is asked in Question 7 for the following test statistic: **the difference in BMI sample standard deviations**."
      ]
    },
    {
      "cell_type": "code",
      "execution_count": 94,
      "metadata": {
        "id": "M5NvC7FreAvq"
      },
      "outputs": [
        {
          "data": {
            "text/html": [
              "<div>\n",
              "<style scoped>\n",
              "    .dataframe tbody tr th:only-of-type {\n",
              "        vertical-align: middle;\n",
              "    }\n",
              "\n",
              "    .dataframe tbody tr th {\n",
              "        vertical-align: top;\n",
              "    }\n",
              "\n",
              "    .dataframe thead th {\n",
              "        text-align: right;\n",
              "    }\n",
              "</style>\n",
              "<table border=\"1\" class=\"dataframe\">\n",
              "  <thead>\n",
              "    <tr style=\"text-align: right;\">\n",
              "      <th></th>\n",
              "      <th>bmi</th>\n",
              "    </tr>\n",
              "    <tr>\n",
              "      <th>Maternal Smoker</th>\n",
              "      <th></th>\n",
              "    </tr>\n",
              "  </thead>\n",
              "  <tbody>\n",
              "    <tr>\n",
              "      <th>False</th>\n",
              "      <td>3.290454</td>\n",
              "    </tr>\n",
              "    <tr>\n",
              "      <th>True</th>\n",
              "      <td>3.097138</td>\n",
              "    </tr>\n",
              "  </tbody>\n",
              "</table>\n",
              "</div>"
            ],
            "text/plain": [
              "                      bmi\n",
              "Maternal Smoker          \n",
              "False            3.290454\n",
              "True             3.097138"
            ]
          },
          "execution_count": 94,
          "metadata": {},
          "output_type": "execute_result"
        }
      ],
      "source": [
        "# this cell (or cells if you need more than one) contains the code for generating\n",
        "# the null distribution and the p-value\n",
        "std_df = baby_df.groupby('Maternal Smoker').std()[['bmi']]\n",
        "std_df"
      ]
    },
    {
      "cell_type": "code",
      "execution_count": 95,
      "metadata": {},
      "outputs": [
        {
          "data": {
            "text/plain": [
              "0.1933157560860086"
            ]
          },
          "execution_count": 95,
          "metadata": {},
          "output_type": "execute_result"
        }
      ],
      "source": [
        "observed_std_difference = std_df.iloc[0, 0] - std_df.iloc[1, 0]\n",
        "observed_std_difference"
      ]
    },
    {
      "cell_type": "code",
      "execution_count": 96,
      "metadata": {},
      "outputs": [
        {
          "data": {
            "text/plain": [
              "array([ 0.13873266, -0.18878229,  0.19230556, ..., -0.17259121,\n",
              "        0.19108326, -0.29034239])"
            ]
          },
          "execution_count": 96,
          "metadata": {},
          "output_type": "execute_result"
        }
      ],
      "source": [
        "bmis = baby_df[['bmi']]    # turn into data frame so we can take random sample\n",
        "group_labels = baby_df['Maternal Smoker'].values    # labels will be switched, so we don't need to shuffle them later\n",
        "\n",
        "std_differences = np.array([])    # this will be our distribution of differnces\n",
        "\n",
        "for i in np.arange(5000):\n",
        "    shuffled_bmis = bmis.sample(len(bmis), replace=False)['bmi'].values\n",
        "    shuffled_df = pd.DataFrame({\n",
        "        'Shuffled bmi': shuffled_bmis,\n",
        "        'Label': group_labels})    # Assign new groups\n",
        "    shuffled_std_df = shuffled_df.groupby('Label').std()\n",
        "    new_diff = shuffled_std_df.iloc[0] - shuffled_std_df.iloc[1]\n",
        "    std_differences = np.append(std_differences, new_diff)\n",
        "\n",
        "std_differences"
      ]
    },
    {
      "cell_type": "code",
      "execution_count": 98,
      "metadata": {},
      "outputs": [
        {
          "data": {
            "text/plain": [
              "Text(0, 0.5, 'Frequency')"
            ]
          },
          "execution_count": 98,
          "metadata": {},
          "output_type": "execute_result"
        },
        {
          "data": {
            "image/png": "[encoded data removed]",
            "text/plain": [
              "<Figure size 640x480 with 1 Axes>"
            ]
          },
          "metadata": {},
          "output_type": "display_data"
        }
      ],
      "source": [
        "plt.hist(std_differences, bins=np.arange(-0.8, 0.8, 0.075), edgecolor='grey')\n",
        "plt.scatter(observed_std_difference, -2, color='red')\n",
        "plt.title('Distribution of Group SD Difference')\n",
        "plt.xlabel('SD test statistic')\n",
        "plt.ylabel('Frequency')"
      ]
    },
    {
      "cell_type": "code",
      "execution_count": 99,
      "metadata": {},
      "outputs": [
        {
          "data": {
            "text/plain": [
              "0.436"
            ]
          },
          "execution_count": 99,
          "metadata": {},
          "output_type": "execute_result"
        }
      ],
      "source": [
        "std_extreme = sum(std_differences >= observed_std_difference)/5000\n",
        "\n",
        "p_value = 2*std_extreme\n",
        "p_value"
      ]
    },
    {
      "cell_type": "markdown",
      "metadata": {
        "id": "HfEagHJ1eAvq"
      },
      "source": [
        "**Question 10. (3 pts)** Write a very brief discussion on the interpretation of the 3 p-values you calculated."
      ]
    },
    {
      "cell_type": "markdown",
      "metadata": {
        "id": "tAhgDgdIeAvq"
      },
      "source": [
        "At the 0.05 significance level:\n",
        "\n",
        "**Mean:** The P-value = 0.008 means that we reject the null hypothesis that the mean bmi between smoker and nonsmoker moms are the same. There is statistically significant evidence that the means differ.\n",
        "\n",
        "**Median:** The P-value of 0.0232 means that we reject the null hypothesis that the median bmi for smoking mothers is the same as that for nonsmoking mothers. There is statistically significant evidence that the medians differ between the two groups.\n",
        "\n",
        "**Standard Deviation:** The P-value of 0.436 means that we reject the null hypothesis that the standard deviation for bmi for smoking mothers is the same as that for nonsmoking mothers. There is statistically significant evidence that the standard deviations differ between the two groups.\n"
      ]
    },
    {
      "cell_type": "markdown",
      "metadata": {
        "id": "4ceRK0RiMg3m"
      },
      "source": [
        "## 3. Plot the Vote (20 points) ##\n",
        "\n",
        "The presidential election in the US is coming up this year!! Let's celebrate this with a homework question!\n",
        "\n",
        "Four candidates are running for President of Dataland. A polling company surveys 1000 people selected uniformly at random from among voters in Dataland, and it asks each one who they are planning on voting for. After compiling the results, the polling company releases the following proportions from their sample:\n",
        "\n",
        "|Candidate  | Proportion|\n",
        "|:------------:|:------------:|\n",
        "|Candidate A | 0.43 |\n",
        "|Candidate B | 0.35 |\n",
        "|Candidate C | 0.10 |\n",
        "|Candidate D | 0.05 |\n",
        "|Undecided   | 0.07 |\n",
        "\n",
        "These proportions represent a simple random sample of the population of Dataland. We will attempt to estimate the corresponding *population parameters* - the proportions of each kind of voter in the entire population.  We will use confidence intervals to compute a range of values that reflects the uncertainty of our estimate.\n",
        "\n",
        "The table `votes` contains the results of the survey. Candidates are represented by their initials. Undecided voters are denoted by `U`."
      ]
    },
    {
      "cell_type": "code",
      "execution_count": 87,
      "metadata": {
        "id": "eYOUZXdoMg3n",
        "outputId": "0fa528d9-b0ef-443d-c5c7-99151df2099e"
      },
      "outputs": [
        {
          "data": {
            "text/html": [
              "<div>\n",
              "<style scoped>\n",
              "    .dataframe tbody tr th:only-of-type {\n",
              "        vertical-align: middle;\n",
              "    }\n",
              "\n",
              "    .dataframe tbody tr th {\n",
              "        vertical-align: top;\n",
              "    }\n",
              "\n",
              "    .dataframe thead th {\n",
              "        text-align: right;\n",
              "    }\n",
              "</style>\n",
              "<table border=\"1\" class=\"dataframe\">\n",
              "  <thead>\n",
              "    <tr style=\"text-align: right;\">\n",
              "      <th></th>\n",
              "      <th>vote</th>\n",
              "    </tr>\n",
              "  </thead>\n",
              "  <tbody>\n",
              "    <tr>\n",
              "      <th>700</th>\n",
              "      <td>B</td>\n",
              "    </tr>\n",
              "    <tr>\n",
              "      <th>857</th>\n",
              "      <td>C</td>\n",
              "    </tr>\n",
              "    <tr>\n",
              "      <th>873</th>\n",
              "      <td>C</td>\n",
              "    </tr>\n",
              "    <tr>\n",
              "      <th>493</th>\n",
              "      <td>B</td>\n",
              "    </tr>\n",
              "    <tr>\n",
              "      <th>937</th>\n",
              "      <td>U</td>\n",
              "    </tr>\n",
              "  </tbody>\n",
              "</table>\n",
              "</div>"
            ],
            "text/plain": [
              "    vote\n",
              "700    B\n",
              "857    C\n",
              "873    C\n",
              "493    B\n",
              "937    U"
            ]
          },
          "execution_count": 87,
          "metadata": {},
          "output_type": "execute_result"
        }
      ],
      "source": [
        "votes = pd.DataFrame({'vote': np.array(['A']*430 + ['B']*350 + ['C']*100 + ['D']*50 + ['U']*70)})\n",
        "num_votes = len(votes)\n",
        "votes.sample(5,replace=True)"
      ]
    },
    {
      "cell_type": "markdown",
      "metadata": {
        "id": "jkJkUKKJMg3n"
      },
      "source": [
        "Below, we have given you code that will use bootstrapped samples to compute estimates of the true proportion of voters who are planning on voting for **Candidate B**."
      ]
    },
    {
      "cell_type": "code",
      "execution_count": 88,
      "metadata": {
        "id": "H5Ef5lIbMg3n",
        "outputId": "261ef4ad-7b20-4851-86f2-db845cdc3030"
      },
      "outputs": [
        {
          "data": {
            "image/png": "[encoded data removed]",
            "text/plain": [
              "<Figure size 640x480 with 1 Axes>"
            ]
          },
          "metadata": {},
          "output_type": "display_data"
        }
      ],
      "source": [
        "def proportions_in_resamples(nboot):\n",
        "    statistics = np.array([])\n",
        "    for i in np.arange(nboot):\n",
        "        bootstrap = votes.sample(num_votes,replace=True)\n",
        "        sample_statistic = np.count_nonzero(bootstrap.vote == 'B')/num_votes\n",
        "        statistics = np.append(statistics, sample_statistic)\n",
        "    return statistics\n",
        "\n",
        "sampled_proportions = proportions_in_resamples(5000)\n",
        "\n",
        "plt.hist(sampled_proportions,bins=np.arange(0.2,0.55,0.01))\n",
        "plt.title(\"Estimated Proportion - Bootstrap\")\n",
        "plt.show()"
      ]
    },
    {
      "cell_type": "markdown",
      "metadata": {
        "id": "kLp6LwzzMg3n"
      },
      "source": [
        "**Question 11. (6pts)** Using the array `sampled_proportions`, compute a **basic boostrap 98% confidence interval** for the difference in the true and bootstrapped proportions of voters planning on voting for candidate B."
      ]
    },
    {
      "cell_type": "code",
      "execution_count": 89,
      "metadata": {
        "id": "ulYNvwzqMg3n"
      },
      "outputs": [
        {
          "ename": "TypeError",
          "evalue": "unsupported format string passed to ellipsis.__format__",
          "output_type": "error",
          "traceback": [
            "\u001b[0;31m---------------------------------------------------------------------------\u001b[0m",
            "\u001b[0;31mTypeError\u001b[0m                                 Traceback (most recent call last)",
            "Cell \u001b[0;32mIn[89], line 5\u001b[0m\n\u001b[1;32m      3\u001b[0m low_ci \u001b[38;5;241m=\u001b[39m \u001b[38;5;241m.\u001b[39m\u001b[38;5;241m.\u001b[39m\u001b[38;5;241m.\u001b[39m\n\u001b[1;32m      4\u001b[0m up_ci \u001b[38;5;241m=\u001b[39m \u001b[38;5;241m.\u001b[39m\u001b[38;5;241m.\u001b[39m\u001b[38;5;241m.\u001b[39m\n\u001b[0;32m----> 5\u001b[0m \u001b[38;5;28mprint\u001b[39m(\u001b[38;5;124;43m\"\u001b[39;49m\u001b[38;5;124;43mBootstrapped 98\u001b[39;49m\u001b[38;5;132;43;01m% c\u001b[39;49;00m\u001b[38;5;124;43monfidence interval for the proportion of B voters in the population: [\u001b[39;49m\u001b[38;5;132;43;01m{:f}\u001b[39;49;00m\u001b[38;5;124;43m, \u001b[39;49m\u001b[38;5;132;43;01m{:f}\u001b[39;49;00m\u001b[38;5;124;43m]\u001b[39;49m\u001b[38;5;124;43m\"\u001b[39;49m\u001b[38;5;241;43m.\u001b[39;49m\u001b[43mformat\u001b[49m\u001b[43m(\u001b[49m\u001b[43mlow_ci\u001b[49m\u001b[43m,\u001b[49m\u001b[43m \u001b[49m\u001b[43mup_ci\u001b[49m\u001b[43m)\u001b[49m)\n",
            "\u001b[0;31mTypeError\u001b[0m: unsupported format string passed to ellipsis.__format__"
          ]
        }
      ],
      "source": [
        "b_lower_bound = ...\n",
        "b_upper_bound = ...\n",
        "low_ci = ...\n",
        "up_ci = ...\n",
        "print(\"Bootstrapped 98% confidence interval for the proportion of B voters in the population: [{:f}, {:f}]\".format(low_ci, up_ci))"
      ]
    },
    {
      "cell_type": "markdown",
      "metadata": {
        "id": "1TJVXKV1Mg3o"
      },
      "source": [
        "**Question 12. (6pts)** The survey results seem to indicate that Candidate B is losing to Candidate A among voters. We would like to use CI's to determine a range of likely values for Candidate A's true *lead*. Candidate A's lead over Candidate B is:\n",
        "\n",
        "$$\\text{Candidate A's proportion of the vote} - \\text{Candidate B's proportion of the vote}.$$\n",
        "\n",
        "Using the function `proportions_in_resamples` above as a model, use the bootstrap to compute an approximate distribution for Candidate A's lead over Candidate B. Plot a histogram of the the resulting samples.\n",
        "\n",
        "Also calculate a **95% percentile bootstrap confidence interval** for the difference."
      ]
    },
    {
      "cell_type": "code",
      "execution_count": null,
      "metadata": {
        "id": "5Hz6kImEMg3o"
      },
      "outputs": [],
      "source": [
        "# the code for the histogram is here\n",
        "..."
      ]
    },
    {
      "cell_type": "code",
      "execution_count": null,
      "metadata": {
        "id": "j7TRHMNTMg3o"
      },
      "outputs": [],
      "source": [
        "# the bootstrap confidence interval\n",
        "diff_lower_bound = ...\n",
        "diff_upper_bound = ...\n",
        "print(\"Bootstrapped 95% confidence interval for Candidate A's true lead over Candidate B: [{:f}, {:f}]\".format(diff_lower_bound, diff_upper_bound))"
      ]
    },
    {
      "cell_type": "markdown",
      "metadata": {
        "id": "qinNL_SgMg3o"
      },
      "source": [
        "**Question 13. (3pts)** Interpret the 95% interval you obtained. What does it tell you about the lead Candidate A has?\n",
        "\n",
        "*Answer here:*  "
      ]
    },
    {
      "cell_type": "markdown",
      "metadata": {
        "id": "8cyzx0FJXJZg"
      },
      "source": [
        "\n"
      ]
    },
    {
      "cell_type": "code",
      "execution_count": null,
      "metadata": {
        "id": "muzvRJURXJZh"
      },
      "outputs": [],
      "source": []
    },
    {
      "cell_type": "markdown",
      "metadata": {
        "id": "Zjvhrq7YMg3o"
      },
      "source": [
        "**Question 14. (3pts)** Suppose your friend computes the following 99% confidence interval for the proportion of Candidate B voters:\n",
        "\n",
        "$$[.41, .49]$$\n",
        "\n",
        "(If you do this yourself, your answer might be different; that doesn't mean it is wrong.)"
      ]
    },
    {
      "cell_type": "markdown",
      "metadata": {
        "id": "sZIfbDKnMg3o"
      },
      "source": [
        "Can we say that 99% of the population lies in the range $[.41, .49]$? Explain your answer."
      ]
    },
    {
      "cell_type": "markdown",
      "metadata": {
        "id": "xEnNqBiUMg3o"
      },
      "source": [
        "*Write your answer here, replacing this text.*\n"
      ]
    },
    {
      "cell_type": "markdown",
      "metadata": {
        "id": "8J5F4Io-Mg3o"
      },
      "source": [
        "**Question 15. (2pts)** Suppose we produced 10,000 new samples (each one a uniform random sample of 1,000 voters) and created a 99% confidence interval from each one. Roughly how many of those 10,000 intervals do you expect will actually contain the true proportion of the population?"
      ]
    },
    {
      "cell_type": "markdown",
      "metadata": {
        "id": "9jYVV1GgMg3o"
      },
      "source": [
        "*Write your answer here, replacing this text.*"
      ]
    },
    {
      "cell_type": "code",
      "execution_count": null,
      "metadata": {
        "id": "T3WBtPKEXJZi"
      },
      "outputs": [],
      "source": []
    }
  ],
  "metadata": {
    "colab": {
      "provenance": []
    },
    "kernelspec": {
      "display_name": "Python 3 (ipykernel)",
      "language": "python",
      "name": "python3"
    },
    "language_info": {
      "codemirror_mode": {
        "name": "ipython",
        "version": 3
      },
      "file_extension": ".py",
      "mimetype": "text/x-python",
      "name": "python",
      "nbconvert_exporter": "python",
      "pygments_lexer": "ipython3",
      "version": "3.12.1"
    }
  },
  "nbformat": 4,
  "nbformat_minor": 0
}
