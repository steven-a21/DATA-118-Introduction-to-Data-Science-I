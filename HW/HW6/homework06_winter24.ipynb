{
  "cells": [
    {
      "cell_type": "markdown",
      "metadata": {
        "id": "U6CDHYedCVN2"
      },
      "source": [
        "# Homework 6: Hypothesis Testing and Confidence Intervals  (50 points)\n",
        "\n"
      ]
    },
    {
      "cell_type": "markdown",
      "metadata": {
        "id": "cV4ujs8W0Pyc"
      },
      "source": [
        "Please complete this notebook by filling in the cells provided.\n",
        "\n",
        "The solved homework should be uploaded to Gradescope as an .ipynb file. DO NOT put your answers in more than one file or use a different file extension.\n",
        "\n",
        "**<u>Deadline</u>**:\n",
        "\n",
        "This assignment is due on **Friday, February 23** at **11:59pm**. Late work will not be accepted unless it follows the specific policy of the instructor.\n",
        "\n",
        "- Directly sharing answers is not okay, but discussing problems with the course staff or with other students is encouraged.\n",
        "\n",
        "- You should start early so that you have time to get help if you're stuck.\n",
        "\n",
        "- Submit your homework 30-60 minutes to ensure that it will upload before the deadline.\n",
        "\n",
        "- Please run all of your code cells and ensure all of your answers are outputted and visible to graders.\n",
        "\n",
        "- Check the file preview on Gradescope to make sure all of your answers are visible.\n",
        "\n",
        "- Be mindful of your file sizes. Do not print out entire large datasets use .head or .tail instead. Make sure your document is visible in the Gradescope preview.\n",
        "\n",
        "- Your functions should have a docstring. Points may be taken off for not including a docstring.\n",
        "\n",
        "- Your graphs should be labeled with a title, x-label, and y-label and be otherwise readable. Intervals on x- and y-axises should make sense for the data. If these items are missing, points may be taken off."
      ]
    },
    {
      "cell_type": "code",
      "execution_count": 3,
      "metadata": {
        "id": "yegbh6zA0PPP"
      },
      "outputs": [],
      "source": [
        "# Don't change this cell; just run it.\n",
        "\n",
        "import numpy as np\n",
        "import pandas as pd\n",
        "\n",
        "import matplotlib.pyplot as plt\n",
        "plt.style.use('fivethirtyeight')\n",
        "import warnings\n",
        "warnings.simplefilter('ignore', FutureWarning)"
      ]
    },
    {
      "cell_type": "markdown",
      "metadata": {
        "id": "VMFErTofIlLk"
      },
      "source": [
        "## 1. How Many Devices? (7 points) ##\n",
        "\n",
        "When a company produces medical devices, it must be sure that its devices will not fail.  Sampling is used ubiquitously in the medical device industry to test how well devices work.\n",
        "\n",
        "Suppose you work at a company that produces syringes, and you are responsible for ensuring the syringes work well.  After studying the manufacturing process for the syringes, you have a hunch that they have a 2% failure rate.  That is, you suspect that 2% of the syringes won't work when a doctor uses them to inject a patient with medicine.\n",
        "\n",
        "To test your hunch, you would like to find at least one faulty syringe.  You hire an expert consultant who can test a syringe to check whether it is faulty.  But the expert's time is expensive, so you need to avoid checking more syringes than you need to.\n",
        "\n",
        "**Important note:** This exercise asks you to compute numbers that are related to probabilities.  For all questions, you can calculate your answer using algebra, **or** you can write and run a simulation to compute an approximately-correct answer (we encourage you to try both).  An answer based on an appropriate simulation will receive full credit.  If you simulate, use at least **10,000** trials. An answer based on algebra, should contain some explanation on how the calculation was done.\n"
      ]
    },
    {
      "cell_type": "markdown",
      "metadata": {
        "id": "dvsaagBSLsvl"
      },
      "source": [
        "**Question 1. (2pts)** Suppose there is indeed a 2% failure rate among all syringes.  If you check 50 syringes chosen at random from among all syringes, what is the chance that you find at least 1 faulty syringe? Name your answer `chance_to_find_syringe`. And display the numerical value you get as an answer. *Hint: first decide what probability distribution this situation follows*"
      ]
    },
    {
      "cell_type": "code",
      "execution_count": 39,
      "metadata": {
        "id": "4EdtdODAIlLk"
      },
      "outputs": [
        {
          "data": {
            "text/plain": [
              "0.020206000000000002"
            ]
          },
          "execution_count": 39,
          "metadata": {},
          "output_type": "execute_result"
        }
      ],
      "source": [
        "outcomes = []\n",
        "for i in range(10000):\n",
        "    num_failed = np.random.choice(['Fail', 'Pass'], 50, p=[0.02, 0.98]).tolist().count('Fail') / 50\n",
        "    outcomes.append(num_failed)\n",
        "\n",
        "chance_to_find_syringe = np.mean(outcomes)\n",
        "chance_to_find_syringe"
      ]
    },
    {
      "cell_type": "markdown",
      "metadata": {
        "id": "MhzRdU9rIlLl"
      },
      "source": [
        "This follows a binomial distribution since there is a binary outcome, draws are independent, and the probability of success does nto change between draws. The chance to find a syringe is approximately 0.02021"
      ]
    },
    {
      "cell_type": "markdown",
      "metadata": {
        "id": "LBbfXeqmIlLl"
      },
      "source": [
        "**Question 2. (3pts)** Continue to assume that there really is a 2% failure rate. Find the smallest number of syringes you can check so that you have at least a 75% chance of finding a faulty syringe (your answer should be an integer).  Name that number `num_required_for_75_percent`.  **If you use simulation, it's okay if your answer is off by as many as 5 for full credit.**"
      ]
    },
    {
      "cell_type": "markdown",
      "metadata": {},
      "source": [
        "$(0.02)^n$ is the probability of getting all faulty syringes when drawing n syringes. \n",
        "\n",
        "$(0.98)^n$ is the probability of getting all good syringes (no faulty)when drawing n syringes.\n",
        "\n",
        "$1 - (0.98)^n$ is the probability of getting at least one faulty.\n",
        "\n",
        "Explanation: If we flip a coin five times, the probability of getting all heads (HHHHH) is $(0.5)^n$.\n",
        "That means the complement of NOT getting all heads is the probability of literally anything else, $1-(0.5)^n$, which will \n",
        "always include a tails (THHHH, TTTTT, HHHTH, etc.). Analogous to this, the probability of getting at least one faulty is the \n",
        "complement of the probability of getting all good syringes"
      ]
    },
    {
      "cell_type": "code",
      "execution_count": 57,
      "metadata": {
        "id": "GCHsvyoNIlLl"
      },
      "outputs": [
        {
          "data": {
            "text/plain": [
              "69"
            ]
          },
          "execution_count": 57,
          "metadata": {},
          "output_type": "execute_result"
        }
      ],
      "source": [
        "num_required_for_75_percent = 69\n",
        "num_required_for_75_percent"
      ]
    },
    {
      "cell_type": "markdown",
      "metadata": {},
      "source": [
        "$$1-(0.98)^n >= 0.75$$\n",
        "$$0.98^n >= 0.25$$\n",
        "$$n >= \\frac{\\ln(0.25)}{\\ln(0.98)} >= 68.619$$\n",
        "$$n>=69$$\n"
      ]
    },
    {
      "cell_type": "markdown",
      "metadata": {
        "id": "G4sFHaMTIlLm"
      },
      "source": [
        "**Question 3. (2pts)** A doctor purchased 10 syringes and found 3 of them to be faulty. Assuming that there is indeed a 2% failure rate, what was the probability of **exactly 3** out of 10 syringes being faulty?"
      ]
    },
    {
      "cell_type": "code",
      "execution_count": null,
      "metadata": {
        "id": "LZR5dForIlLm"
      },
      "outputs": [],
      "source": [
        "...\n",
        "probability_of_two_faulty = ...\n",
        "probability_of_two_faulty"
      ]
    },
    {
      "cell_type": "markdown",
      "metadata": {
        "id": "b6dwc8ZUIlLm"
      },
      "source": [
        "*Answer here*"
      ]
    },
    {
      "cell_type": "markdown",
      "metadata": {
        "id": "yoVjz-GPeAvm"
      },
      "source": [
        "## 2. Birth weight data (23 points)\n",
        "\n",
        "For this question we will use a dataset that contains the following variables for 1,174 mother-baby pairs: the baby’s birth weight in ounces, the number of gestational days, the mother’s age in completed years, the mother’s height in inches, pregnancy weight in pounds, and whether or not the mother smoked during pregnancy.  The code to read the data is in the next cell, and the data file is on Canvas.\n"
      ]
    },
    {
      "cell_type": "code",
      "execution_count": null,
      "metadata": {
        "colab": {
          "base_uri": "https://localhost:8080/",
          "height": 265
        },
        "id": "AHuBR74teAvm",
        "outputId": "8c7db680-e604-4c25-f278-e38c741bf391"
      },
      "outputs": [
        {
          "name": "stdout",
          "output_type": "stream",
          "text": [
            "(1174, 6)\n"
          ]
        },
        {
          "data": {
            "text/html": [
              "\n",
              "  <div id=\"df-3fc6fc4a-dc38-4803-a50f-c7e89a300f22\">\n",
              "    <div class=\"colab-df-container\">\n",
              "      <div>\n",
              "<style scoped>\n",
              "    .dataframe tbody tr th:only-of-type {\n",
              "        vertical-align: middle;\n",
              "    }\n",
              "\n",
              "    .dataframe tbody tr th {\n",
              "        vertical-align: top;\n",
              "    }\n",
              "\n",
              "    .dataframe thead th {\n",
              "        text-align: right;\n",
              "    }\n",
              "</style>\n",
              "<table border=\"1\" class=\"dataframe\">\n",
              "  <thead>\n",
              "    <tr style=\"text-align: right;\">\n",
              "      <th></th>\n",
              "      <th>Birth Weight</th>\n",
              "      <th>Gestational Days</th>\n",
              "      <th>Maternal Age</th>\n",
              "      <th>Maternal Height</th>\n",
              "      <th>Maternal Pregnancy Weight</th>\n",
              "      <th>Maternal Smoker</th>\n",
              "    </tr>\n",
              "  </thead>\n",
              "  <tbody>\n",
              "    <tr>\n",
              "      <th>0</th>\n",
              "      <td>120</td>\n",
              "      <td>284</td>\n",
              "      <td>27</td>\n",
              "      <td>62</td>\n",
              "      <td>100</td>\n",
              "      <td>False</td>\n",
              "    </tr>\n",
              "    <tr>\n",
              "      <th>1</th>\n",
              "      <td>113</td>\n",
              "      <td>282</td>\n",
              "      <td>33</td>\n",
              "      <td>64</td>\n",
              "      <td>135</td>\n",
              "      <td>False</td>\n",
              "    </tr>\n",
              "    <tr>\n",
              "      <th>2</th>\n",
              "      <td>128</td>\n",
              "      <td>279</td>\n",
              "      <td>28</td>\n",
              "      <td>64</td>\n",
              "      <td>115</td>\n",
              "      <td>True</td>\n",
              "    </tr>\n",
              "    <tr>\n",
              "      <th>3</th>\n",
              "      <td>108</td>\n",
              "      <td>282</td>\n",
              "      <td>23</td>\n",
              "      <td>67</td>\n",
              "      <td>125</td>\n",
              "      <td>True</td>\n",
              "    </tr>\n",
              "    <tr>\n",
              "      <th>4</th>\n",
              "      <td>136</td>\n",
              "      <td>286</td>\n",
              "      <td>25</td>\n",
              "      <td>62</td>\n",
              "      <td>93</td>\n",
              "      <td>False</td>\n",
              "    </tr>\n",
              "  </tbody>\n",
              "</table>\n",
              "</div>\n",
              "      <button class=\"colab-df-convert\" onclick=\"convertToInteractive('df-3fc6fc4a-dc38-4803-a50f-c7e89a300f22')\"\n",
              "              title=\"Convert this dataframe to an interactive table.\"\n",
              "              style=\"display:none;\">\n",
              "        \n",
              "  <svg xmlns=\"http://www.w3.org/2000/svg\" height=\"24px\"viewBox=\"0 0 24 24\"\n",
              "       width=\"24px\">\n",
              "    <path d=\"M0 0h24v24H0V0z\" fill=\"none\"/>\n",
              "    <path d=\"M18.56 5.44l.94 2.06.94-2.06 2.06-.94-2.06-.94-.94-2.06-.94 2.06-2.06.94zm-11 1L8.5 8.5l.94-2.06 2.06-.94-2.06-.94L8.5 2.5l-.94 2.06-2.06.94zm10 10l.94 2.06.94-2.06 2.06-.94-2.06-.94-.94-2.06-.94 2.06-2.06.94z\"/><path d=\"M17.41 7.96l-1.37-1.37c-.4-.4-.92-.59-1.43-.59-.52 0-1.04.2-1.43.59L10.3 9.45l-7.72 7.72c-.78.78-.78 2.05 0 2.83L4 21.41c.39.39.9.59 1.41.59.51 0 1.02-.2 1.41-.59l7.78-7.78 2.81-2.81c.8-.78.8-2.07 0-2.86zM5.41 20L4 18.59l7.72-7.72 1.47 1.35L5.41 20z\"/>\n",
              "  </svg>\n",
              "      </button>\n",
              "      \n",
              "  <style>\n",
              "    .colab-df-container {\n",
              "      display:flex;\n",
              "      flex-wrap:wrap;\n",
              "      gap: 12px;\n",
              "    }\n",
              "\n",
              "    .colab-df-convert {\n",
              "      background-color: #E8F0FE;\n",
              "      border: none;\n",
              "      border-radius: 50%;\n",
              "      cursor: pointer;\n",
              "      display: none;\n",
              "      fill: #1967D2;\n",
              "      height: 32px;\n",
              "      padding: 0 0 0 0;\n",
              "      width: 32px;\n",
              "    }\n",
              "\n",
              "    .colab-df-convert:hover {\n",
              "      background-color: #E2EBFA;\n",
              "      box-shadow: 0px 1px 2px rgba(60, 64, 67, 0.3), 0px 1px 3px 1px rgba(60, 64, 67, 0.15);\n",
              "      fill: #174EA6;\n",
              "    }\n",
              "\n",
              "    [theme=dark] .colab-df-convert {\n",
              "      background-color: #3B4455;\n",
              "      fill: #D2E3FC;\n",
              "    }\n",
              "\n",
              "    [theme=dark] .colab-df-convert:hover {\n",
              "      background-color: #434B5C;\n",
              "      box-shadow: 0px 1px 3px 1px rgba(0, 0, 0, 0.15);\n",
              "      filter: drop-shadow(0px 1px 2px rgba(0, 0, 0, 0.3));\n",
              "      fill: #FFFFFF;\n",
              "    }\n",
              "  </style>\n",
              "\n",
              "      <script>\n",
              "        const buttonEl =\n",
              "          document.querySelector('#df-3fc6fc4a-dc38-4803-a50f-c7e89a300f22 button.colab-df-convert');\n",
              "        buttonEl.style.display =\n",
              "          google.colab.kernel.accessAllowed ? 'block' : 'none';\n",
              "\n",
              "        async function convertToInteractive(key) {\n",
              "          const element = document.querySelector('#df-3fc6fc4a-dc38-4803-a50f-c7e89a300f22');\n",
              "          const dataTable =\n",
              "            await google.colab.kernel.invokeFunction('convertToInteractive',\n",
              "                                                     [key], {});\n",
              "          if (!dataTable) return;\n",
              "\n",
              "          const docLinkHtml = 'Like what you see? Visit the ' +\n",
              "            '<a target=\"_blank\" href=https://colab.research.google.com/notebooks/data_table.ipynb>data table notebook</a>'\n",
              "            + ' to learn more about interactive tables.';\n",
              "          element.innerHTML = '';\n",
              "          dataTable['output_type'] = 'display_data';\n",
              "          await google.colab.output.renderOutput(dataTable, element);\n",
              "          const docLink = document.createElement('div');\n",
              "          docLink.innerHTML = docLinkHtml;\n",
              "          element.appendChild(docLink);\n",
              "        }\n",
              "      </script>\n",
              "    </div>\n",
              "  </div>\n",
              "  "
            ],
            "text/plain": [
              "   Birth Weight  Gestational Days  Maternal Age  Maternal Height  \\\n",
              "0           120               284            27               62   \n",
              "1           113               282            33               64   \n",
              "2           128               279            28               64   \n",
              "3           108               282            23               67   \n",
              "4           136               286            25               62   \n",
              "\n",
              "   Maternal Pregnancy Weight  Maternal Smoker  \n",
              "0                        100            False  \n",
              "1                        135            False  \n",
              "2                        115             True  \n",
              "3                        125             True  \n",
              "4                         93            False  "
            ]
          },
          "execution_count": 4,
          "metadata": {},
          "output_type": "execute_result"
        }
      ],
      "source": [
        "baby_df = pd.read_csv('/content/baby.csv')\n",
        "print(baby_df.shape)\n",
        "baby_df.head(5)"
      ]
    },
    {
      "cell_type": "markdown",
      "metadata": {
        "id": "cwKUFjpteAvm"
      },
      "source": [
        "Body Mass Index (BMI) is a person’s weight in kilograms divided by the square of height in meters.  BMI can be used to screen for weight categories that may lead to health problems but it is not diagnostic of the health of an individual. It is becoming a less useful measure by itself: [CNet news on BMI](https://www.cnet.com/health/nutrition/your-bmi-doesnt-matter-as-much-as-you-think-heres-why/)\n",
        "\n",
        "Here we will investigate differences in BMI between mothers who smoked and did not."
      ]
    },
    {
      "cell_type": "markdown",
      "metadata": {
        "id": "mOgVGz2WMUAL"
      },
      "source": [
        "**Question 4. (2 pts)** Calculate the BMI for the mothers in this dataset and save it in a variable called `bmi`"
      ]
    },
    {
      "cell_type": "code",
      "execution_count": null,
      "metadata": {
        "id": "t0pLM7-ieAvn"
      },
      "outputs": [],
      "source": [
        "# code here\n"
      ]
    },
    {
      "cell_type": "markdown",
      "metadata": {
        "id": "wP0Cx1H8eAvn"
      },
      "source": [
        "**Question 5. (4 pts)** Generate overlapping histograms of mother BMI for smokers and non-smokers. (You should make 2 histograms: one for smokers and one for non-smokers. These should be drawn on the **same plot** so that they overlap.)\n",
        "\n",
        "Hint: Plot non-smokers first.\n",
        "\n",
        "Interpret the plots.\n"
      ]
    },
    {
      "cell_type": "code",
      "execution_count": null,
      "metadata": {
        "id": "r2DnzdNseAvo"
      },
      "outputs": [],
      "source": [
        "# histograms\n"
      ]
    },
    {
      "cell_type": "markdown",
      "metadata": {
        "id": "ORFFj5YteAvo"
      },
      "source": [
        "*Comment here on the plots:*\n",
        "\n"
      ]
    },
    {
      "cell_type": "markdown",
      "metadata": {
        "id": "GoJtzssvJ8-D"
      },
      "source": [
        "**Question 6. (2 pts)** We want to investigate if the distributions of the BMI in mothers who smoke and mothers who do not smoke are the same.\n",
        "\n",
        "Write the null and alternative hypotheses for this investigation based on the graphs you made above."
      ]
    },
    {
      "cell_type": "markdown",
      "metadata": {
        "id": "vGtI99FVKNrn"
      },
      "source": [
        "**Null Hypothesis:**\n",
        "\n",
        "**Alternative Hypothesis:** T"
      ]
    },
    {
      "cell_type": "markdown",
      "metadata": {
        "id": "0FFBtrMKeAvp"
      },
      "source": [
        "**Question 7. (4 pts)** We will use first the following test statistic: **the difference in BMI sample means** (between smokers and non-smokers).  \n",
        "\n",
        "Write the code that generates a null distribution for this test statistic (using shuffling/permutations) and calculate the p-value associated with this test statistic.\n"
      ]
    },
    {
      "cell_type": "code",
      "execution_count": null,
      "metadata": {
        "id": "_Adb4OlJXJZc"
      },
      "outputs": [],
      "source": [
        "# this cell (or cells if you need more than one) contains the code for generating\n",
        "# the null distribution and the p-value"
      ]
    },
    {
      "cell_type": "markdown",
      "metadata": {
        "id": "sHNDxNvLeAvp"
      },
      "source": [
        "**Question 8. (4 pts)** Repeat what is asked in Question 7 for the following test statistic: **the difference in BMI sample medians**."
      ]
    },
    {
      "cell_type": "code",
      "execution_count": null,
      "metadata": {
        "id": "wxVyYnzEeAvp"
      },
      "outputs": [],
      "source": [
        "# this cell (or cells if you need more than one) contains the code for generating\n",
        "# the null distribution and the p-value\n"
      ]
    },
    {
      "cell_type": "markdown",
      "metadata": {
        "id": "MiTG0JgxeAvq"
      },
      "source": [
        "**Question 9. (4 pts)** Repeat what is asked in Question 7 for the following test statistic: **the difference in BMI sample standard deviations**."
      ]
    },
    {
      "cell_type": "code",
      "execution_count": null,
      "metadata": {
        "id": "M5NvC7FreAvq"
      },
      "outputs": [],
      "source": [
        "# this cell (or cells if you need more than one) contains the code for generating\n",
        "# the null distribution and the p-value\n"
      ]
    },
    {
      "cell_type": "markdown",
      "metadata": {
        "id": "HfEagHJ1eAvq"
      },
      "source": [
        "**Question 10. (3 pts)** Write a very brief discussion on the interpretation of the 3 p-values you calculated."
      ]
    },
    {
      "cell_type": "markdown",
      "metadata": {
        "id": "tAhgDgdIeAvq"
      },
      "source": [
        "*Write your answer here, replacing this text.*\n"
      ]
    },
    {
      "cell_type": "markdown",
      "metadata": {
        "id": "4ceRK0RiMg3m"
      },
      "source": [
        "## 3. Plot the Vote (20 points) ##\n",
        "\n",
        "The presidential election in the US is coming up this year!! Let's celebrate this with a homework question!\n",
        "\n",
        "Four candidates are running for President of Dataland. A polling company surveys 1000 people selected uniformly at random from among voters in Dataland, and it asks each one who they are planning on voting for. After compiling the results, the polling company releases the following proportions from their sample:\n",
        "\n",
        "|Candidate  | Proportion|\n",
        "|:------------:|:------------:|\n",
        "|Candidate A | 0.43 |\n",
        "|Candidate B | 0.35 |\n",
        "|Candidate C | 0.10 |\n",
        "|Candidate D | 0.05 |\n",
        "|Undecided   | 0.07 |\n",
        "\n",
        "These proportions represent a simple random sample of the population of Dataland. We will attempt to estimate the corresponding *population parameters* - the proportions of each kind of voter in the entire population.  We will use confidence intervals to compute a range of values that reflects the uncertainty of our estimate.\n",
        "\n",
        "The table `votes` contains the results of the survey. Candidates are represented by their initials. Undecided voters are denoted by `U`."
      ]
    },
    {
      "cell_type": "code",
      "execution_count": null,
      "metadata": {
        "id": "eYOUZXdoMg3n",
        "outputId": "0fa528d9-b0ef-443d-c5c7-99151df2099e"
      },
      "outputs": [
        {
          "data": {
            "text/html": [
              "<div>\n",
              "<style scoped>\n",
              "    .dataframe tbody tr th:only-of-type {\n",
              "        vertical-align: middle;\n",
              "    }\n",
              "\n",
              "    .dataframe tbody tr th {\n",
              "        vertical-align: top;\n",
              "    }\n",
              "\n",
              "    .dataframe thead th {\n",
              "        text-align: right;\n",
              "    }\n",
              "</style>\n",
              "<table border=\"1\" class=\"dataframe\">\n",
              "  <thead>\n",
              "    <tr style=\"text-align: right;\">\n",
              "      <th></th>\n",
              "      <th>vote</th>\n",
              "    </tr>\n",
              "  </thead>\n",
              "  <tbody>\n",
              "    <tr>\n",
              "      <th>741</th>\n",
              "      <td>B</td>\n",
              "    </tr>\n",
              "    <tr>\n",
              "      <th>514</th>\n",
              "      <td>B</td>\n",
              "    </tr>\n",
              "    <tr>\n",
              "      <th>86</th>\n",
              "      <td>A</td>\n",
              "    </tr>\n",
              "    <tr>\n",
              "      <th>375</th>\n",
              "      <td>A</td>\n",
              "    </tr>\n",
              "    <tr>\n",
              "      <th>619</th>\n",
              "      <td>B</td>\n",
              "    </tr>\n",
              "  </tbody>\n",
              "</table>\n",
              "</div>"
            ],
            "text/plain": [
              "    vote\n",
              "741    B\n",
              "514    B\n",
              "86     A\n",
              "375    A\n",
              "619    B"
            ]
          },
          "execution_count": 26,
          "metadata": {},
          "output_type": "execute_result"
        }
      ],
      "source": [
        "votes = pd.DataFrame({'vote': np.array(['A']*430 + ['B']*350 + ['C']*100 + ['D']*50 + ['U']*70)})\n",
        "num_votes = len(votes)\n",
        "votes.sample(5,replace=True)"
      ]
    },
    {
      "cell_type": "markdown",
      "metadata": {
        "id": "jkJkUKKJMg3n"
      },
      "source": [
        "Below, we have given you code that will use bootstrapped samples to compute estimates of the true proportion of voters who are planning on voting for **Candidate B**."
      ]
    },
    {
      "cell_type": "code",
      "execution_count": null,
      "metadata": {
        "id": "H5Ef5lIbMg3n",
        "outputId": "261ef4ad-7b20-4851-86f2-db845cdc3030"
      },
      "outputs": [
        {
          "data": {
            "image/png": "[encoded data removed]",
            "text/plain": [
              "<Figure size 432x288 with 1 Axes>"
            ]
          },
          "metadata": {},
          "output_type": "display_data"
        }
      ],
      "source": [
        "def proportions_in_resamples(nboot):\n",
        "    statistics = np.array([])\n",
        "    for i in np.arange(nboot):\n",
        "        bootstrap = votes.sample(num_votes,replace=True)\n",
        "        sample_statistic = np.count_nonzero(bootstrap.vote == 'B')/num_votes\n",
        "        statistics = np.append(statistics, sample_statistic)\n",
        "    return statistics\n",
        "\n",
        "sampled_proportions = proportions_in_resamples(5000)\n",
        "\n",
        "plt.hist(sampled_proportions,bins=np.arange(0.2,0.55,0.01))\n",
        "plt.title(\"Estimated Proportion - Bootstrap\")\n",
        "plt.show()"
      ]
    },
    {
      "cell_type": "markdown",
      "metadata": {
        "id": "kLp6LwzzMg3n"
      },
      "source": [
        "**Question 11. (6pts)** Using the array `sampled_proportions`, compute a **basic boostrap 98% confidence interval** for the difference in the true and bootstrapped proportions of voters planning on voting for candidate B."
      ]
    },
    {
      "cell_type": "code",
      "execution_count": null,
      "metadata": {
        "id": "ulYNvwzqMg3n"
      },
      "outputs": [],
      "source": [
        "b_lower_bound = ...\n",
        "b_upper_bound = ...\n",
        "low_ci = ...\n",
        "up_ci = ...\n",
        "print(\"Bootstrapped 98% confidence interval for the proportion of B voters in the population: [{:f}, {:f}]\".format(low_ci, up_ci))"
      ]
    },
    {
      "cell_type": "markdown",
      "metadata": {
        "id": "1TJVXKV1Mg3o"
      },
      "source": [
        "**Question 12. (6pts)** The survey results seem to indicate that Candidate B is losing to Candidate A among voters. We would like to use CI's to determine a range of likely values for Candidate A's true *lead*. Candidate A's lead over Candidate B is:\n",
        "\n",
        "$$\\text{Candidate A's proportion of the vote} - \\text{Candidate B's proportion of the vote}.$$\n",
        "\n",
        "Using the function `proportions_in_resamples` above as a model, use the bootstrap to compute an approximate distribution for Candidate A's lead over Candidate B. Plot a histogram of the the resulting samples.\n",
        "\n",
        "Also calculate a **95% percentile bootstrap confidence interval** for the difference."
      ]
    },
    {
      "cell_type": "code",
      "execution_count": null,
      "metadata": {
        "id": "5Hz6kImEMg3o"
      },
      "outputs": [],
      "source": [
        "# the code for the histogram is here\n",
        "..."
      ]
    },
    {
      "cell_type": "code",
      "execution_count": null,
      "metadata": {
        "id": "j7TRHMNTMg3o"
      },
      "outputs": [],
      "source": [
        "# the bootstrap confidence interval\n",
        "diff_lower_bound = ...\n",
        "diff_upper_bound = ...\n",
        "print(\"Bootstrapped 95% confidence interval for Candidate A's true lead over Candidate B: [{:f}, {:f}]\".format(diff_lower_bound, diff_upper_bound))"
      ]
    },
    {
      "cell_type": "markdown",
      "metadata": {
        "id": "qinNL_SgMg3o"
      },
      "source": [
        "**Question 13. (3pts)** Interpret the 95% interval you obtained. What does it tell you about the lead Candidate A has?\n",
        "\n",
        "*Answer here:*  "
      ]
    },
    {
      "cell_type": "markdown",
      "metadata": {
        "id": "8cyzx0FJXJZg"
      },
      "source": [
        "\n"
      ]
    },
    {
      "cell_type": "code",
      "execution_count": null,
      "metadata": {
        "id": "muzvRJURXJZh"
      },
      "outputs": [],
      "source": []
    },
    {
      "cell_type": "markdown",
      "metadata": {
        "id": "Zjvhrq7YMg3o"
      },
      "source": [
        "**Question 14. (3pts)** Suppose your friend computes the following 99% confidence interval for the proportion of Candidate B voters:\n",
        "\n",
        "$$[.41, .49]$$\n",
        "\n",
        "(If you do this yourself, your answer might be different; that doesn't mean it is wrong.)"
      ]
    },
    {
      "cell_type": "markdown",
      "metadata": {
        "id": "sZIfbDKnMg3o"
      },
      "source": [
        "Can we say that 99% of the population lies in the range $[.41, .49]$? Explain your answer."
      ]
    },
    {
      "cell_type": "markdown",
      "metadata": {
        "id": "xEnNqBiUMg3o"
      },
      "source": [
        "*Write your answer here, replacing this text.*\n"
      ]
    },
    {
      "cell_type": "markdown",
      "metadata": {
        "id": "8J5F4Io-Mg3o"
      },
      "source": [
        "**Question 15. (2pts)** Suppose we produced 10,000 new samples (each one a uniform random sample of 1,000 voters) and created a 99% confidence interval from each one. Roughly how many of those 10,000 intervals do you expect will actually contain the true proportion of the population?"
      ]
    },
    {
      "cell_type": "markdown",
      "metadata": {
        "id": "9jYVV1GgMg3o"
      },
      "source": [
        "*Write your answer here, replacing this text.*"
      ]
    },
    {
      "cell_type": "code",
      "execution_count": null,
      "metadata": {
        "id": "T3WBtPKEXJZi"
      },
      "outputs": [],
      "source": []
    }
  ],
  "metadata": {
    "colab": {
      "provenance": []
    },
    "kernelspec": {
      "display_name": "Python 3 (ipykernel)",
      "language": "python",
      "name": "python3"
    },
    "language_info": {
      "codemirror_mode": {
        "name": "ipython",
        "version": 3
      },
      "file_extension": ".py",
      "mimetype": "text/x-python",
      "name": "python",
      "nbconvert_exporter": "python",
      "pygments_lexer": "ipython3",
      "version": "3.12.1"
    }
  },
  "nbformat": 4,
  "nbformat_minor": 0
}
