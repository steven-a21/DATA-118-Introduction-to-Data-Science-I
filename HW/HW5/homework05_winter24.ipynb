{
 "cells": [
  {
   "cell_type": "markdown",
   "id": "0dae3323",
   "metadata": {
    "id": "0dae3323"
   },
   "source": [
    "# Homework 5: Sampling and Probability (50 points)\n",
    "\n",
    "Please complete this notebook by filling in the cells provided.\n",
    "\n",
    "The solved homework should be uploaded to Gradescope as an .ipynb file. DO NOT put your answers in more than one file or use a different file extension.\n",
    "\n",
    "**<u>Deadline</u>**:\n",
    "\n",
    "This assignment is due on **Friday, February 9** at **11:59pm**. Late work will not be accepted unless it follows the specific policy of the instructor.\n",
    "\n",
    "- Directly sharing answers is not okay, but discussing problems with the course staff or with other students is encouraged.\n",
    "\n",
    "- You should start early so that you have time to get help if you're stuck. Submit your homework 60-30 minutes to ensure that it will upload before the deadline.\n",
    "\n",
    "- Output <u>all</u> code for a question to receive full credit.\n",
    "\n",
    "- Check the file preview on Gradescope to make sure all of your answers are visible. Files should NOT be too large to preview.\n",
    "\n",
    "- **All functions must have a docstring. Your graphs should be labeled with a title, x-label, and y-label and be otherwise readable. Intervals on x- and y-axises should make sense for the data. If these items are missing, points may be taken off.**\n"
   ]
  },
  {
   "cell_type": "code",
   "execution_count": 388,
   "id": "c9363a96",
   "metadata": {
    "id": "c9363a96"
   },
   "outputs": [],
   "source": [
    "import pandas as pd\n",
    "import numpy as np\n",
    "\n",
    "import matplotlib\n",
    "from matplotlib import pyplot as plt"
   ]
  },
  {
   "cell_type": "markdown",
   "id": "dce6a1b8",
   "metadata": {
    "id": "dce6a1b8"
   },
   "source": [
    "## 1.  Earthquakes (10 points)\n",
    "\n",
    "The next cell loads a table containing information about every earthquake above a magnitude of 4.5 in 2020 (prior to the time the file was downloaded on October 30, 2020), compiled by the US Geological Survey. (source: https://earthquake.usgs.gov/earthquakes/search/)"
   ]
  },
  {
   "cell_type": "code",
   "execution_count": 389,
   "id": "5e33f347",
   "metadata": {
    "id": "5e33f347",
    "outputId": "8385adbc-0a1c-449d-cbe6-a5974594cf7b"
   },
   "outputs": [
    {
     "name": "stdout",
     "output_type": "stream",
     "text": [
      "(5402, 3)\n"
     ]
    },
    {
     "data": {
      "text/html": [
       "<div>\n",
       "<style scoped>\n",
       "    .dataframe tbody tr th:only-of-type {\n",
       "        vertical-align: middle;\n",
       "    }\n",
       "\n",
       "    .dataframe tbody tr th {\n",
       "        vertical-align: top;\n",
       "    }\n",
       "\n",
       "    .dataframe thead th {\n",
       "        text-align: right;\n",
       "    }\n",
       "</style>\n",
       "<table border=\"1\" class=\"dataframe\">\n",
       "  <thead>\n",
       "    <tr style=\"text-align: right;\">\n",
       "      <th></th>\n",
       "      <th>time</th>\n",
       "      <th>mag</th>\n",
       "      <th>place</th>\n",
       "    </tr>\n",
       "  </thead>\n",
       "  <tbody>\n",
       "    <tr>\n",
       "      <th>0</th>\n",
       "      <td>2020-10-30T18:24:42.912Z</td>\n",
       "      <td>5.5</td>\n",
       "      <td>50 km NNE of Oxapampa, Peru</td>\n",
       "    </tr>\n",
       "    <tr>\n",
       "      <th>1</th>\n",
       "      <td>2020-10-30T18:01:44.159Z</td>\n",
       "      <td>5.0</td>\n",
       "      <td>86 km WNW of Tari, Papua New Guinea</td>\n",
       "    </tr>\n",
       "    <tr>\n",
       "      <th>2</th>\n",
       "      <td>2020-10-30T15:51:36.039Z</td>\n",
       "      <td>4.6</td>\n",
       "      <td>37 km WSW of Ashkāsham, Afghanistan</td>\n",
       "    </tr>\n",
       "    <tr>\n",
       "      <th>3</th>\n",
       "      <td>2020-10-30T15:14:56.384Z</td>\n",
       "      <td>5.2</td>\n",
       "      <td>8 km NW of Kokkári, Greece</td>\n",
       "    </tr>\n",
       "    <tr>\n",
       "      <th>4</th>\n",
       "      <td>2020-10-30T14:47:02.307Z</td>\n",
       "      <td>4.6</td>\n",
       "      <td>80 km WSW of Kirakira, Solomon Islands</td>\n",
       "    </tr>\n",
       "  </tbody>\n",
       "</table>\n",
       "</div>"
      ],
      "text/plain": [
       "                       time  mag                                   place\n",
       "0  2020-10-30T18:24:42.912Z  5.5             50 km NNE of Oxapampa, Peru\n",
       "1  2020-10-30T18:01:44.159Z  5.0     86 km WNW of Tari, Papua New Guinea\n",
       "2  2020-10-30T15:51:36.039Z  4.6     37 km WSW of Ashkāsham, Afghanistan\n",
       "3  2020-10-30T15:14:56.384Z  5.2              8 km NW of Kokkári, Greece\n",
       "4  2020-10-30T14:47:02.307Z  4.6  80 km WSW of Kirakira, Solomon Islands"
      ]
     },
     "execution_count": 389,
     "metadata": {},
     "output_type": "execute_result"
    }
   ],
   "source": [
    "earthquakes = pd.read_csv('HW5 Data/earthquakes_2020.csv')[['time', 'mag', 'place']]\n",
    "print(earthquakes.shape)\n",
    "earthquakes.head(5)"
   ]
  },
  {
   "cell_type": "markdown",
   "id": "055cbc19",
   "metadata": {
    "id": "055cbc19"
   },
   "source": [
    "This dataset shows all of the earthquakes that occurred in 2020. There are a lot of earthquakes that occured that year that are of interest, and generally, we won't have access to this large population. Instead, if we sample correctly, we can take a small subsample of earthquakes in that year to get an idea about the distribution of magnitudes throughout the year!"
   ]
  },
  {
   "cell_type": "markdown",
   "id": "56e53795",
   "metadata": {},
   "source": [
    "**Question 1. (2pts)** \n",
    "\n",
    "In the following lines of code, we take two different samples from the earthquake data frame, and calculate the mean of the magnitudes of these earthquakes. \n",
    "\n",
    "What specific type(s) of sampling methods was used? Are these samples representative of the population of earthquakes in the original table (that is, should we expect the mean to be close to the population mean)?   Justify your answer and state any assumptions you are making."
   ]
  },
  {
   "cell_type": "code",
   "execution_count": 390,
   "id": "40e8889d",
   "metadata": {},
   "outputs": [
    {
     "data": {
      "text/plain": [
       "[6.359, 4.912000000000001]"
      ]
     },
     "execution_count": 390,
     "metadata": {},
     "output_type": "execute_result"
    }
   ],
   "source": [
    "sample1 = earthquakes.sort_values(by=['mag'], ascending = False).head(100)\n",
    "sample1_magnitude_mean = np.mean(sample1.mag)\n",
    "\n",
    "sample2 = earthquakes.head(100)\n",
    "sample2_magnitude_mean = np.mean(sample2.mag)\n",
    "[sample1_magnitude_mean, sample2_magnitude_mean]"
   ]
  },
  {
   "cell_type": "markdown",
   "id": "919f2155",
   "metadata": {},
   "source": [
    "**Type your response in this cell:** *What type of sampling methods were used? (Look at options from lecture and Lab) Are these samples representative of the population of earthquakes in the original table?*\n"
   ]
  },
  {
   "cell_type": "markdown",
   "id": "50bc2b55",
   "metadata": {},
   "source": [
    "Answer: Sample 1 uses extreme case sampling as it takes the 100 highest magnitude \n",
    "earthquakes. Sample 2 uses convenience sampling since we only sample the 100 most \n",
    "recent earthquakes.\n",
    "\n",
    "Sample 1 is not representative due to high magnitudes. Sample 2 is representative \n",
    "since season does not impact earthquakes (time is irrelevant).\n"
   ]
  },
  {
   "cell_type": "markdown",
   "id": "9ba1d74a",
   "metadata": {},
   "source": [
    "**Question 2. (2pts)** \n",
    "\n",
    "Write code producing a random sample of size 500 that represents the population, then take the mean of the magnitudes of the earthquakes in this sample. Assign these to `representative_sample` and `representative_mean` respectively. Refer to sampling methods for dataframes discussed in class."
   ]
  },
  {
   "cell_type": "code",
   "execution_count": 391,
   "id": "2bee13f3",
   "metadata": {},
   "outputs": [
    {
     "data": {
      "text/plain": [
       "4.807900000000001"
      ]
     },
     "execution_count": 391,
     "metadata": {},
     "output_type": "execute_result"
    }
   ],
   "source": [
    "representative_sample = earthquakes.sample(500, replace=False)\n",
    "representative_sample\n",
    "\n",
    "representative_mean = representative_sample['mag'].mean()\n",
    "representative_mean"
   ]
  },
  {
   "cell_type": "markdown",
   "id": "cd2ce7a2",
   "metadata": {},
   "source": [
    "**Question 3. (3 pts)** \n",
    "\n",
    "Suppose we want to figure out the mean magnitude of the earthquakes in 2020, but we could only use a sample of 500 from our `earthquakes` data.\n",
    "\n",
    "To determine whether using this sample size is a plausible idea, write code that simulates the mean of a random sample of size 500 from `earthquakes`, simulated 5000 times. Assign your array of averages to the variable `means`. Print the average value of `means`\n"
   ]
  },
  {
   "cell_type": "code",
   "execution_count": 392,
   "id": "01137ec5",
   "metadata": {},
   "outputs": [
    {
     "name": "stdout",
     "output_type": "stream",
     "text": [
      "4.804580632\n"
     ]
    }
   ],
   "source": [
    "means = []\n",
    "for i in np.arange(5000):\n",
    "    representative_sample = earthquakes.sample(500, replace=False)\n",
    "    representative_mean = representative_sample['mag'].mean()\n",
    "    means.append(representative_mean)\n",
    "means = np.array(means)\n",
    "means\n",
    "\n",
    "print(means.mean())"
   ]
  },
  {
   "cell_type": "markdown",
   "id": "72b762da",
   "metadata": {},
   "source": [
    "**Question 4. (1 pt)**\n",
    "Plot a histogram of the values in your `means` variable.\n"
   ]
  },
  {
   "cell_type": "code",
   "execution_count": 393,
   "id": "2a617d9a",
   "metadata": {},
   "outputs": [
    {
     "data": {
      "text/plain": [
       "Text(0, 0.5, 'Frequency')"
      ]
     },
     "execution_count": 393,
     "metadata": {},
     "output_type": "execute_result"
    },
    {
     "data": {
      "image/png": "[encoded data removed]",
      "text/plain": [
       "<Figure size 640x480 with 1 Axes>"
      ]
     },
     "metadata": {},
     "output_type": "display_data"
    }
   ],
   "source": [
    "plt.hist(means)\n",
    "plt.xlabel('Mean Magnitude')\n",
    "plt.ylabel('Frequency')"
   ]
  },
  {
   "cell_type": "markdown",
   "id": "ea6c126d",
   "metadata": {},
   "source": [
    "**Question 5. (1 pt)** \n",
    "\n",
    "Find the magnitude of the (actual) strongest earthquake this year to help you determine your answer.\n"
   ]
  },
  {
   "cell_type": "code",
   "execution_count": 394,
   "id": "efdfbdb9",
   "metadata": {},
   "outputs": [
    {
     "data": {
      "text/plain": [
       "7.8"
      ]
     },
     "execution_count": 394,
     "metadata": {},
     "output_type": "execute_result"
    }
   ],
   "source": [
    "strongest_magnitude = earthquakes['mag'].max()\n",
    "strongest_magnitude"
   ]
  },
  {
   "cell_type": "markdown",
   "id": "f98f81d0",
   "metadata": {},
   "source": [
    "**Question 6. (1 pt)** \n",
    "\n",
    "Based on your experiment above, is a single random sample of size 500 likely to help you determine the largest magnitude earthquake in the population?  Why or why not? \n"
   ]
  },
  {
   "cell_type": "markdown",
   "id": "b4473f2c",
   "metadata": {},
   "source": [
    "It is unlikely to help since extreme values may not show up in a random sample\n",
    "unless designed to like in sample1. With the current sampling method, we are more likely to get \n",
    "the max as sample size increases, but it is not guaranteed with a sample of 500."
   ]
  },
  {
   "cell_type": "markdown",
   "id": "cb06d6ac",
   "metadata": {},
   "source": [
    "## 2. Probability and Simulation (11pts)"
   ]
  },
  {
   "cell_type": "markdown",
   "id": "1ae9cdf6",
   "metadata": {},
   "source": [
    "**Question 7: (3pts)** Suppose you toss a coin 5 times in a row and record the total number of heads. How many elements are in the sample space? Write out the sample space. Does each outcome have the same probability? Why or why not?\n"
   ]
  },
  {
   "cell_type": "markdown",
   "id": "1a99f330",
   "metadata": {},
   "source": [
    "S = {0, 1, 2, 3, 4, 5}\n",
    "\n",
    "There are 6 elements in the sample space. They do not have the same probability. \n",
    "Any order in which we record outcomes (e.g HTHHH or TTTTT) each have the same \n",
    "probability, but the number of ways to observe the 5 coin tosses varies across certain counts of Heads. \n",
    "For example, there are more ways to get 1 Head (TTTHT, HTTTT, etc.) than there \n",
    "are to get all 5 heads (HHHHH). Adding the probabilities of each possible order for each count\n",
    "creates variance in probability."
   ]
  },
  {
   "cell_type": "markdown",
   "id": "1bba9963",
   "metadata": {},
   "source": [
    "**Question 8: (2pts)**  Calculate the probability of getting exactly 1 head. Justify your work. "
   ]
  },
  {
   "cell_type": "markdown",
   "id": "ac42c503",
   "metadata": {},
   "source": [
    "We have a binomial distribution with p=0.5 and n=5. \n",
    "$$P(X=1) = {5 \\choose 1}(0.5)^1(0.5)^4 = \\frac{5!}{1! \\space 4!}(0.5)^1(0.5)^4 = 0.15625$$"
   ]
  },
  {
   "cell_type": "code",
   "execution_count": 395,
   "id": "7f78b5a5",
   "metadata": {},
   "outputs": [
    {
     "name": "stderr",
     "output_type": "stream",
     "text": [
      "/var/folders/s_/fr0jyz7s5qv1_648_n3yrj940000gn/T/ipykernel_13172/111834190.py:4: DeprecationWarning: `np.math` is a deprecated alias for the standard library `math` module (Deprecated Numpy 1.25). Replace usages of `np.math` with `math`\n",
      "  n_choose_j = np.math.factorial(n)/(np.math.factorial(j)*np.math.factorial(n-j))\n"
     ]
    },
    {
     "data": {
      "text/plain": [
       "0.15625"
      ]
     },
     "execution_count": 395,
     "metadata": {},
     "output_type": "execute_result"
    }
   ],
   "source": [
    "# Function defined in textbook\n",
    "def binomial_prob(n, p, j):\n",
    "  '''A function that calculates probabilities from a binomial distribution with parameters n and p'''\n",
    "  n_choose_j = np.math.factorial(n)/(np.math.factorial(j)*np.math.factorial(n-j))\n",
    "  return  n_choose_j*p**j*(1-p)**(n-j)\n",
    "\n",
    "binomial_prob(5, 0.5, 1)"
   ]
  },
  {
   "cell_type": "markdown",
   "id": "40e79d8e",
   "metadata": {},
   "source": [
    "**Question 9: (5pts)** **Simulate this experiment and graph your results.** Simulate the above experiment of tossing a fair coin 5 times and recording the number of heads. You repeat this 10,000 times. Graph you resulting outcome with a histogram. (Make sure to label your resulting graph)."
   ]
  },
  {
   "cell_type": "code",
   "execution_count": 396,
   "id": "470d22e1",
   "metadata": {},
   "outputs": [
    {
     "data": {
      "text/plain": [
       "Text(0, 0.5, 'Frequency')"
      ]
     },
     "execution_count": 396,
     "metadata": {},
     "output_type": "execute_result"
    },
    {
     "data": {
      "image/png": "[encoded data removed]",
      "text/plain": [
       "<Figure size 640x480 with 1 Axes>"
      ]
     },
     "metadata": {},
     "output_type": "display_data"
    }
   ],
   "source": [
    "coin = np.array(['Heads', 'Tails'])\n",
    "outcomes = []\n",
    "\n",
    "for i in range(10000):\n",
    "    num_heads = np.random.choice(coin, 5).tolist().count('Heads')\n",
    "    outcomes.append(num_heads)\n",
    "    \n",
    "plt.hist(outcomes, bins=5)\n",
    "plt.xlabel('Number of Heads')\n",
    "plt.ylabel('Frequency')"
   ]
  },
  {
   "cell_type": "markdown",
   "id": "b2c99543",
   "metadata": {},
   "source": [
    "**Question 10: (1pt)** Based on your experiment above. What was the probability of getting exactly 1 heads? (Use your data to find the empirical probability of getting exactly 1 head)."
   ]
  },
  {
   "cell_type": "code",
   "execution_count": 397,
   "id": "633f40e2",
   "metadata": {},
   "outputs": [
    {
     "data": {
      "text/plain": [
       "0.1585"
      ]
     },
     "execution_count": 397,
     "metadata": {},
     "output_type": "execute_result"
    }
   ],
   "source": [
    "prob_one_head = outcomes.count(1) / 10000\n",
    "prob_one_head"
   ]
  },
  {
   "cell_type": "markdown",
   "id": "c67c5c4e",
   "metadata": {},
   "source": [
    "## 3. Probability on a DataFrame (8pts)"
   ]
  },
  {
   "cell_type": "markdown",
   "id": "f6767b56",
   "metadata": {},
   "source": [
    "Now we will investigate probabilities and conditional probabilities on the Titanic data! It will be useful to write out what you want to compute before starting immediately with the code."
   ]
  },
  {
   "cell_type": "code",
   "execution_count": 398,
   "id": "b413f2f5",
   "metadata": {},
   "outputs": [
    {
     "data": {
      "text/html": [
       "<div>\n",
       "<style scoped>\n",
       "    .dataframe tbody tr th:only-of-type {\n",
       "        vertical-align: middle;\n",
       "    }\n",
       "\n",
       "    .dataframe tbody tr th {\n",
       "        vertical-align: top;\n",
       "    }\n",
       "\n",
       "    .dataframe thead th {\n",
       "        text-align: right;\n",
       "    }\n",
       "</style>\n",
       "<table border=\"1\" class=\"dataframe\">\n",
       "  <thead>\n",
       "    <tr style=\"text-align: right;\">\n",
       "      <th></th>\n",
       "      <th>PassengerId</th>\n",
       "      <th>Survived</th>\n",
       "      <th>Pclass</th>\n",
       "      <th>Name</th>\n",
       "      <th>Sex</th>\n",
       "      <th>Age</th>\n",
       "      <th>SibSp</th>\n",
       "      <th>Parch</th>\n",
       "      <th>Ticket</th>\n",
       "      <th>Fare</th>\n",
       "      <th>Cabin</th>\n",
       "      <th>Embarked</th>\n",
       "    </tr>\n",
       "  </thead>\n",
       "  <tbody>\n",
       "    <tr>\n",
       "      <th>0</th>\n",
       "      <td>1</td>\n",
       "      <td>0</td>\n",
       "      <td>3</td>\n",
       "      <td>Braund, Mr. Owen Harris</td>\n",
       "      <td>male</td>\n",
       "      <td>22.0</td>\n",
       "      <td>1</td>\n",
       "      <td>0</td>\n",
       "      <td>A/5 21171</td>\n",
       "      <td>7.2500</td>\n",
       "      <td>NaN</td>\n",
       "      <td>S</td>\n",
       "    </tr>\n",
       "    <tr>\n",
       "      <th>1</th>\n",
       "      <td>2</td>\n",
       "      <td>1</td>\n",
       "      <td>1</td>\n",
       "      <td>Cumings, Mrs. John Bradley (Florence Briggs Th...</td>\n",
       "      <td>female</td>\n",
       "      <td>38.0</td>\n",
       "      <td>1</td>\n",
       "      <td>0</td>\n",
       "      <td>PC 17599</td>\n",
       "      <td>71.2833</td>\n",
       "      <td>C85</td>\n",
       "      <td>C</td>\n",
       "    </tr>\n",
       "    <tr>\n",
       "      <th>2</th>\n",
       "      <td>3</td>\n",
       "      <td>1</td>\n",
       "      <td>3</td>\n",
       "      <td>Heikkinen, Miss. Laina</td>\n",
       "      <td>female</td>\n",
       "      <td>26.0</td>\n",
       "      <td>0</td>\n",
       "      <td>0</td>\n",
       "      <td>STON/O2. 3101282</td>\n",
       "      <td>7.9250</td>\n",
       "      <td>NaN</td>\n",
       "      <td>S</td>\n",
       "    </tr>\n",
       "    <tr>\n",
       "      <th>3</th>\n",
       "      <td>4</td>\n",
       "      <td>1</td>\n",
       "      <td>1</td>\n",
       "      <td>Futrelle, Mrs. Jacques Heath (Lily May Peel)</td>\n",
       "      <td>female</td>\n",
       "      <td>35.0</td>\n",
       "      <td>1</td>\n",
       "      <td>0</td>\n",
       "      <td>113803</td>\n",
       "      <td>53.1000</td>\n",
       "      <td>C123</td>\n",
       "      <td>S</td>\n",
       "    </tr>\n",
       "    <tr>\n",
       "      <th>4</th>\n",
       "      <td>5</td>\n",
       "      <td>0</td>\n",
       "      <td>3</td>\n",
       "      <td>Allen, Mr. William Henry</td>\n",
       "      <td>male</td>\n",
       "      <td>35.0</td>\n",
       "      <td>0</td>\n",
       "      <td>0</td>\n",
       "      <td>373450</td>\n",
       "      <td>8.0500</td>\n",
       "      <td>NaN</td>\n",
       "      <td>S</td>\n",
       "    </tr>\n",
       "    <tr>\n",
       "      <th>...</th>\n",
       "      <td>...</td>\n",
       "      <td>...</td>\n",
       "      <td>...</td>\n",
       "      <td>...</td>\n",
       "      <td>...</td>\n",
       "      <td>...</td>\n",
       "      <td>...</td>\n",
       "      <td>...</td>\n",
       "      <td>...</td>\n",
       "      <td>...</td>\n",
       "      <td>...</td>\n",
       "      <td>...</td>\n",
       "    </tr>\n",
       "    <tr>\n",
       "      <th>886</th>\n",
       "      <td>887</td>\n",
       "      <td>0</td>\n",
       "      <td>2</td>\n",
       "      <td>Montvila, Rev. Juozas</td>\n",
       "      <td>male</td>\n",
       "      <td>27.0</td>\n",
       "      <td>0</td>\n",
       "      <td>0</td>\n",
       "      <td>211536</td>\n",
       "      <td>13.0000</td>\n",
       "      <td>NaN</td>\n",
       "      <td>S</td>\n",
       "    </tr>\n",
       "    <tr>\n",
       "      <th>887</th>\n",
       "      <td>888</td>\n",
       "      <td>1</td>\n",
       "      <td>1</td>\n",
       "      <td>Graham, Miss. Margaret Edith</td>\n",
       "      <td>female</td>\n",
       "      <td>19.0</td>\n",
       "      <td>0</td>\n",
       "      <td>0</td>\n",
       "      <td>112053</td>\n",
       "      <td>30.0000</td>\n",
       "      <td>B42</td>\n",
       "      <td>S</td>\n",
       "    </tr>\n",
       "    <tr>\n",
       "      <th>888</th>\n",
       "      <td>889</td>\n",
       "      <td>0</td>\n",
       "      <td>3</td>\n",
       "      <td>Johnston, Miss. Catherine Helen \"Carrie\"</td>\n",
       "      <td>female</td>\n",
       "      <td>NaN</td>\n",
       "      <td>1</td>\n",
       "      <td>2</td>\n",
       "      <td>W./C. 6607</td>\n",
       "      <td>23.4500</td>\n",
       "      <td>NaN</td>\n",
       "      <td>S</td>\n",
       "    </tr>\n",
       "    <tr>\n",
       "      <th>889</th>\n",
       "      <td>890</td>\n",
       "      <td>1</td>\n",
       "      <td>1</td>\n",
       "      <td>Behr, Mr. Karl Howell</td>\n",
       "      <td>male</td>\n",
       "      <td>26.0</td>\n",
       "      <td>0</td>\n",
       "      <td>0</td>\n",
       "      <td>111369</td>\n",
       "      <td>30.0000</td>\n",
       "      <td>C148</td>\n",
       "      <td>C</td>\n",
       "    </tr>\n",
       "    <tr>\n",
       "      <th>890</th>\n",
       "      <td>891</td>\n",
       "      <td>0</td>\n",
       "      <td>3</td>\n",
       "      <td>Dooley, Mr. Patrick</td>\n",
       "      <td>male</td>\n",
       "      <td>32.0</td>\n",
       "      <td>0</td>\n",
       "      <td>0</td>\n",
       "      <td>370376</td>\n",
       "      <td>7.7500</td>\n",
       "      <td>NaN</td>\n",
       "      <td>Q</td>\n",
       "    </tr>\n",
       "  </tbody>\n",
       "</table>\n",
       "<p>891 rows × 12 columns</p>\n",
       "</div>"
      ],
      "text/plain": [
       "     PassengerId  Survived  Pclass  \\\n",
       "0              1         0       3   \n",
       "1              2         1       1   \n",
       "2              3         1       3   \n",
       "3              4         1       1   \n",
       "4              5         0       3   \n",
       "..           ...       ...     ...   \n",
       "886          887         0       2   \n",
       "887          888         1       1   \n",
       "888          889         0       3   \n",
       "889          890         1       1   \n",
       "890          891         0       3   \n",
       "\n",
       "                                                  Name     Sex   Age  SibSp  \\\n",
       "0                              Braund, Mr. Owen Harris    male  22.0      1   \n",
       "1    Cumings, Mrs. John Bradley (Florence Briggs Th...  female  38.0      1   \n",
       "2                               Heikkinen, Miss. Laina  female  26.0      0   \n",
       "3         Futrelle, Mrs. Jacques Heath (Lily May Peel)  female  35.0      1   \n",
       "4                             Allen, Mr. William Henry    male  35.0      0   \n",
       "..                                                 ...     ...   ...    ...   \n",
       "886                              Montvila, Rev. Juozas    male  27.0      0   \n",
       "887                       Graham, Miss. Margaret Edith  female  19.0      0   \n",
       "888           Johnston, Miss. Catherine Helen \"Carrie\"  female   NaN      1   \n",
       "889                              Behr, Mr. Karl Howell    male  26.0      0   \n",
       "890                                Dooley, Mr. Patrick    male  32.0      0   \n",
       "\n",
       "     Parch            Ticket     Fare Cabin Embarked  \n",
       "0        0         A/5 21171   7.2500   NaN        S  \n",
       "1        0          PC 17599  71.2833   C85        C  \n",
       "2        0  STON/O2. 3101282   7.9250   NaN        S  \n",
       "3        0            113803  53.1000  C123        S  \n",
       "4        0            373450   8.0500   NaN        S  \n",
       "..     ...               ...      ...   ...      ...  \n",
       "886      0            211536  13.0000   NaN        S  \n",
       "887      0            112053  30.0000   B42        S  \n",
       "888      2        W./C. 6607  23.4500   NaN        S  \n",
       "889      0            111369  30.0000  C148        C  \n",
       "890      0            370376   7.7500   NaN        Q  \n",
       "\n",
       "[891 rows x 12 columns]"
      ]
     },
     "execution_count": 398,
     "metadata": {},
     "output_type": "execute_result"
    }
   ],
   "source": [
    "titanic = pd.read_csv(\"HW5 Data/titanic.csv\")\n",
    "titanic"
   ]
  },
  {
   "cell_type": "markdown",
   "id": "1af29e12",
   "metadata": {},
   "source": [
    "**Question 11: (2 pts)** Suppose we choose a passenger at random from the given dataset. What is the probability the passenger is from class 1 (Pclass=1)?"
   ]
  },
  {
   "cell_type": "code",
   "execution_count": 399,
   "id": "daff347c",
   "metadata": {},
   "outputs": [
    {
     "data": {
      "text/plain": [
       "0.24242424242424243"
      ]
     },
     "execution_count": 399,
     "metadata": {},
     "output_type": "execute_result"
    }
   ],
   "source": [
    "prob_first_class = len(titanic.loc[titanic['Pclass'] == 1]) / len(titanic)\n",
    "prob_first_class"
   ]
  },
  {
   "cell_type": "markdown",
   "id": "a08841fc",
   "metadata": {},
   "source": [
    "Suppose we choose a passenger at random from the data... compute the following."
   ]
  },
  {
   "cell_type": "markdown",
   "id": "07464a6a",
   "metadata": {},
   "source": [
    "**Question 12: (2 pts)**  What is the probability they survive given they are female?"
   ]
  },
  {
   "cell_type": "code",
   "execution_count": 400,
   "id": "f4b00e8e",
   "metadata": {},
   "outputs": [
    {
     "data": {
      "text/plain": [
       "0.7420382165605095"
      ]
     },
     "execution_count": 400,
     "metadata": {},
     "output_type": "execute_result"
    }
   ],
   "source": [
    "num_female = len(titanic.loc[titanic['Sex'] == 'female'])\n",
    "num_survived_female = len(titanic.loc[(titanic['Sex'] == 'female') & (titanic['Survived'] == 1)])\n",
    "\n",
    "prob_suvived_given_female = survived_female / female\n",
    "prob_suvived_given_female"
   ]
  },
  {
   "cell_type": "markdown",
   "id": "cd72db6e",
   "metadata": {},
   "source": [
    "**Question 13: (2 pts)** What is the probability they are in class 1 given they are in paid more than 30 units in Fare?"
   ]
  },
  {
   "cell_type": "code",
   "execution_count": 401,
   "id": "3f3fa473",
   "metadata": {},
   "outputs": [
    {
     "data": {
      "text/plain": [
       "0.2408675799086758"
      ]
     },
     "execution_count": 401,
     "metadata": {},
     "output_type": "execute_result"
    }
   ],
   "source": [
    "paid_thirty = titanic.loc[titanic['Fare'] > 1]\n",
    "paid_thirty_first_class = titanic.loc[(titanic['Pclass'] == 1) & (titanic['Fare'] > 1)]\n",
    "\n",
    "prob_first_class_given_thirty = len(paid_thirty_first_class)/len(paid_thirty)\n",
    "prob_first_class_given_thirty"
   ]
  },
  {
   "cell_type": "markdown",
   "id": "6aae55a3",
   "metadata": {},
   "source": [
    "**Question 14: (2pts)** What is the probability they survive given they are in class 1 and female?"
   ]
  },
  {
   "cell_type": "code",
   "execution_count": 402,
   "id": "1f29f88e",
   "metadata": {},
   "outputs": [
    {
     "data": {
      "text/plain": [
       "0.9680851063829787"
      ]
     },
     "execution_count": 402,
     "metadata": {},
     "output_type": "execute_result"
    }
   ],
   "source": [
    "first_class_female = titanic.loc[(titanic['Sex'] =='female') & (titanic['Pclass'] == 1)]\n",
    "survived_female_first_class = first_class_female.loc[first_class_female['Survived'] == 1]\n",
    "\n",
    "prob_surv_given_female_first = len(survived_female_first_class) / len(first_class_female)\n",
    "prob_surv_given_female_first\n",
    "    \n",
    "                                 "
   ]
  },
  {
   "cell_type": "markdown",
   "id": "fd1ef18a",
   "metadata": {
    "id": "fd1ef18a"
   },
   "source": [
    "## 4. Card Deck (21 points) ##\n",
    "\n",
    "This problem is about simulating blackjack hands (rules explained below) with simple rules for when the player asks for more cards and when the player \"stands\" (i.e. doesn't ask for more cards).\n",
    "\n",
    "Cards are drawn without replacement from a deck of 52 cards:\n",
    "\n",
    "A photo of a standard deck of cards is shown for your reference:\n",
    "\n",
    "<img align=\"left\" src=\"https://upload.wikimedia.org/wikipedia/commons/thumb/8/81/English_pattern_playing_cards_deck.svg/1599px-English_pattern_playing_cards_deck.svg.png?20170224191528\" width=\"75%\"/>\n",
    "\n",
    "    \n",
    "    \n"
   ]
  },
  {
   "cell_type": "markdown",
   "id": "cK5y9fHgDych",
   "metadata": {
    "id": "cK5y9fHgDych"
   },
   "source": [
    "The 52-card deck includes 13 ranks (card numbers or faces) of four suits: clubs (♣), diamonds (♦), hearts (♥) and spades (♠).\n",
    "\n",
    "The numbered cards 2-10 have values 2-10, the cards Jack, Queen, and King have value 10, and the card 1, called Ace, can have the value 1 or the value 11, whichever is more advantageous to the player.\n",
    "\n",
    "Blackjack is a card game played against the dealer where the object of the game is to have a hand with a total value higher than the dealer's without going over a score of 21.\n",
    "\n",
    "For more information see:\n",
    "\n",
    "https://en.wikipedia.org/wiki/Blackjack\n"
   ]
  },
  {
   "cell_type": "markdown",
   "id": "6f9036fd",
   "metadata": {
    "id": "6f9036fd"
   },
   "source": [
    "**Question 15. (2 pts)**\n",
    "\n",
    "Write a function that creates symbols in <u>string</u> format for each of the cards in a deck of cards. (The collection of symbols will be the \"deck\"--to keep track of what cards have been used and not-yet-used for sampling without replacement.)\n",
    "\n",
    "Use this function to create a variable called `string_deck` that corresponds to each card in a standard deck. In other words, your variable should be a list of 52 items, where each item is a string that corresponds to the specific <u>rank</u> and <u>suit</u> of the card. Call for `string_deck` to display the result.\n",
    "\n",
    "You will want to use these characters:  \"♣\",\"♦\",\"♥\",\"♠\", to represent suits. You can copy and paste them from this question."
   ]
  },
  {
   "cell_type": "code",
   "execution_count": 403,
   "id": "8d11a087",
   "metadata": {
    "id": "8d11a087"
   },
   "outputs": [
    {
     "data": {
      "text/plain": [
       "['A♣',\n",
       " '2♣',\n",
       " '3♣',\n",
       " '4♣',\n",
       " '5♣',\n",
       " '6♣',\n",
       " '7♣',\n",
       " '8♣',\n",
       " '9♣',\n",
       " '10♣',\n",
       " 'J♣',\n",
       " 'Q♣',\n",
       " 'K♣',\n",
       " 'A♦',\n",
       " '2♦',\n",
       " '3♦',\n",
       " '4♦',\n",
       " '5♦',\n",
       " '6♦',\n",
       " '7♦',\n",
       " '8♦',\n",
       " '9♦',\n",
       " '10♦',\n",
       " 'J♦',\n",
       " 'Q♦',\n",
       " 'K♦',\n",
       " 'A♥',\n",
       " '2♥',\n",
       " '3♥',\n",
       " '4♥',\n",
       " '5♥',\n",
       " '6♥',\n",
       " '7♥',\n",
       " '8♥',\n",
       " '9♥',\n",
       " '10♥',\n",
       " 'J♥',\n",
       " 'Q♥',\n",
       " 'K♥',\n",
       " 'A♠',\n",
       " '2♠',\n",
       " '3♠',\n",
       " '4♠',\n",
       " '5♠',\n",
       " '6♠',\n",
       " '7♠',\n",
       " '8♠',\n",
       " '9♠',\n",
       " '10♠',\n",
       " 'J♠',\n",
       " 'Q♠',\n",
       " 'K♠']"
      ]
     },
     "execution_count": 403,
     "metadata": {},
     "output_type": "execute_result"
    }
   ],
   "source": [
    "def deck():\n",
    "    \"Create a deck of cards as a list\"\n",
    "    suits = ['♣', '♦', '♥', '♠']\n",
    "    ranks = ['A', '2', '3', '4', '5', '6', '7', '8', '9', '10', 'J', 'Q', 'K']\n",
    "    deck = []\n",
    "    for suit in suits:\n",
    "        for rank in ranks:\n",
    "            deck.append(rank + suit)\n",
    "    return deck\n",
    "\n",
    "string_deck = deck()\n",
    "string_deck"
   ]
  },
  {
   "cell_type": "markdown",
   "id": "0840376f",
   "metadata": {
    "id": "0840376f"
   },
   "source": [
    "**Question 16. (2 pts)**\n",
    "\n",
    "Suppose you draw two cards (without replacement). What is the probability of both of the cards you draw being Queens? Show your work mathematically and print/call for your answer."
   ]
  },
  {
   "cell_type": "code",
   "execution_count": 404,
   "id": "63dad4e2",
   "metadata": {
    "id": "63dad4e2"
   },
   "outputs": [
    {
     "name": "stdout",
     "output_type": "stream",
     "text": [
      "0.004524886877828055\n"
     ]
    }
   ],
   "source": [
    "prob_both_queens = (4/52) * (3/51)\n",
    "print(prob_both_queens)"
   ]
  },
  {
   "cell_type": "markdown",
   "id": "4f3bc650",
   "metadata": {
    "id": "4f3bc650"
   },
   "source": [
    "**Question 17. (3 pts)**\n",
    "\n",
    "Create some code that simulates this scenario 10000 times. Use this to check your answer to Question 16. Print/call for the final probability."
   ]
  },
  {
   "cell_type": "code",
   "execution_count": 405,
   "id": "fd9c652c",
   "metadata": {},
   "outputs": [
    {
     "name": "stdout",
     "output_type": "stream",
     "text": [
      "0.0\n"
     ]
    }
   ],
   "source": [
    "num_double_queens = 0\n",
    "for i in range(10000):\n",
    "    draw = np.random.choice(string_deck, 2, replace=False).tolist()\n",
    "    if draw.count('Q') == 2:\n",
    "        num_double_queens += 1\n",
    "\n",
    "print(num_double_queens / 10000)\n"
   ]
  },
  {
   "cell_type": "markdown",
   "id": "53d47fbb",
   "metadata": {
    "id": "53d47fbb"
   },
   "source": [
    "**Question 18. (2 pt)**\n",
    "\n",
    "Now, back to blackjack. If the first card you draw is a 10, what is the probability that a second card will bring your point total to 20? Note, in blackjack cards are drawn without replacement.\n",
    "\n",
    "Show your work mathematically and print/call for your answer."
   ]
  },
  {
   "cell_type": "code",
   "execution_count": 406,
   "id": "19d3581d",
   "metadata": {
    "id": "19d3581d"
   },
   "outputs": [
    {
     "name": "stdout",
     "output_type": "stream",
     "text": [
      "0.29411764705882354\n"
     ]
    }
   ],
   "source": [
    "conditional_probability = (16/52 * 15/51) / (16/52)\n",
    "print(conditional_probability)"
   ]
  },
  {
   "cell_type": "code",
   "execution_count": null,
   "metadata": {},
   "outputs": [],
   "source": []
  },
  {
   "cell_type": "markdown",
   "id": "9SBDGHKkGYjM",
   "metadata": {
    "id": "9SBDGHKkGYjM"
   },
   "source": [
    "**Question 19. (5 pts)**\n",
    "\n",
    "Write a function `points` that counts the point values for a hand of cards in blackjack.\n",
    "\n",
    "Remember Ace's are assigned a value of 11 unless that would make the total score go over 21, in which case they are assigned a value of 1.\n",
    "\n",
    "HINT: It might be useful to assume a value of 1 initially for Ace's, and adjust at the end."
   ]
  },
  {
   "cell_type": "code",
   "execution_count": 454,
   "id": "XsZeRKLYGW99",
   "metadata": {
    "id": "XsZeRKLYGW99"
   },
   "outputs": [],
   "source": [
    "#The following dictionary might be helpful, feel free to change this if you defined your deck differently\n",
    "values = {\"A\":11,\"2\":2,\"3\":3,\"4\":4,\"5\":5,\"6\":6,\"7\":7,\"8\":8,\"9\":9,\"10\":10,\"J\":10,\"Q\":10,\"K\":10}\n",
    "\n",
    "def points(cards):\n",
    "    \"\"\"\n",
    "    Assign point value to Blackjack deck and while choosing Ace value to optimize\n",
    "    outcome\n",
    "    \"\"\"\n",
    "    hand_score = 0\n",
    "    for card in cards:\n",
    "        card = card.replace('♣',\"\").replace('♦', \"\").replace('♥', \"\").replace('♠', \"\")\n",
    "        hand_score += values[card]\n",
    "        if hand_score > 21 and card == 'A':\n",
    "            hand_score -= 10\n",
    "    return hand_score\n",
    "\n",
    "\n"
   ]
  },
  {
   "cell_type": "code",
   "execution_count": 456,
   "id": "tJ8Pg8PuGhHC",
   "metadata": {
    "id": "tJ8Pg8PuGhHC"
   },
   "outputs": [
    {
     "data": {
      "text/plain": [
       "(True, True, True, True, True, True)"
      ]
     },
     "execution_count": 456,
     "metadata": {},
     "output_type": "execute_result"
    }
   ],
   "source": [
    "# Here are a handful of test cases, which should all be True:\n",
    "( points(['5♦']) == 5,\n",
    "  points(['A♦', 'A♣', 'A♠', 'A♦']) == 14,\n",
    "  points(['J♦', 'A♣'] ) == 21,\n",
    "  points(['5♦', '4♦', 'A♣'] ) == 20,\n",
    "  points(['K♦', 'Q♦', 'A♣'] ) == 21,\n",
    "  points(['5♣', 'K♦']) == 15)\n",
    " "
   ]
  },
  {
   "cell_type": "markdown",
   "id": "SQxmWU8dGz1p",
   "metadata": {
    "id": "SQxmWU8dGz1p"
   },
   "source": [
    "**Question 20.** (**5 pts**)\n",
    "\n",
    "In blackjack, the dealer must draw until they get a hand worth at least 17 points.\n",
    "\n",
    "Write a function `drawhand()` to draw a hand of blackjack, adding cards until the (most advantageous) total number of points is at least 17.  `drawhand` should return the point value of the hand and a list containing the cards in the hand.\n",
    "\n",
    "Hint1: `return(arg1, arg2)` is the syntax used to return 2 things from a function\n",
    "\n",
    "Hint2: For this question, a different type of \"loop\" called a while loop might be useful. Here are two examples:"
   ]
  },
  {
   "cell_type": "code",
   "execution_count": 457,
   "id": "02e88sLPPHwO",
   "metadata": {
    "colab": {
     "base_uri": "https://localhost:8080/"
    },
    "id": "02e88sLPPHwO",
    "outputId": "293efebc-a9a2-4fbf-b13e-a1dbfac8254e"
   },
   "outputs": [
    {
     "name": "stdout",
     "output_type": "stream",
     "text": [
      "0\n",
      "1\n",
      "2\n",
      "3\n",
      "4\n",
      "5\n",
      "6\n",
      "7\n",
      "8\n",
      "9\n"
     ]
    }
   ],
   "source": [
    "x = 0\n",
    "while x < 10: # while this condition is true...\n",
    "    print(x) #...do what is indented\n",
    "    x = x+1"
   ]
  },
  {
   "cell_type": "code",
   "execution_count": 458,
   "id": "9f61e48e",
   "metadata": {},
   "outputs": [
    {
     "name": "stdout",
     "output_type": "stream",
     "text": [
      "[1]\n",
      "sum: 1\n",
      "[1, 3]\n",
      "sum: 4\n",
      "[1, 3, 5]\n",
      "sum: 9\n",
      "[1, 3, 5, 7]\n",
      "sum: 16\n"
     ]
    }
   ],
   "source": [
    "index = 0    \n",
    "my_list = [1,3,5,7,6,12]\n",
    "while sum(my_list[0:index]) < 15:\n",
    "    index = index + 1\n",
    "    print(my_list[0:index])\n",
    "    print('sum: ' + str(sum(my_list[0:index])) )"
   ]
  },
  {
   "cell_type": "code",
   "execution_count": 461,
   "id": "MGDiYLduG0bh",
   "metadata": {
    "id": "MGDiYLduG0bh"
   },
   "outputs": [
    {
     "data": {
      "text/plain": [
       "(18, ['2♣', '6♠', 'Q♥'])"
      ]
     },
     "execution_count": 461,
     "metadata": {},
     "output_type": "execute_result"
    }
   ],
   "source": [
    "def drawhand():\n",
    "    \"\"\"Draws a hand of blackjack until number of points reaches at least 17\n",
    "    Returns [tuple[int, lst]]: \n",
    "    \"\"\"\n",
    "    deck_of_cards = deck()\n",
    "    hand = []\n",
    "    while points(hand) <= 17:\n",
    "        card = np.random.choice(deck_of_cards,replace=False)\n",
    "        hand.append(card)\n",
    "        deck_of_cards.remove(card)\n",
    "    return points(hand), hand\n",
    "\n",
    "drawhand()"
   ]
  },
  {
   "cell_type": "code",
   "execution_count": 462,
   "id": "e634f203",
   "metadata": {},
   "outputs": [
    {
     "data": {
      "text/plain": [
       "0"
      ]
     },
     "execution_count": 462,
     "metadata": {},
     "output_type": "execute_result"
    }
   ],
   "source": [
    "# Test for any values < 17\n",
    "num_error = 0\n",
    "for _ in range(10000):\n",
    "    score, hand = drawhand()\n",
    "    if score < 17:\n",
    "        num_error += 1\n",
    "num_error"
   ]
  },
  {
   "cell_type": "markdown",
   "id": "G-wEW2gwHh1D",
   "metadata": {
    "id": "G-wEW2gwHh1D"
   },
   "source": [
    "**Question 21.  (2 pts)**\n",
    "\n",
    "Using the function you wrote in Question 20, estimate the probability the dealer draws a hand that \"busts\", meaning the dealer's hand exceeds 21 points.\n",
    "\n",
    "Hint: `var1, var2 = function(arg)` is the syntax used to define 2 variables using a function that returns 2 things"
   ]
  },
  {
   "cell_type": "code",
   "execution_count": 451,
   "id": "X7AsoriKHjwA",
   "metadata": {
    "id": "X7AsoriKHjwA"
   },
   "outputs": [
    {
     "data": {
      "text/plain": [
       "0.3881"
      ]
     },
     "execution_count": 451,
     "metadata": {},
     "output_type": "execute_result"
    }
   ],
   "source": [
    "num_busts = 0\n",
    "for _ in range(10000):\n",
    "    score, hand = drawhand()\n",
    "    if score > 21:\n",
    "        num_busts += 1\n",
    "\n",
    "bust_probability = num_busts / 10000\n",
    "bust_probability"
   ]
  }
 ],
 "metadata": {
  "colab": {
   "provenance": []
  },
  "kernelspec": {
   "display_name": "Python 3 (ipykernel)",
   "language": "python",
   "name": "python3"
  },
  "language_info": {
   "codemirror_mode": {
    "name": "ipython",
    "version": 3
   },
   "file_extension": ".py",
   "mimetype": "text/x-python",
   "name": "python",
   "nbconvert_exporter": "python",
   "pygments_lexer": "ipython3",
   "version": "3.12.0"
  }
 },
 "nbformat": 4,
 "nbformat_minor": 5
}
