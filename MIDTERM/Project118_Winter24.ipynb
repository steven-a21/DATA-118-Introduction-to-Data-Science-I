{
 "cells": [
  {
   "cell_type": "code",
   "execution_count": 2,
   "metadata": {
    "id": "7dZbT3ijl0Qh"
   },
   "outputs": [],
   "source": [
    "import numpy as np\n",
    "import pandas as pd\n",
    "\n",
    "%matplotlib inline\n",
    "import matplotlib.pyplot as plt\n",
    "plt.style.use('fivethirtyeight')\n",
    "import warnings\n",
    "warnings.simplefilter('ignore', FutureWarning)"
   ]
  },
  {
   "cell_type": "markdown",
   "metadata": {
    "id": "RdiytFTml0Ql"
   },
   "source": [
    "## Midterm Project for DATA 11800 - Winter 2024 (Due Feb. 16th)\n",
    "\n",
    "This is not a group project. You may discuss the project with other students but you should code and write the report independently. You should acknowledge any help in writing (including any use of generative AI). The score will be based on:\n",
    "-  Clarity and soundness of the arguments and conclusions;\n",
    "-  Use of data to back up arguments and analysis quality;  \n",
    "-  Insightfulness of the results;\n",
    "-  Quality of the data vizualizations, summaries used, and overall presentation. Make sure you use headings, captions for figures and tables etc. When you interpret a graph or data from a table, you should clearly specify which figure/table you refer to.\n",
    "\n",
    "\n",
    "### The Data\n",
    "\n",
    "The data you will be exploring in this project comes from \"Monitoring the Future: A Continuing Study of American Youth\", \n",
    "\n",
    "*\"This survey of 12th-grade students is part of a series that explores changes in important values, behaviors, and lifestyle orientations of contemporary American youth. Students are randomly assigned to complete one of six questionnaires, each with a different subset of topical questions, but all containing a set of \"core\" questions on demographics and drug use.\"*\n",
    "\n",
    "The data can be downloaded from the link below\n",
    "https://www.icpsr.umich.edu/web/ICPSR/studies/38882\n",
    "\n",
    "Click on 'Download' and then 'Delimited'.\n",
    "\n",
    "You will have to make an account and agree to the corresponding terms and conditions to have access to the data. Note you will get a folder called \"ICPSR_38882\". This folder contains the codebook that describes the study and the variables in detail. This folder is also how you will get the data itself.\n",
    "\n",
    "We put together a smaller list of variables and their column names and descriptions available on the canvas midterm assignment. The variables in the excel sheet are a subset of the entire data, but if your interests lie in exploring the full dataset, or you want to explore different variables, you are not limited to just the variables in the short list.\n",
    "\n",
    "\n",
    "You can (but are not required to) use any additional data you can find to get insight into this issue, but you need to specify the provenance of that data in your report. For example, this is part of an ongoing study, so you could look at the data from past years.\n"
   ]
  },
  {
   "cell_type": "markdown",
   "metadata": {
    "id": "Tl4X-SRBl0Qn"
   },
   "source": [
    "### The Assignment\n",
    "\n",
    "#### Report on your findings about High School Seniors\n",
    "\n",
    "You must submit two files:\n",
    "\n",
    "1. The Jupyter Notebook that contains all the code you use for the analysis. You do not need to submit any additional data you used, but just indicate how you obtained it in the Notebook.\n",
    "\n",
    "2. A report of your findings. **This report should be at most 4 pages long including references.** Use data visualization and data summaries to justify your conclusions. Note that the page limitation means you will not show all analyses you will make - select carefully what you think is most relevant.\n",
    "\n",
    "The report should address the following points:\n",
    "\n",
    "A.  **Introduce the dataset**.  Describe the data. Where does it come from? Why was it collected (what are the researchers interested in studying)? Was it an experiment? A retrospective observational study? A prospective observational study? How many variables are there in the full dataset? List a few. How many observations (i.e. rows)? How many students participated? Describe the sampling process. Using what you have learned about data collection is this a biased or unbiased sample? Why?\n",
    "\n",
    "B.  **Characteristics of sample**. Describe the sample of students and high schools in the dataset.  Summarize the distributions of 3 or more of the characteristics (variables) of the people and households.  Some interesting variables you may consider include: Days missed from school, Career Outlook, Grade Point Average, Drinking or Drug Usage, etc. You should include a graph or table for each distribution. You should create at least one graph and at least one table (DataFrame).\n",
    "\n",
    "C. **Relationships between variables.**  Now, shift focus from distributions of single variables to relationships between variables. You should investigate at least 2 of the student characteristics (race, sex, lifestyle, etc.) and at least two opinion questions (agree/disagree, satisfaction level, etc.).  For example, do you find evidence that outlook of the future differs by gender, or parent education level affects grade point average. Include two or more graphs or tables here. Describe any associations you find. During your exploration you should create at least one new column in the DataFrame based on existing variables in the dataset. To do this, you should write a function (or more than one if you like) and apply it to one or more columns of the dataset.\n",
    "\n",
    "D. **Provide context**  To the best of your knowledge, what do the relationships you discovered imply? Do you think the associations are causal? Provide a potential explanation for the associations (or lack thereof) you observe. What are some potential confounders and colliders that may explain the relationships? Identify one potential confounder and one potential collider for a chosen relationship. What are some questions that you would like to answer but are unable to with the current data set alone?  What data would you need to be able to answer them?\n",
    "\n",
    "E. **Conclusion/Self-Assessment** What did you learn from exploring this dataset?"
   ]
  },
  {
   "cell_type": "markdown",
   "metadata": {
    "id": "Qs8jgh62l0Qo"
   },
   "source": [
    "Your submission is to be uploaded to Canvas and Gradescope. **If you do not submit both a report and a ipynb code notebook, you will automatically recieve a deduction of 20 points from your submission.**\n",
    "There are some minimum requirements for your submission:\n",
    "\n",
    "1. Upload your report in PDF or DOC format to Canvas\n",
    "2. Upload the jupyter notebook containing your analysis code to Gradescope, in .ipynb format.\n",
    "3. The report should be 4 pages maximum, including bibliography, tables and figures.\n",
    "4. If your report uses outside results and/or data, proper citations must be provided.\n",
    "    \n"
   ]
  },
  {
   "cell_type": "markdown",
   "metadata": {},
   "source": [
    "You may use the following code to help you load in the data."
   ]
  },
  {
   "cell_type": "code",
   "execution_count": 5,
   "metadata": {},
   "outputs": [],
   "source": [
    "#we need to read a tab separated values (tsv file)\n",
    "Core_df = pd.read_csv(\"ICPSR_38882/DS0001/38882-0001-Data.tsv\", sep='\\t')\n",
    "DS2 = pd.read_csv(\"ICPSR_38882/DS0002/38882-0002-Data.tsv\", sep='\\t')\n",
    "DS3 = pd.read_csv(\"ICPSR_38882/DS0003/38882-0003-Data.tsv\", sep='\\t')\n",
    "DS4 = pd.read_csv(\"ICPSR_38882/DS0004/38882-0004-Data.tsv\", sep='\\t')\n",
    "DS6 = pd.read_csv(\"ICPSR_38882/DS0006/38882-0006-Data.tsv\", sep='\\t')"
   ]
  },
  {
   "cell_type": "markdown",
   "metadata": {},
   "source": [
    "A few notes, hints, that may be helpful as you are working with this data.\n",
    "1. Take a look at the codebook. It has a lot of information about the survey itself and the variable names. We have put together a spreadsheet of selected variables to make it easier to see the variables present.\n",
    "2. The Core data contain questions that everyone in the survey answered. The other forms: DS2, DS3, DS4, DS6 were answered by a subset of people. If you are interested in a variable in the Core data and how that variable interacts with a variable in DS3, then you can merge on Respondent ID to cross classify those variables. (please see the codebook for more info here)\n",
    "3. The variable outcomes are encoded as numeric values. To see the corresponding outputs, you will need to look at the spreadsheet or the codebook, including how missing data was handled in the survey.\n",
    "4. There are numerous variables that are not in the spreadsheet but included in the survey. If you are interested you can include any variable of interest from the survey."
   ]
  },
  {
   "cell_type": "code",
   "execution_count": null,
   "metadata": {},
   "outputs": [],
   "source": []
  }
 ],
 "metadata": {
  "colab": {
   "provenance": []
  },
  "kernelspec": {
   "display_name": "Python 3 (ipykernel)",
   "language": "python",
   "name": "python3"
  },
  "language_info": {
   "codemirror_mode": {
    "name": "ipython",
    "version": 3
   },
   "file_extension": ".py",
   "mimetype": "text/x-python",
   "name": "python",
   "nbconvert_exporter": "python",
   "pygments_lexer": "ipython3",
   "version": "3.12.0"
  }
 },
 "nbformat": 4,
 "nbformat_minor": 1
}
