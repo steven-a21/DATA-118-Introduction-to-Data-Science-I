{
 "cells": [
  {
   "cell_type": "code",
   "execution_count": null,
   "id": "585d4943",
   "metadata": {
    "slideshow": {
     "slide_type": "skip"
    }
   },
   "outputs": [],
   "source": [
    "import numpy as np\n",
    "import pandas as pd\n",
    "\n",
    "%matplotlib inline\n",
    "import matplotlib.pyplot as plots\n",
    "plots.style.use('fivethirtyeight')\n",
    "import warnings\n",
    "warnings.simplefilter('ignore', FutureWarning)"
   ]
  },
  {
   "cell_type": "markdown",
   "id": "48915326",
   "metadata": {
    "slideshow": {
     "slide_type": "slide"
    }
   },
   "source": [
    "<center> \n",
    "\n",
    "# Hypothesis Testing Part II\n",
    "\n",
    "## Dr. Lange- University of Chicago\n",
    "## Data 11800 - Winter 2024 \n",
    "\n",
    "<img src=\"https://raw.githubusercontent.com/amandakube/Data118LectureImages/main/UChicago_DSI.png\" alt=\"UC-DSI\" width=\"500\" height=\"600\">\n",
    "    \n",
    "</center>"
   ]
  },
  {
   "cell_type": "markdown",
   "id": "314a9e0c",
   "metadata": {
    "slideshow": {
     "slide_type": "slide"
    }
   },
   "source": [
    "### Steps for Hypothesis Testing\n",
    "\n",
    " - Identify $H_0$ and $H_A$\n",
    "\n",
    " - Decide on significance level (convention is $0.05$)\n",
    "\n",
    " - Determine the test statistic\n",
    "    \n",
    " - Model the null distribution\n",
    "\n",
    " - Determine your p-value (the probability your observed test statistic is more extreme under the null distribution)\n",
    "    \n",
    " - Conclusion (Determine if $H_0$ is to be rejected or not)"
   ]
  },
  {
   "cell_type": "markdown",
   "id": "0acc1f7a",
   "metadata": {
    "slideshow": {
     "slide_type": "slide"
    }
   },
   "source": [
    "<code style=\"background:Thistle;color:black\"> Q: True/False? If H0 is rejected at 5% level, then we can be certain that H0 is false.\n",
    "\n",
    "</code>\n"
   ]
  },
  {
   "cell_type": "code",
   "execution_count": null,
   "id": "6380c932",
   "metadata": {
    "slideshow": {
     "slide_type": "skip"
    }
   },
   "outputs": [],
   "source": [
    "answer"
   ]
  },
  {
   "cell_type": "markdown",
   "id": "f003c09f",
   "metadata": {
    "slideshow": {
     "slide_type": "fragment"
    }
   },
   "source": [
    "<code style=\"background:Thistle;color:black\"> Q: True or False? If H0 is rejected at 5% level, there is less than a 5% chance for H0 to be true. </code>"
   ]
  },
  {
   "cell_type": "code",
   "execution_count": null,
   "id": "fd2fc75f",
   "metadata": {
    "slideshow": {
     "slide_type": "skip"
    }
   },
   "outputs": [],
   "source": [
    "answer"
   ]
  },
  {
   "cell_type": "markdown",
   "id": "3ad6dbfd",
   "metadata": {},
   "source": [
    "**Q1**: A: False. H0 has a <5% chance of producing the observed result.\n",
    "      Could reject H0 but H0 could be true or false.\n",
    "\n",
    "\n",
    "**Q2** A:False. \n",
    "If H0 is rejected at 5% level.....that doesn't tell us anything about H_0 being true or false. A P-value does not give the chance of H0 being true.\n",
    "In fact, the P-value is computed assuming H0 is true.\n",
    " "
   ]
  },
  {
   "cell_type": "markdown",
   "id": "91d930bf",
   "metadata": {
    "slideshow": {
     "slide_type": "slide"
    }
   },
   "source": [
    "## Decisions: Type 1 and Type 2 Errors\n",
    "\n",
    "In a hypothesis test, we could make a decision about which of H0 or HA might be true, but our decision might be incorrect.\n",
    "\n",
    "<img src=\"https://raw.githubusercontent.com/amandakube/Data118LectureImages/main/Errors.png\" alt=\"Type1 and Type2 Errors\" width=\"500\">\n",
    "\n",
    "\n",
    "* A Type 1 Error is rejecting the H0 when it is true.\n",
    "* A Type 2 Error is failing to reject the H0 when it is false.\n",
    "\n",
    "We (almost) never know if H0 or HA is true, but we need to consider all possibilities.\n",
    "\n",
    "Significance Level = Type 1 Error Rate."
   ]
  },
  {
   "cell_type": "markdown",
   "id": "1e87a958",
   "metadata": {
    "slideshow": {
     "slide_type": "slide"
    }
   },
   "source": [
    "## Consequences of Type 1 and 2 errors\n",
    "\n",
    "Type 1 and type 2 errors are different sorts of mistakes and have different consequences\n",
    "\n",
    "Usually H0 is the status quo (generally believed to be true)\n",
    "\n",
    "Rejecting H0 means something generally accepted is overturned. It might be a scientific breakthrough.\n",
    "\n",
    "A type 1 error introduces a false conclusion and can lead to a tremendous waste of resources before further research invalidates the original finding\n",
    "\n",
    "A type 2 error — failing to recognize a scientific breakthrough — represents a missed opportunity\n",
    "\n",
    "Type 2 errors can be costly as well, but generally go unnoticed\n",
    "\n",
    "Many scientists believe it is more important to control the Type 1 error rate than the Type 2 error rate."
   ]
  },
  {
   "cell_type": "markdown",
   "id": "907fbc5c",
   "metadata": {
    "slideshow": {
     "slide_type": "slide"
    }
   },
   "source": [
    "## Two sample testing (A/B testing) "
   ]
  },
  {
   "cell_type": "markdown",
   "id": "c53a8049",
   "metadata": {
    "slideshow": {
     "slide_type": "fragment"
    }
   },
   "source": [
    "Compare value of sampled observations in two groups\n",
    "(say, Group A and Group B) (groups are disjoint)\n"
   ]
  },
  {
   "cell_type": "markdown",
   "id": "24d33ff6",
   "metadata": {
    "slideshow": {
     "slide_type": "fragment"
    }
   },
   "source": [
    "When your null hypothesis equates a test statistic from **one group** to a test statistic of **another group**\n",
    "\n",
    "$$H_0: \\text{test statistic1} = \\text{test statistic2}$$\n",
    "\n",
    "that is, two test statistics are the same"
   ]
  },
  {
   "cell_type": "markdown",
   "id": "be933b18",
   "metadata": {
    "slideshow": {
     "slide_type": "fragment"
    }
   },
   "source": [
    "You can rewrite your null hypothesis as $H_0$ : $\\text{test_statistic_1} - \\text{test_statistic_2} = 0$"
   ]
  },
  {
   "cell_type": "markdown",
   "id": "fccf768f",
   "metadata": {
    "slideshow": {
     "slide_type": "fragment"
    }
   },
   "source": [
    "**How do we simulate such a null distribution corresponding to the above?**"
   ]
  },
  {
   "cell_type": "markdown",
   "id": "70ae6e07",
   "metadata": {
    "slideshow": {
     "slide_type": "slide"
    }
   },
   "source": [
    "### Permutation Testing: Main idea"
   ]
  },
  {
   "cell_type": "markdown",
   "id": "92c63163",
   "metadata": {
    "slideshow": {
     "slide_type": "fragment"
    }
   },
   "source": [
    "**Idea:** If there is no difference between the two distributions, then a value in Group A and Group B can be switched without affecting the test statistic.\n",
    "\n",
    "**We can simulate the null distribution based on this!**\n"
   ]
  },
  {
   "cell_type": "markdown",
   "id": "57c9ecaa",
   "metadata": {
    "slideshow": {
     "slide_type": "fragment"
    }
   },
   "source": [
    "Does not make any assumptions about the distribution of the samples - is it binomial or uniform...we actually don't care!"
   ]
  },
  {
   "cell_type": "markdown",
   "id": "835c250a",
   "metadata": {
    "slideshow": {
     "slide_type": "slide"
    }
   },
   "source": [
    "### Permutation Test: The process\n",
    "\n",
    "If the null hypothesis is true: a test_stat is equally likely to be sampled from group A or group B\n",
    "\n",
    "If the null is true: all rearrangements (permutations) of the test stat among the two groups are equally likely\n",
    "\n",
    "Simulate to learn the null distribution:\n",
    "* Shuffle (permute) the data and randomly assign it to each experimental group.\n",
    "* Assign some to “Group A“ and the rest to “Group B“ maintaining the two sample sizes\n",
    "* Find the differences between the test statistics of the two shuffled (permuted) groups\n",
    "* Repeat\n",
    "\n",
    "The generated distribution and the value of the test statistic are used to calculate a p-value.\n"
   ]
  },
  {
   "cell_type": "markdown",
   "id": "38409507",
   "metadata": {
    "slideshow": {
     "slide_type": "fragment"
    }
   },
   "source": [
    "\n",
    "With this distribution, you can then determine the probability of getting your observed $H_A$.\n"
   ]
  },
  {
   "cell_type": "markdown",
   "id": "bc29d565",
   "metadata": {
    "slideshow": {
     "slide_type": "slide"
    }
   },
   "source": [
    "\n",
    "<img src = \"https://raw.githubusercontent.com/SusannaLange/Data_118_images/main/images/Probability/perm.png\" width=\"800\" style=\"display: inline-block; margin: 0\" />\n",
    "</center>"
   ]
  },
  {
   "cell_type": "markdown",
   "id": "133de52f",
   "metadata": {
    "slideshow": {
     "slide_type": "fragment"
    }
   },
   "source": [
    "Notes: Hypothetically, this means values from your data could have come from either group that you test statistic represents, allowing you to model a distribution where the mean is 0."
   ]
  },
  {
   "cell_type": "markdown",
   "id": "239827b0",
   "metadata": {
    "slideshow": {
     "slide_type": "slide"
    }
   },
   "source": [
    "## Example: Two sample testing (A/B testing) : Smokers and Nonsmokers\n",
    "\n",
    "\n",
    "The data frame *baby_df* contains the following variables for 1,174 mother-baby pairs: the baby’s birth weight in ounces, the number of gestational days, the mother’s age in completed years, the mother’s height in inches, pregnancy weight in pounds, and whether or not the mother smoked during pregnancy.\n",
    "\n",
    "**We want to investigate first the association of maternal smoking with birth weight**"
   ]
  },
  {
   "cell_type": "code",
   "execution_count": null,
   "id": "52129726",
   "metadata": {
    "slideshow": {
     "slide_type": "fragment"
    }
   },
   "outputs": [],
   "source": [
    "baby_df=pd.read_csv(\"https://raw.githubusercontent.com/SusannaLange/Data_118_images/main/Data/baby.csv\")\n",
    "baby_df.head(8)"
   ]
  },
  {
   "cell_type": "markdown",
   "id": "ec7dc2c7",
   "metadata": {
    "slideshow": {
     "slide_type": "slide"
    }
   },
   "source": [
    "**We are interested in maternal smoking and birth weight. In particular, we consider the two groups:**\n",
    "\n",
    "A: Birth weights of babies of mothers who smoked during\n",
    "pregnancy\n",
    "\n",
    "\n",
    "B: Birth weights of babies of mothers who did not smoke\n",
    "\n",
    "\n",
    "Question: Do the two sets of values come from the same\n",
    "distribution?"
   ]
  },
  {
   "cell_type": "markdown",
   "id": "1ef5414c",
   "metadata": {
    "slideshow": {
     "slide_type": "slide"
    }
   },
   "source": [
    "#### Setting up our test"
   ]
  },
  {
   "cell_type": "markdown",
   "id": "32c19b7a",
   "metadata": {
    "slideshow": {
     "slide_type": "fragment"
    }
   },
   "source": [
    "We will be using the mean, but we could also consider the median or even the variance"
   ]
  },
  {
   "cell_type": "markdown",
   "id": "e3f5b8d5",
   "metadata": {
    "slideshow": {
     "slide_type": "fragment"
    }
   },
   "source": [
    "**Null Hypothesis:** In the population, the distributions of the\n",
    "birth weights of babies in the two groups are the same. That is the means of baby weights of smoking mothers and the means of baby weights of non-smoking mothers is the same.\n"
   ]
  },
  {
   "cell_type": "markdown",
   "id": "99bcbb02",
   "metadata": {
    "slideshow": {
     "slide_type": "fragment"
    }
   },
   "source": [
    "**Alternative Hypothesis:** In the population, the two\n",
    "distributions are different. That is the means of baby weights of smoking mothers and the means of baby weights of non-smoking mothers are different."
   ]
  },
  {
   "cell_type": "markdown",
   "id": "aeee4df4",
   "metadata": {
    "slideshow": {
     "slide_type": "slide"
    }
   },
   "source": [
    "### We want to section out by Birth Weight and Smoker vs Non-smokers"
   ]
  },
  {
   "cell_type": "code",
   "execution_count": null,
   "id": "ffb6c685",
   "metadata": {
    "slideshow": {
     "slide_type": "fragment"
    }
   },
   "outputs": [],
   "source": [
    "# a data frame with the two columns of interest\n",
    "smoking_weight = baby_df[['Maternal Smoker', 'Birth Weight']]\n",
    "\n",
    "smoking_weight.sample(5)"
   ]
  },
  {
   "cell_type": "markdown",
   "id": "bbaed764",
   "metadata": {
    "slideshow": {
     "slide_type": "slide"
    }
   },
   "source": [
    "### We can visualize these values"
   ]
  },
  {
   "cell_type": "code",
   "execution_count": null,
   "id": "bfc8d0b5",
   "metadata": {
    "slideshow": {
     "slide_type": "fragment"
    }
   },
   "outputs": [],
   "source": [
    "# the arrays of weights for non-smoker and smoker\n",
    "nsw=smoking_weight[smoking_weight['Maternal Smoker']==False]['Birth Weight'].values\n",
    "sw=smoking_weight[smoking_weight['Maternal Smoker']==True]['Birth Weight'].values"
   ]
  },
  {
   "cell_type": "code",
   "execution_count": null,
   "id": "bb150360",
   "metadata": {
    "slideshow": {
     "slide_type": "fragment"
    }
   },
   "outputs": [],
   "source": [
    "#overlapping histograms\n",
    "bins = np.linspace(50, 180, 20)\n",
    "plots.hist(nsw, bins, alpha=0.5, label='No') ## alpha controls opacity\n",
    "plots.hist(sw, bins, alpha=0.5, label='Yes')\n",
    "plots.scatter(np.mean(sw), -2, color='red', s=30);\n",
    "plots.scatter(np.mean(nsw), -2, color='blue', s=30);\n",
    "plots.legend(loc='upper right')\n",
    "plots.title('Distributions of Birth weight by Maternal Smoker')\n",
    "plots.xlabel('weight')\n",
    "plots.ylabel('Frequency')\n",
    "plots.show()"
   ]
  },
  {
   "cell_type": "markdown",
   "id": "d7426bd1",
   "metadata": {
    "slideshow": {
     "slide_type": "slide"
    }
   },
   "source": [
    "### Let's consider the means!"
   ]
  },
  {
   "cell_type": "code",
   "execution_count": null,
   "id": "d658792d",
   "metadata": {
    "slideshow": {
     "slide_type": "fragment"
    }
   },
   "outputs": [],
   "source": [
    "# the sample means in the two groups\n",
    "means_df = smoking_weight.groupby('Maternal Smoker').mean()\n",
    "means_df"
   ]
  },
  {
   "cell_type": "markdown",
   "id": "740d04bb",
   "metadata": {
    "slideshow": {
     "slide_type": "slide"
    }
   },
   "source": [
    "**Other potential test statistics:**"
   ]
  },
  {
   "cell_type": "code",
   "execution_count": null,
   "id": "4c0a1cfc",
   "metadata": {
    "slideshow": {
     "slide_type": "fragment"
    }
   },
   "outputs": [],
   "source": [
    "# the sample medians\n",
    "medians_df = smoking_weight.groupby('Maternal Smoker').median()\n",
    "medians_df"
   ]
  },
  {
   "cell_type": "code",
   "execution_count": null,
   "id": "3f6df79c",
   "metadata": {
    "slideshow": {
     "slide_type": "fragment"
    }
   },
   "outputs": [],
   "source": [
    "# the sample standard deviation\n",
    "sds_df = smoking_weight.groupby('Maternal Smoker').std()\n",
    "sds_df"
   ]
  },
  {
   "cell_type": "markdown",
   "id": "c4eecdc2",
   "metadata": {
    "slideshow": {
     "slide_type": "slide"
    }
   },
   "source": [
    "### In our case we are interested in the observed difference as our test statistic"
   ]
  },
  {
   "cell_type": "code",
   "execution_count": null,
   "id": "d85a46bb",
   "metadata": {
    "slideshow": {
     "slide_type": "fragment"
    }
   },
   "outputs": [],
   "source": [
    "## the difference in the means\n",
    "observed_difference = means_df.iloc[0,0] - means_df.iloc[1,0]\n",
    "observed_difference "
   ]
  },
  {
   "cell_type": "markdown",
   "id": "147c0334",
   "metadata": {
    "slideshow": {
     "slide_type": "fragment"
    }
   },
   "source": [
    "**Goal**\n",
    "Is this difference significant? We can only know through hypothesis testing using the difference in means as our test statistic.\n"
   ]
  },
  {
   "cell_type": "markdown",
   "id": "69376d07",
   "metadata": {
    "slideshow": {
     "slide_type": "slide"
    }
   },
   "source": [
    "### How to find the null distribution?!"
   ]
  },
  {
   "cell_type": "markdown",
   "id": "4e35c43c",
   "metadata": {
    "slideshow": {
     "slide_type": "fragment"
    }
   },
   "source": [
    "## Permutation test\n",
    "- If the null hypothesis is true: a birth weight is equally likely to be sampled from group A or group B\n",
    "- If the null is true: all rearrangements (permutations) of the birth weights among the two groups are equally likely\n",
    "\n",
    "#### Simulate to learn the null distribution:\n",
    "- Shuffle (permute) the birth weights\n",
    "- Assign some to ``Group A`` and the rest to ``Group B`` maintaining the two sample sizes\n",
    "- Find the differences between averages of the two shuffled (permuted) groups\n",
    "- Repeat\n",
    "\n",
    "The generated distribution and the value of the test statistic are used to calculate a p-value. \n"
   ]
  },
  {
   "cell_type": "markdown",
   "id": "6e35cc7b",
   "metadata": {
    "slideshow": {
     "slide_type": "slide"
    }
   },
   "source": [
    "**What does this look like for our example?**"
   ]
  },
  {
   "cell_type": "code",
   "execution_count": null,
   "id": "ca17f4bf",
   "metadata": {
    "slideshow": {
     "slide_type": "fragment"
    }
   },
   "outputs": [],
   "source": [
    "weights = smoking_weight[['Birth Weight']]\n",
    "group_labels = baby_df['Maternal Smoker'].values\n",
    "\n",
    "\n",
    "differences = np.array([])\n",
    "\n",
    "for i in np.arange(5000):\n",
    "    shuffled_weights = weights.sample(len(weights),replace = False)['Birth Weight'].values\n",
    "    shuffled_df = pd.DataFrame({\"Shuffled Weights\" : shuffled_weights, \n",
    "                            \"Label\" : group_labels})    \n",
    "    smeans_df=shuffled_df.groupby('Label').mean()\n",
    "    new_diff=smeans_df.iloc[0]-smeans_df.iloc[1]  ##calculating the difference here\n",
    "    differences = np.append(differences, new_diff) #array of mean differences"
   ]
  },
  {
   "cell_type": "markdown",
   "id": "285b4538",
   "metadata": {
    "slideshow": {
     "slide_type": "fragment"
    }
   },
   "source": [
    "Note: We are shuffling the weights and keeping the labels the same. Therefore the same number of False and True values are in the shuffled data."
   ]
  },
  {
   "cell_type": "markdown",
   "id": "d9cd4841",
   "metadata": {
    "slideshow": {
     "slide_type": "fragment"
    }
   },
   "source": [
    "If there really is no difference, shuffling the labels and recalculating our test statistic won't matter - we'll obtain similar values for both groups."
   ]
  },
  {
   "cell_type": "markdown",
   "id": "aa61759a",
   "metadata": {
    "slideshow": {
     "slide_type": "slide"
    }
   },
   "source": [
    "#### Histogram of the simulated differences"
   ]
  },
  {
   "cell_type": "code",
   "execution_count": null,
   "id": "b99c1edb",
   "metadata": {
    "slideshow": {
     "slide_type": "fragment"
    }
   },
   "outputs": [],
   "source": [
    "plots.hist(differences,bins=np.arange(-4,4,0.25))\n",
    "plots.title(\"Null Difference Between Means\");\n",
    "plots.ylabel('Frequency')\n",
    "plots.xlabel('Difference in Means');"
   ]
  },
  {
   "cell_type": "markdown",
   "id": "aaee8f2b",
   "metadata": {
    "slideshow": {
     "slide_type": "slide"
    }
   },
   "source": [
    "### What was our observed difference?"
   ]
  },
  {
   "cell_type": "code",
   "execution_count": null,
   "id": "346d0dfd",
   "metadata": {
    "slideshow": {
     "slide_type": "fragment"
    }
   },
   "outputs": [],
   "source": [
    "observed_difference"
   ]
  },
  {
   "cell_type": "code",
   "execution_count": null,
   "id": "3d925974",
   "metadata": {
    "slideshow": {
     "slide_type": "fragment"
    }
   },
   "outputs": [],
   "source": [
    "# Histogram of the simulated differences\n",
    "plots.hist(differences,bins=np.arange(-4,4,0.25))\n",
    "plots.scatter(observed_difference, -2, color='red', s=30);\n",
    "plots.title(\"Null Difference Between Means\");\n"
   ]
  },
  {
   "cell_type": "markdown",
   "id": "3fdd4aac",
   "metadata": {
    "slideshow": {
     "slide_type": "slide"
    }
   },
   "source": [
    "And now we calculate the p-value based on this distribution and observed statistic."
   ]
  },
  {
   "cell_type": "code",
   "execution_count": null,
   "id": "48cb44fd",
   "metadata": {
    "slideshow": {
     "slide_type": "fragment"
    }
   },
   "outputs": [],
   "source": [
    "extreme = sum(differences >= observed_difference)/5000\n",
    "extreme"
   ]
  },
  {
   "cell_type": "markdown",
   "id": "b41b9550",
   "metadata": {
    "slideshow": {
     "slide_type": "fragment"
    }
   },
   "source": [
    "Our $H_A$ is that $\\mu_\\text{smokers} \\neq \\mu_\\text{non-smokers}$ \n",
    "\n",
    "In words, $H_A$ is the mean of birth weights in smokers is different than the mean of birth weights in non-smokers."
   ]
  },
  {
   "cell_type": "markdown",
   "id": "167dd049",
   "metadata": {
    "slideshow": {
     "slide_type": "fragment"
    }
   },
   "source": [
    "This means we have a two-tailed test. Hence we need to consider both extremes.\n"
   ]
  },
  {
   "cell_type": "code",
   "execution_count": null,
   "id": "8e7b564e",
   "metadata": {
    "slideshow": {
     "slide_type": "fragment"
    }
   },
   "outputs": [],
   "source": [
    "p_value=2*extreme\n",
    "p_value"
   ]
  },
  {
   "cell_type": "markdown",
   "id": "4b110f0f",
   "metadata": {
    "slideshow": {
     "slide_type": "slide"
    }
   },
   "source": [
    "**Conclusion:**\n",
    "\n",
    "**We reject the null hypothesis. At the 5% significance level, since p =0.0 <0.05, there is enough statistical evidence to support the claim that the means of birth weight from smoking and non-smoking mothers are different.**"
   ]
  },
  {
   "cell_type": "markdown",
   "id": "aa7e5291",
   "metadata": {
    "slideshow": {
     "slide_type": "slide"
    }
   },
   "source": [
    "### AB Testing"
   ]
  },
  {
   "cell_type": "markdown",
   "id": "f07f19e7",
   "metadata": {
    "slideshow": {
     "slide_type": "fragment"
    }
   },
   "source": [
    " - A null hypothesis ($H_0$) \n",
    " \n",
    " -  An alternative hypothesis ($H_A$) \n",
    " \n",
    " - A test statistic (to be compared to the null distribution) **difference of test statistics!**\n",
    " \n",
    " -  A significance threshold ($\\alpha=0.5$ default).\n",
    "    "
   ]
  },
  {
   "cell_type": "markdown",
   "id": "9707c038",
   "metadata": {
    "slideshow": {
     "slide_type": "fragment"
    }
   },
   "source": [
    " - Model the null distribution  (Permutation Testing)\n",
    "\n",
    " - Determine your p-value (the probability your observed test statistic is more extreme under the null distribution)\n",
    "    \n",
    " - Conclusion (Determine if $H_0$ is to be rejected or not)"
   ]
  },
  {
   "cell_type": "markdown",
   "id": "0b19e3e3",
   "metadata": {
    "slideshow": {
     "slide_type": "slide"
    }
   },
   "source": [
    "**The null distribution comes from the assumption that there is no difference between observations or a previously accepted theory.**"
   ]
  },
  {
   "cell_type": "markdown",
   "id": "8b25c8c5",
   "metadata": {
    "slideshow": {
     "slide_type": "fragment"
    }
   },
   "source": [
    "In general the null distrubtion could be simulated via\n",
    "\n",
    "    - np.random.binomal\n",
    "    \n",
    "    - np.random.choice\n",
    "    \n",
    "    - Permutation test (for AB testing)"
   ]
  },
  {
   "cell_type": "markdown",
   "id": "c042303e",
   "metadata": {
    "slideshow": {
     "slide_type": "slide"
    }
   },
   "source": [
    "A few notes:\n",
    "    \n",
    "You can approach many problems with the classical approach to hypothesis (focus of last lecture) or with AB testing. \n",
    "\n",
    "Hypothesis Testing:\n",
    "\n",
    "- We know the distribution of the null\n",
    "\n",
    "- Advantage of being a quick process\n",
    "\n",
    "\n",
    "AB Testing:\n",
    "\n",
    "- We don't need to know the distribution\n",
    "\n",
    "- Need to be in a situation where we have two groups\n",
    "\n",
    "- Might be tedious if have a super large sample - 100,000 and need to collect all permutations"
   ]
  },
  {
   "cell_type": "markdown",
   "id": "937d6517",
   "metadata": {
    "slideshow": {
     "slide_type": "skip"
    }
   },
   "source": [
    "Note: There are other methods besides a permutation test to approach this type of problem (AB testing) (If you have taken previous statistics course, you may have done a t-test). But we want to present some basic methods in this course instead of all possible methods."
   ]
  },
  {
   "cell_type": "markdown",
   "id": "5c30417e",
   "metadata": {
    "slideshow": {
     "slide_type": "slide"
    }
   },
   "source": [
    "<code style=\"background:Thistle;color:black\"> Let's repeat this process, but instead consider the difference in sample medians. </code>\n",
    "\n",
    "\n",
    "\n"
   ]
  },
  {
   "cell_type": "markdown",
   "id": "2e3db6ba",
   "metadata": {
    "slideshow": {
     "slide_type": "fragment"
    }
   },
   "source": [
    "**Null Hypothesis:** That is the median of baby weights of smoking mothers and the means of baby weights of non-smoking mothers is the same."
   ]
  },
  {
   "cell_type": "markdown",
   "id": "41240c2a",
   "metadata": {
    "slideshow": {
     "slide_type": "fragment"
    }
   },
   "source": [
    "<code style=\"background:Thistle;color:black\">**Alternate Hypothesis:**  </code>"
   ]
  },
  {
   "cell_type": "markdown",
   "id": "49ace238",
   "metadata": {
    "slideshow": {
     "slide_type": "slide"
    }
   },
   "source": [
    "The test statistic is the median"
   ]
  },
  {
   "cell_type": "code",
   "execution_count": null,
   "id": "4e0f637f",
   "metadata": {
    "slideshow": {
     "slide_type": "fragment"
    }
   },
   "outputs": [],
   "source": [
    "medians_df = smoking_weight.groupby('Maternal Smoker').median()\n",
    "medians_df"
   ]
  },
  {
   "cell_type": "code",
   "execution_count": null,
   "id": "145e24ed",
   "metadata": {
    "slideshow": {
     "slide_type": "fragment"
    }
   },
   "outputs": [],
   "source": [
    "observed_difference_median = medians_df.iloc[0]-medians_df.iloc[1]  \n",
    "observed_difference_median"
   ]
  },
  {
   "cell_type": "markdown",
   "id": "833490c1",
   "metadata": {
    "slideshow": {
     "slide_type": "slide"
    }
   },
   "source": [
    "<code style=\"background:Thistle;color:black\"> Goal: Find the null distribuion (by permutation test)  </code>"
   ]
  },
  {
   "cell_type": "code",
   "execution_count": null,
   "id": "ce60e9a8",
   "metadata": {
    "slideshow": {
     "slide_type": "fragment"
    }
   },
   "outputs": [],
   "source": [
    "## this is the code for the mean calcuation above...how should we make changes\n",
    "differences_mean = np.array([])\n",
    "\n",
    "for i in np.arange(5000):\n",
    "    shuffled_weights = weights.sample(len(weights),replace = False)['Birth Weight'].values \n",
    "    \n",
    "    shuffled_df = pd.DataFrame({\"Shuffled Weights\" : shuffled_weights, \n",
    "                            \"Label\" : group_labels})\n",
    "    \n",
    "    smeans_df=shuffled_df.groupby('Label').mean()\n",
    "    new_diff=smeans_df.iloc[0]-smeans_df.iloc[1] \n",
    "    differences_mean = np.append(differences_mean, new_diff) "
   ]
  },
  {
   "cell_type": "markdown",
   "id": "b4000e3f",
   "metadata": {
    "slideshow": {
     "slide_type": "slide"
    }
   },
   "source": [
    "<code style=\"background:Thistle;color:black\"> You will have to do this on the homework!! See if you can answer the below questions. </code> "
   ]
  },
  {
   "cell_type": "markdown",
   "id": "0b397d0d",
   "metadata": {
    "slideshow": {
     "slide_type": "fragment"
    }
   },
   "source": [
    "<code style=\"background:Thistle;color:black\"> What is the 5000 doing in the above code? </code> "
   ]
  },
  {
   "cell_type": "code",
   "execution_count": null,
   "id": "01634516",
   "metadata": {
    "slideshow": {
     "slide_type": "fragment"
    }
   },
   "outputs": [],
   "source": [
    "answer"
   ]
  },
  {
   "cell_type": "markdown",
   "id": "1472d177",
   "metadata": {
    "slideshow": {
     "slide_type": "fragment"
    }
   },
   "source": [
    "<code style=\"background:Thistle;color:black\"> what is the output of the below line of code?  </code>"
   ]
  },
  {
   "cell_type": "code",
   "execution_count": null,
   "id": "89320826",
   "metadata": {
    "slideshow": {
     "slide_type": "fragment"
    }
   },
   "outputs": [],
   "source": [
    "shuffled_weights = weights.sample(len(weights),replace = False)['Birth Weight'].values "
   ]
  },
  {
   "cell_type": "code",
   "execution_count": null,
   "id": "27611108",
   "metadata": {
    "slideshow": {
     "slide_type": "fragment"
    }
   },
   "outputs": [],
   "source": [
    "answer"
   ]
  },
  {
   "cell_type": "code",
   "execution_count": null,
   "id": "c8320695",
   "metadata": {
    "slideshow": {
     "slide_type": "fragment"
    }
   },
   "outputs": [],
   "source": [
    "# Histogram of the simulated differences\n",
    "plots.hist(differences_median,bins=np.arange(-4,4,1))\n",
    "plots.scatter(observed_difference_median, -2, color='red', s=30);\n",
    "plots.title(\"Null Difference Between Medians\");\n"
   ]
  },
  {
   "cell_type": "markdown",
   "id": "cf613038",
   "metadata": {
    "slideshow": {
     "slide_type": "slide"
    }
   },
   "source": [
    "<code style=\"background:Thistle;color:black\">p-value: </code>"
   ]
  },
  {
   "cell_type": "code",
   "execution_count": null,
   "id": "a880a982",
   "metadata": {
    "slideshow": {
     "slide_type": "fragment"
    }
   },
   "outputs": [],
   "source": []
  },
  {
   "cell_type": "markdown",
   "id": "d339c3d5",
   "metadata": {
    "slideshow": {
     "slide_type": "slide"
    }
   },
   "source": [
    "<code style=\"background:Thistle;color:black\"> Conclusion:</code>"
   ]
  },
  {
   "cell_type": "code",
   "execution_count": null,
   "id": "2dcc8bcc",
   "metadata": {
    "slideshow": {
     "slide_type": "fragment"
    }
   },
   "outputs": [],
   "source": []
  },
  {
   "cell_type": "markdown",
   "id": "eeb594d5",
   "metadata": {
    "slideshow": {
     "slide_type": "fragment"
    }
   },
   "source": [
    "**We ____________________the null hypothesis. At the 5% significance level, since p =________, there is ____________________________.**"
   ]
  },
  {
   "cell_type": "code",
   "execution_count": null,
   "id": "561bde32",
   "metadata": {},
   "outputs": [],
   "source": []
  },
  {
   "cell_type": "markdown",
   "id": "771d5139",
   "metadata": {
    "slideshow": {
     "slide_type": "slide"
    }
   },
   "source": [
    "Still a little confused with permutation testing? See another [example here about llamas (alpacas actually)](https://www.jwilber.me/permutationtest/#:~:text=To%20calculate%20the%20p%2Dvalue,of%20test%2Dstatistics%20we%20calculated.)"
   ]
  },
  {
   "cell_type": "code",
   "execution_count": null,
   "id": "6538cc57",
   "metadata": {},
   "outputs": [],
   "source": []
  }
 ],
 "metadata": {
  "kernelspec": {
   "display_name": "Python 3 (ipykernel)",
   "language": "python",
   "name": "python3"
  },
  "language_info": {
   "codemirror_mode": {
    "name": "ipython",
    "version": 3
   },
   "file_extension": ".py",
   "mimetype": "text/x-python",
   "name": "python",
   "nbconvert_exporter": "python",
   "pygments_lexer": "ipython3",
   "version": "3.12.1"
  }
 },
 "nbformat": 4,
 "nbformat_minor": 5
}
