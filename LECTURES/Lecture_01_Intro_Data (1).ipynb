{
 "cells": [
  {
   "cell_type": "markdown",
   "id": "a45e7fde",
   "metadata": {
    "slideshow": {
     "slide_type": "slide"
    },
    "tags": [
     "hide_code"
    ]
   },
   "source": [
    "<center> \n",
    "\n",
    "# Introduction to Data Science\n",
    "    \n",
    "## What is Data Science?\n",
    "\n",
    "### Dr. Lange\n",
    "### Data 118 - Winter 2024 \n",
    "    \n",
    "</center>\n",
    "<center> \n",
    "<img src=\"https://raw.githubusercontent.com/amandakube/Data118LectureImages/main/UChicago_DSI.png\" alt=\"UC-DSI\" width=\"600\" height=\"700\">\n",
    "</center>"
   ]
  },
  {
   "cell_type": "markdown",
   "id": "0bc6a814",
   "metadata": {
    "heading_collapsed": true,
    "slideshow": {
     "slide_type": "slide"
    }
   },
   "source": [
    "## Today\n",
    "\n",
    "* What is Data Science?\n",
    "* About this course\n",
    "* Logistics\n",
    "* Some coding"
   ]
  },
  {
   "cell_type": "markdown",
   "id": "a4386161",
   "metadata": {
    "slideshow": {
     "slide_type": "fragment"
    }
   },
   "source": [
    "## So what is Data Science?"
   ]
  },
  {
   "cell_type": "markdown",
   "id": "cb686802",
   "metadata": {
    "slideshow": {
     "slide_type": "slide"
    }
   },
   "source": [
    "\n",
    "<center> \n",
    "\n",
    "<img src=\"https://raw.githubusercontent.com/SusannaLange/Data_118_images/main/images/intro/data_whatitis.png\" alt=\"Data Science History\" width=\"80%\">\n",
    "    \n",
    "</center>"
   ]
  },
  {
   "cell_type": "markdown",
   "id": "c308241d",
   "metadata": {
    "slideshow": {
     "slide_type": "slide"
    }
   },
   "source": [
    "## Data Science is the study of...\n",
    "\n",
    "* Extracting value from data (Jeannette Wing)\n",
    "* Learning from data (David Donoho)\n"
   ]
  },
  {
   "cell_type": "markdown",
   "id": "87120293",
   "metadata": {
    "slideshow": {
     "slide_type": "fragment"
    }
   },
   "source": [
    "* Holistic data science requires that we understand the context of data, appreciate the responsibilities involved in using private and public data, and clearly communicate what a dataset can and cannot tell us about the world. [...]"
   ]
  },
  {
   "cell_type": "markdown",
   "id": "10e2ac7b",
   "metadata": {
    "slideshow": {
     "slide_type": "fragment"
    }
   },
   "source": [
    "* Data science is more than the combination of statistics and computer science – it requires training in how to weave statistical and computational techniques into a larger framework, problem by problem, and to address discipline-specific questions. (Blei and Smyth, PNAS Aug 15, 2017)"
   ]
  },
  {
   "cell_type": "markdown",
   "id": "160aa993",
   "metadata": {
    "slideshow": {
     "slide_type": "slide"
    }
   },
   "source": [
    "## What is Data Science?\n",
    "\n",
    "Learning about the world from data using computation\n",
    "\n",
    " - Exploration\n",
    " \n",
    " - Identifying patterns in data\n",
    "\n",
    " \n",
    "\n"
   ]
  },
  {
   "cell_type": "markdown",
   "id": "5deaed9e",
   "metadata": {
    "slideshow": {
     "slide_type": "fragment"
    }
   },
   "source": [
    "Inference\n",
    "\n",
    " - Using data to draw reliable conclusions about the world\n",
    " \n",
    " - Uses statistics and probability\n",
    " \n"
   ]
  },
  {
   "cell_type": "markdown",
   "id": "f09d8f9f",
   "metadata": {
    "slideshow": {
     "slide_type": "fragment"
    }
   },
   "source": [
    "Prediction\n",
    " - Making informed guesses about unobserved data\n",
    " \n",
    " - Uses machine learning"
   ]
  },
  {
   "cell_type": "markdown",
   "id": "85f83c51",
   "metadata": {
    "cell_style": "split",
    "slideshow": {
     "slide_type": "slide"
    }
   },
   "source": [
    "## What is Data Science? \n",
    "\n",
    "* Interdisciplinary / Collaboratory  \n",
    "* Extract knowledge from data\n",
    "[noisy, experimental, observational, text, scraping, mining]  \n",
    "* Apply knowledge to domain  \n",
    "\n",
    "Data Science increasingly used to feed AI BUT IS NOT SYNONYMOUS WITH ML/AI!\n",
    "\n"
   ]
  },
  {
   "cell_type": "markdown",
   "id": "1a893ed0",
   "metadata": {
    "cell_style": "split",
    "slideshow": {
     "slide_type": "slide"
    }
   },
   "source": [
    "<center> \n",
    "\n",
    "<img src=\"https://raw.githubusercontent.com/SusannaLange/Data_118_images/main/images/Data_venn_diagram.png\" alt=\"Data venn diagram\" width=\"80%\">\n",
    "    \n",
    "</center>\n",
    "\n"
   ]
  },
  {
   "cell_type": "markdown",
   "id": "2ef6f778",
   "metadata": {
    "slideshow": {
     "slide_type": "slide"
    }
   },
   "source": [
    "<center> \n",
    "\n",
    "<img src=\"https://raw.githubusercontent.com/SusannaLange/Data_118_images/main/images/intro/roadmap.png\" alt=\"roadmap\" width=\"100%\">\n",
    "    \n",
    "</center>\n",
    "\n"
   ]
  },
  {
   "cell_type": "markdown",
   "id": "822df85b",
   "metadata": {
    "slideshow": {
     "slide_type": "slide"
    }
   },
   "source": [
    "### Data Science isn't truly new...\n",
    "\n",
    "<center> \n",
    "\n",
    "<img src=\"https://raw.githubusercontent.com/SusannaLange/Data_118_images/main/images/Data_science_role_models.png\" alt=\"Data Science History\" width=\"80%\">\n",
    "    \n",
    "</center>"
   ]
  },
  {
   "cell_type": "markdown",
   "id": "a6bcc4cb",
   "metadata": {
    "slideshow": {
     "slide_type": "slide"
    }
   },
   "source": [
    "### ...we just have more data now\n",
    "\n",
    "<center> \n",
    "\n",
    "<img src=\"https://raw.githubusercontent.com/SusannaLange/Data_118_images/main/images/intro/big_data.png\" alt=\"big data\" width=\"80%\">\n",
    "    \n",
    "</center>"
   ]
  },
  {
   "cell_type": "markdown",
   "id": "99d4a7f4",
   "metadata": {
    "slideshow": {
     "slide_type": "slide"
    }
   },
   "source": [
    "### And Data Scientists are in demand!\n",
    "\n",
    "<center> \n",
    "\n",
    "<img src=\"https://raw.githubusercontent.com/SusannaLange/Data_118_images/main/images/intro/data_demand.png\" alt=\"Data Science demand\" width=\"80%\">\n",
    "    \n",
    "</center>\n",
    "\n"
   ]
  },
  {
   "cell_type": "markdown",
   "id": "409dd1cb",
   "metadata": {
    "slideshow": {
     "slide_type": "slide"
    }
   },
   "source": [
    "## What is this class?\n",
    "\n",
    "### Syllabus Highlights"
   ]
  },
  {
   "cell_type": "markdown",
   "id": "2b2bff40",
   "metadata": {
    "slideshow": {
     "slide_type": "fragment"
    }
   },
   "source": [
    "### About this course \n",
    "\n",
    "### Objectives: \n",
    "* Introduce students to the data science pipeline.\n",
    "* Develop students' abilities to be informed and critical readers of quantitative, data-based arguments.\n",
    "* Enable students to perform data analysis using Python.\n",
    "* Develop students' abilities to integrate code, background information, results and interpretation in a Jupyter Notebook to communicate data analyses effectively.\n",
    "* Help students gain flexible problem-solving and programming skills applicable to a large variety of problems independently.\n",
    "* Understand foundational concepts of probability and statistics.\n",
    "* Develop skills to implement probability and beginning statistics for data analysis. \n",
    "\n"
   ]
  },
  {
   "cell_type": "markdown",
   "id": "bd6447ab",
   "metadata": {
    "slideshow": {
     "slide_type": "slide"
    }
   },
   "source": [
    "### Materials \n",
    "\n",
    "Textbook:\n",
    "\n",
    "### Textbooks (all freely available):\n",
    "* Intro to Data Science for 11800 and 11900 (https://ds1.datascience.uchicago.edu/intro.html) \n",
    "* Python Data Science Handbook by Jake VanderPlas, O’Reilly Media: https://jakevdp.github.io/ PythonDataScienceHandbook/ - Optional\n",
    "  \n",
    "Access to a computer and internet: For in-class lecture and homework\n",
    "\n",
    "Jupyter Notebook installed on your computer\n",
    "    \n",
    "    "
   ]
  },
  {
   "cell_type": "markdown",
   "id": "fa040745",
   "metadata": {
    "slideshow": {
     "slide_type": "slide"
    }
   },
   "source": [
    "## Who is this course intended for?\n",
    "\n",
    "* It assumes NO prior programming or statistics experience \n",
    "* This course can be taken standalone, but is only an introduction, there are opportunites to take the second course in this sequence\n",
    "* It should give you enough context to pick up other tools later on your own\n"
   ]
  },
  {
   "cell_type": "markdown",
   "id": "a0507990",
   "metadata": {
    "slideshow": {
     "slide_type": "slide"
    }
   },
   "source": [
    "## Grade breakdown"
   ]
  },
  {
   "cell_type": "markdown",
   "id": "ca75b27e",
   "metadata": {
    "slideshow": {
     "slide_type": "fragment"
    }
   },
   "source": [
    "Homework: 30%\n",
    "\n",
    "Midterm Project: 30%   \n",
    "\n",
    "Final Exam: 40% \n",
    "\n",
    "\n"
   ]
  },
  {
   "cell_type": "markdown",
   "id": "a3b1230c",
   "metadata": {
    "slideshow": {
     "slide_type": "slide"
    }
   },
   "source": [
    "**Homework** -  Homework is assigned through Canvas and is due according to the schedule.\n",
    "\n",
    " - Note talking to each other about homework is encouraged! But sharing code or coding together is not permitted! \n",
    "\n",
    "- Due Fridays at 11:59 pm\n",
    "\n",
    "\n",
    "- 4 'Latepasses'"
   ]
  },
  {
   "cell_type": "markdown",
   "id": "df0ba944",
   "metadata": {
    "slideshow": {
     "slide_type": "slide"
    }
   },
   "source": [
    "**Lab Notebooks** -   \n",
    "\n",
    "Labs will be an opportunity for you to get hands on experience with the material from class!\n",
    "\n",
    "- Can work on them during TA office hours\n",
    "\n",
    "- **TA office hours this week will be** \n",
    "   - **Friday 12-2:45pm in Ryerson 175** and \n",
    "   - **Friday 3-5pm in Ryerson 3rd floor Annex**\n",
    "\n",
    "- Lab 1 is due this Sunday at 11:59pm\n",
    "    - Solutions to labs will be posted\n",
    "   \n",
    "- Labs are not part of your grade, but you can get extra credit by doing them\n"
   ]
  },
  {
   "cell_type": "markdown",
   "id": "beb7bf12",
   "metadata": {
    "slideshow": {
     "slide_type": "slide"
    }
   },
   "source": [
    "**Midterm Project** - The midterm project will be a take home project that allows students to explore data and demonstrate skills learned throughout the first portion of the class and practice communication in data science. Notes are allowed to be used for this project. \n",
    "\n",
    "**Final Exam** - The final exam will consist of a written exam during the university scheduled exam time. "
   ]
  },
  {
   "cell_type": "markdown",
   "id": "1e99f72f",
   "metadata": {
    "slideshow": {
     "slide_type": "slide"
    }
   },
   "source": [
    "## Learning Math and Coding\n",
    "\n",
    "### The best way to learn is through practice:\n",
    "  * In-class\n",
    "  * Labs\n",
    "  * Homeworks"
   ]
  },
  {
   "cell_type": "markdown",
   "id": "f92efbc1",
   "metadata": {
    "slideshow": {
     "slide_type": "slide"
    }
   },
   "source": [
    "### Remember...think positive when approaching this class, homework, and programming!\n",
    "\n",
    "| Instead of saying (or thinking....) |Say this  |\n",
    "|------|------|\n",
    "|   I can't do this | I'm still learning. What am I missing?|\n",
    "|  This is too hard. | With practice, I can get better.|\n",
    "|   I give up.  | I'll try something else.|\n",
    "|I'm afraid of being wrong.|Mistakes are how we learn!|\n"
   ]
  },
  {
   "cell_type": "markdown",
   "id": "065b8cdc",
   "metadata": {
    "slideshow": {
     "slide_type": "fragment"
    }
   },
   "source": [
    "### Concepts build on each other:\n",
    "  * Don't wait until last minute!\n",
    "  * Complete homework on time\n",
    "  * Ask for help"
   ]
  },
  {
   "cell_type": "markdown",
   "id": "bed10bdf",
   "metadata": {
    "slideshow": {
     "slide_type": "slide"
    }
   },
   "source": [
    "## In-Class Participation\n",
    "\n",
    "* Have the notebooks downloaded and ready before class  \n",
    "* Ask questions often  \n",
    "* Work through coding activities  \n"
   ]
  },
  {
   "cell_type": "markdown",
   "id": "abb167ac",
   "metadata": {
    "slideshow": {
     "slide_type": "slide"
    }
   },
   "source": [
    "##  Pause...How to access these slides....\n",
    "\n",
    "#### what is a .ipynb file?\n",
    "\n",
    "We will be using Jupyter Notebooks, Download instructions on Canvas!\n"
   ]
  },
  {
   "cell_type": "markdown",
   "id": "6c32f4c9",
   "metadata": {
    "slideshow": {
     "slide_type": "slide"
    }
   },
   "source": [
    "**Note**: Let's organize this nicely on your computer!\n",
    "\n",
    " - Create a folder on your computers in Documents folder\n",
    " \n",
    "   - Call it 'Intro_to_Data_Science_W24' or something similar\n",
    "   \n",
    "   \n",
    " - Create a sub-folder called 'lectures'\n",
    " \n",
    " - Create a sub-folder called 'labs'\n",
    " \n",
    " - While we're at it, create a sub-folder called 'homework'"
   ]
  },
  {
   "cell_type": "markdown",
   "id": "a5a4fea7",
   "metadata": {
    "slideshow": {
     "slide_type": "slide"
    }
   },
   "source": [
    "### About Jupyter Notebook\n",
    "\n",
    "Notebooks run out of a **kernel**. \n",
    "\n",
    "A kernel is an instance or a *session* in which you may type and run Python code in a shell."
   ]
  },
  {
   "cell_type": "markdown",
   "id": "5ccff5f6",
   "metadata": {
    "slideshow": {
     "slide_type": "slide"
    }
   },
   "source": [
    "## Code and markdown cells\n",
    "\n",
    "In a Python notebook, there are two types of cells: **code** cells and **markdown** cells. \n",
    "\n",
    "\n"
   ]
  },
  {
   "cell_type": "markdown",
   "id": "ec06a35f",
   "metadata": {
    "slideshow": {
     "slide_type": "fragment"
    }
   },
   "source": [
    "<span style=\"color:blue\">   some *blue* text for note taking....   </span>"
   ]
  },
  {
   "cell_type": "markdown",
   "id": "97202e42",
   "metadata": {
    "slideshow": {
     "slide_type": "slide"
    }
   },
   "source": [
    "### Code cells\n",
    "- Can be executed to perform a certain task and/or give a certain output. \n",
    "- Can also contain *comments*, which are denotated by a hashtag ( # ). Comments are not executed by the computer, but can be useful for a human reader in understanding the code. \n"
   ]
  },
  {
   "cell_type": "markdown",
   "id": "93145a19",
   "metadata": {
    "slideshow": {
     "slide_type": "slide"
    }
   },
   "source": [
    "### Markdown cells\n",
    "- Used to make human-readable text and graphics (like this cell that you're reading currently). \n",
    "- Utilizes some HTML code elements for modifying text and pictures (see below). \n",
    "- When executed, markdown code renders all text and graphics in a readable form. \n",
    "\n",
    "**You can change the type of cell by navigating to the dropdown menu in the toolbar and selecting either** `Code` **or** `Markdown`**.**"
   ]
  },
  {
   "cell_type": "markdown",
   "id": "9bfe8530",
   "metadata": {
    "slideshow": {
     "slide_type": "slide"
    }
   },
   "source": [
    "## Running cells\n",
    "\n",
    "To run a selected cell, you can click the 'Run' button!\n"
   ]
  },
  {
   "cell_type": "markdown",
   "id": "0f894354",
   "metadata": {
    "slideshow": {
     "slide_type": "slide"
    }
   },
   "source": [
    "Or...utilize three options from the `Run` tab in the menu bar: \n",
    "\n",
    "- The `Run Selected Cells` option will simply run the selected cell(s), show the output, and advance to the next cell. This option can also be done by clicking the *run cell* option within the notebook toolbar. If a subsequent cell does not exist, a new cell is created.\n",
    "\n",
    "- The `Run Selected Cells and Insert Below` option will run the selected cell(s), show the output, and then insert a new cell.  \n",
    "\n",
    "- The `Run Selected Cells and Do not Advance` option will run the selected cell(s) and show the output, but will not select the subsequent cell. \n",
    "\n",
    "The keyboard shortcuts for these options are displayed next to them in the `Run` tab. It will be extremely useful for you to learn at least one of these shortcuts, particularly the `Run Selected Cells` shortcut."
   ]
  },
  {
   "cell_type": "markdown",
   "id": "f00bda7e",
   "metadata": {
    "slideshow": {
     "slide_type": "slide"
    }
   },
   "source": [
    "## Executing cells and outputs\n",
    "\n",
    "To the left of a code cell, you will see `[ ]:`. Within the brackets, you will see a number when a cell that has been successfully executed. In notebooks, cells can be run out of order, so this number on the side indicates the order in which the cell was executed in the kernel. \n",
    "\n",
    "When the brackets are blue, the corresponding cell is referred to as the input cell, and when the brackets are red, the corresponding cell is referred to as the output cell. \n",
    "\n",
    "When a cell has `[*]:` next to it, it means that the cell is currently running or is queued to run. Sometimes, when running code, there will not be a visible output. We will discuss more of this in the upcoming coding lecture and exercises.\n",
    "\n",
    "<img src=\"https://raw.githubusercontent.com/campbelle1/CAN2023/5de18de7f09acdb00ca4bb1a14f6b6d4985506fa/(3)RunCells.gif\" width=\"1000\" align=\"center\">\n",
    "\n"
   ]
  },
  {
   "cell_type": "markdown",
   "id": "00b5db3d",
   "metadata": {},
   "source": [
    "### Interrupting and restarting the kernel\n",
    "From the menubar, there are three options for interrupting and restarting the kernel:\n",
    "- `Kernel > Interrupt Kernel` - stops the kernel from continuing to execute the cell that is currently running\n",
    "- `Kernel > Restart Kernel...` - erases all data, variables and other objects from the session, but keeps the output from the previous session\n",
    "- `Kernel > Restart Kernel and Clear All Outputs` - erases all objects in the session and clears the associated output from each cell\n",
    "\n",
    "\n",
    "<img src=\"https://raw.githubusercontent.com/campbelle1/CAN2023/8bb70cb95dd28c7e3c71b6f589cdd63539d858bb/kernel-toolz.png\" width=\"1000\" align=\"center\">\n",
    "\n",
    "> *Icons for running cells, interrupting the kernel, and restarting the kernel*\n",
    "\n",
    "****"
   ]
  },
  {
   "cell_type": "markdown",
   "id": "03dc7bab",
   "metadata": {
    "slideshow": {
     "slide_type": "slide"
    }
   },
   "source": [
    "## Now some coding:\n"
   ]
  },
  {
   "cell_type": "markdown",
   "id": "516b4edc",
   "metadata": {
    "slideshow": {
     "slide_type": "fragment"
    }
   },
   "source": [
    "### Consider the Titanic dataset (or collection of information) \n",
    "\n",
    "The sinking of the Titanic is one of the most infamous shipwrecks in history.\n",
    "\n",
    "On April 15, 1912, during her maiden voyage, the widely considered “unsinkable” RMS Titanic sank after colliding with an iceberg. Unfortunately, there weren’t enough lifeboats for everyone onboard, resulting in the death of 1502 out of 2224 passengers and crew.\n"
   ]
  },
  {
   "cell_type": "markdown",
   "id": "f90941cc",
   "metadata": {
    "slideshow": {
     "slide_type": "slide"
    }
   },
   "source": [
    "### Titanic"
   ]
  },
  {
   "cell_type": "markdown",
   "id": "e762120b",
   "metadata": {
    "slideshow": {
     "slide_type": "fragment"
    }
   },
   "source": [
    "<div style=\"width: 100%;\">\n",
    "        <div style=\"width: 60%; height: 200px; float: left;\"> \n",
    "            <center> \n",
    "\n",
    "<img src=\"https://raw.githubusercontent.com/SusannaLange/Data_118_images/main/images/titanic/titanic_photo.png\" alt=\"titanic\" width=\"80%\">\n",
    "    \n",
    "</center>\n",
    "        </div>\n",
    "        <div style=\"margin-left: 40%; height: 500px;\"> \n",
    "            <center>\n",
    "<img src=\"https://raw.githubusercontent.com/SusannaLange/Data_118_images/main/images/titanic/titanic_photo_movie.png\" alt=\"titanic\" width=\"80%\">\n",
    "    \n",
    "</center>\n",
    "\n"
   ]
  },
  {
   "cell_type": "markdown",
   "id": "2cbcd833",
   "metadata": {
    "slideshow": {
     "slide_type": "slide"
    }
   },
   "source": [
    "## What are some questions you might have about the sinking of the Titanic?\n",
    "\n",
    "\n",
    "\n",
    "1. \n",
    "\n",
    "\n",
    "\n",
    "2. \n",
    "\n",
    "\n",
    "\n",
    "3. \n",
    "\n"
   ]
  },
  {
   "cell_type": "markdown",
   "id": "dedc507b",
   "metadata": {
    "slideshow": {
     "slide_type": "slide"
    }
   },
   "source": [
    "#### Let's look at the data!\n"
   ]
  },
  {
   "cell_type": "markdown",
   "id": "6331d8b6",
   "metadata": {
    "slideshow": {
     "slide_type": "fragment"
    }
   },
   "source": [
    "<center> \n",
    "\n",
    "<img src=\"https://raw.githubusercontent.com/SusannaLange/Data_118_images/main/images/titanic/titanic_df_cropped.png\" alt=\"titanic\" width=\"80%\">\n",
    "    \n",
    "</center>\n"
   ]
  },
  {
   "cell_type": "markdown",
   "id": "3bfaca6e",
   "metadata": {
    "slideshow": {
     "slide_type": "slide"
    }
   },
   "source": [
    "## Now, how can we work with this data in python?\n",
    "\n",
    "We need to know basic *syntax* (Coding languages are extremely literal)\n",
    "\n",
    "\"the arrangement of words and phrases to create well-formed sentences in a language\""
   ]
  },
  {
   "cell_type": "markdown",
   "id": "b8cba371",
   "metadata": {
    "slideshow": {
     "slide_type": "slide"
    }
   },
   "source": [
    "### Numbers in Python\n",
    "\n",
    "Python has two real number types: \n",
    "* `int`: an integer of any size\n",
    "* `float`: a number with an optional fractional part\n"
   ]
  },
  {
   "cell_type": "markdown",
   "id": "c2deba70",
   "metadata": {
    "slideshow": {
     "slide_type": "fragment"
    }
   },
   "source": [
    "An `int` never has a decimal point; a `float` always does"
   ]
  },
  {
   "cell_type": "markdown",
   "id": "8ccacdbf",
   "metadata": {
    "slideshow": {
     "slide_type": "fragment"
    }
   },
   "source": [
    "A `float` might be printed using scientific notation\n"
   ]
  },
  {
   "cell_type": "markdown",
   "id": "e6328b9f",
   "metadata": {
    "slideshow": {
     "slide_type": "fragment"
    }
   },
   "source": [
    "Three limitations of `float` values:\n",
    "* They have limited size (but the limit is huge)\n",
    "* They have limited precision of 15-16 decimal places\n",
    "* After arithmetic, the final few decimal places can be wrong (due to rounding errors)"
   ]
  },
  {
   "cell_type": "markdown",
   "id": "d944bdd8",
   "metadata": {
    "slideshow": {
     "slide_type": "slide"
    }
   },
   "source": [
    "## Exploring the data\n",
    " \n",
    "Suppose we want to find the average age of the first 5 passengers"
   ]
  },
  {
   "cell_type": "code",
   "execution_count": null,
   "id": "2565b288",
   "metadata": {
    "slideshow": {
     "slide_type": "fragment"
    }
   },
   "outputs": [],
   "source": [
    "#this is a comment\n",
    "#the computer does not 'see' this line as code\n",
    "22+38+26+35+35"
   ]
  },
  {
   "cell_type": "code",
   "execution_count": null,
   "id": "dcbc910e",
   "metadata": {
    "slideshow": {
     "slide_type": "fragment"
    }
   },
   "outputs": [],
   "source": [
    "156/5"
   ]
  },
  {
   "cell_type": "markdown",
   "id": "67a14399",
   "metadata": {
    "slideshow": {
     "slide_type": "slide"
    }
   },
   "source": [
    "### We can perform additional operations as well!"
   ]
  },
  {
   "cell_type": "markdown",
   "id": "cf166a41",
   "metadata": {
    "slideshow": {
     "slide_type": "fragment"
    },
    "solution": "hidden"
   },
   "source": [
    "\n",
    "<center> \n",
    "\n",
    "<img src=\"https://raw.githubusercontent.com/SusannaLange/Data_118_images/main/images/intro/operations.png\" alt=\"operations\" width=\"80%\">\n",
    "    \n",
    "</center>"
   ]
  },
  {
   "cell_type": "code",
   "execution_count": null,
   "id": "d1ae5a2e",
   "metadata": {
    "slideshow": {
     "slide_type": "slide"
    }
   },
   "outputs": [],
   "source": [
    "#python syntax is strict!!\n",
    "2 * * 4"
   ]
  },
  {
   "cell_type": "markdown",
   "id": "163f9436",
   "metadata": {
    "slideshow": {
     "slide_type": "fragment"
    }
   },
   "source": [
    "Python just computed this action, or evaulated the statement. Nothing is saved."
   ]
  },
  {
   "cell_type": "markdown",
   "id": "62a91880",
   "metadata": {
    "slideshow": {
     "slide_type": "slide"
    }
   },
   "source": [
    "# Names and assignments\n",
    "\n",
    "Statements do not have a value - they perform an action.\n",
    "\n",
    "An **assignment** statement changes the meaning of the name to the left of the = symbol. We are setting a variable equal to something."
   ]
  },
  {
   "cell_type": "code",
   "execution_count": null,
   "id": "1c8e4937",
   "metadata": {
    "slideshow": {
     "slide_type": "fragment"
    }
   },
   "outputs": [],
   "source": [
    "sum_passenger_age = 22+38+26+35+35"
   ]
  },
  {
   "cell_type": "code",
   "execution_count": null,
   "id": "f5d17735",
   "metadata": {
    "slideshow": {
     "slide_type": "fragment"
    }
   },
   "outputs": [],
   "source": [
    "sum_passenger_age"
   ]
  },
  {
   "cell_type": "code",
   "execution_count": null,
   "id": "03fb34db",
   "metadata": {
    "slideshow": {
     "slide_type": "fragment"
    }
   },
   "outputs": [],
   "source": [
    "average_first_5_age = sum_passenger_age/5\n",
    "average_first_5_age"
   ]
  },
  {
   "cell_type": "markdown",
   "id": "8a456f86",
   "metadata": {
    "slideshow": {
     "slide_type": "slide"
    }
   },
   "source": [
    "### Text in Python\n",
    "\n",
    "A **string** value is a snippet of text of any length\n",
    "* 'a'\n",
    "* 'word'\n",
    "* \"there can be 2 sentences. Here's the second!”"
   ]
  },
  {
   "cell_type": "code",
   "execution_count": null,
   "id": "0d629297",
   "metadata": {
    "slideshow": {
     "slide_type": "fragment"
    }
   },
   "outputs": [],
   "source": [
    "Passenger_1 = \"Mr. Owen Harris Braund\"\n",
    "\n",
    "Passenger_1"
   ]
  },
  {
   "cell_type": "markdown",
   "id": "0e21ac71",
   "metadata": {
    "slideshow": {
     "slide_type": "fragment"
    }
   },
   "source": [
    "It can include spaces and !?,), as long it is contained in quotes."
   ]
  },
  {
   "cell_type": "markdown",
   "id": "f13d8678",
   "metadata": {
    "slideshow": {
     "slide_type": "slide"
    }
   },
   "source": [
    "## Actually any of the below work for string expressions!"
   ]
  },
  {
   "cell_type": "code",
   "execution_count": null,
   "id": "bdabb7c6",
   "metadata": {
    "slideshow": {
     "slide_type": "fragment"
    }
   },
   "outputs": [],
   "source": [
    "option1 = 'Mr. Owen Harris Braund' #one single quote\n",
    "option2 = \"Mr. Owen Harris Braund\" #double quotes\n",
    "option3 = '''Mr. Owen Harris Braund''' #three single quotes\n",
    "option4 = \"\"\"Mr. Owen Harris Braund\"\"\" #three double quotes"
   ]
  },
  {
   "cell_type": "code",
   "execution_count": null,
   "id": "2c50f5bd",
   "metadata": {
    "hideCode": false,
    "slideshow": {
     "slide_type": "fragment"
    }
   },
   "outputs": [],
   "source": [
    "print(option1)\n",
    "print(option2)\n",
    "print(option3)\n",
    "print(option4)"
   ]
  },
  {
   "cell_type": "markdown",
   "id": "e4256067",
   "metadata": {
    "slideshow": {
     "slide_type": "slide"
    }
   },
   "source": [
    "### String - Operations\n",
    "\n",
    "\n",
    "Adding strings concatenates them."
   ]
  },
  {
   "cell_type": "code",
   "execution_count": null,
   "id": "6b52be01",
   "metadata": {
    "slideshow": {
     "slide_type": "fragment"
    }
   },
   "outputs": [],
   "source": [
    "\"Mr.\" + \"Owen\""
   ]
  },
  {
   "cell_type": "code",
   "execution_count": null,
   "id": "74bd584c",
   "metadata": {
    "slideshow": {
     "slide_type": "fragment"
    }
   },
   "outputs": [],
   "source": [
    "\"Mr.\" + \" \" + \"Owen\" "
   ]
  },
  {
   "cell_type": "code",
   "execution_count": null,
   "id": "39e3df56",
   "metadata": {
    "slideshow": {
     "slide_type": "fragment"
    }
   },
   "outputs": [],
   "source": [
    "5*\"Owen\""
   ]
  },
  {
   "cell_type": "markdown",
   "id": "a6d8ff31",
   "metadata": {
    "slideshow": {
     "slide_type": "slide"
    }
   },
   "source": [
    "## Types of Data... i.e. Data Types\n",
    "\n",
    "- Numbers\n",
    "    - *integer*  (6, -12, ...) Integers are called **int** values in the Python language. They can only represent whole numbers (negative, zero, or positive) that don’t have a fractional component.\n",
    "    \n",
    "    - *floating point numbers*  (3.1415, -7.8, ...) Real numbers are called **float** values (or floating point values) in the Python language. They can represent whole or fractional numbers.\n"
   ]
  },
  {
   "cell_type": "markdown",
   "id": "5cf9a9b1",
   "metadata": {
    "slideshow": {
     "slide_type": "slide"
    }
   },
   "source": [
    "## Data Types\n",
    "\n",
    "\n",
    "The type of a number is evident from the way it is displayed: int values have no decimal point and float values always have a decimal point.\n",
    "\n",
    "\n",
    "- *Character string, or strings*\n",
    "    -  A string value is a snippet of text of any length, denoted as **str** type in python.\n",
    "    \n",
    "- *Boolean* \n",
    "     - contains the binary options of True or False (encoded as 1 or 0 respectively)\n",
    "     \n",
    "The type controls what operations can be performed!  "
   ]
  },
  {
   "cell_type": "markdown",
   "id": "00af8980",
   "metadata": {
    "slideshow": {
     "slide_type": "slide"
    }
   },
   "source": [
    "<center>\n",
    "\n",
    "<img src=\"https://raw.githubusercontent.com/SusannaLange/Data_118_images/main/images/intro/boolean.png\"  alt=\"Comparisons\" width=\"80%\">\n",
    "   \n",
    "</center>"
   ]
  },
  {
   "cell_type": "code",
   "execution_count": null,
   "id": "5b44ebc3",
   "metadata": {
    "slideshow": {
     "slide_type": "fragment"
    }
   },
   "outputs": [],
   "source": [
    "4 < 5"
   ]
  },
  {
   "cell_type": "code",
   "execution_count": null,
   "id": "b8b21dc5",
   "metadata": {
    "slideshow": {
     "slide_type": "fragment"
    }
   },
   "outputs": [],
   "source": [
    "3 == 2"
   ]
  },
  {
   "cell_type": "markdown",
   "id": "198bd141",
   "metadata": {
    "slideshow": {
     "slide_type": "slide"
    }
   },
   "source": [
    "## Your Turn! (if time)\n",
    "\n",
    "Python expressions obey the same familiar rules of precedence as in algebra: multiplication and division occur before addition and subtraction. Parentheses can be used to group together smaller expressions within a larger expression.\n",
    "\n"
   ]
  },
  {
   "cell_type": "markdown",
   "id": "876912db",
   "metadata": {},
   "source": [
    "#### Question 1a: BEFORE you execute the code, what do you think this will produce?\n"
   ]
  },
  {
   "cell_type": "code",
   "execution_count": null,
   "id": "a6e3d8c0",
   "metadata": {
    "scrolled": true
   },
   "outputs": [],
   "source": [
    "3 * 4 + 5 * 3"
   ]
  },
  {
   "cell_type": "code",
   "execution_count": null,
   "id": "be3b1679",
   "metadata": {
    "scrolled": true
   },
   "outputs": [],
   "source": [
    "Answer:"
   ]
  },
  {
   "cell_type": "markdown",
   "id": "03548449",
   "metadata": {},
   "source": [
    "#### Question 1b: What about this?"
   ]
  },
  {
   "cell_type": "code",
   "execution_count": null,
   "id": "610faacb",
   "metadata": {
    "scrolled": true
   },
   "outputs": [],
   "source": [
    "3 * (4 + 5) * 3"
   ]
  },
  {
   "cell_type": "code",
   "execution_count": null,
   "id": "5d4138d4",
   "metadata": {
    "scrolled": true
   },
   "outputs": [],
   "source": [
    "Answer:"
   ]
  },
  {
   "cell_type": "markdown",
   "id": "afe3364c",
   "metadata": {
    "scrolled": true
   },
   "source": [
    "#### Question 2a: What will this produce?"
   ]
  },
  {
   "cell_type": "code",
   "execution_count": null,
   "id": "d7fd32b0",
   "metadata": {
    "scrolled": true
   },
   "outputs": [],
   "source": [
    "2 * * 5"
   ]
  },
  {
   "cell_type": "code",
   "execution_count": null,
   "id": "eb227818",
   "metadata": {
    "scrolled": true
   },
   "outputs": [],
   "source": [
    "Answer:"
   ]
  },
  {
   "cell_type": "markdown",
   "id": "45a151d8",
   "metadata": {},
   "source": [
    "#### Question 2b: How would you fix the code in the previous cell?\n"
   ]
  },
  {
   "cell_type": "code",
   "execution_count": null,
   "id": "e7e200ce",
   "metadata": {
    "scrolled": true
   },
   "outputs": [],
   "source": [
    "#Answer:"
   ]
  },
  {
   "cell_type": "markdown",
   "id": "bd17e699",
   "metadata": {},
   "source": [
    "We can also do division:"
   ]
  },
  {
   "cell_type": "code",
   "execution_count": null,
   "id": "51293aaa",
   "metadata": {
    "scrolled": true
   },
   "outputs": [],
   "source": [
    "7 / 3"
   ]
  },
  {
   "cell_type": "markdown",
   "id": "2092dc23",
   "metadata": {},
   "source": [
    "And ask python to tell us the data type of the result:"
   ]
  },
  {
   "cell_type": "code",
   "execution_count": null,
   "id": "b1a874d0",
   "metadata": {
    "scrolled": true
   },
   "outputs": [],
   "source": [
    "type(7 / 3)"
   ]
  },
  {
   "cell_type": "code",
   "execution_count": null,
   "id": "71142d80",
   "metadata": {
    "scrolled": true
   },
   "outputs": [],
   "source": [
    "Using // does floor division"
   ]
  },
  {
   "cell_type": "code",
   "execution_count": null,
   "id": "26ddb194",
   "metadata": {
    "scrolled": true
   },
   "outputs": [],
   "source": [
    "7 // 3"
   ]
  },
  {
   "cell_type": "markdown",
   "id": "f373a648",
   "metadata": {},
   "source": [
    "#### Question 3: What data type is the result of 7//3? Use python to check your answer.\n"
   ]
  },
  {
   "cell_type": "code",
   "execution_count": null,
   "id": "51bdefdb",
   "metadata": {
    "scrolled": true
   },
   "outputs": [],
   "source": [
    "type(7 // 3)"
   ]
  },
  {
   "cell_type": "code",
   "execution_count": null,
   "id": "1fe414f3",
   "metadata": {
    "scrolled": true
   },
   "outputs": [],
   "source": [
    "#Answer:\n"
   ]
  },
  {
   "cell_type": "markdown",
   "id": "386155c9",
   "metadata": {},
   "source": [
    "% is the remainder (or modulo) operator"
   ]
  },
  {
   "cell_type": "code",
   "execution_count": null,
   "id": "c48ae943",
   "metadata": {
    "scrolled": true
   },
   "outputs": [],
   "source": [
    "7 % 3  # 7/3 = 2 R 1, this outputs the remainder of 1"
   ]
  },
  {
   "cell_type": "markdown",
   "id": "cdf36108",
   "metadata": {},
   "source": [
    "#### Question 4: What do you think this next cell will produce?"
   ]
  },
  {
   "cell_type": "code",
   "execution_count": null,
   "id": "b56e7be2",
   "metadata": {
    "scrolled": true
   },
   "outputs": [],
   "source": [
    "float('4.0')"
   ]
  },
  {
   "cell_type": "code",
   "execution_count": null,
   "id": "25c2bf9e",
   "metadata": {
    "scrolled": true
   },
   "outputs": [],
   "source": [
    "Answer:"
   ]
  },
  {
   "cell_type": "markdown",
   "id": "133aea83",
   "metadata": {},
   "source": [
    "#### Question 5a: What about this?"
   ]
  },
  {
   "cell_type": "code",
   "execution_count": null,
   "id": "a8a8ffa5",
   "metadata": {
    "scrolled": true
   },
   "outputs": [],
   "source": [
    "8 / 2*(2+2)"
   ]
  },
  {
   "cell_type": "code",
   "execution_count": null,
   "id": "0a4ed7b9",
   "metadata": {
    "scrolled": true
   },
   "outputs": [],
   "source": [
    "Answer:"
   ]
  },
  {
   "cell_type": "markdown",
   "id": "152c731e",
   "metadata": {},
   "source": [
    "#### Question 5b: How would you fix the code above?"
   ]
  },
  {
   "cell_type": "code",
   "execution_count": null,
   "id": "87502b2e",
   "metadata": {
    "scrolled": true
   },
   "outputs": [],
   "source": [
    "#Answer:"
   ]
  },
  {
   "cell_type": "markdown",
   "id": "4c8e7e61",
   "metadata": {},
   "source": [
    "This is the end of the lecture notebook. Summarizing an important concept from class is a good way to remember it in the future. What is something important you learned today?"
   ]
  },
  {
   "cell_type": "markdown",
   "id": "88149a9d",
   "metadata": {},
   "source": [
    "Answer"
   ]
  }
 ],
 "metadata": {
  "kernelspec": {
   "display_name": "Python 3 (ipykernel)",
   "language": "python",
   "name": "python3"
  },
  "language_info": {
   "codemirror_mode": {
    "name": "ipython",
    "version": 3
   },
   "file_extension": ".py",
   "mimetype": "text/x-python",
   "name": "python",
   "nbconvert_exporter": "python",
   "pygments_lexer": "ipython3",
   "version": "3.12.0"
  },
  "rise": {
   "enable_chalkboard": true,
   "scroll": true,
   "scrollable": true
  },
  "toc": {
   "base_numbering": 1,
   "nav_menu": {},
   "number_sections": false,
   "sideBar": false,
   "skip_h1_title": false,
   "title_cell": "Table of Contents",
   "title_sidebar": "Contents",
   "toc_cell": false,
   "toc_position": {
    "height": "calc(100% - 180px)",
    "left": "10px",
    "top": "150px",
    "width": "165px"
   },
   "toc_section_display": true,
   "toc_window_display": true
  },
  "vscode": {
   "interpreter": {
    "hash": "1a1af0ee75eeea9e2e1ee996c87e7a2b11a0bebd85af04bb136d915cefc0abce"
   }
  }
 },
 "nbformat": 4,
 "nbformat_minor": 5
}
