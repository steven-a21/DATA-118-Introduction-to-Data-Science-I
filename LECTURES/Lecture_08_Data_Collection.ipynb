{
 "cells": [
  {
   "cell_type": "code",
   "execution_count": 1,
   "id": "f7544e60",
   "metadata": {},
   "outputs": [],
   "source": [
    "import numpy as np\n",
    "import pandas as pd\n",
    "\n",
    "\n",
    "%matplotlib inline\n",
    "import matplotlib.pyplot as plt\n",
    "plt.style.use('fivethirtyeight')"
   ]
  },
  {
   "cell_type": "markdown",
   "id": "a45e7fde",
   "metadata": {
    "slideshow": {
     "slide_type": "slide"
    },
    "tags": [
     "hide_code"
    ]
   },
   "source": [
    "<center> \n",
    "\n",
    "# Data Collection\n",
    "\n",
    "## Dr. Lange- University of Chicago\n",
    "## Data 11800 - Winter 2024 \n",
    "\n",
    "<img src=\"https://raw.githubusercontent.com/amandakube/Data118LectureImages/main/UChicago_DSI.png\" alt=\"UC-DSI\" width=\"500\" height=\"600\">\n",
    "    \n",
    "</center>"
   ]
  },
  {
   "cell_type": "markdown",
   "id": "21138637",
   "metadata": {
    "slideshow": {
     "slide_type": "slide"
    }
   },
   "source": [
    "##### <code style=\"background:Thistle;color:black\">Question to think on:</code>\n",
    " Why do Data Scientists need to understand how their data was collected?"
   ]
  },
  {
   "cell_type": "markdown",
   "id": "0bc6a814",
   "metadata": {
    "slideshow": {
     "slide_type": "slide"
    }
   },
   "source": [
    "## This week\n",
    "\n",
    "* Causality vs Association\n",
    "* Observational studies versus experiments\n",
    "* Sampling and sampling schemes\n",
    "* Sampling biases\n",
    "* Simulation"
   ]
  },
  {
   "cell_type": "markdown",
   "id": "14d0331e",
   "metadata": {
    "slideshow": {
     "slide_type": "slide"
    }
   },
   "source": [
    "## Who remembers this?\n",
    "\n",
    "<center>\n",
    "\n",
    "<img src=\"https://raw.githubusercontent.com/amandakube/Data118LectureImages/main/Election2016.png\" alt=\"ClintonvsTrump\" width=\"500\" height=\"600\">\n",
    "    \n",
    "</center>"
   ]
  },
  {
   "cell_type": "markdown",
   "id": "9b717afd",
   "metadata": {
    "slideshow": {
     "slide_type": "slide"
    }
   },
   "source": [
    "Multiple reasons for this issue... \n",
    " \n",
    " - Post-Election Surveys Say Trump Won Undecided Voters\n",
    "    \n",
    " - Better-educated voters to respond to surveys - was more of an issue for 2016"
   ]
  },
  {
   "cell_type": "markdown",
   "id": "81471d99",
   "metadata": {
    "slideshow": {
     "slide_type": "slide"
    }
   },
   "source": [
    "<center>\n",
    "<img src=\"https://raw.githubusercontent.com/SusannaLange/Data_118_images/main/images/collection/election16.png\" alt=\"ed\" width=\"50%\">\n",
    "    \n",
    "</center>"
   ]
  },
  {
   "cell_type": "markdown",
   "id": "392c6084",
   "metadata": {
    "slideshow": {
     "slide_type": "slide"
    }
   },
   "source": [
    "## Big data is not necessarily better data\n",
    "\n",
    "The quality of results obtained from data analysis is only as good as the data used (garbage-in garbage-out)\n",
    "\n",
    "Analysis should involve good design, measurement and collection of data. Possible issues:\n",
    "\n",
    "* how to design the data collection, so we can answer the questions of interest?\n",
    "* from how many individuals or subjects should we collect the data?\n",
    "* how do we select the subjects?\n",
    "* how do we assign treatments in an experiment?"
   ]
  },
  {
   "cell_type": "markdown",
   "id": "0142b812",
   "metadata": {
    "slideshow": {
     "slide_type": "slide"
    }
   },
   "source": [
    "When gathering data, we are looking for patterns or relations between variables. When there exists a pattern between two variables, we call this an *association* or *correlation*.\n",
    "\n",
    "<center>\n",
    "<img src=\"https://raw.githubusercontent.com/SusannaLange/Data_118_images/main/images/collection/corr_1.png\" alt=\"corr\" width=\"80%\">\n",
    "    \n",
    "</center>"
   ]
  },
  {
   "cell_type": "markdown",
   "id": "41c4925f",
   "metadata": {
    "slideshow": {
     "slide_type": "slide"
    }
   },
   "source": [
    "<center>\n",
    "<img src=\"https://raw.githubusercontent.com/SusannaLange/Data_118_images/main/images/collection/corr_2.png\" alt=\"corr\" width=\"80%\">\n",
    "    \n",
    "</center>"
   ]
  },
  {
   "cell_type": "markdown",
   "id": "e197a21b",
   "metadata": {
    "slideshow": {
     "slide_type": "slide"
    }
   },
   "source": [
    "When we see that two variables $X$ and $Y$ are associated, we often wonder if one causes the other. There are 3 common scenarios:\n",
    "\n",
    "**Causation**: change in $X$ causes change in $Y$ (or vice-versa).\n",
    "\n",
    "**Common response (Confounding)**: some other variable $Z$ causes change in both $X$ and $Y$. In this case $Z$ is a confounding variable. \n",
    "\n",
    "**Colliding**: Changes in both $X$ and $Z$ cause change in some variable $Y$. In this case $Y$ is a collider, or colliding variable. \n",
    "\n",
    "<center>\n",
    "\n",
    "<img src=\"https://raw.githubusercontent.com/amandakube/Data118LectureImages/main/DAGs.png\" alt=\"DAGS\" width=\"900\">\n",
    "    \n",
    "</center>\n"
   ]
  },
  {
   "cell_type": "markdown",
   "id": "c1987f8b",
   "metadata": {
    "slideshow": {
     "slide_type": "slide"
    }
   },
   "source": [
    "**Examples**\n",
    "\n",
    "## **Causation** \n",
    "\n",
    "    - The number of cigarettes smoked does have a causal relationship with the rate of lung cancer. \n",
    "    \n",
    "    - going outside on the beach on a sunny day -----> sunburn\n",
    " \n",
    "    \n",
    "    - getting promotion ------> salary increase\n"
   ]
  },
  {
   "cell_type": "markdown",
   "id": "16ddb077",
   "metadata": {
    "slideshow": {
     "slide_type": "slide"
    }
   },
   "source": [
    "## **Common Response** \n",
    "\n",
    "There is a third variable affecting both X and Y. This variable Z may confound, or confuse, you on the relationship between X and Y.\n",
    "\n",
    " <center>\n",
    "<img src=\"https://raw.githubusercontent.com/SusannaLange/Data_118_images/main/images/collection/confound.png\" alt=\"confound\" width=\"80%\">\n",
    "    \n",
    "</center>"
   ]
  },
  {
   "cell_type": "markdown",
   "id": "fbff2517",
   "metadata": {
    "slideshow": {
     "slide_type": "fragment"
    }
   },
   "source": [
    "  - getting promotion ----> salary increase\n",
    "  \n",
    "  - getting promotion ---> bigger office space\n",
    "  \n",
    "  \n",
    "Now there is an association between salary increase and office space.....that's not casual"
   ]
  },
  {
   "cell_type": "markdown",
   "id": "fe064c36",
   "metadata": {
    "slideshow": {
     "slide_type": "slide"
    }
   },
   "source": [
    "## Common Response\n",
    "\n",
    "Here's classic example of a confounding variable. A study of hospital patients. \n",
    "\n",
    " $X$  = did the patient take an ambulance or not.\n",
    " \n",
    " $Y$  = length of their hospital stay. \n",
    "\n",
    "It turns out taking an ambulance is associated with worse outcomes, and longer stays in hospital patients. Is taking an ambulance worse that being driven by a family member?\n",
    "\n",
    "What's the confounding variable?"
   ]
  },
  {
   "cell_type": "markdown",
   "id": "6d69d7e9",
   "metadata": {
    "slideshow": {
     "slide_type": "slide"
    }
   },
   "source": [
    "## **Colliding** \n",
    "Two variables X and Y are both causes of a third variable Z \n",
    "\n",
    "Classic example:\n",
    "\n",
    " <center>\n",
    "<img src=\"https://raw.githubusercontent.com/SusannaLange/Data_118_images/main/images/collection/talent1.png\" alt=\"collide\" width=\"30%\">\n",
    "    \n",
    "</center>"
   ]
  },
  {
   "cell_type": "markdown",
   "id": "ef492b5b",
   "metadata": {
    "slideshow": {
     "slide_type": "fragment"
    }
   },
   "source": [
    "X = Acting Talent\n",
    "\n",
    "Y = Attractiveness\n",
    "\n",
    "\n",
    "Z = Celebrity"
   ]
  },
  {
   "cell_type": "markdown",
   "id": "f235c9db",
   "metadata": {
    "slideshow": {
     "slide_type": "fragment"
    }
   },
   "source": [
    " <center>\n",
    "<img src=\"https://raw.githubusercontent.com/SusannaLange/Data_118_images/main/images/collection/talent2.png\" alt=\"collide\" width=\"30%\">\n",
    "    \n",
    "</center>"
   ]
  },
  {
   "cell_type": "markdown",
   "id": "00609149",
   "metadata": {
    "slideshow": {
     "slide_type": "slide"
    }
   },
   "source": [
    "### Colliding Variables, can be an issue if you are looking at certain populations."
   ]
  },
  {
   "cell_type": "markdown",
   "id": "dbe6b47d",
   "metadata": {
    "slideshow": {
     "slide_type": "slide"
    }
   },
   "source": [
    "## Common Misconception\n",
    "\n",
    "A confounding variable is **NOT** an intermediate variable in a causative chain. \n",
    "\n",
    "Say a study of people in the United States finds that wealthier people on average live longer. You might say, maybe it's because wealthier typically can afford better healthcare.\n",
    "\n",
    "While this might be true, what you described is **NOT** a confounding variable. It is an explanation for a potential casual relationship. \n",
    "\n",
    "You wouldn't say that quality of healthcare access is a confounding variable."
   ]
  },
  {
   "cell_type": "markdown",
   "id": "7f048169",
   "metadata": {
    "slideshow": {
     "slide_type": "slide"
    }
   },
   "source": [
    "If you conduct a study, you should try to account for confounding variables before you collect data.\n",
    "\n",
    "**Lurking Variable:** A confounding variable that is not directly measured or accounted for in a study that results in a spurious association. This is usually not possible to account for without collecting more data.\n"
   ]
  },
  {
   "cell_type": "markdown",
   "id": "3f16eedf",
   "metadata": {
    "slideshow": {
     "slide_type": "slide"
    }
   },
   "source": [
    "Pause...motivation"
   ]
  },
  {
   "cell_type": "markdown",
   "id": "dc4a0180",
   "metadata": {
    "slideshow": {
     "slide_type": "slide"
    }
   },
   "source": [
    "### How to properly account for a confounder\n",
    "\n",
    "Conditioning on a confounding variable is best practice to remove the spurious association between X and Y\n",
    "\n",
    "**Conditioning**: looking at only one value of the conditioned variable\n",
    "\n",
    "eg. When we condition on weather and only consider ice cream sales and swimming on warm days in the summer months, the association disappears.\n",
    "\n",
    "Condition only on confounding variables! Conditioning on colliding variables will cause associations to appear where there are none."
   ]
  },
  {
   "cell_type": "markdown",
   "id": "03db2575",
   "metadata": {
    "slideshow": {
     "slide_type": "slide"
    }
   },
   "source": [
    "## Example - Conditioning\n",
    "Let's look at some data, to see how Confounders and Colliders can affect analysis of data."
   ]
  },
  {
   "cell_type": "code",
   "execution_count": 2,
   "id": "80190a67",
   "metadata": {
    "slideshow": {
     "slide_type": "fragment"
    }
   },
   "outputs": [
    {
     "data": {
      "text/html": [
       "<div>\n",
       "<style scoped>\n",
       "    .dataframe tbody tr th:only-of-type {\n",
       "        vertical-align: middle;\n",
       "    }\n",
       "\n",
       "    .dataframe tbody tr th {\n",
       "        vertical-align: top;\n",
       "    }\n",
       "\n",
       "    .dataframe thead th {\n",
       "        text-align: right;\n",
       "    }\n",
       "</style>\n",
       "<table border=\"1\" class=\"dataframe\">\n",
       "  <thead>\n",
       "    <tr style=\"text-align: right;\">\n",
       "      <th></th>\n",
       "      <th>Ice Cream Sales</th>\n",
       "      <th>Shark Attacks</th>\n",
       "      <th>Weather (F)</th>\n",
       "    </tr>\n",
       "  </thead>\n",
       "  <tbody>\n",
       "    <tr>\n",
       "      <th>Jan</th>\n",
       "      <td>1</td>\n",
       "      <td>0</td>\n",
       "      <td>15</td>\n",
       "    </tr>\n",
       "    <tr>\n",
       "      <th>Feb1</th>\n",
       "      <td>2</td>\n",
       "      <td>1</td>\n",
       "      <td>28</td>\n",
       "    </tr>\n",
       "    <tr>\n",
       "      <th>Feb2</th>\n",
       "      <td>10</td>\n",
       "      <td>3</td>\n",
       "      <td>30</td>\n",
       "    </tr>\n",
       "    <tr>\n",
       "      <th>Feb3</th>\n",
       "      <td>15</td>\n",
       "      <td>2</td>\n",
       "      <td>34</td>\n",
       "    </tr>\n",
       "    <tr>\n",
       "      <th>Mar</th>\n",
       "      <td>9</td>\n",
       "      <td>4</td>\n",
       "      <td>36</td>\n",
       "    </tr>\n",
       "    <tr>\n",
       "      <th>April</th>\n",
       "      <td>20</td>\n",
       "      <td>5</td>\n",
       "      <td>50</td>\n",
       "    </tr>\n",
       "    <tr>\n",
       "      <th>May</th>\n",
       "      <td>50</td>\n",
       "      <td>6</td>\n",
       "      <td>60</td>\n",
       "    </tr>\n",
       "    <tr>\n",
       "      <th>June1</th>\n",
       "      <td>43</td>\n",
       "      <td>6</td>\n",
       "      <td>70</td>\n",
       "    </tr>\n",
       "    <tr>\n",
       "      <th>June2</th>\n",
       "      <td>45</td>\n",
       "      <td>7</td>\n",
       "      <td>71</td>\n",
       "    </tr>\n",
       "    <tr>\n",
       "      <th>June3</th>\n",
       "      <td>48</td>\n",
       "      <td>6</td>\n",
       "      <td>74</td>\n",
       "    </tr>\n",
       "    <tr>\n",
       "      <th>June4</th>\n",
       "      <td>51</td>\n",
       "      <td>6</td>\n",
       "      <td>80</td>\n",
       "    </tr>\n",
       "    <tr>\n",
       "      <th>July</th>\n",
       "      <td>40</td>\n",
       "      <td>5</td>\n",
       "      <td>70</td>\n",
       "    </tr>\n",
       "    <tr>\n",
       "      <th>Aug</th>\n",
       "      <td>50</td>\n",
       "      <td>7</td>\n",
       "      <td>75</td>\n",
       "    </tr>\n",
       "  </tbody>\n",
       "</table>\n",
       "</div>"
      ],
      "text/plain": [
       "       Ice Cream Sales  Shark Attacks  Weather (F)\n",
       "Jan                  1              0           15\n",
       "Feb1                 2              1           28\n",
       "Feb2                10              3           30\n",
       "Feb3                15              2           34\n",
       "Mar                  9              4           36\n",
       "April               20              5           50\n",
       "May                 50              6           60\n",
       "June1               43              6           70\n",
       "June2               45              7           71\n",
       "June3               48              6           74\n",
       "June4               51              6           80\n",
       "July                40              5           70\n",
       "Aug                 50              7           75"
      ]
     },
     "execution_count": 2,
     "metadata": {},
     "output_type": "execute_result"
    }
   ],
   "source": [
    "import pandas as pd\n",
    "import numpy as np\n",
    "data = pd.DataFrame({'Ice Cream Sales':[1, 2, 10,15, 9,20, 50, 43, 45, 48, 51, 40, 50 ], 'Shark Attacks':[0,1, 3, 2,4,5, 6, 6, 7, 6, 6, 5, 7],\n",
    "                     'Weather (F)' :[15,28, 30, 34,36,50, 60, 70, 71, 74, 80, 70, 75 ]}, index = ['Jan' ,'Feb1','Feb2','Feb3', 'Mar', 'April', \"May\", 'June1','June2', 'June3', 'June4', 'July', 'Aug'] )\n",
    "data"
   ]
  },
  {
   "cell_type": "code",
   "execution_count": 3,
   "id": "980e8f1f",
   "metadata": {
    "slideshow": {
     "slide_type": "slide"
    }
   },
   "outputs": [
    {
     "data": {
      "image/png": "[encoded data removed]",
      "text/plain": [
       "<Figure size 640x480 with 1 Axes>"
      ]
     },
     "metadata": {},
     "output_type": "display_data"
    }
   ],
   "source": [
    "data.plot.scatter('Ice Cream Sales', 'Shark Attacks', title = 'Ice cream vs Sharks');"
   ]
  },
  {
   "cell_type": "code",
   "execution_count": 4,
   "id": "d61ecb54",
   "metadata": {
    "slideshow": {
     "slide_type": "slide"
    }
   },
   "outputs": [
    {
     "data": {
      "image/png": "[encoded data removed]",
      "text/plain": [
       "<Figure size 640x480 with 1 Axes>"
      ]
     },
     "metadata": {},
     "output_type": "display_data"
    }
   ],
   "source": [
    "# If we control for weather by only looking at warm days, the association largely disappears\n",
    "data.loc[data['Weather (F)']>50].plot.scatter('Ice Cream Sales', 'Shark Attacks',title = 'Ice cream vs Sharks during warm weather');"
   ]
  },
  {
   "cell_type": "code",
   "execution_count": 5,
   "id": "056bf8e5",
   "metadata": {
    "slideshow": {
     "slide_type": "slide"
    }
   },
   "outputs": [
    {
     "data": {
      "text/html": [
       "<div>\n",
       "<style scoped>\n",
       "    .dataframe tbody tr th:only-of-type {\n",
       "        vertical-align: middle;\n",
       "    }\n",
       "\n",
       "    .dataframe tbody tr th {\n",
       "        vertical-align: top;\n",
       "    }\n",
       "\n",
       "    .dataframe thead th {\n",
       "        text-align: right;\n",
       "    }\n",
       "</style>\n",
       "<table border=\"1\" class=\"dataframe\">\n",
       "  <thead>\n",
       "    <tr style=\"text-align: right;\">\n",
       "      <th></th>\n",
       "      <th>child height</th>\n",
       "      <th>mothers_height (m)</th>\n",
       "      <th>fathers_height (m)</th>\n",
       "    </tr>\n",
       "  </thead>\n",
       "  <tbody>\n",
       "    <tr>\n",
       "      <th>0</th>\n",
       "      <td>1.95</td>\n",
       "      <td>1.8</td>\n",
       "      <td>2.0</td>\n",
       "    </tr>\n",
       "    <tr>\n",
       "      <th>1</th>\n",
       "      <td>2.05</td>\n",
       "      <td>2.1</td>\n",
       "      <td>1.9</td>\n",
       "    </tr>\n",
       "    <tr>\n",
       "      <th>2</th>\n",
       "      <td>1.65</td>\n",
       "      <td>1.6</td>\n",
       "      <td>1.6</td>\n",
       "    </tr>\n",
       "    <tr>\n",
       "      <th>3</th>\n",
       "      <td>2.30</td>\n",
       "      <td>2.0</td>\n",
       "      <td>2.5</td>\n",
       "    </tr>\n",
       "    <tr>\n",
       "      <th>4</th>\n",
       "      <td>1.95</td>\n",
       "      <td>2.0</td>\n",
       "      <td>1.8</td>\n",
       "    </tr>\n",
       "    <tr>\n",
       "      <th>5</th>\n",
       "      <td>2.05</td>\n",
       "      <td>1.9</td>\n",
       "      <td>2.1</td>\n",
       "    </tr>\n",
       "    <tr>\n",
       "      <th>6</th>\n",
       "      <td>1.95</td>\n",
       "      <td>1.6</td>\n",
       "      <td>2.2</td>\n",
       "    </tr>\n",
       "    <tr>\n",
       "      <th>7</th>\n",
       "      <td>2.10</td>\n",
       "      <td>2.5</td>\n",
       "      <td>1.6</td>\n",
       "    </tr>\n",
       "    <tr>\n",
       "      <th>8</th>\n",
       "      <td>2.50</td>\n",
       "      <td>2.4</td>\n",
       "      <td>2.5</td>\n",
       "    </tr>\n",
       "  </tbody>\n",
       "</table>\n",
       "</div>"
      ],
      "text/plain": [
       "   child height  mothers_height (m)  fathers_height (m)\n",
       "0          1.95                 1.8                 2.0\n",
       "1          2.05                 2.1                 1.9\n",
       "2          1.65                 1.6                 1.6\n",
       "3          2.30                 2.0                 2.5\n",
       "4          1.95                 2.0                 1.8\n",
       "5          2.05                 1.9                 2.1\n",
       "6          1.95                 1.6                 2.2\n",
       "7          2.10                 2.5                 1.6\n",
       "8          2.50                 2.4                 2.5"
      ]
     },
     "execution_count": 5,
     "metadata": {},
     "output_type": "execute_result"
    }
   ],
   "source": [
    "#Let's look at an example of colliding variables\n",
    "mom = np.array((1.8,2.1,1.6,2,2,1.9,1.6,2.5,2.4))\n",
    "dad = np.array((2,1.9,1.6,2.5,1.8,2.1,2.2,1.6,2.5))\n",
    "height_df = pd.DataFrame({\"child height\": (1.95,2.05,1.65,2.3,1.95,2.05,1.95,2.1,2.5),\n",
    "                          \"mothers_height (m)\" : mom,\"fathers_height (m)\":dad})\n",
    "height_df"
   ]
  },
  {
   "cell_type": "code",
   "execution_count": 6,
   "id": "698eaa2c",
   "metadata": {
    "slideshow": {
     "slide_type": "slide"
    }
   },
   "outputs": [
    {
     "data": {
      "image/png": "[encoded data removed]",
      "text/plain": [
       "<Figure size 640x480 with 1 Axes>"
      ]
     },
     "metadata": {},
     "output_type": "display_data"
    }
   ],
   "source": [
    "height_df.plot.scatter(\"mothers_height (m)\",\"fathers_height (m)\", title = 'Mother vs Father height');"
   ]
  },
  {
   "cell_type": "code",
   "execution_count": 7,
   "id": "564c133f",
   "metadata": {},
   "outputs": [
    {
     "data": {
      "image/png": "[encoded data removed]",
      "text/plain": [
       "<Figure size 640x480 with 1 Axes>"
      ]
     },
     "metadata": {},
     "output_type": "display_data"
    }
   ],
   "source": [
    "mid_height = height_df.loc[(height_df[\"child height\"]<=2.1) & (height_df[\"child height\"]>1.8)]\n",
    "mid_height.plot.scatter(\"mothers_height (m)\",\"fathers_height (m)\", title ='Mother vs Father height Mid-range');"
   ]
  },
  {
   "cell_type": "markdown",
   "id": "18d27c4e",
   "metadata": {
    "slideshow": {
     "slide_type": "slide"
    }
   },
   "source": [
    "### So how does one actually show causation? (optional slide....not tested on)\n",
    "\n",
    "There are 3 necessary and sufficient conditions\n",
    "\n",
    " - Temporal Precedence: We must show that X (the cause) happened before Y (the effect).\n",
    " \n",
    " - Non-spuriousness: We must show that the effect Y was not seen by chance.\n",
    " \n",
    " - No alternate cause: We must show that no other variable accounts for the relationship between X and Y."
   ]
  },
  {
   "cell_type": "markdown",
   "id": "9ecb937a",
   "metadata": {
    "slideshow": {
     "slide_type": "slide"
    }
   },
   "source": [
    "### Data Collection\n",
    "\n",
    "- observational\n",
    "\n",
    "    - Captured through observation of a behavior or activity.\n",
    "\n",
    "- experimental\n",
    "\n",
    "    - Collected through active intervention by the researcher to produce and measure change \n",
    "\n",
    "- simulation\n",
    "\n",
    "    - generated by imitating the operation of a real-world process by way of a computer program\n",
    "\n",
    "- derived\n",
    "\n",
    "    - using existing data points, often from different data sources, to create new data "
   ]
  },
  {
   "cell_type": "markdown",
   "id": "aff50415",
   "metadata": {
    "slideshow": {
     "slide_type": "slide"
    }
   },
   "source": [
    "# Experimental vs Observational Studies\n",
    "\n",
    "Information on how factors affect response can be gained from:\n",
    "\n",
    "* **Experiments**: one or more factors controlled by experimenter (deliberately impose certain treatments on individuals in order to observe their responses)\n",
    "* **Observational studies**: no effort/intention to manipulate the object of study (collect the data without interfering with the subjects)"
   ]
  },
  {
   "cell_type": "markdown",
   "id": "dc4cda82",
   "metadata": {
    "slideshow": {
     "slide_type": "slide"
    }
   },
   "source": [
    "## Experiments and Experimental Design\n",
    "\n",
    "**Control**: to understand the effects of a treatment, need a control group\n",
    "\n",
    "**Replication**: applying a treatment independently to two or more experimental units\n",
    "\n",
    "**Randomization**: random assignment of treatments to experimental units."
   ]
  },
  {
   "cell_type": "markdown",
   "id": "55e61b67",
   "metadata": {
    "slideshow": {
     "slide_type": "slide"
    }
   },
   "source": [
    "## Types of Observational Studies\n",
    "\n",
    "**Retrospective studies**: collect data after events have\n",
    "taken place (e.g. past records, historical data). \n",
    " * Example Select a group of people who had skin cancer and a group of controls (no skin cancer) and ask about tanning bed usage\n",
    "\n",
    "**Prospective studies**: identifies individuals and collects information as events unfold. \n",
    "  * Example: Enroll 500 subjects. Ask them to complete daily diet diaries (used to estimate the amount of sodium intake). Measure their blood pressure"
   ]
  },
  {
   "cell_type": "markdown",
   "id": "0dcc217b",
   "metadata": {
    "slideshow": {
     "slide_type": "slide"
    }
   },
   "source": [
    "# Sampling\n",
    "\n",
    "Goal: conclusions about a population\n",
    "\n",
    "Not feasible to collect information on every individual/subject\n",
    "* expensive\n",
    "* errors: bored people do not count carefully\n",
    "\n",
    "Use sampling instead: study a part in order to gain information about the whole (statistical inference)"
   ]
  },
  {
   "cell_type": "markdown",
   "id": "ea0d5cc4",
   "metadata": {
    "slideshow": {
     "slide_type": "slide"
    }
   },
   "source": [
    "A poorly designed sampling procedure can produce misleading conclusions.\n",
    "* Example (Voluntary response sample)\n",
    "  * Advice columnists Ann Landers asked her readers, \"If you had it to do over again, would you have children?\"\n",
    "  * Almost 10,000 readers wrote in, and 70% of them said no.\n",
    "  * This is a self-selected sample, worthless as indicator of opinion of the population.\n",
    "  * Newsday conducted a ‘statistically designed’ opinion poll and found that 91% of parents studied said yes!"
   ]
  },
  {
   "cell_type": "markdown",
   "id": "fe9ef433",
   "metadata": {
    "slideshow": {
     "slide_type": "slide"
    }
   },
   "source": [
    "## Sampling Definitions\n",
    "\n",
    "**Population**: the entire group of objects or people about which information is wanted.\n",
    "\n",
    "**Units**: individual members of the population\n",
    "\n",
    "**Census**: a survey of an entire population\n",
    "\n",
    "**Sample**: the part of the population actually examined in order to gather information\n",
    "\n",
    "**Sampling Design**: the particular process by which asample is selected\n",
    "\n",
    "**Sample size**: the number of people in the sample (n)\n",
    "\n",
    "**Parameter**: a numerical characteristic of a population\n",
    "\n",
    "**Statistic**: a numerical characteristic of a sample"
   ]
  },
  {
   "cell_type": "markdown",
   "id": "6d611101",
   "metadata": {
    "slideshow": {
     "slide_type": "slide"
    }
   },
   "source": [
    "## Simple Random Sampling\n",
    "\n",
    "A **simple random sample (SRS)** of size n from a population is one in which every group of n units has an equal chance of being selected as the sample.\n",
    "\n",
    "We use a SRS to:\n",
    "* eliminate sampling bias\n",
    "* mathematically or computationally quantify variation due to sampling (i.e. the precision of our sample estimates)\n",
    "\n",
    "Need a sampling frame (e.g., list of names of all subjects in a population)\n",
    "\n",
    "Impractical for large populations\n",
    "\n",
    "<center>\n",
    "<img src=\"https://raw.githubusercontent.com/SusannaLange/Data_118_images/main/images/collection/srs.png\" alt=\"srs\" width=\"40%\">\n",
    "    \n",
    "</center>"
   ]
  },
  {
   "cell_type": "markdown",
   "id": "053e12f0",
   "metadata": {
    "slideshow": {
     "slide_type": "slide"
    }
   },
   "source": [
    "Suppose I have five colored marbles in a hat\n",
    "\n",
    "I draw one marble from the hat without looking\n",
    "\n",
    "All marbles have the same chance of being selected, one in five\n",
    "\n",
    "Therefore, my marble choosing example is an SRS\n",
    "\n",
    "We can conduct an SRS easily in python using `np.random.choice`"
   ]
  },
  {
   "cell_type": "code",
   "execution_count": 16,
   "id": "4c0c6600",
   "metadata": {
    "slideshow": {
     "slide_type": "slide"
    }
   },
   "outputs": [
    {
     "name": "stdout",
     "output_type": "stream",
     "text": [
      "brown\n",
      "yellow\n"
     ]
    }
   ],
   "source": [
    "np.random.seed(1890)\n",
    "\n",
    "marbles = [\"red\", \"blue\", \"yellow\", \"green\", \"brown\"]\n",
    "\n",
    "print(np.random.choice(marbles))\n",
    "print(np.random.choice(marbles))"
   ]
  },
  {
   "cell_type": "markdown",
   "id": "0d34a321",
   "metadata": {
    "slideshow": {
     "slide_type": "fragment"
    }
   },
   "source": [
    "The function `np.random.seed` takes in an integer and uses it to set the state of the random number generator\n",
    "\n",
    "This makes the results of our `random.choice` the same for anyone using the same integer as their seed"
   ]
  },
  {
   "cell_type": "markdown",
   "id": "4716413e",
   "metadata": {
    "slideshow": {
     "slide_type": "slide"
    }
   },
   "source": [
    "Suppose I take the yellow, green, and brown marbles out of my hat\n",
    "\n",
    "We can depict this in code by removing the yellow green and brown elements from the marbles array and taking a SRS:"
   ]
  },
  {
   "cell_type": "code",
   "execution_count": 25,
   "id": "7501c42e",
   "metadata": {
    "slideshow": {
     "slide_type": "fragment"
    }
   },
   "outputs": [
    {
     "data": {
      "text/plain": [
       "'red'"
      ]
     },
     "execution_count": 25,
     "metadata": {},
     "output_type": "execute_result"
    }
   ],
   "source": [
    "marbles = [\"red\", \"blue\"]\n",
    "\n",
    "np.random.choice(marbles)"
   ]
  },
  {
   "cell_type": "markdown",
   "id": "3dc799e0",
   "metadata": {
    "slideshow": {
     "slide_type": "slide"
    }
   },
   "source": [
    "Or, we can give different elements different chances of being chosen by using the argument `p` which takes in an array of the same size as marbles\n",
    "\n",
    "This is no longer a SRS!"
   ]
  },
  {
   "cell_type": "code",
   "execution_count": 31,
   "id": "1d74ee59",
   "metadata": {
    "slideshow": {
     "slide_type": "fragment"
    }
   },
   "outputs": [
    {
     "data": {
      "text/plain": [
       "'blue'"
      ]
     },
     "execution_count": 31,
     "metadata": {},
     "output_type": "execute_result"
    }
   ],
   "source": [
    "marbles = [\"red\", \"blue\", \"yellow\", \"green\", \"brown\"]\n",
    "\n",
    "np.random.choice(marbles, p=[0.5, 0.5, 0, 0, 0])"
   ]
  },
  {
   "cell_type": "markdown",
   "id": "e21bdab2",
   "metadata": {
    "slideshow": {
     "slide_type": "slide"
    }
   },
   "source": [
    "We can also use np.random.choice to take a sample with more than 1 element (sample size > 1) by using the size argument."
   ]
  },
  {
   "cell_type": "code",
   "execution_count": 32,
   "id": "1b942a1d",
   "metadata": {
    "slideshow": {
     "slide_type": "fragment"
    }
   },
   "outputs": [
    {
     "data": {
      "text/plain": [
       "array(['blue', 'yellow', 'brown', 'brown', 'green'], dtype='<U6')"
      ]
     },
     "execution_count": 32,
     "metadata": {},
     "output_type": "execute_result"
    }
   ],
   "source": [
    "marbles = [\"red\", \"blue\", \"yellow\", \"green\", \"brown\"]\n",
    "\n",
    "np.random.choice(marbles, size=5)"
   ]
  },
  {
   "cell_type": "markdown",
   "id": "ae4ec586",
   "metadata": {
    "slideshow": {
     "slide_type": "slide"
    }
   },
   "source": [
    "The np.random.choice function assumes that samples are being taken with replacement\n",
    "\n",
    "Many times, we want to sample without replacement\n",
    "\n",
    "To sample without replacement, set the `replace` argument to False."
   ]
  },
  {
   "cell_type": "code",
   "execution_count": null,
   "id": "3fdaef16",
   "metadata": {
    "slideshow": {
     "slide_type": "fragment"
    }
   },
   "outputs": [],
   "source": [
    "marbles = [\"red\", \"blue\", \"yellow\", \"green\", \"brown\"]\n",
    "\n",
    "np.random.choice(marbles, size=5, replace=False)"
   ]
  },
  {
   "cell_type": "markdown",
   "id": "cfb25d3d",
   "metadata": {
    "slideshow": {
     "slide_type": "slide"
    }
   },
   "source": [
    "## Stratified Sampling\n",
    "\n",
    "**Stratified random sample**: Divide the population into sub-populations (called strata) of similar units and choose a separate SRS for each stratum.\n",
    "\n",
    "The aim is to obtain more exact information than an SRS of the same size.\n",
    "\n",
    "It works better when cases within stratum are similar but there are large discrepancies between strata.\n",
    "\n",
    "Cons: need sampling frames for each strata.\n",
    "\n",
    "Example (University survey): \"Do you favor the creation of a degree program in data science?\" Possible strata?\n",
    "\n",
    "\n",
    "<center>\n",
    "<img src=\"https://raw.githubusercontent.com/SusannaLange/Data_118_images/main/images/collection/strs.png\" alt=\"strs\" width=\"50%\">\n",
    "    \n",
    "</center>"
   ]
  },
  {
   "cell_type": "code",
   "execution_count": null,
   "id": "0726b1e4",
   "metadata": {
    "slideshow": {
     "slide_type": "slide"
    }
   },
   "outputs": [],
   "source": [
    "first_year = ['Sam', 'Lin', 'Anne', 'John', 'Chen']\n",
    "second_year = ['Ashley', 'Brenda', 'Marc']\n",
    "third_year = ['Aaron', 'Randy', 'Kathy']\n",
    "fourth_year = ['Joann', 'Mary']\n",
    "\n",
    "[np.random.choice(first_year), np.random.choice(second_year),\n",
    "         np.random.choice(third_year), np.random.choice(fourth_year)]"
   ]
  },
  {
   "cell_type": "markdown",
   "id": "17f1c639",
   "metadata": {
    "slideshow": {
     "slide_type": "slide"
    }
   },
   "source": [
    "## Cluster Sampling\n",
    "\n",
    "**Cluster sampling**: Population is divided into clusters; Select a sample of clusters.\n",
    "\n",
    "Works better when there is small cluster-to-cluster variation but large variation within clusters.\n",
    "\n",
    "<center>\n",
    "<img src=\"https://raw.githubusercontent.com/SusannaLange/Data_118_images/main/images/collection/cluster.png\" alt=\"cluster\" width=\"40%\">\n",
    "    \n",
    "</center>"
   ]
  },
  {
   "cell_type": "code",
   "execution_count": 10,
   "id": "cb2cdcad",
   "metadata": {
    "slideshow": {
     "slide_type": "slide"
    }
   },
   "outputs": [
    {
     "data": {
      "text/plain": [
       "array([60609, 60637, 60615])"
      ]
     },
     "execution_count": 10,
     "metadata": {},
     "output_type": "execute_result"
    }
   ],
   "source": [
    "zipcodes = [60615, 60637, 60607, 60605, 60604, 60616, 60617, 60609, 60653, 60638]\n",
    "\n",
    "np.random.choice(zipcodes, 3, replace=False)"
   ]
  },
  {
   "cell_type": "markdown",
   "id": "51882184",
   "metadata": {
    "slideshow": {
     "slide_type": "slide"
    }
   },
   "source": [
    "## Multistage Sampling\n",
    "\n",
    "This is often done for nationwide samples of families,\n",
    "households, or individuals.\n",
    "\n",
    "Sampling is conducted in stages.\n",
    "\n",
    "Example: Government data on unemployment are gathered by the Current Population Survey, which conducts interviews in about 60,000 households each month. An SRS is impractical. The final sample consists of clusters of nearby households. To take a national multistage sample:\n",
    "* Stage 1: Select a sample from the 3000 counties of the US\n",
    "* Stage 2: Select a sample of townships within each of the counties chosen\n",
    "* Stage 3: Select a sample of city blocks within each chosen township\n",
    "* Stage 4: Take a sample of households within each city block"
   ]
  },
  {
   "cell_type": "markdown",
   "id": "25d3ef77",
   "metadata": {
    "slideshow": {
     "slide_type": "slide"
    }
   },
   "source": [
    "\n",
    "<center>\n",
    "<img src=\"https://raw.githubusercontent.com/SusannaLange/Data_118_images/main/images/collection/multi.png\" alt=\"multi\" width=\"80%\">\n",
    "    \n",
    "</center>"
   ]
  },
  {
   "cell_type": "markdown",
   "id": "cbfc810a",
   "metadata": {
    "slideshow": {
     "slide_type": "slide"
    }
   },
   "source": [
    "## Sampling Bias\n",
    "\n",
    "**Selection bias**: systematic error favoring some parts of the population over others (eg voluntary response sample).\n",
    "\n",
    "**Non-response bias**: people who decline to respond may be different from those who do respond (with respect to the\n",
    "issue of interest)\n",
    "\n",
    "**Response bias**: there are sometimes incentives to lie. Influenced by phrasing of questions, tone/attitude of interviewer, questions about illegal/unpopular behavior (e,g, \"Do you wash your hands after using the bathroom?\" or \"Have you violated social distancing guidelines?\")"
   ]
  },
  {
   "cell_type": "markdown",
   "id": "1119058c",
   "metadata": {
    "slideshow": {
     "slide_type": "slide"
    }
   },
   "source": [
    "## Truman vs Dewey\n",
    "\n",
    "<center>\n",
    "<img src=\"https://raw.githubusercontent.com/SusannaLange/Data_118_images/main/images/collection/truman.png\" alt=\"truman\" width=\"50%\">\n",
    "    \n",
    "</center>"
   ]
  },
  {
   "cell_type": "markdown",
   "id": "de97802a",
   "metadata": {
    "slideshow": {
     "slide_type": "slide"
    }
   },
   "source": [
    "How many college students have cheated on an exam?\n",
    "\n",
    "Students are unlikely to tell me the truth leading to response bias..."
   ]
  },
  {
   "cell_type": "markdown",
   "id": "04bb6b63",
   "metadata": {
    "hideCode": false,
    "hidePrompt": false,
    "slideshow": {
     "slide_type": "slide"
    }
   },
   "source": [
    "### How does this apply to what we've been doing so far?!"
   ]
  },
  {
   "cell_type": "markdown",
   "id": "7df75c7d",
   "metadata": {
    "hideCode": false,
    "hidePrompt": false,
    "slideshow": {
     "slide_type": "fragment"
    }
   },
   "source": [
    "We can be aware of association in variables in our dataset!\n",
    "     - is there a casual relationship?\n",
    "     - might there be a confounding or colliding variable that is affecting our relationship of interest?\n",
    "\n",
    "We can take random samples of our DataFrame!\n",
    "\n",
    "\n",
    "If the data is already collected - we can sample from a particularly large dataset to see how the subset relates to the collected sample.\n",
    " \n",
    " \n",
    "We can simulate experiments!"
   ]
  },
  {
   "cell_type": "markdown",
   "id": "9b09dc8c",
   "metadata": {
    "hideCode": false,
    "hidePrompt": false,
    "slideshow": {
     "slide_type": "slide"
    }
   },
   "source": [
    "Let's focus on simulation, or mimicking real world situations using code."
   ]
  },
  {
   "cell_type": "markdown",
   "id": "8a560bd4",
   "metadata": {
    "hideCode": false,
    "hidePrompt": false,
    "slideshow": {
     "slide_type": "fragment"
    }
   },
   "source": [
    "Suppose we have a list of choices that are equally likely to occur and we want to choose one.\n"
   ]
  },
  {
   "cell_type": "code",
   "execution_count": 2,
   "id": "707db4bc",
   "metadata": {
    "hideCode": false,
    "hidePrompt": false,
    "slideshow": {
     "slide_type": "fragment"
    }
   },
   "outputs": [],
   "source": [
    "two_groups = ['treatment', 'control']"
   ]
  },
  {
   "cell_type": "markdown",
   "id": "32f8ae01",
   "metadata": {
    "hideCode": false,
    "hidePrompt": false,
    "slideshow": {
     "slide_type": "fragment"
    }
   },
   "source": [
    "In NumPy, the function \n",
    "```python \n",
    "np.random.choice(…)\n",
    "```\n",
    "will output exactly one item from the input sequence, selecting from it randomly and uniformly - or with equal opportunity."
   ]
  },
  {
   "cell_type": "code",
   "execution_count": 3,
   "id": "3d3528cd",
   "metadata": {
    "hideCode": false,
    "hidePrompt": false,
    "slideshow": {
     "slide_type": "fragment"
    }
   },
   "outputs": [
    {
     "data": {
      "text/plain": [
       "'control'"
      ]
     },
     "execution_count": 3,
     "metadata": {},
     "output_type": "execute_result"
    }
   ],
   "source": [
    "import numpy as np\n",
    "\n",
    "np.random.choice(two_groups) "
   ]
  },
  {
   "cell_type": "code",
   "execution_count": 37,
   "id": "63042cf3",
   "metadata": {
    "hideCode": false,
    "hidePrompt": false,
    "slideshow": {
     "slide_type": "fragment"
    }
   },
   "outputs": [
    {
     "data": {
      "text/plain": [
       "'treatment'"
      ]
     },
     "execution_count": 37,
     "metadata": {},
     "output_type": "execute_result"
    }
   ],
   "source": [
    "np.random.choice(two_groups) "
   ]
  },
  {
   "cell_type": "code",
   "execution_count": 1,
   "id": "a4787b70",
   "metadata": {
    "hideCode": false,
    "hidePrompt": false,
    "slideshow": {
     "slide_type": "fragment"
    }
   },
   "outputs": [
    {
     "ename": "NameError",
     "evalue": "name 'np' is not defined",
     "output_type": "error",
     "traceback": [
      "\u001b[0;31m---------------------------------------------------------------------------\u001b[0m",
      "\u001b[0;31mNameError\u001b[0m                                 Traceback (most recent call last)",
      "Cell \u001b[0;32mIn[1], line 1\u001b[0m\n\u001b[0;32m----> 1\u001b[0m \u001b[43mnp\u001b[49m\u001b[38;5;241m.\u001b[39mrandom\u001b[38;5;241m.\u001b[39mchoice(two_groups)[\u001b[38;5;241m1\u001b[39m]\n",
      "\u001b[0;31mNameError\u001b[0m: name 'np' is not defined"
     ]
    }
   ],
   "source": [
    "np.random.choice(two_groups)"
   ]
  },
  {
   "cell_type": "markdown",
   "id": "c158c84a",
   "metadata": {
    "hideCode": false,
    "hidePrompt": false,
    "slideshow": {
     "slide_type": "slide"
    }
   },
   "source": [
    "The default of `np.random.choice()` is to choose with replacement. That is, put all element back into the list before choosing again. \n",
    "We can specify if we want to change this default: \n",
    "\n",
    "`np.random.choice(list, replace=False)`\n"
   ]
  },
  {
   "cell_type": "markdown",
   "id": "b2868bd1",
   "metadata": {
    "hideCode": false,
    "hidePrompt": false,
    "slideshow": {
     "slide_type": "fragment"
    }
   },
   "source": [
    "What else can we do with the `np.random.choice()`?"
   ]
  },
  {
   "cell_type": "code",
   "execution_count": 38,
   "id": "b368fa33",
   "metadata": {
    "hideCode": false,
    "hidePrompt": false,
    "slideshow": {
     "slide_type": "fragment"
    }
   },
   "outputs": [
    {
     "data": {
      "text/plain": [
       "array(['treatment', 'treatment', 'treatment', 'control', 'treatment',\n",
       "       'treatment', 'control'], dtype='<U9')"
      ]
     },
     "execution_count": 38,
     "metadata": {},
     "output_type": "execute_result"
    }
   ],
   "source": [
    "np.random.choice(two_groups, 7) # we can repeat the experiment n=7 number of times"
   ]
  },
  {
   "cell_type": "markdown",
   "id": "97db70b9",
   "metadata": {
    "hideCode": false,
    "hidePrompt": false,
    "slideshow": {
     "slide_type": "fragment"
    }
   },
   "source": [
    "We can also count how many of each category we have:"
   ]
  },
  {
   "cell_type": "code",
   "execution_count": 44,
   "id": "8ee6258e",
   "metadata": {
    "hideCode": false,
    "hidePrompt": false,
    "slideshow": {
     "slide_type": "fragment"
    }
   },
   "outputs": [
    {
     "data": {
      "text/plain": [
       "5"
      ]
     },
     "execution_count": 44,
     "metadata": {},
     "output_type": "execute_result"
    }
   ],
   "source": [
    "sum(np.random.choice(two_groups, 7) == 'treatment')"
   ]
  },
  {
   "cell_type": "markdown",
   "id": "3b3315d8",
   "metadata": {
    "hideCode": false,
    "hidePrompt": false,
    "slideshow": {
     "slide_type": "fragment"
    }
   },
   "source": [
    "What is this doing again? Comparing each element to 'treatment' and giving us a Boolean array (with just True/False entires). Then the `sum` "
   ]
  },
  {
   "cell_type": "code",
   "execution_count": null,
   "id": "c817ac3c",
   "metadata": {
    "hideCode": false,
    "hidePrompt": false,
    "slideshow": {
     "slide_type": "fragment"
    }
   },
   "outputs": [],
   "source": [
    "np.random.choice(two_groups, 7) == 'treatment'"
   ]
  },
  {
   "cell_type": "markdown",
   "id": "d46a9bcf",
   "metadata": {
    "hideCode": false,
    "hidePrompt": false,
    "slideshow": {
     "slide_type": "slide"
    }
   },
   "source": [
    "Note this random choice function will give us a different result each time. \n",
    "\n",
    "We might want to have our exact experiment repeatable. We can set a random seed."
   ]
  },
  {
   "cell_type": "code",
   "execution_count": null,
   "id": "e8c23a6b",
   "metadata": {
    "hideCode": false,
    "hidePrompt": false,
    "slideshow": {
     "slide_type": "fragment"
    }
   },
   "outputs": [],
   "source": [
    "np.random.seed(180) #every time we repeat this experiment we will get the same output!!!\n",
    "\n",
    "marbles = [\"red\", \"blue\", \"yellow\", \"green\", \"brown\"]\n",
    "\n",
    "np.random.choice(marbles)"
   ]
  },
  {
   "cell_type": "markdown",
   "id": "55b495bf",
   "metadata": {
    "hideCode": false,
    "hidePrompt": false,
    "slideshow": {
     "slide_type": "fragment"
    }
   },
   "source": [
    "By default, we have a SRS (simple random sample)."
   ]
  },
  {
   "cell_type": "markdown",
   "id": "c79ee516",
   "metadata": {
    "hideCode": false,
    "hidePrompt": false,
    "slideshow": {
     "slide_type": "slide"
    }
   },
   "source": [
    "We can sample from DataFrames either directly using the `np.random.choice` function. (Be careful with the defaults though, would we want replace = True or replace = False if we are sampling from a DataFrame?)\n",
    "\n",
    "\n",
    "    - SRS - randomly choosing indices from the DataFrame and selecting corresponding rows\n",
    "    \n",
    "    - Systematic sampling: choosing every Nth row"
   ]
  },
  {
   "cell_type": "markdown",
   "id": "e31c9c28",
   "metadata": {
    "hideCode": false,
    "hidePrompt": false,
    "slideshow": {
     "slide_type": "fragment"
    }
   },
   "source": [
    "There are also methods to directly sample from a DataFrame!\n",
    "\n",
    "\n",
    "\n",
    "```python\n",
    "df.sample(n, replace = False)\n",
    "```"
   ]
  },
  {
   "cell_type": "markdown",
   "id": "d41425b2",
   "metadata": {
    "hideCode": false,
    "hidePrompt": false,
    "slideshow": {
     "slide_type": "fragment"
    }
   },
   "source": [
    "The default for this method is to sample without replacement, where $n$ is the number of rows to sample."
   ]
  },
  {
   "cell_type": "markdown",
   "id": "19230420",
   "metadata": {
    "hideCode": false,
    "hidePrompt": false,
    "slideshow": {
     "slide_type": "slide"
    }
   },
   "source": [
    "## Simulation"
   ]
  },
  {
   "cell_type": "markdown",
   "id": "0a89d7c4",
   "metadata": {
    "hideCode": false,
    "hidePrompt": false,
    "slideshow": {
     "slide_type": "fragment"
    }
   },
   "source": [
    "We can use the np.random.choice function in combination with for loops to *simulate* an experiment!\n",
    "\n",
    "There are several steps in designing and executing a simulation:\n",
    "\n",
    " - Conceptualize what to simulate;\n",
    " \n",
    " - Simulate one instance;\n",
    " \n",
    " - Decide on the number of repetitions;\n",
    " \n",
    " - Summarize the results of the simulation."
   ]
  },
  {
   "cell_type": "markdown",
   "id": "33f1514e",
   "metadata": {
    "hideCode": false,
    "hidePrompt": false,
    "slideshow": {
     "slide_type": "fragment"
    }
   },
   "source": [
    "Suppose we want to repeat the process of rolling a die 100 times and seeing how many even numbers occur."
   ]
  },
  {
   "cell_type": "markdown",
   "id": "3b33dbc1",
   "metadata": {
    "hideCode": false,
    "hidePrompt": false,
    "slideshow": {
     "slide_type": "slide"
    }
   },
   "source": [
    "### Conceptualize  and simulate one instance:"
   ]
  },
  {
   "cell_type": "markdown",
   "id": "f1d6a879",
   "metadata": {
    "hideCode": false,
    "hidePrompt": false,
    "slideshow": {
     "slide_type": "fragment"
    }
   },
   "source": [
    "One instance corresponds to rolling a die 100 times and counting the number of evens.\n",
    "\n",
    "We need to\n",
    "\n",
    " -  define a die\n",
    " \n",
    " -  produce 100 random numbers\n",
    "\n",
    " -  count total evens\n",
    "         - define a function"
   ]
  },
  {
   "cell_type": "code",
   "execution_count": null,
   "id": "e3fc7ce0",
   "metadata": {
    "hideCode": false,
    "hidePrompt": false,
    "slideshow": {
     "slide_type": "fragment"
    }
   },
   "outputs": [],
   "source": [
    "die = np.arange(1, 7)\n",
    "die"
   ]
  },
  {
   "cell_type": "code",
   "execution_count": null,
   "id": "810d30d7",
   "metadata": {
    "hideCode": false,
    "hidePrompt": false,
    "slideshow": {
     "slide_type": "fragment"
    }
   },
   "outputs": [],
   "source": [
    "def parity(input_integer): \n",
    "    \"\"\"Determines the parity of an integer input i.e. if a number is even or odd\"\"\"\n",
    "    if (input_integer % 2) == 0:\n",
    "        return \"even\"\n",
    "    else:\n",
    "        return \"odd\""
   ]
  },
  {
   "cell_type": "markdown",
   "id": "e5e4b061",
   "metadata": {
    "hideCode": false,
    "hidePrompt": false,
    "slideshow": {
     "slide_type": "slide"
    }
   },
   "source": [
    "Now we choose 100 random values from our die"
   ]
  },
  {
   "cell_type": "code",
   "execution_count": null,
   "id": "44c31e8b",
   "metadata": {
    "hideCode": false,
    "hidePrompt": false,
    "slideshow": {
     "slide_type": "fragment"
    }
   },
   "outputs": [],
   "source": [
    "choices = np.random.choice(die, 100)\n",
    "choices"
   ]
  },
  {
   "cell_type": "markdown",
   "id": "4a92d5e6",
   "metadata": {
    "hideCode": false,
    "hidePrompt": false,
    "slideshow": {
     "slide_type": "fragment"
    }
   },
   "source": [
    "We want to run this array through our function...but our function only takes integer values."
   ]
  },
  {
   "cell_type": "markdown",
   "id": "801df44a",
   "metadata": {
    "hideCode": false,
    "hidePrompt": false,
    "slideshow": {
     "slide_type": "fragment"
    }
   },
   "source": [
    "Instead of a for loop, we'll call `np.vectorize` which takes a function as input and returns as output a function that acts on an entire array. \n",
    " hat is, it allows for element-wise evaulation of our parity function!"
   ]
  },
  {
   "cell_type": "code",
   "execution_count": null,
   "id": "85a8217c",
   "metadata": {
    "hideCode": false,
    "hidePrompt": false,
    "slideshow": {
     "slide_type": "fragment"
    }
   },
   "outputs": [],
   "source": [
    "vec_parity = np.vectorize(parity)  #Now this is a function that takes an array as input"
   ]
  },
  {
   "cell_type": "code",
   "execution_count": null,
   "id": "910b6a40",
   "metadata": {
    "hideCode": false,
    "hidePrompt": false,
    "slideshow": {
     "slide_type": "fragment"
    }
   },
   "outputs": [],
   "source": [
    "labels = vec_parity(choices)\n",
    "labels"
   ]
  },
  {
   "cell_type": "markdown",
   "id": "8d51b40d",
   "metadata": {
    "hideCode": false,
    "hidePrompt": false,
    "slideshow": {
     "slide_type": "slide"
    }
   },
   "source": [
    "We really want to count how many evens we have!"
   ]
  },
  {
   "cell_type": "code",
   "execution_count": null,
   "id": "6da98d6b",
   "metadata": {
    "hideCode": false,
    "hidePrompt": false,
    "slideshow": {
     "slide_type": "fragment"
    }
   },
   "outputs": [],
   "source": [
    "sum(labels == 'even')"
   ]
  },
  {
   "cell_type": "markdown",
   "id": "fea9cda3",
   "metadata": {
    "hideCode": false,
    "hidePrompt": false,
    "slideshow": {
     "slide_type": "fragment"
    }
   },
   "source": [
    "That is one instance. We want to repeat this process.... Let's use a for loop."
   ]
  },
  {
   "cell_type": "code",
   "execution_count": null,
   "id": "7c758675",
   "metadata": {
    "hideCode": false,
    "hidePrompt": false,
    "slideshow": {
     "slide_type": "fragment"
    }
   },
   "outputs": [],
   "source": [
    "import numpy as np\n",
    "num_experiments = 1_000 #set the experiment count\n",
    "\n",
    "total_evens = np.empty(0)\n",
    "\n",
    "\n",
    "for i in np.arange(num_experiments):  # alternatively we could use: range(num_experiments)\n",
    "    choices = np.random.choice(die, 100)\n",
    "    labels = vec_parity(choices)\n",
    "    total_evens = np.append(total_evens, sum(labels == 'even')) "
   ]
  },
  {
   "cell_type": "markdown",
   "id": "22b68891",
   "metadata": {
    "hideCode": false,
    "hidePrompt": false,
    "slideshow": {
     "slide_type": "slide"
    }
   },
   "source": [
    "### Summarize the output of the simulation!"
   ]
  },
  {
   "cell_type": "code",
   "execution_count": null,
   "id": "8a139fec",
   "metadata": {
    "hideCode": false,
    "hidePrompt": false,
    "slideshow": {
     "slide_type": "fragment"
    }
   },
   "outputs": [],
   "source": [
    "print('Number of experiments: {:,}'.format(len(total_evens)))\n",
    "print('Min Evens (out of 100):', min(total_evens))\n",
    "print('Max Evens (out of 100):', max(total_evens))\n",
    "print('Mean Evens (out of 100):', round(np.mean(total_evens)))"
   ]
  },
  {
   "cell_type": "code",
   "execution_count": null,
   "id": "37c55c84",
   "metadata": {
    "hideCode": false,
    "hidePrompt": false,
    "slideshow": {
     "slide_type": "fragment"
    }
   },
   "outputs": [],
   "source": [
    "import pandas as pd\n",
    "\n",
    "legend = \"Even numbers in \" +str(num_experiments)+ \" tosses\"\n",
    "\n",
    "pd.DataFrame({legend: total_evens}).hist(bins=np.arange(25, 76));"
   ]
  },
  {
   "cell_type": "markdown",
   "id": "08c6fd25",
   "metadata": {
    "hideCode": false,
    "hidePrompt": false,
    "slideshow": {
     "slide_type": "fragment"
    }
   },
   "source": [
    "Notice, above we created a dataframe so that we could easily use the `.hist` to plot!"
   ]
  },
  {
   "cell_type": "code",
   "execution_count": null,
   "id": "3b197c60",
   "metadata": {
    "hideCode": false,
    "hidePrompt": false,
    "slideshow": {
     "slide_type": "fragment"
    }
   },
   "outputs": [],
   "source": [
    "pd.DataFrame({legend: total_evens})"
   ]
  }
 ],
 "metadata": {
  "kernelspec": {
   "display_name": "Python 3 (ipykernel)",
   "language": "python",
   "name": "python3"
  },
  "language_info": {
   "codemirror_mode": {
    "name": "ipython",
    "version": 3
   },
   "file_extension": ".py",
   "mimetype": "text/x-python",
   "name": "python",
   "nbconvert_exporter": "python",
   "pygments_lexer": "ipython3",
   "version": "3.12.0"
  },
  "latex_envs": {
   "LaTeX_envs_menu_present": true,
   "autoclose": false,
   "autocomplete": true,
   "bibliofile": "biblio.bib",
   "cite_by": "apalike",
   "current_citInitial": 1,
   "eqLabelWithNumbers": true,
   "eqNumInitial": 1,
   "hotkeys": {
    "equation": "Ctrl-E",
    "itemize": "Ctrl-I"
   },
   "labels_anchors": false,
   "latex_user_defs": false,
   "report_style_numbering": false,
   "user_envs_cfg": false
  },
  "toc": {
   "base_numbering": 1,
   "nav_menu": {},
   "number_sections": false,
   "sideBar": true,
   "skip_h1_title": false,
   "title_cell": "Table of Contents",
   "title_sidebar": "Contents",
   "toc_cell": false,
   "toc_position": {},
   "toc_section_display": true,
   "toc_window_display": false
  }
 },
 "nbformat": 4,
 "nbformat_minor": 5
}
