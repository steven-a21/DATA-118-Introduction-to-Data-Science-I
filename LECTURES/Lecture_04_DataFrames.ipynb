{
 "cells": [
  {
   "cell_type": "markdown",
   "id": "a45e7fde",
   "metadata": {
    "slideshow": {
     "slide_type": "slide"
    },
    "tags": [
     "hide_code"
    ]
   },
   "source": [
    "<center> \n",
    "\n",
    "# Introduction to Data Science\n",
    "    \n",
    "## DataFrames\n",
    "\n",
    "### Dr. Lange\n",
    "### Data 118 - Winter 2024 \n",
    "    \n",
    "</center>\n",
    "<center> \n",
    "<img src=\"https://raw.githubusercontent.com/amandakube/Data118LectureImages/main/UChicago_DSI.png\" alt=\"UC-DSI\" width=\"600\" height=\"700\">\n",
    "</center>"
   ]
  },
  {
   "cell_type": "code",
   "execution_count": 2,
   "id": "6017e30f",
   "metadata": {
    "slideshow": {
     "slide_type": "skip"
    }
   },
   "outputs": [],
   "source": [
    "# These lines import the Numpy and Pandas modules.\n",
    "import numpy as np\n",
    "import pandas as pd"
   ]
  },
  {
   "cell_type": "markdown",
   "id": "0317060e",
   "metadata": {
    "slideshow": {
     "slide_type": "slide"
    }
   },
   "source": [
    "### Last time:\n",
    "\n",
    "We explored\n",
    " - lists\n",
    " \n",
    " - arrays\n",
    " \n",
    "### Goal for today\n",
    "\n",
    " - DataFrames"
   ]
  },
  {
   "cell_type": "markdown",
   "id": "fc615ee2",
   "metadata": {
    "slideshow": {
     "slide_type": "slide"
    }
   },
   "source": [
    "## Grouping or Storing Data\n",
    "\n",
    "Recall...\n",
    "\n",
    "- Lists, Tuples, Sets, Dictionaries (built-in to Python)\n",
    "\n",
    "- Arrays (found in the NumPy library)\n",
    "\n",
    "- DataFrames (in Pandas)\n"
   ]
  },
  {
   "cell_type": "markdown",
   "id": "cfc542f3",
   "metadata": {
    "slideshow": {
     "slide_type": "slide"
    }
   },
   "source": [
    "## Grouping Data with DataFrames (from the Pandas library)\n",
    "\n",
    "- Gives rows and columns of data\n",
    "- Rows are \"individuals\" or \"instances\"\n",
    "- Columns are attributes of those individuals\n"
   ]
  },
  {
   "cell_type": "markdown",
   "id": "01972a8a",
   "metadata": {
    "slideshow": {
     "slide_type": "slide"
    }
   },
   "source": [
    "#### DataFrames\n",
    "\n",
    "\n",
    "- A DataFrame has an **index** that refers to the rows and **column names** referring to the columns\n",
    "\n",
    "\n",
    "<center> \n",
    "<img src=\"https://raw.github.com/SusannaLange/Data_118_images/main/images/titanic/titantic_dataframe_markup.png\" alt=\"data_folder\" width=\"600\" height=\"700\">\n",
    "</center>"
   ]
  },
  {
   "cell_type": "markdown",
   "id": "3f2b6214",
   "metadata": {},
   "source": [
    "But how does this differ from 2-dimensional np.array?! Or a higher dimensional list?"
   ]
  },
  {
   "cell_type": "markdown",
   "id": "77dd55cf",
   "metadata": {
    "slideshow": {
     "slide_type": "slide"
    }
   },
   "source": [
    "### Different objects for different goals"
   ]
  },
  {
   "cell_type": "markdown",
   "id": "d7468ad5",
   "metadata": {
    "slideshow": {
     "slide_type": "fragment"
    }
   },
   "source": [
    "#### Let's store Passenger_ID, Survived, and Name in 3 ways:\n",
    "\n",
    "##### Method 1: (Using lists from python (no import numpy needed))\n",
    "- list of lists\n",
    "- Hard to manipulate\n"
   ]
  },
  {
   "cell_type": "code",
   "execution_count": 3,
   "id": "deed40b1",
   "metadata": {
    "slideshow": {
     "slide_type": "fragment"
    }
   },
   "outputs": [
    {
     "data": {
      "text/plain": [
       "[[1, 2, 3],\n",
       " [0, 1, 1],\n",
       " ['Mr. Owen Harris', 'Mrs. John Bradley', 'Miss. Laina Heikkinen']]"
      ]
     },
     "execution_count": 3,
     "metadata": {},
     "output_type": "execute_result"
    }
   ],
   "source": [
    "list_of_lists=[[1,2,3],  #passenger ID\n",
    "               [0,1,1],  #if they survived or not\n",
    "               [\"Mr. Owen Harris\",\"Mrs. John Bradley\",\"Miss. Laina Heikkinen\"]]   #Name\n",
    "\n",
    "list_of_lists"
   ]
  },
  {
   "cell_type": "markdown",
   "id": "476e3032",
   "metadata": {
    "slideshow": {
     "slide_type": "slide"
    }
   },
   "source": [
    "### Different objects for different goals"
   ]
  },
  {
   "cell_type": "markdown",
   "id": "a7624cfb",
   "metadata": {
    "slideshow": {
     "slide_type": "fragment"
    }
   },
   "source": [
    "##### Method 2: (Using np.array)\n",
    "- All values of same data type\n",
    "- Easy to do math and matrix manipulations\n",
    "- No row column names\n"
   ]
  },
  {
   "cell_type": "code",
   "execution_count": 4,
   "id": "bcef6f7c",
   "metadata": {
    "slideshow": {
     "slide_type": "fragment"
    }
   },
   "outputs": [],
   "source": [
    "#This is a 2D array\n",
    "my_array = np.array([[1,2,3],  #passenger ID\n",
    "               [0,1,1],  #if they survived or not\n",
    "               [\"Mr. Owen Harris\",\"Mrs. John Bradley\",\"Miss. Laina Heikkinen\"]]) #name"
   ]
  },
  {
   "cell_type": "markdown",
   "id": "42f4b97d",
   "metadata": {
    "slideshow": {
     "slide_type": "slide"
    }
   },
   "source": [
    "### Different objects for different goals"
   ]
  },
  {
   "cell_type": "markdown",
   "id": "8e17b581",
   "metadata": {
    "slideshow": {
     "slide_type": "fragment"
    }
   },
   "source": [
    "##### Method 3: (Using pandas DataFrames)\n",
    "- Columns can have different types\n",
    "- Easy to manipulate by name\n",
    "- row and column names built in!"
   ]
  },
  {
   "cell_type": "code",
   "execution_count": 5,
   "id": "9e4ab03b",
   "metadata": {
    "slideshow": {
     "slide_type": "fragment"
    }
   },
   "outputs": [
    {
     "data": {
      "text/html": [
       "<div>\n",
       "<style scoped>\n",
       "    .dataframe tbody tr th:only-of-type {\n",
       "        vertical-align: middle;\n",
       "    }\n",
       "\n",
       "    .dataframe tbody tr th {\n",
       "        vertical-align: top;\n",
       "    }\n",
       "\n",
       "    .dataframe thead th {\n",
       "        text-align: right;\n",
       "    }\n",
       "</style>\n",
       "<table border=\"1\" class=\"dataframe\">\n",
       "  <thead>\n",
       "    <tr style=\"text-align: right;\">\n",
       "      <th></th>\n",
       "      <th>1</th>\n",
       "      <th>2</th>\n",
       "      <th>3</th>\n",
       "    </tr>\n",
       "  </thead>\n",
       "  <tbody>\n",
       "    <tr>\n",
       "      <th>0</th>\n",
       "      <td>1</td>\n",
       "      <td>0</td>\n",
       "      <td>Mr. Owen Harris</td>\n",
       "    </tr>\n",
       "    <tr>\n",
       "      <th>1</th>\n",
       "      <td>2</td>\n",
       "      <td>1</td>\n",
       "      <td>Mrs. John Bradley</td>\n",
       "    </tr>\n",
       "    <tr>\n",
       "      <th>2</th>\n",
       "      <td>3</td>\n",
       "      <td>1</td>\n",
       "      <td>Miss. Laina Heikkinen</td>\n",
       "    </tr>\n",
       "  </tbody>\n",
       "</table>\n",
       "</div>"
      ],
      "text/plain": [
       "   1  2                      3\n",
       "0  1  0        Mr. Owen Harris\n",
       "1  2  1      Mrs. John Bradley\n",
       "2  3  1  Miss. Laina Heikkinen"
      ]
     },
     "execution_count": 5,
     "metadata": {},
     "output_type": "execute_result"
    }
   ],
   "source": [
    "df = pd.DataFrame(\n",
    "    { 1:[1,2,3],  #ID\n",
    "      2:[0,1,1], #if they survived or not\n",
    "     3:[\"Mr. Owen Harris\",\"Mrs. John Bradley\",\"Miss. Laina Heikkinen\"]}) #name\n",
    "\n",
    "df"
   ]
  },
  {
   "cell_type": "markdown",
   "id": "86a87b43",
   "metadata": {
    "slideshow": {
     "slide_type": "slide"
    }
   },
   "source": [
    "### In a DataFrame we can specify the column names and indices"
   ]
  },
  {
   "cell_type": "code",
   "execution_count": 6,
   "id": "e0286a4d",
   "metadata": {
    "slideshow": {
     "slide_type": "fragment"
    }
   },
   "outputs": [
    {
     "data": {
      "text/html": [
       "<div>\n",
       "<style scoped>\n",
       "    .dataframe tbody tr th:only-of-type {\n",
       "        vertical-align: middle;\n",
       "    }\n",
       "\n",
       "    .dataframe tbody tr th {\n",
       "        vertical-align: top;\n",
       "    }\n",
       "\n",
       "    .dataframe thead th {\n",
       "        text-align: right;\n",
       "    }\n",
       "</style>\n",
       "<table border=\"1\" class=\"dataframe\">\n",
       "  <thead>\n",
       "    <tr style=\"text-align: right;\">\n",
       "      <th></th>\n",
       "      <th>PassengerID</th>\n",
       "      <th>Survived</th>\n",
       "      <th>Names</th>\n",
       "    </tr>\n",
       "  </thead>\n",
       "  <tbody>\n",
       "    <tr>\n",
       "      <th>0</th>\n",
       "      <td>1</td>\n",
       "      <td>0</td>\n",
       "      <td>Mr. Owen Harris</td>\n",
       "    </tr>\n",
       "    <tr>\n",
       "      <th>1</th>\n",
       "      <td>2</td>\n",
       "      <td>1</td>\n",
       "      <td>Mrs. John Bradley</td>\n",
       "    </tr>\n",
       "    <tr>\n",
       "      <th>2</th>\n",
       "      <td>3</td>\n",
       "      <td>1</td>\n",
       "      <td>Miss. Laina Heikkinen</td>\n",
       "    </tr>\n",
       "  </tbody>\n",
       "</table>\n",
       "</div>"
      ],
      "text/plain": [
       "   PassengerID  Survived                  Names\n",
       "0            1         0        Mr. Owen Harris\n",
       "1            2         1      Mrs. John Bradley\n",
       "2            3         1  Miss. Laina Heikkinen"
      ]
     },
     "execution_count": 6,
     "metadata": {},
     "output_type": "execute_result"
    }
   ],
   "source": [
    "df_names = pd.DataFrame(\n",
    "    { 'PassengerID':[1,2,3],  #ID\n",
    "      'Survived' :[0,1,1], #if they survived or not\n",
    "     'Names':[\"Mr. Owen Harris\",\"Mrs. John Bradley\",\"Miss. Laina Heikkinen\"]}) #name\n",
    "\n",
    "df_names"
   ]
  },
  {
   "cell_type": "code",
   "execution_count": 7,
   "id": "55a48249",
   "metadata": {
    "slideshow": {
     "slide_type": "slide"
    }
   },
   "outputs": [
    {
     "data": {
      "text/html": [
       "<div>\n",
       "<style scoped>\n",
       "    .dataframe tbody tr th:only-of-type {\n",
       "        vertical-align: middle;\n",
       "    }\n",
       "\n",
       "    .dataframe tbody tr th {\n",
       "        vertical-align: top;\n",
       "    }\n",
       "\n",
       "    .dataframe thead th {\n",
       "        text-align: right;\n",
       "    }\n",
       "</style>\n",
       "<table border=\"1\" class=\"dataframe\">\n",
       "  <thead>\n",
       "    <tr style=\"text-align: right;\">\n",
       "      <th></th>\n",
       "      <th>PassengerID</th>\n",
       "      <th>Survived</th>\n",
       "      <th>Names</th>\n",
       "    </tr>\n",
       "  </thead>\n",
       "  <tbody>\n",
       "    <tr>\n",
       "      <th>a</th>\n",
       "      <td>1</td>\n",
       "      <td>0</td>\n",
       "      <td>Mr. Owen Harris</td>\n",
       "    </tr>\n",
       "    <tr>\n",
       "      <th>b</th>\n",
       "      <td>2</td>\n",
       "      <td>1</td>\n",
       "      <td>Mrs. John Bradley</td>\n",
       "    </tr>\n",
       "    <tr>\n",
       "      <th>c</th>\n",
       "      <td>3</td>\n",
       "      <td>1</td>\n",
       "      <td>Miss. Laina Heikkinen</td>\n",
       "    </tr>\n",
       "  </tbody>\n",
       "</table>\n",
       "</div>"
      ],
      "text/plain": [
       "   PassengerID  Survived                  Names\n",
       "a            1         0        Mr. Owen Harris\n",
       "b            2         1      Mrs. John Bradley\n",
       "c            3         1  Miss. Laina Heikkinen"
      ]
     },
     "execution_count": 7,
     "metadata": {},
     "output_type": "execute_result"
    }
   ],
   "source": [
    "df_names2 = pd.DataFrame(\n",
    "    { 'PassengerID':[1,2,3],\n",
    "      'Survived' :[0,1,1], \n",
    "     'Names':[\"Mr. Owen Harris\",\"Mrs. John Bradley\",\"Miss. Laina Heikkinen\"]},\n",
    "        index=['a','b','c']) \n",
    "\n",
    "df_names2"
   ]
  },
  {
   "cell_type": "markdown",
   "id": "6d16e7d3",
   "metadata": {
    "slideshow": {
     "slide_type": "slide"
    }
   },
   "source": [
    "### Define by rows instead of by columns"
   ]
  },
  {
   "cell_type": "code",
   "execution_count": 8,
   "id": "eef2a28d",
   "metadata": {
    "slideshow": {
     "slide_type": "fragment"
    }
   },
   "outputs": [
    {
     "data": {
      "text/html": [
       "<div>\n",
       "<style scoped>\n",
       "    .dataframe tbody tr th:only-of-type {\n",
       "        vertical-align: middle;\n",
       "    }\n",
       "\n",
       "    .dataframe tbody tr th {\n",
       "        vertical-align: top;\n",
       "    }\n",
       "\n",
       "    .dataframe thead th {\n",
       "        text-align: right;\n",
       "    }\n",
       "</style>\n",
       "<table border=\"1\" class=\"dataframe\">\n",
       "  <thead>\n",
       "    <tr style=\"text-align: right;\">\n",
       "      <th></th>\n",
       "      <th>PassengerID</th>\n",
       "      <th>Survived</th>\n",
       "      <th>Names</th>\n",
       "    </tr>\n",
       "  </thead>\n",
       "  <tbody>\n",
       "    <tr>\n",
       "      <th>a</th>\n",
       "      <td>1</td>\n",
       "      <td>2</td>\n",
       "      <td>3</td>\n",
       "    </tr>\n",
       "    <tr>\n",
       "      <th>b</th>\n",
       "      <td>0</td>\n",
       "      <td>1</td>\n",
       "      <td>1</td>\n",
       "    </tr>\n",
       "    <tr>\n",
       "      <th>c</th>\n",
       "      <td>Mr. Owen Harris</td>\n",
       "      <td>Mrs. John Bradley</td>\n",
       "      <td>Miss. Laina Heikkinen</td>\n",
       "    </tr>\n",
       "  </tbody>\n",
       "</table>\n",
       "</div>"
      ],
      "text/plain": [
       "       PassengerID           Survived                  Names\n",
       "a                1                  2                      3\n",
       "b                0                  1                      1\n",
       "c  Mr. Owen Harris  Mrs. John Bradley  Miss. Laina Heikkinen"
      ]
     },
     "execution_count": 8,
     "metadata": {},
     "output_type": "execute_result"
    }
   ],
   "source": [
    "df_names3 = pd.DataFrame(\n",
    "     [[1,2,3],  #ID\n",
    "      [0,1,1], #if they survived or not\n",
    "     [\"Mr. Owen Harris\",\"Mrs. John Bradley\",\"Miss. Laina Heikkinen\"]],\n",
    "        index=['a','b','c'], \n",
    "        columns =['PassengerID','Survived', 'Names' ]) #name\n",
    "\n",
    "df_names3"
   ]
  },
  {
   "cell_type": "code",
   "execution_count": 9,
   "id": "c4d4986d",
   "metadata": {
    "slideshow": {
     "slide_type": "slide"
    }
   },
   "outputs": [
    {
     "data": {
      "text/html": [
       "<div>\n",
       "<style scoped>\n",
       "    .dataframe tbody tr th:only-of-type {\n",
       "        vertical-align: middle;\n",
       "    }\n",
       "\n",
       "    .dataframe tbody tr th {\n",
       "        vertical-align: top;\n",
       "    }\n",
       "\n",
       "    .dataframe thead th {\n",
       "        text-align: right;\n",
       "    }\n",
       "</style>\n",
       "<table border=\"1\" class=\"dataframe\">\n",
       "  <thead>\n",
       "    <tr style=\"text-align: right;\">\n",
       "      <th></th>\n",
       "      <th>PassengerID</th>\n",
       "      <th>Survived</th>\n",
       "      <th>Names</th>\n",
       "    </tr>\n",
       "  </thead>\n",
       "  <tbody>\n",
       "    <tr>\n",
       "      <th>a</th>\n",
       "      <td>1</td>\n",
       "      <td>0</td>\n",
       "      <td>Mr. Owen Harris</td>\n",
       "    </tr>\n",
       "    <tr>\n",
       "      <th>b</th>\n",
       "      <td>2</td>\n",
       "      <td>1</td>\n",
       "      <td>Mrs. John Bradley</td>\n",
       "    </tr>\n",
       "    <tr>\n",
       "      <th>c</th>\n",
       "      <td>3</td>\n",
       "      <td>1</td>\n",
       "      <td>Miss. Laina Heikkinen</td>\n",
       "    </tr>\n",
       "  </tbody>\n",
       "</table>\n",
       "</div>"
      ],
      "text/plain": [
       "   PassengerID  Survived                  Names\n",
       "a            1         0        Mr. Owen Harris\n",
       "b            2         1      Mrs. John Bradley\n",
       "c            3         1  Miss. Laina Heikkinen"
      ]
     },
     "execution_count": 9,
     "metadata": {},
     "output_type": "execute_result"
    }
   ],
   "source": [
    "df_names4 = pd.DataFrame(\n",
    "     [[1,0,\"Mr. Owen Harris\"],  \n",
    "      [2,1,\"Mrs. John Bradley\"], \n",
    "     [3,1,\"Miss. Laina Heikkinen\"]],\n",
    "        index=['a','b','c'], \n",
    "        columns =['PassengerID','Survived', 'Names' ]) \n",
    "\n",
    "df_names4"
   ]
  },
  {
   "cell_type": "markdown",
   "id": "340c2db5",
   "metadata": {
    "slideshow": {
     "slide_type": "slide"
    }
   },
   "source": [
    "## How do we create a DataFrame?\n",
    "\n",
    "There are a few different methods\n",
    "\n",
    " - We have seen:\n",
    " ```python \n",
    "pd.DataFrame(\n",
    "    { 1:[1,2,3], \n",
    "      2:[0,1,1], \n",
    "     3:[\"Mr. Owen Harris\",\"Mrs. John Bradley\",\"Miss. Laina Heikkinen\"]})\n",
    "```\n",
    " - and\n",
    " ```python \n",
    "pd.DataFrame(\n",
    "    { 'PassengerID':[1,2,3], \n",
    "      'Survived' :[0,1,1], \n",
    "     'Names':[\"Mr. Owen Harris\",\"Mrs. John Bradley\",\"Miss. Laina Heikkinen\"]},\n",
    "        index=['a','b','c'],)\n",
    "```"
   ]
  },
  {
   "cell_type": "markdown",
   "id": "7f2da89c",
   "metadata": {
    "slideshow": {
     "slide_type": "slide"
    }
   },
   "source": [
    " - We can also define a *series*"
   ]
  },
  {
   "cell_type": "markdown",
   "id": "1088471a",
   "metadata": {
    "slideshow": {
     "slide_type": "fragment"
    }
   },
   "source": [
    "So...\n",
    "\n",
    " - Python has lists\n",
    " - Numpy has arrays\n",
    " - and Pandas has series as the *basic* way to store data\n",
    " "
   ]
  },
  {
   "cell_type": "markdown",
   "id": "e668798d",
   "metadata": {
    "slideshow": {
     "slide_type": "fragment"
    }
   },
   "source": [
    " What is a series?"
   ]
  },
  {
   "cell_type": "markdown",
   "id": "fc8ed3e4",
   "metadata": {
    "slideshow": {
     "slide_type": "slide"
    }
   },
   "source": [
    "### Pandas series\n",
    "#### Pandas defines a basic collection data type called a \"series\" that is analogous to a one dimentional array in numpy.\n"
   ]
  },
  {
   "cell_type": "code",
   "execution_count": 10,
   "id": "99069625",
   "metadata": {
    "slideshow": {
     "slide_type": "fragment"
    }
   },
   "outputs": [
    {
     "data": {
      "text/plain": [
       "0          Mr. Owen Harris\n",
       "1        Mrs. John Bradley\n",
       "2    Miss. Laina Heikkinen\n",
       "dtype: object"
      ]
     },
     "execution_count": 10,
     "metadata": {},
     "output_type": "execute_result"
    }
   ],
   "source": [
    "Name= pd.Series([\"Mr. Owen Harris\",\"Mrs. John Bradley\",\"Miss. Laina Heikkinen\"])\n",
    "Name"
   ]
  },
  {
   "cell_type": "markdown",
   "id": "9dae48cf",
   "metadata": {
    "slideshow": {
     "slide_type": "fragment"
    }
   },
   "source": [
    "<code style=\"background:Thistle;color:black\">Talk to your neighbor: How is this different than an array? </code>"
   ]
  },
  {
   "cell_type": "markdown",
   "id": "76c3260d",
   "metadata": {
    "slideshow": {
     "slide_type": "slide"
    }
   },
   "source": [
    "## We can use series to make DataFrames\n",
    "\n",
    "In fact, a dataframe is a sequence of aligned series objects\n",
    "- “aligned” means that they share the same index\n"
   ]
  },
  {
   "cell_type": "code",
   "execution_count": 11,
   "id": "68219b27",
   "metadata": {
    "slideshow": {
     "slide_type": "fragment"
    }
   },
   "outputs": [
    {
     "data": {
      "text/html": [
       "<div>\n",
       "<style scoped>\n",
       "    .dataframe tbody tr th:only-of-type {\n",
       "        vertical-align: middle;\n",
       "    }\n",
       "\n",
       "    .dataframe tbody tr th {\n",
       "        vertical-align: top;\n",
       "    }\n",
       "\n",
       "    .dataframe thead th {\n",
       "        text-align: right;\n",
       "    }\n",
       "</style>\n",
       "<table border=\"1\" class=\"dataframe\">\n",
       "  <thead>\n",
       "    <tr style=\"text-align: right;\">\n",
       "      <th></th>\n",
       "      <th>1</th>\n",
       "      <th>2</th>\n",
       "      <th>3</th>\n",
       "    </tr>\n",
       "  </thead>\n",
       "  <tbody>\n",
       "    <tr>\n",
       "      <th>0</th>\n",
       "      <td>1</td>\n",
       "      <td>0</td>\n",
       "      <td>Mr. Owen Harris</td>\n",
       "    </tr>\n",
       "    <tr>\n",
       "      <th>1</th>\n",
       "      <td>2</td>\n",
       "      <td>1</td>\n",
       "      <td>Mrs. John Bradley</td>\n",
       "    </tr>\n",
       "    <tr>\n",
       "      <th>2</th>\n",
       "      <td>3</td>\n",
       "      <td>1</td>\n",
       "      <td>Miss. Laina Heikkinen</td>\n",
       "    </tr>\n",
       "  </tbody>\n",
       "</table>\n",
       "</div>"
      ],
      "text/plain": [
       "   1  2                      3\n",
       "0  1  0        Mr. Owen Harris\n",
       "1  2  1      Mrs. John Bradley\n",
       "2  3  1  Miss. Laina Heikkinen"
      ]
     },
     "execution_count": 11,
     "metadata": {},
     "output_type": "execute_result"
    }
   ],
   "source": [
    "Name= pd.Series([\"Mr. Owen Harris\",\"Mrs. John Bradley\",\"Miss. Laina Heikkinen\"])\n",
    "\n",
    "df_with_series = pd.DataFrame(\n",
    "    { 1:[1,2,3], \n",
    "      2:[0,1,1], \n",
    "     3: Name})\n",
    "\n",
    "df_with_series"
   ]
  },
  {
   "cell_type": "markdown",
   "id": "f5c67b8f",
   "metadata": {
    "slideshow": {
     "slide_type": "slide"
    }
   },
   "source": [
    "#### Series are a bit more flexible than arrays.  For example you can specify your own index for a series, and the indexes don't have to be integers."
   ]
  },
  {
   "cell_type": "code",
   "execution_count": 12,
   "id": "58f2876d",
   "metadata": {
    "slideshow": {
     "slide_type": "fragment"
    }
   },
   "outputs": [
    {
     "data": {
      "text/plain": [
       "Item_1    1\n",
       "Item_2    2\n",
       "Item_3    3\n",
       "dtype: int64"
      ]
     },
     "execution_count": 12,
     "metadata": {},
     "output_type": "execute_result"
    }
   ],
   "source": [
    "passID_with_index2 = pd.Series([1,2,3], index =['Item_1','Item_2','Item_3'])\n",
    "passID_with_index2"
   ]
  },
  {
   "cell_type": "markdown",
   "id": "5c239816",
   "metadata": {
    "slideshow": {
     "slide_type": "slide"
    }
   },
   "source": [
    "### We can extract elements from a series!"
   ]
  },
  {
   "cell_type": "code",
   "execution_count": 13,
   "id": "a47a1a14",
   "metadata": {
    "slideshow": {
     "slide_type": "fragment"
    }
   },
   "outputs": [
    {
     "name": "stderr",
     "output_type": "stream",
     "text": [
      "/var/folders/s_/fr0jyz7s5qv1_648_n3yrj940000gn/T/ipykernel_14959/1896639067.py:1: FutureWarning: Series.__getitem__ treating keys as positions is deprecated. In a future version, integer keys will always be treated as labels (consistent with DataFrame behavior). To access a value by position, use `ser.iloc[pos]`\n",
      "  passID_with_index2[1]\n"
     ]
    },
    {
     "data": {
      "text/plain": [
       "2"
      ]
     },
     "execution_count": 13,
     "metadata": {},
     "output_type": "execute_result"
    }
   ],
   "source": [
    "passID_with_index2[1]"
   ]
  },
  {
   "cell_type": "code",
   "execution_count": 14,
   "id": "7956ad64",
   "metadata": {
    "slideshow": {
     "slide_type": "fragment"
    }
   },
   "outputs": [
    {
     "data": {
      "text/plain": [
       "2"
      ]
     },
     "execution_count": 14,
     "metadata": {},
     "output_type": "execute_result"
    }
   ],
   "source": [
    "passID_with_index2['Item_2']"
   ]
  },
  {
   "cell_type": "markdown",
   "id": "8ee6ee72",
   "metadata": {
    "slideshow": {
     "slide_type": "fragment"
    }
   },
   "source": [
    "    \n",
    "np.array:\n",
    " - supports integer-based indexing\n",
    "    \n",
    "Series:\n",
    " - supports both integer- and label-based indexing \n",
    " - performs operations involving the index or location\n",
    "    \n",
    "    \n",
    "“Indexing” is refering to an element of an iterable (series, array, list, ...) by its position within the iterable. “Slicing” is refering to a subset of elements from an iterable (series, array, list, ...) based on their indices.    "
   ]
  },
  {
   "cell_type": "markdown",
   "id": "2fa19fab",
   "metadata": {
    "slideshow": {
     "slide_type": "slide"
    }
   },
   "source": [
    "### One more way to create a DataFrame!"
   ]
  },
  {
   "cell_type": "markdown",
   "id": "a3fc32ac",
   "metadata": {
    "slideshow": {
     "slide_type": "fragment"
    }
   },
   "source": [
    "We can read in a file."
   ]
  },
  {
   "cell_type": "code",
   "execution_count": 15,
   "id": "57449e1e",
   "metadata": {
    "slideshow": {
     "slide_type": "fragment"
    }
   },
   "outputs": [
    {
     "data": {
      "text/html": [
       "<div>\n",
       "<style scoped>\n",
       "    .dataframe tbody tr th:only-of-type {\n",
       "        vertical-align: middle;\n",
       "    }\n",
       "\n",
       "    .dataframe tbody tr th {\n",
       "        vertical-align: top;\n",
       "    }\n",
       "\n",
       "    .dataframe thead th {\n",
       "        text-align: right;\n",
       "    }\n",
       "</style>\n",
       "<table border=\"1\" class=\"dataframe\">\n",
       "  <thead>\n",
       "    <tr style=\"text-align: right;\">\n",
       "      <th></th>\n",
       "      <th>PassengerId</th>\n",
       "      <th>Survived</th>\n",
       "      <th>Name</th>\n",
       "    </tr>\n",
       "  </thead>\n",
       "  <tbody>\n",
       "    <tr>\n",
       "      <th>0</th>\n",
       "      <td>1</td>\n",
       "      <td>0</td>\n",
       "      <td>Mr. Owen Harris Braund</td>\n",
       "    </tr>\n",
       "    <tr>\n",
       "      <th>1</th>\n",
       "      <td>2</td>\n",
       "      <td>1</td>\n",
       "      <td>Mrs. John Bradley Cumings</td>\n",
       "    </tr>\n",
       "    <tr>\n",
       "      <th>2</th>\n",
       "      <td>3</td>\n",
       "      <td>1</td>\n",
       "      <td>Miss. Laina Heikkinen</td>\n",
       "    </tr>\n",
       "    <tr>\n",
       "      <th>3</th>\n",
       "      <td>4</td>\n",
       "      <td>0</td>\n",
       "      <td>Mrs. Johnson</td>\n",
       "    </tr>\n",
       "  </tbody>\n",
       "</table>\n",
       "</div>"
      ],
      "text/plain": [
       "   PassengerId  Survived                       Name\n",
       "0            1         0     Mr. Owen Harris Braund\n",
       "1            2         1  Mrs. John Bradley Cumings\n",
       "2            3         1      Miss. Laina Heikkinen\n",
       "3            4         0               Mrs. Johnson"
      ]
     },
     "execution_count": 15,
     "metadata": {},
     "output_type": "execute_result"
    }
   ],
   "source": [
    "titanic_small = pd.read_csv('https://raw.github.com/SusannaLange/Data_118_images/main/images/titanic/titanic_small.csv')\n",
    "titanic_small"
   ]
  },
  {
   "cell_type": "markdown",
   "id": "e8fa6c78",
   "metadata": {
    "slideshow": {
     "slide_type": "fragment"
    }
   },
   "source": [
    "We currently have a folder called *data* and a file called *titanic_small.csv*"
   ]
  },
  {
   "cell_type": "markdown",
   "id": "d53141a6",
   "metadata": {
    "slideshow": {
     "slide_type": "fragment"
    }
   },
   "source": [
    " \n",
    "<center> \n",
    "<img src=\"https://raw.github.com/SusannaLange/Data_118_images/main/images/titanic/data_folder.png\" alt=\"data_folder\" width=\"600\" height=\"700\">\n",
    "</center>\n",
    "\n",
    "\n",
    "\n",
    "<center> \n",
    "<img src=\"https://raw.github.com/SusannaLange/Data_118_images/main/images/titanic/titanic_csv_image.png\" alt=\"data_folder\" width=\"600\" height=\"700\">\n",
    "</center>\n"
   ]
  },
  {
   "cell_type": "markdown",
   "id": "b487a4df",
   "metadata": {
    "slideshow": {
     "slide_type": "slide"
    }
   },
   "source": [
    "We can turn this into a DataFrame by writing:"
   ]
  },
  {
   "cell_type": "code",
   "execution_count": 16,
   "id": "7b7855a4",
   "metadata": {
    "slideshow": {
     "slide_type": "fragment"
    }
   },
   "outputs": [
    {
     "ename": "FileNotFoundError",
     "evalue": "[Errno 2] No such file or directory: '../data/titanic_small.csv'",
     "output_type": "error",
     "traceback": [
      "\u001b[0;31m---------------------------------------------------------------------------\u001b[0m",
      "\u001b[0;31mFileNotFoundError\u001b[0m                         Traceback (most recent call last)",
      "\u001b[1;32m/Users/stevenalnemri/Desktop/DATA 118/LECTURES/Lecture_04_DataFrames.ipynb Cell 44\u001b[0m line \u001b[0;36m2\n\u001b[1;32m      <a href='vscode-notebook-cell:/Users/stevenalnemri/Desktop/DATA%20118/LECTURES/Lecture_04_DataFrames.ipynb#X61sZmlsZQ%3D%3D?line=0'>1</a>\u001b[0m \u001b[39m#pause here...can you read this file in?\u001b[39;00m\n\u001b[0;32m----> <a href='vscode-notebook-cell:/Users/stevenalnemri/Desktop/DATA%20118/LECTURES/Lecture_04_DataFrames.ipynb#X61sZmlsZQ%3D%3D?line=1'>2</a>\u001b[0m titanic_small \u001b[39m=\u001b[39m pd\u001b[39m.\u001b[39;49mread_csv(\u001b[39m'\u001b[39;49m\u001b[39m../data/titanic_small.csv\u001b[39;49m\u001b[39m'\u001b[39;49m) \u001b[39m#This notebook is in a folder, so the ../ \u001b[39;00m\n\u001b[1;32m      <a href='vscode-notebook-cell:/Users/stevenalnemri/Desktop/DATA%20118/LECTURES/Lecture_04_DataFrames.ipynb#X61sZmlsZQ%3D%3D?line=2'>3</a>\u001b[0m                                                         \u001b[39m#at the beginning denote going up a level\u001b[39;00m\n\u001b[1;32m      <a href='vscode-notebook-cell:/Users/stevenalnemri/Desktop/DATA%20118/LECTURES/Lecture_04_DataFrames.ipynb#X61sZmlsZQ%3D%3D?line=3'>4</a>\u001b[0m titanic_small\n",
      "File \u001b[0;32m/Library/Frameworks/Python.framework/Versions/3.12/lib/python3.12/site-packages/pandas/io/parsers/readers.py:948\u001b[0m, in \u001b[0;36mread_csv\u001b[0;34m(filepath_or_buffer, sep, delimiter, header, names, index_col, usecols, dtype, engine, converters, true_values, false_values, skipinitialspace, skiprows, skipfooter, nrows, na_values, keep_default_na, na_filter, verbose, skip_blank_lines, parse_dates, infer_datetime_format, keep_date_col, date_parser, date_format, dayfirst, cache_dates, iterator, chunksize, compression, thousands, decimal, lineterminator, quotechar, quoting, doublequote, escapechar, comment, encoding, encoding_errors, dialect, on_bad_lines, delim_whitespace, low_memory, memory_map, float_precision, storage_options, dtype_backend)\u001b[0m\n\u001b[1;32m    935\u001b[0m kwds_defaults \u001b[39m=\u001b[39m _refine_defaults_read(\n\u001b[1;32m    936\u001b[0m     dialect,\n\u001b[1;32m    937\u001b[0m     delimiter,\n\u001b[0;32m   (...)\u001b[0m\n\u001b[1;32m    944\u001b[0m     dtype_backend\u001b[39m=\u001b[39mdtype_backend,\n\u001b[1;32m    945\u001b[0m )\n\u001b[1;32m    946\u001b[0m kwds\u001b[39m.\u001b[39mupdate(kwds_defaults)\n\u001b[0;32m--> 948\u001b[0m \u001b[39mreturn\u001b[39;00m _read(filepath_or_buffer, kwds)\n",
      "File \u001b[0;32m/Library/Frameworks/Python.framework/Versions/3.12/lib/python3.12/site-packages/pandas/io/parsers/readers.py:611\u001b[0m, in \u001b[0;36m_read\u001b[0;34m(filepath_or_buffer, kwds)\u001b[0m\n\u001b[1;32m    608\u001b[0m _validate_names(kwds\u001b[39m.\u001b[39mget(\u001b[39m\"\u001b[39m\u001b[39mnames\u001b[39m\u001b[39m\"\u001b[39m, \u001b[39mNone\u001b[39;00m))\n\u001b[1;32m    610\u001b[0m \u001b[39m# Create the parser.\u001b[39;00m\n\u001b[0;32m--> 611\u001b[0m parser \u001b[39m=\u001b[39m TextFileReader(filepath_or_buffer, \u001b[39m*\u001b[39;49m\u001b[39m*\u001b[39;49mkwds)\n\u001b[1;32m    613\u001b[0m \u001b[39mif\u001b[39;00m chunksize \u001b[39mor\u001b[39;00m iterator:\n\u001b[1;32m    614\u001b[0m     \u001b[39mreturn\u001b[39;00m parser\n",
      "File \u001b[0;32m/Library/Frameworks/Python.framework/Versions/3.12/lib/python3.12/site-packages/pandas/io/parsers/readers.py:1448\u001b[0m, in \u001b[0;36mTextFileReader.__init__\u001b[0;34m(self, f, engine, **kwds)\u001b[0m\n\u001b[1;32m   1445\u001b[0m     \u001b[39mself\u001b[39m\u001b[39m.\u001b[39moptions[\u001b[39m\"\u001b[39m\u001b[39mhas_index_names\u001b[39m\u001b[39m\"\u001b[39m] \u001b[39m=\u001b[39m kwds[\u001b[39m\"\u001b[39m\u001b[39mhas_index_names\u001b[39m\u001b[39m\"\u001b[39m]\n\u001b[1;32m   1447\u001b[0m \u001b[39mself\u001b[39m\u001b[39m.\u001b[39mhandles: IOHandles \u001b[39m|\u001b[39m \u001b[39mNone\u001b[39;00m \u001b[39m=\u001b[39m \u001b[39mNone\u001b[39;00m\n\u001b[0;32m-> 1448\u001b[0m \u001b[39mself\u001b[39m\u001b[39m.\u001b[39m_engine \u001b[39m=\u001b[39m \u001b[39mself\u001b[39;49m\u001b[39m.\u001b[39;49m_make_engine(f, \u001b[39mself\u001b[39;49m\u001b[39m.\u001b[39;49mengine)\n",
      "File \u001b[0;32m/Library/Frameworks/Python.framework/Versions/3.12/lib/python3.12/site-packages/pandas/io/parsers/readers.py:1705\u001b[0m, in \u001b[0;36mTextFileReader._make_engine\u001b[0;34m(self, f, engine)\u001b[0m\n\u001b[1;32m   1703\u001b[0m     \u001b[39mif\u001b[39;00m \u001b[39m\"\u001b[39m\u001b[39mb\u001b[39m\u001b[39m\"\u001b[39m \u001b[39mnot\u001b[39;00m \u001b[39min\u001b[39;00m mode:\n\u001b[1;32m   1704\u001b[0m         mode \u001b[39m+\u001b[39m\u001b[39m=\u001b[39m \u001b[39m\"\u001b[39m\u001b[39mb\u001b[39m\u001b[39m\"\u001b[39m\n\u001b[0;32m-> 1705\u001b[0m \u001b[39mself\u001b[39m\u001b[39m.\u001b[39mhandles \u001b[39m=\u001b[39m get_handle(\n\u001b[1;32m   1706\u001b[0m     f,\n\u001b[1;32m   1707\u001b[0m     mode,\n\u001b[1;32m   1708\u001b[0m     encoding\u001b[39m=\u001b[39;49m\u001b[39mself\u001b[39;49m\u001b[39m.\u001b[39;49moptions\u001b[39m.\u001b[39;49mget(\u001b[39m\"\u001b[39;49m\u001b[39mencoding\u001b[39;49m\u001b[39m\"\u001b[39;49m, \u001b[39mNone\u001b[39;49;00m),\n\u001b[1;32m   1709\u001b[0m     compression\u001b[39m=\u001b[39;49m\u001b[39mself\u001b[39;49m\u001b[39m.\u001b[39;49moptions\u001b[39m.\u001b[39;49mget(\u001b[39m\"\u001b[39;49m\u001b[39mcompression\u001b[39;49m\u001b[39m\"\u001b[39;49m, \u001b[39mNone\u001b[39;49;00m),\n\u001b[1;32m   1710\u001b[0m     memory_map\u001b[39m=\u001b[39;49m\u001b[39mself\u001b[39;49m\u001b[39m.\u001b[39;49moptions\u001b[39m.\u001b[39;49mget(\u001b[39m\"\u001b[39;49m\u001b[39mmemory_map\u001b[39;49m\u001b[39m\"\u001b[39;49m, \u001b[39mFalse\u001b[39;49;00m),\n\u001b[1;32m   1711\u001b[0m     is_text\u001b[39m=\u001b[39;49mis_text,\n\u001b[1;32m   1712\u001b[0m     errors\u001b[39m=\u001b[39;49m\u001b[39mself\u001b[39;49m\u001b[39m.\u001b[39;49moptions\u001b[39m.\u001b[39;49mget(\u001b[39m\"\u001b[39;49m\u001b[39mencoding_errors\u001b[39;49m\u001b[39m\"\u001b[39;49m, \u001b[39m\"\u001b[39;49m\u001b[39mstrict\u001b[39;49m\u001b[39m\"\u001b[39;49m),\n\u001b[1;32m   1713\u001b[0m     storage_options\u001b[39m=\u001b[39;49m\u001b[39mself\u001b[39;49m\u001b[39m.\u001b[39;49moptions\u001b[39m.\u001b[39;49mget(\u001b[39m\"\u001b[39;49m\u001b[39mstorage_options\u001b[39;49m\u001b[39m\"\u001b[39;49m, \u001b[39mNone\u001b[39;49;00m),\n\u001b[1;32m   1714\u001b[0m )\n\u001b[1;32m   1715\u001b[0m \u001b[39massert\u001b[39;00m \u001b[39mself\u001b[39m\u001b[39m.\u001b[39mhandles \u001b[39mis\u001b[39;00m \u001b[39mnot\u001b[39;00m \u001b[39mNone\u001b[39;00m\n\u001b[1;32m   1716\u001b[0m f \u001b[39m=\u001b[39m \u001b[39mself\u001b[39m\u001b[39m.\u001b[39mhandles\u001b[39m.\u001b[39mhandle\n",
      "File \u001b[0;32m/Library/Frameworks/Python.framework/Versions/3.12/lib/python3.12/site-packages/pandas/io/common.py:863\u001b[0m, in \u001b[0;36mget_handle\u001b[0;34m(path_or_buf, mode, encoding, compression, memory_map, is_text, errors, storage_options)\u001b[0m\n\u001b[1;32m    858\u001b[0m \u001b[39melif\u001b[39;00m \u001b[39misinstance\u001b[39m(handle, \u001b[39mstr\u001b[39m):\n\u001b[1;32m    859\u001b[0m     \u001b[39m# Check whether the filename is to be opened in binary mode.\u001b[39;00m\n\u001b[1;32m    860\u001b[0m     \u001b[39m# Binary mode does not support 'encoding' and 'newline'.\u001b[39;00m\n\u001b[1;32m    861\u001b[0m     \u001b[39mif\u001b[39;00m ioargs\u001b[39m.\u001b[39mencoding \u001b[39mand\u001b[39;00m \u001b[39m\"\u001b[39m\u001b[39mb\u001b[39m\u001b[39m\"\u001b[39m \u001b[39mnot\u001b[39;00m \u001b[39min\u001b[39;00m ioargs\u001b[39m.\u001b[39mmode:\n\u001b[1;32m    862\u001b[0m         \u001b[39m# Encoding\u001b[39;00m\n\u001b[0;32m--> 863\u001b[0m         handle \u001b[39m=\u001b[39m \u001b[39mopen\u001b[39;49m(\n\u001b[1;32m    864\u001b[0m             handle,\n\u001b[1;32m    865\u001b[0m             ioargs\u001b[39m.\u001b[39;49mmode,\n\u001b[1;32m    866\u001b[0m             encoding\u001b[39m=\u001b[39;49mioargs\u001b[39m.\u001b[39;49mencoding,\n\u001b[1;32m    867\u001b[0m             errors\u001b[39m=\u001b[39;49merrors,\n\u001b[1;32m    868\u001b[0m             newline\u001b[39m=\u001b[39;49m\u001b[39m\"\u001b[39;49m\u001b[39m\"\u001b[39;49m,\n\u001b[1;32m    869\u001b[0m         )\n\u001b[1;32m    870\u001b[0m     \u001b[39melse\u001b[39;00m:\n\u001b[1;32m    871\u001b[0m         \u001b[39m# Binary mode\u001b[39;00m\n\u001b[1;32m    872\u001b[0m         handle \u001b[39m=\u001b[39m \u001b[39mopen\u001b[39m(handle, ioargs\u001b[39m.\u001b[39mmode)\n",
      "\u001b[0;31mFileNotFoundError\u001b[0m: [Errno 2] No such file or directory: '../data/titanic_small.csv'"
     ]
    }
   ],
   "source": [
    "#pause here...can you read this file in?\n",
    "titanic_small = pd.read_csv('../data/titanic_small.csv') #This notebook is in a folder, so the ../ \n",
    "                                                        #at the beginning denote going up a level\n",
    "titanic_small"
   ]
  },
  {
   "cell_type": "markdown",
   "id": "5f9f8f2a",
   "metadata": {
    "slideshow": {
     "slide_type": "slide"
    }
   },
   "source": [
    "### Different objects for different goals\n",
    "\n",
    "Method 1: (Using lists from python (no import numpy needed))\n",
    "- list of lists\n",
    "- Hard to manipulate\n",
    "\n",
    "Method 2: (Using np.array)\n",
    "- All values of same data type\n",
    "- Easy to do math and matrix manipulations\n",
    "- No row column names\n",
    "\n",
    "Method 3: (Using pandas DataFrames)\n",
    "- Columns can have different types\n",
    "- Easy to manipulate by name\n",
    "- row and column names built in!"
   ]
  },
  {
   "cell_type": "markdown",
   "id": "c830e220",
   "metadata": {
    "slideshow": {
     "slide_type": "slide"
    }
   },
   "source": [
    "### Now we have a DataFrame. What can we do with it?!"
   ]
  },
  {
   "cell_type": "markdown",
   "id": "8f5a53a4",
   "metadata": {
    "slideshow": {
     "slide_type": "fragment"
    }
   },
   "source": [
    "### Basic stuff first"
   ]
  },
  {
   "cell_type": "code",
   "execution_count": 17,
   "id": "e622af41",
   "metadata": {
    "slideshow": {
     "slide_type": "fragment"
    }
   },
   "outputs": [
    {
     "data": {
      "text/html": [
       "<div>\n",
       "<style scoped>\n",
       "    .dataframe tbody tr th:only-of-type {\n",
       "        vertical-align: middle;\n",
       "    }\n",
       "\n",
       "    .dataframe tbody tr th {\n",
       "        vertical-align: top;\n",
       "    }\n",
       "\n",
       "    .dataframe thead th {\n",
       "        text-align: right;\n",
       "    }\n",
       "</style>\n",
       "<table border=\"1\" class=\"dataframe\">\n",
       "  <thead>\n",
       "    <tr style=\"text-align: right;\">\n",
       "      <th></th>\n",
       "      <th>PassengerId</th>\n",
       "      <th>Survived</th>\n",
       "      <th>Name</th>\n",
       "    </tr>\n",
       "  </thead>\n",
       "  <tbody>\n",
       "    <tr>\n",
       "      <th>0</th>\n",
       "      <td>1</td>\n",
       "      <td>0</td>\n",
       "      <td>Mr. Owen Harris Braund</td>\n",
       "    </tr>\n",
       "    <tr>\n",
       "      <th>1</th>\n",
       "      <td>2</td>\n",
       "      <td>1</td>\n",
       "      <td>Mrs. John Bradley Cumings</td>\n",
       "    </tr>\n",
       "  </tbody>\n",
       "</table>\n",
       "</div>"
      ],
      "text/plain": [
       "   PassengerId  Survived                       Name\n",
       "0            1         0     Mr. Owen Harris Braund\n",
       "1            2         1  Mrs. John Bradley Cumings"
      ]
     },
     "execution_count": 17,
     "metadata": {},
     "output_type": "execute_result"
    }
   ],
   "source": [
    "titanic_small.head(2)"
   ]
  },
  {
   "cell_type": "markdown",
   "id": "7c2c57f1",
   "metadata": {
    "slideshow": {
     "slide_type": "slide"
    }
   },
   "source": [
    "## Some attributes work to tell us the shape and size info"
   ]
  },
  {
   "cell_type": "code",
   "execution_count": null,
   "id": "128f4062",
   "metadata": {
    "slideshow": {
     "slide_type": "fragment"
    }
   },
   "outputs": [],
   "source": [
    "#We could ask for the shape - dimensions - of the DataFrame\n",
    "titanic_small.shape"
   ]
  },
  {
   "cell_type": "code",
   "execution_count": null,
   "id": "0f972d22",
   "metadata": {
    "slideshow": {
     "slide_type": "fragment"
    }
   },
   "outputs": [],
   "source": [
    "#We could find how many rows.\n",
    "#This isn't a method or attribute though....\n",
    "len(titanic_small)"
   ]
  },
  {
   "cell_type": "code",
   "execution_count": null,
   "id": "cdec5a06",
   "metadata": {
    "slideshow": {
     "slide_type": "fragment"
    }
   },
   "outputs": [],
   "source": [
    "titanic_small.columns"
   ]
  },
  {
   "cell_type": "code",
   "execution_count": 18,
   "id": "b0f5a480",
   "metadata": {
    "slideshow": {
     "slide_type": "fragment"
    }
   },
   "outputs": [
    {
     "data": {
      "text/plain": [
       "4"
      ]
     },
     "execution_count": 18,
     "metadata": {},
     "output_type": "execute_result"
    }
   ],
   "source": [
    "#how many rows\n",
    "len(titanic_small)"
   ]
  },
  {
   "cell_type": "markdown",
   "id": "f7c5fdc8",
   "metadata": {
    "slideshow": {
     "slide_type": "slide"
    }
   },
   "source": [
    "## How to extract"
   ]
  },
  {
   "cell_type": "code",
   "execution_count": 19,
   "id": "5450960f",
   "metadata": {
    "slideshow": {
     "slide_type": "fragment"
    }
   },
   "outputs": [
    {
     "data": {
      "text/plain": [
       "0       Mr. Owen Harris Braund\n",
       "1    Mrs. John Bradley Cumings\n",
       "2        Miss. Laina Heikkinen\n",
       "3                 Mrs. Johnson\n",
       "Name: Name, dtype: object"
      ]
     },
     "execution_count": 19,
     "metadata": {},
     "output_type": "execute_result"
    }
   ],
   "source": [
    "#We can extract an entire column!\n",
    "titanic_small['Name']"
   ]
  },
  {
   "cell_type": "code",
   "execution_count": 20,
   "id": "28f3beca",
   "metadata": {
    "slideshow": {
     "slide_type": "fragment"
    }
   },
   "outputs": [
    {
     "data": {
      "text/plain": [
       "0       Mr. Owen Harris Braund\n",
       "1    Mrs. John Bradley Cumings\n",
       "2        Miss. Laina Heikkinen\n",
       "3                 Mrs. Johnson\n",
       "Name: Name, dtype: object"
      ]
     },
     "execution_count": 20,
     "metadata": {},
     "output_type": "execute_result"
    }
   ],
   "source": [
    "## There is often more than one way to do something\n",
    "titanic_small.Name"
   ]
  },
  {
   "cell_type": "code",
   "execution_count": 21,
   "id": "d3a6d4dc",
   "metadata": {
    "slideshow": {
     "slide_type": "fragment"
    }
   },
   "outputs": [
    {
     "data": {
      "text/plain": [
       "pandas.core.series.Series"
      ]
     },
     "execution_count": 21,
     "metadata": {},
     "output_type": "execute_result"
    }
   ],
   "source": [
    "#Is this a series or a DataFrame?\n",
    "type(titanic_small['Name'])"
   ]
  },
  {
   "cell_type": "markdown",
   "id": "8c855952",
   "metadata": {
    "slideshow": {
     "slide_type": "fragment"
    }
   },
   "source": [
    "What if I wanted to extract as a DataFrame?!"
   ]
  },
  {
   "cell_type": "code",
   "execution_count": 22,
   "id": "a863a7d7",
   "metadata": {
    "slideshow": {
     "slide_type": "fragment"
    }
   },
   "outputs": [
    {
     "data": {
      "text/html": [
       "<div>\n",
       "<style scoped>\n",
       "    .dataframe tbody tr th:only-of-type {\n",
       "        vertical-align: middle;\n",
       "    }\n",
       "\n",
       "    .dataframe tbody tr th {\n",
       "        vertical-align: top;\n",
       "    }\n",
       "\n",
       "    .dataframe thead th {\n",
       "        text-align: right;\n",
       "    }\n",
       "</style>\n",
       "<table border=\"1\" class=\"dataframe\">\n",
       "  <thead>\n",
       "    <tr style=\"text-align: right;\">\n",
       "      <th></th>\n",
       "      <th>Name</th>\n",
       "    </tr>\n",
       "  </thead>\n",
       "  <tbody>\n",
       "    <tr>\n",
       "      <th>0</th>\n",
       "      <td>Mr. Owen Harris Braund</td>\n",
       "    </tr>\n",
       "    <tr>\n",
       "      <th>1</th>\n",
       "      <td>Mrs. John Bradley Cumings</td>\n",
       "    </tr>\n",
       "    <tr>\n",
       "      <th>2</th>\n",
       "      <td>Miss. Laina Heikkinen</td>\n",
       "    </tr>\n",
       "    <tr>\n",
       "      <th>3</th>\n",
       "      <td>Mrs. Johnson</td>\n",
       "    </tr>\n",
       "  </tbody>\n",
       "</table>\n",
       "</div>"
      ],
      "text/plain": [
       "                        Name\n",
       "0     Mr. Owen Harris Braund\n",
       "1  Mrs. John Bradley Cumings\n",
       "2      Miss. Laina Heikkinen\n",
       "3               Mrs. Johnson"
      ]
     },
     "execution_count": 22,
     "metadata": {},
     "output_type": "execute_result"
    }
   ],
   "source": [
    "titanic_small[['Name']]"
   ]
  },
  {
   "cell_type": "code",
   "execution_count": 23,
   "id": "123119e7",
   "metadata": {
    "slideshow": {
     "slide_type": "slide"
    }
   },
   "outputs": [
    {
     "data": {
      "text/html": [
       "<div>\n",
       "<style scoped>\n",
       "    .dataframe tbody tr th:only-of-type {\n",
       "        vertical-align: middle;\n",
       "    }\n",
       "\n",
       "    .dataframe tbody tr th {\n",
       "        vertical-align: top;\n",
       "    }\n",
       "\n",
       "    .dataframe thead th {\n",
       "        text-align: right;\n",
       "    }\n",
       "</style>\n",
       "<table border=\"1\" class=\"dataframe\">\n",
       "  <thead>\n",
       "    <tr style=\"text-align: right;\">\n",
       "      <th></th>\n",
       "      <th>Name</th>\n",
       "      <th>Survived</th>\n",
       "    </tr>\n",
       "  </thead>\n",
       "  <tbody>\n",
       "    <tr>\n",
       "      <th>0</th>\n",
       "      <td>Mr. Owen Harris Braund</td>\n",
       "      <td>0</td>\n",
       "    </tr>\n",
       "    <tr>\n",
       "      <th>1</th>\n",
       "      <td>Mrs. John Bradley Cumings</td>\n",
       "      <td>1</td>\n",
       "    </tr>\n",
       "    <tr>\n",
       "      <th>2</th>\n",
       "      <td>Miss. Laina Heikkinen</td>\n",
       "      <td>1</td>\n",
       "    </tr>\n",
       "    <tr>\n",
       "      <th>3</th>\n",
       "      <td>Mrs. Johnson</td>\n",
       "      <td>0</td>\n",
       "    </tr>\n",
       "  </tbody>\n",
       "</table>\n",
       "</div>"
      ],
      "text/plain": [
       "                        Name  Survived\n",
       "0     Mr. Owen Harris Braund         0\n",
       "1  Mrs. John Bradley Cumings         1\n",
       "2      Miss. Laina Heikkinen         1\n",
       "3               Mrs. Johnson         0"
      ]
     },
     "execution_count": 23,
     "metadata": {},
     "output_type": "execute_result"
    }
   ],
   "source": [
    "## Can we extract multiple columns?!\n",
    "titanic_small[['Name', 'Survived']]"
   ]
  },
  {
   "cell_type": "markdown",
   "id": "fe75e25c",
   "metadata": {
    "slideshow": {
     "slide_type": "slide"
    }
   },
   "source": [
    "## Above extracted columns...What about rows?"
   ]
  },
  {
   "cell_type": "code",
   "execution_count": 24,
   "id": "b57ceab5",
   "metadata": {
    "slideshow": {
     "slide_type": "fragment"
    }
   },
   "outputs": [
    {
     "data": {
      "text/html": [
       "<div>\n",
       "<style scoped>\n",
       "    .dataframe tbody tr th:only-of-type {\n",
       "        vertical-align: middle;\n",
       "    }\n",
       "\n",
       "    .dataframe tbody tr th {\n",
       "        vertical-align: top;\n",
       "    }\n",
       "\n",
       "    .dataframe thead th {\n",
       "        text-align: right;\n",
       "    }\n",
       "</style>\n",
       "<table border=\"1\" class=\"dataframe\">\n",
       "  <thead>\n",
       "    <tr style=\"text-align: right;\">\n",
       "      <th></th>\n",
       "      <th>PassengerId</th>\n",
       "      <th>Survived</th>\n",
       "      <th>Name</th>\n",
       "    </tr>\n",
       "  </thead>\n",
       "  <tbody>\n",
       "    <tr>\n",
       "      <th>1</th>\n",
       "      <td>2</td>\n",
       "      <td>1</td>\n",
       "      <td>Mrs. John Bradley Cumings</td>\n",
       "    </tr>\n",
       "    <tr>\n",
       "      <th>2</th>\n",
       "      <td>3</td>\n",
       "      <td>1</td>\n",
       "      <td>Miss. Laina Heikkinen</td>\n",
       "    </tr>\n",
       "  </tbody>\n",
       "</table>\n",
       "</div>"
      ],
      "text/plain": [
       "   PassengerId  Survived                       Name\n",
       "1            2         1  Mrs. John Bradley Cumings\n",
       "2            3         1      Miss. Laina Heikkinen"
      ]
     },
     "execution_count": 24,
     "metadata": {},
     "output_type": "execute_result"
    }
   ],
   "source": [
    "#You can also chose rows by slicing\n",
    "titanic_small[1:3] #starting at index 1 up to and excluding index 3"
   ]
  },
  {
   "cell_type": "markdown",
   "id": "6c8deef7",
   "metadata": {
    "slideshow": {
     "slide_type": "slide"
    }
   },
   "source": [
    "## What did we just say\n",
    "\n",
    "Basic descriptions of DataFrame:\n",
    "\n",
    "```python \n",
    "\n",
    "dataframe.head()\n",
    "\n",
    "dataframe.columns\n",
    "\n",
    "dataframe.shape\n",
    "\n",
    "len(dataframe)\n",
    "\n",
    "```\n",
    "\n",
    "We can use basic extraction to extract an entire column with either of the following:\n",
    "```python \n",
    "\n",
    "dataframe.column_name\n",
    "\n",
    "dataframe['column_name']\n",
    "```\n",
    "\n",
    "We can extract rows with\n",
    "```python \n",
    "\n",
    "dataframe[start:end] # giving us rows [start, end)\n",
    "```"
   ]
  },
  {
   "cell_type": "markdown",
   "id": "64862f65",
   "metadata": {
    "slideshow": {
     "slide_type": "slide"
    }
   },
   "source": [
    "## Methods\n",
    "We can perform many *methods* on DataFrames!"
   ]
  },
  {
   "cell_type": "markdown",
   "id": "d0461911",
   "metadata": {
    "slideshow": {
     "slide_type": "fragment"
    }
   },
   "source": [
    "What are methods again?!"
   ]
  },
  {
   "cell_type": "markdown",
   "id": "fe7b8044",
   "metadata": {
    "slideshow": {
     "slide_type": "fragment"
    }
   },
   "source": [
    "*Methods* are particular built-in functions that work on objects in python. There are specific methods that work for all DataFrame objects! \n",
    "\n",
    "Methods take the form \n",
    "```python \n",
    "df.method()\n",
    "```"
   ]
  },
  {
   "cell_type": "markdown",
   "id": "5d26566a",
   "metadata": {
    "slideshow": {
     "slide_type": "slide"
    }
   },
   "source": [
    "## Some methods help us clean the data!"
   ]
  },
  {
   "cell_type": "code",
   "execution_count": null,
   "id": "7d41e28f",
   "metadata": {
    "slideshow": {
     "slide_type": "fragment"
    }
   },
   "outputs": [],
   "source": [
    "#We could drop a column (or columns) of the data\n",
    "titanic_small.drop(columns=['PassengerId'])"
   ]
  },
  {
   "cell_type": "markdown",
   "id": "ab9ac12f",
   "metadata": {
    "slideshow": {
     "slide_type": "fragment"
    }
   },
   "source": [
    "\n",
    "<code style=\"background:Thistle;color:black\">How would I drop the column 'PassengerId' and the column 'Survived'? </code>\n"
   ]
  },
  {
   "cell_type": "code",
   "execution_count": null,
   "id": "978293f7",
   "metadata": {
    "slideshow": {
     "slide_type": "fragment"
    }
   },
   "outputs": [],
   "source": [
    "titanic_small.drop(columns=['PassengerId', 'Survived'])"
   ]
  },
  {
   "cell_type": "markdown",
   "id": "7cba41e4",
   "metadata": {
    "slideshow": {
     "slide_type": "slide"
    }
   },
   "source": [
    "#### Did any of this change the original DataFrame?!"
   ]
  },
  {
   "cell_type": "code",
   "execution_count": 25,
   "id": "6fe5a8b8",
   "metadata": {
    "slideshow": {
     "slide_type": "fragment"
    }
   },
   "outputs": [
    {
     "data": {
      "text/html": [
       "<div>\n",
       "<style scoped>\n",
       "    .dataframe tbody tr th:only-of-type {\n",
       "        vertical-align: middle;\n",
       "    }\n",
       "\n",
       "    .dataframe tbody tr th {\n",
       "        vertical-align: top;\n",
       "    }\n",
       "\n",
       "    .dataframe thead th {\n",
       "        text-align: right;\n",
       "    }\n",
       "</style>\n",
       "<table border=\"1\" class=\"dataframe\">\n",
       "  <thead>\n",
       "    <tr style=\"text-align: right;\">\n",
       "      <th></th>\n",
       "      <th>PassengerId</th>\n",
       "      <th>Survived</th>\n",
       "      <th>Name</th>\n",
       "    </tr>\n",
       "  </thead>\n",
       "  <tbody>\n",
       "    <tr>\n",
       "      <th>0</th>\n",
       "      <td>1</td>\n",
       "      <td>0</td>\n",
       "      <td>Mr. Owen Harris Braund</td>\n",
       "    </tr>\n",
       "    <tr>\n",
       "      <th>1</th>\n",
       "      <td>2</td>\n",
       "      <td>1</td>\n",
       "      <td>Mrs. John Bradley Cumings</td>\n",
       "    </tr>\n",
       "    <tr>\n",
       "      <th>2</th>\n",
       "      <td>3</td>\n",
       "      <td>1</td>\n",
       "      <td>Miss. Laina Heikkinen</td>\n",
       "    </tr>\n",
       "    <tr>\n",
       "      <th>3</th>\n",
       "      <td>4</td>\n",
       "      <td>0</td>\n",
       "      <td>Mrs. Johnson</td>\n",
       "    </tr>\n",
       "  </tbody>\n",
       "</table>\n",
       "</div>"
      ],
      "text/plain": [
       "   PassengerId  Survived                       Name\n",
       "0            1         0     Mr. Owen Harris Braund\n",
       "1            2         1  Mrs. John Bradley Cumings\n",
       "2            3         1      Miss. Laina Heikkinen\n",
       "3            4         0               Mrs. Johnson"
      ]
     },
     "execution_count": 25,
     "metadata": {},
     "output_type": "execute_result"
    }
   ],
   "source": [
    "titanic_small.head(4)"
   ]
  },
  {
   "cell_type": "code",
   "execution_count": null,
   "id": "e4c854c8",
   "metadata": {
    "slideshow": {
     "slide_type": "fragment"
    }
   },
   "outputs": [],
   "source": [
    "titanic_small.drop(columns=['PassengerId'], inplace = True)\n",
    "titanic_small\n",
    "#OR\n",
    "#titanic_small_clean = titanic_small.drop(columns = []'PassengerId'])"
   ]
  },
  {
   "cell_type": "markdown",
   "id": "d4feeaee",
   "metadata": {
    "slideshow": {
     "slide_type": "slide"
    }
   },
   "source": [
    "## Or we can rename column names"
   ]
  },
  {
   "cell_type": "code",
   "execution_count": null,
   "id": "fed96274",
   "metadata": {
    "slideshow": {
     "slide_type": "fragment"
    }
   },
   "outputs": [],
   "source": [
    "titanic_small.head(3)"
   ]
  },
  {
   "cell_type": "code",
   "execution_count": null,
   "id": "50284397",
   "metadata": {
    "slideshow": {
     "slide_type": "fragment"
    }
   },
   "outputs": [],
   "source": [
    "titanic_small = titanic_small.rename(columns = {\"Name\":\"Passenger Name\"})\n",
    "titanic_small"
   ]
  },
  {
   "cell_type": "markdown",
   "id": "33ba5b73",
   "metadata": {
    "slideshow": {
     "slide_type": "slide"
    }
   },
   "source": [
    "### Operations to summarize the data!\n"
   ]
  },
  {
   "cell_type": "code",
   "execution_count": null,
   "id": "c3dfb230",
   "metadata": {
    "slideshow": {
     "slide_type": "fragment"
    }
   },
   "outputs": [],
   "source": [
    "np.mean(titanic_small['Survived'])  #series"
   ]
  },
  {
   "cell_type": "code",
   "execution_count": null,
   "id": "df4e12ba",
   "metadata": {
    "slideshow": {
     "slide_type": "fragment"
    }
   },
   "outputs": [],
   "source": [
    "np.mean(titanic_small[['Survived']])  #dataframe"
   ]
  },
  {
   "cell_type": "markdown",
   "id": "d78d85c1",
   "metadata": {},
   "source": []
  },
  {
   "cell_type": "markdown",
   "id": "1ff00853",
   "metadata": {
    "slideshow": {
     "slide_type": "slide"
    }
   },
   "source": [
    "Here's a short list of methods that can be used to determine summative information and/or statistics:\n",
    "\n",
    "`.min()` - determines the minimum value in a dataframe/series\n",
    "\n",
    "`.max()` - determines the maximum value in a dataframe/series\n",
    "\n",
    "`.mean()` - determines the mean value of a dataframe/series\n",
    "\n",
    "`.median()` - determines the median value in a dataframe/series\n",
    "\n",
    "`.sum()` - determines the sum of the values in a dataframe/series\n",
    "\n",
    "`.mode()` - determines the mode of a dataframe/series\n",
    "\n",
    "`.nlargest()` - determines the largest *n* items in a series. (Default = 5)\n",
    "\n",
    "`.nsmallest()` - determines the smallest *n* items in a series. (Default = 5)\n",
    "\n",
    "`.count()` - counts all non-null items in a dataframe/series\n",
    "\n",
    "`.value_counts` - counts the number of times an item occurs in a dataframe/series\n",
    "\n",
    "`.nunique()` - counts the number of unique items in a dataframe/series\n",
    "\n",
    "`.unique()` - lists all of the unique items in a dataframe/series\n",
    "\n",
    "`.describe` - generates descriptive statistics of a dataframe column, including those that summarize the central tendency, dispersion and shape of a dataset’s distribution, excluding null values (NaN)."
   ]
  },
  {
   "cell_type": "markdown",
   "id": "14f65231",
   "metadata": {
    "slideshow": {
     "slide_type": "slide"
    }
   },
   "source": [
    "### <mark style=\"background-color: Thistle\"> Code comprehension: Activity</mark>\n",
    "\n"
   ]
  },
  {
   "cell_type": "markdown",
   "id": "41bbd7cc",
   "metadata": {
    "slideshow": {
     "slide_type": "fragment"
    }
   },
   "source": [
    "Let's load in the bigger Titanic dataset!"
   ]
  },
  {
   "cell_type": "code",
   "execution_count": null,
   "id": "cbca7b93",
   "metadata": {
    "slideshow": {
     "slide_type": "fragment"
    }
   },
   "outputs": [],
   "source": [
    "## download the dataset from Canvas and load it in here\n",
    "titanic_df = "
   ]
  },
  {
   "cell_type": "markdown",
   "id": "815393f9",
   "metadata": {
    "slideshow": {
     "slide_type": "fragment"
    }
   },
   "source": [
    "## Question 1: What does the below line of code do?"
   ]
  },
  {
   "cell_type": "code",
   "execution_count": null,
   "id": "4d565974",
   "metadata": {
    "slideshow": {
     "slide_type": "fragment"
    }
   },
   "outputs": [],
   "source": [
    "#run this line of code\n",
    "titanic_df.head() #is there a default if the argument is empty?"
   ]
  },
  {
   "cell_type": "code",
   "execution_count": null,
   "id": "65675ab3",
   "metadata": {
    "slideshow": {
     "slide_type": "fragment"
    }
   },
   "outputs": [],
   "source": [
    "#what about this one?\n",
    "titanic_df.tail()"
   ]
  },
  {
   "cell_type": "markdown",
   "id": "6792e42a",
   "metadata": {
    "slideshow": {
     "slide_type": "fragment"
    }
   },
   "source": [
    "## Question 2: Print out all the columns in this dataset"
   ]
  },
  {
   "cell_type": "code",
   "execution_count": null,
   "id": "a1798c9a",
   "metadata": {
    "slideshow": {
     "slide_type": "fragment"
    }
   },
   "outputs": [],
   "source": [
    "#code here"
   ]
  },
  {
   "cell_type": "markdown",
   "id": "28a26184",
   "metadata": {
    "slideshow": {
     "slide_type": "fragment"
    }
   },
   "source": [
    "## Question 3: How many passengers are included in this data?"
   ]
  },
  {
   "cell_type": "code",
   "execution_count": null,
   "id": "9de9788f",
   "metadata": {
    "slideshow": {
     "slide_type": "fragment"
    }
   },
   "outputs": [],
   "source": [
    "#code here"
   ]
  },
  {
   "cell_type": "markdown",
   "id": "32643adc",
   "metadata": {
    "slideshow": {
     "slide_type": "fragment"
    }
   },
   "source": [
    "## Question 4: Find the average price of a ticket."
   ]
  },
  {
   "cell_type": "code",
   "execution_count": null,
   "id": "60413fbf",
   "metadata": {
    "slideshow": {
     "slide_type": "fragment"
    }
   },
   "outputs": [],
   "source": [
    "#code here"
   ]
  },
  {
   "cell_type": "markdown",
   "id": "e4dbb94d",
   "metadata": {
    "slideshow": {
     "slide_type": "fragment"
    }
   },
   "source": [
    "## Question 5: Find the average age of a passenger."
   ]
  },
  {
   "cell_type": "code",
   "execution_count": null,
   "id": "cd91e26a",
   "metadata": {
    "slideshow": {
     "slide_type": "fragment"
    }
   },
   "outputs": [],
   "source": [
    "#code here"
   ]
  },
  {
   "cell_type": "markdown",
   "id": "a8030b48",
   "metadata": {
    "slideshow": {
     "slide_type": "slide"
    }
   },
   "source": [
    "### Different objects for different goals\n",
    "\n",
    "Method 1: (Using lists from python (no import numpy needed))\n",
    "- list of lists\n",
    "- Hard to manipulate\n",
    "\n",
    "Method 2: (Using np.array)\n",
    "- All values of same data type\n",
    "- Easy to do math and matrix manipulations\n",
    "- No row column names\n",
    "\n",
    "Method 3: (Using pandas DataFrames)\n",
    "- Columns can have different types\n",
    "- Easy to manipulate by name\n",
    "- row and column names built in!"
   ]
  },
  {
   "cell_type": "markdown",
   "id": "a00da887",
   "metadata": {
    "slideshow": {
     "slide_type": "slide"
    }
   },
   "source": [
    "## <code style=\"background:Thistle;color:black\">Code Comprehension</code>\n",
    "Code comprehension:\n",
    "\n",
    "Q1:What is this going to print?\n",
    "\n",
    "Q2: Is it a series or dataframe?\n",
    "\n",
    "```python \n",
    "titanic_df['Name']\n",
    "```"
   ]
  },
  {
   "cell_type": "code",
   "execution_count": null,
   "id": "add6a56c",
   "metadata": {
    "slideshow": {
     "slide_type": "fragment"
    }
   },
   "outputs": [],
   "source": [
    "import pandas as pd\n",
    "titanic_df = pd.read_csv('../data/titanic.csv')\n",
    "titanic_df.head()"
   ]
  },
  {
   "cell_type": "markdown",
   "id": "cc7df969",
   "metadata": {
    "slideshow": {
     "slide_type": "slide"
    }
   },
   "source": [
    "## Selecting based on label, integer index, and condition"
   ]
  },
  {
   "cell_type": "markdown",
   "id": "d0186ee5",
   "metadata": {
    "slideshow": {
     "slide_type": "fragment"
    }
   },
   "source": [
    "The `.loc[]` method is a label-based selection method that can subset dataframes\n",
    "\n",
    "\n",
    "This `.iloc[]` method is integer-based (index based) selection method.\n"
   ]
  },
  {
   "cell_type": "code",
   "execution_count": null,
   "id": "14e1ff26",
   "metadata": {
    "slideshow": {
     "slide_type": "fragment"
    }
   },
   "outputs": [],
   "source": [
    "titanic_df.loc[0,'Name'] #row label and column label"
   ]
  },
  {
   "cell_type": "code",
   "execution_count": null,
   "id": "cdbfe38c",
   "metadata": {
    "slideshow": {
     "slide_type": "fragment"
    }
   },
   "outputs": [],
   "source": [
    "titanic_df.loc[0:2, ['Name', 'Survived']]#rows first, then columns"
   ]
  },
  {
   "cell_type": "markdown",
   "id": "6ba4b3e2",
   "metadata": {
    "slideshow": {
     "slide_type": "fragment"
    }
   },
   "source": [
    "VS"
   ]
  },
  {
   "cell_type": "code",
   "execution_count": null,
   "id": "ea7a326e",
   "metadata": {
    "slideshow": {
     "slide_type": "fragment"
    }
   },
   "outputs": [],
   "source": [
    "titanic_df.iloc[0,3]"
   ]
  },
  {
   "cell_type": "code",
   "execution_count": null,
   "id": "7d5c76ee",
   "metadata": {},
   "outputs": [],
   "source": [
    "titanic_df.iloc[0:2, 3:5]"
   ]
  },
  {
   "cell_type": "markdown",
   "id": "8aed102e",
   "metadata": {
    "slideshow": {
     "slide_type": "slide"
    }
   },
   "source": [
    "### Extract by condition"
   ]
  },
  {
   "cell_type": "markdown",
   "id": "f58a90ad",
   "metadata": {
    "slideshow": {
     "slide_type": "fragment"
    }
   },
   "source": [
    "Dataframes can also be selected based on condition using the `.loc[]` method. \n",
    "\n",
    "That is, based on conditions that equate to `True` Boolean values. rows."
   ]
  },
  {
   "cell_type": "code",
   "execution_count": null,
   "id": "66a255da",
   "metadata": {
    "slideshow": {
     "slide_type": "fragment"
    }
   },
   "outputs": [],
   "source": [
    "#loc uses the above to keep only those rows that are \"True\"\n",
    "titanic_df.loc[titanic_df.Survived == 1]"
   ]
  },
  {
   "cell_type": "markdown",
   "id": "d21491da",
   "metadata": {
    "slideshow": {
     "slide_type": "slide"
    }
   },
   "source": [
    "Let's investigate that more...\n",
    "```python\n",
    "\n",
    "titanic_df.loc[titanic_df.Survived == 1]\n",
    "```"
   ]
  },
  {
   "cell_type": "code",
   "execution_count": null,
   "id": "c3f37222",
   "metadata": {
    "slideshow": {
     "slide_type": "fragment"
    }
   },
   "outputs": [],
   "source": [
    "titanic_df.Survived == 1 #we need double = here bc single = is for assignment"
   ]
  },
  {
   "cell_type": "code",
   "execution_count": 27,
   "id": "1165a436",
   "metadata": {
    "slideshow": {
     "slide_type": "fragment"
    }
   },
   "outputs": [
    {
     "ename": "NameError",
     "evalue": "name 'titanic_df' is not defined",
     "output_type": "error",
     "traceback": [
      "\u001b[0;31m---------------------------------------------------------------------------\u001b[0m",
      "\u001b[0;31mNameError\u001b[0m                                 Traceback (most recent call last)",
      "\u001b[1;32m/Users/stevenalnemri/Desktop/DATA 118/LECTURES/Lecture_04_DataFrames.ipynb Cell 110\u001b[0m line \u001b[0;36m2\n\u001b[1;32m      <a href='vscode-notebook-cell:/Users/stevenalnemri/Desktop/DATA%20118/LECTURES/Lecture_04_DataFrames.ipynb#Y214sZmlsZQ%3D%3D?line=0'>1</a>\u001b[0m \u001b[39m#as usual, there's alternative syntax to do this\u001b[39;00m\n\u001b[0;32m----> <a href='vscode-notebook-cell:/Users/stevenalnemri/Desktop/DATA%20118/LECTURES/Lecture_04_DataFrames.ipynb#Y214sZmlsZQ%3D%3D?line=1'>2</a>\u001b[0m titanic_df[\u001b[39m'\u001b[39m\u001b[39mSurvived\u001b[39m\u001b[39m'\u001b[39m] \u001b[39m==\u001b[39m \u001b[39m1\u001b[39m\n",
      "\u001b[0;31mNameError\u001b[0m: name 'titanic_df' is not defined"
     ]
    }
   ],
   "source": [
    "#as usual, there's alternative syntax to do this\n",
    "titanic_df['Survived'] == 1"
   ]
  },
  {
   "cell_type": "code",
   "execution_count": null,
   "id": "7d167593",
   "metadata": {
    "slideshow": {
     "slide_type": "fragment"
    }
   },
   "outputs": [],
   "source": [
    "titanic_df.loc[titanic_df['Survived'] == 1]"
   ]
  },
  {
   "cell_type": "markdown",
   "id": "0218eeb1",
   "metadata": {
    "slideshow": {
     "slide_type": "slide"
    }
   },
   "source": [
    "### These two options produce the same result!\n",
    "\n",
    "You can choose which one you like best.\n",
    "\n",
    "```python\n",
    "\n",
    "titanic_small.loc[titanic_small.Survived == 1]\n",
    "\n",
    "titanic_small.loc[titanic_small['Survived'] == 1]\n",
    "```\n"
   ]
  },
  {
   "cell_type": "markdown",
   "id": "8133f8ac",
   "metadata": {
    "slideshow": {
     "slide_type": "slide"
    }
   },
   "source": [
    "You can subset on multiple conditions with the use of bitwise operators: \n",
    "\n",
    "    & for and\n",
    "    \n",
    "    | for or\n"
   ]
  },
  {
   "cell_type": "markdown",
   "id": "9df72f6c",
   "metadata": {
    "slideshow": {
     "slide_type": "fragment"
    }
   },
   "source": [
    "These perform element-wise logical 'and' 'or' operations"
   ]
  },
  {
   "cell_type": "markdown",
   "id": "a9e992c2",
   "metadata": {
    "slideshow": {
     "slide_type": "slide"
    }
   },
   "source": [
    "Suppose I am interested in...\n",
    "\n",
    "I survived the Titanic **or** my class was less than 2."
   ]
  },
  {
   "cell_type": "markdown",
   "id": "314f40db",
   "metadata": {
    "slideshow": {
     "slide_type": "fragment"
    }
   },
   "source": [
    "```python \n",
    "(titanic_df.Survived == 1) | (titanic_df.Pclass < 2.0)\n",
    "```\n",
    "\n",
    "\n",
    "(It evaluates the truth value of each column of the original DataFrame)"
   ]
  },
  {
   "cell_type": "code",
   "execution_count": null,
   "id": "7cc06101",
   "metadata": {
    "slideshow": {
     "slide_type": "fragment"
    }
   },
   "outputs": [],
   "source": [
    "(titanic_df.Survived == 1) | (titanic_df.Pclass< 2.0)"
   ]
  },
  {
   "cell_type": "code",
   "execution_count": null,
   "id": "b2bc8111",
   "metadata": {
    "slideshow": {
     "slide_type": "fragment"
    }
   },
   "outputs": [],
   "source": [
    "titanic_df.loc[(titanic_df.Survived == 1) | (titanic_df.Pclass < 2.0)]"
   ]
  },
  {
   "cell_type": "markdown",
   "id": "9ba22b5e",
   "metadata": {
    "slideshow": {
     "slide_type": "slide"
    }
   },
   "source": [
    "## <code style=\"background:Thistle;color:black\">Code Comprehension</code>\n"
   ]
  },
  {
   "cell_type": "markdown",
   "id": "fa1785c5",
   "metadata": {},
   "source": []
  },
  {
   "cell_type": "markdown",
   "id": "0406a345",
   "metadata": {
    "slideshow": {
     "slide_type": "slide"
    }
   },
   "source": [
    "## Sorting rows by values\n",
    "\n",
    "Another important method to explore the data\n",
    "\n",
    "using the sort_values method\n",
    "```python\n",
    ".sort_values()\n",
    "```"
   ]
  },
  {
   "cell_type": "markdown",
   "id": "3da0e473",
   "metadata": {
    "slideshow": {
     "slide_type": "fragment"
    }
   },
   "source": [
    "This method takes the *argument* of how we want to sort the data"
   ]
  },
  {
   "cell_type": "code",
   "execution_count": null,
   "id": "c9865eb6",
   "metadata": {
    "slideshow": {
     "slide_type": "fragment"
    }
   },
   "outputs": [],
   "source": [
    "#Default sort is ascending\n",
    "titanic_df.sort_values(by='Fare')"
   ]
  },
  {
   "cell_type": "code",
   "execution_count": null,
   "id": "0738c04e",
   "metadata": {
    "scrolled": true,
    "slideshow": {
     "slide_type": "fragment"
    }
   },
   "outputs": [],
   "source": [
    "#Can override that default if you like\n",
    "titanic_df.sort_values(by='Fare', ascending=False)"
   ]
  },
  {
   "cell_type": "code",
   "execution_count": null,
   "id": "c5e2a69e",
   "metadata": {
    "slideshow": {
     "slide_type": "fragment"
    }
   },
   "outputs": [],
   "source": [
    "#You don't have to sort by numeric values...\n",
    "titanic_df.sort_values(by='Name') #this sorts by alphabetical order"
   ]
  },
  {
   "cell_type": "markdown",
   "id": "7612a104",
   "metadata": {
    "slideshow": {
     "slide_type": "slide"
    }
   },
   "source": [
    "## Let's summarize some of what we've done so far"
   ]
  },
  {
   "cell_type": "markdown",
   "id": "9a23bcbb",
   "metadata": {
    "slideshow": {
     "slide_type": "fragment"
    }
   },
   "source": [
    "Some important attributes and methods of DataFrames:\n",
    "\n",
    " - .columns\n",
    " \n",
    " - .shape\n",
    " \n",
    " - .drop()\n",
    " \n",
    " - .mean\n",
    " \n",
    " - sort.values  (by=...)"
   ]
  },
  {
   "cell_type": "markdown",
   "id": "884c43eb",
   "metadata": {
    "slideshow": {
     "slide_type": "slide"
    }
   },
   "source": [
    "### We can extract slices of our DataFrame based on \n",
    "\n",
    " - label --------> .loc\n",
    " \n",
    " - based on index --------> .iloc\n",
    " \n",
    " - based on condition"
   ]
  }
 ],
 "metadata": {
  "kernelspec": {
   "display_name": "Python 3 (ipykernel)",
   "language": "python",
   "name": "python3"
  },
  "language_info": {
   "codemirror_mode": {
    "name": "ipython",
    "version": 3
   },
   "file_extension": ".py",
   "mimetype": "text/x-python",
   "name": "python",
   "nbconvert_exporter": "python",
   "pygments_lexer": "ipython3",
   "version": "3.12.0"
  }
 },
 "nbformat": 4,
 "nbformat_minor": 5
}
