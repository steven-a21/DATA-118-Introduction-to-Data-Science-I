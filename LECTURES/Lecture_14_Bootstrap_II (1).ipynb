{
 "cells": [
  {
   "cell_type": "markdown",
   "id": "48915326",
   "metadata": {
    "slideshow": {
     "slide_type": "slide"
    }
   },
   "source": [
    "<center> \n",
    "\n",
    "# CI and Bootstrapping Part II\n",
    "\n",
    "## Dr. Lange- University of Chicago\n",
    "## Data 11800 - Winter 2024 \n",
    "\n",
    "<img src=\"https://raw.githubusercontent.com/amandakube/Data118LectureImages/main/UChicago_DSI.png\" alt=\"UC-DSI\" width=\"500\" height=\"600\">\n",
    "    \n",
    "</center>"
   ]
  },
  {
   "cell_type": "markdown",
   "id": "cdf935fb",
   "metadata": {
    "slideshow": {
     "slide_type": "slide"
    }
   },
   "source": [
    "## Some Questions"
   ]
  },
  {
   "cell_type": "markdown",
   "id": "cbb978e3",
   "metadata": {
    "slideshow": {
     "slide_type": "fragment"
    }
   },
   "source": [
    "Consider the following: \n",
    "\n",
    "A 95% confidence interval for the average age of mothers at birth is [26.5,27.75].\n",
    "\n",
    "<code style=\"background:Thistle;color:black\"> Q: About 95% of mothers in the population are between 26.5\n",
    "and 27.75 years old. True or False?</code>"
   ]
  },
  {
   "cell_type": "markdown",
   "id": "7213897c",
   "metadata": {},
   "source": [
    "Answer? Don't reveal the answer without thinking through the question!"
   ]
  },
  {
   "cell_type": "markdown",
   "id": "be63516c",
   "metadata": {
    "slideshow": {
     "slide_type": "skip"
    }
   },
   "source": [
    "<details><summary><button>Click here to reveal the answer!</button></summary>\n",
    "<p>\n",
    "A: False. We are estimating that their average age is in the\n",
    "interval.\n",
    "</p>\n",
    "</details>"
   ]
  },
  {
   "cell_type": "markdown",
   "id": "d6562f77",
   "metadata": {
    "slideshow": {
     "slide_type": "fragment"
    }
   },
   "source": [
    "<code style=\"background:Thistle;color:black\"> Q: There is a 95% probability that the average age of mothers\n",
    "in the population is in the range 26.5 to 27.75 years. True or False? </code>\n"
   ]
  },
  {
   "cell_type": "markdown",
   "id": "54a51a91",
   "metadata": {
    "slideshow": {
     "slide_type": "skip"
    }
   },
   "source": [
    "<details><summary><button>Click here to reveal the answer!</button></summary>\n",
    "<p>\n",
    "A:False. The average age of mothers in the population is\n",
    "unknown but constant. It is not random.\n",
    "</p>\n",
    "</details>"
   ]
  },
  {
   "cell_type": "markdown",
   "id": "0a3cc544",
   "metadata": {
    "slideshow": {
     "slide_type": "slide"
    }
   },
   "source": [
    "### Last time\n",
    "#### How to calculate confidence intervals (CI)"
   ]
  },
  {
   "cell_type": "markdown",
   "id": "0cddc430",
   "metadata": {
    "slideshow": {
     "slide_type": "fragment"
    }
   },
   "source": [
    "To calculate confidence intervals we need the sampling\n",
    "distribution of $\\hat{\\theta}$ or $\\hat{\\theta} −\\theta$\n",
    "\n",
    "\n",
    " - Classical statistical methods use mathematics to solve this....we use simulation:\n",
    " \n",
    " \n",
    " - In Option 1, (know distribution $\\hat{\\theta} −\\theta$):  CI is $[\\hat{\\theta} −U_1, \\hat{\\theta} −L_1]$ ---> Basic Bootstrap\n",
    "\n",
    "        \n",
    " - In Option  2, (know distribution $\\hat{\\theta}$): CI is $[\\hat{\\theta} −W , \\hat{\\theta} + W ] \\approx [L_0, U_0]$ ---> Percentile Bootstrap\n",
    " "
   ]
  },
  {
   "cell_type": "markdown",
   "id": "f287dc77",
   "metadata": {
    "slideshow": {
     "slide_type": "slide"
    }
   },
   "source": [
    "<center>\n",
    "<img src = \"https://raw.githubusercontent.com/SusannaLange/Data_118_images/main/images/Probability/bootstrap.png\" width=\"800\" style=\"display: inline-block; margin: 0\" />\n",
    "</center>"
   ]
  },
  {
   "cell_type": "markdown",
   "id": "9c4d3386",
   "metadata": {
    "slideshow": {
     "slide_type": "skip"
    }
   },
   "source": [
    "### Another example!!"
   ]
  },
  {
   "cell_type": "markdown",
   "id": "ea12f422",
   "metadata": {
    "slideshow": {
     "slide_type": "slide"
    }
   },
   "source": [
    "## On the bootstrap confidence intervals for the mean: \n",
    "\n",
    "We will illustrate this with salary data from City of Chicago:\n",
    "https://www.cityofchicago.org/city/en/depts/dhr/dataset/current_employeenamessalariesandpositiontitles.html\n",
    "\n",
    "After we downloaded the data, we edited by removing part-time and hourly employees."
   ]
  },
  {
   "cell_type": "markdown",
   "id": "62277259",
   "metadata": {
    "slideshow": {
     "slide_type": "fragment"
    }
   },
   "source": [
    "Compute the percentile bootstrap for a 99% confidence interval for the mean annual salary."
   ]
  },
  {
   "cell_type": "code",
   "execution_count": null,
   "id": "14e95893",
   "metadata": {},
   "outputs": [],
   "source": [
    "import numpy as np\n",
    "import pandas as pd\n",
    "\n",
    "%matplotlib inline\n",
    "import matplotlib.pyplot as plt\n",
    "plt.style.use('fivethirtyeight')\n",
    "import warnings\n",
    "warnings.simplefilter('ignore', FutureWarning)"
   ]
  },
  {
   "cell_type": "code",
   "execution_count": null,
   "id": "9f24079c",
   "metadata": {
    "slideshow": {
     "slide_type": "fragment"
    }
   },
   "outputs": [],
   "source": [
    "# read the data \n",
    "chicago_df = pd.read_csv('https://raw.githubusercontent.com/SusannaLange/Data_118_Images/main/Data/ChicagoSalary.csv')\n",
    "\n",
    "# assume only one sample (n=300) from the population is available\n",
    "our_sample_df = chicago_df.sample(300, replace=False)\n",
    "our_sample_df.head(5)"
   ]
  },
  {
   "cell_type": "markdown",
   "id": "199a1b43",
   "metadata": {
    "slideshow": {
     "slide_type": "slide"
    }
   },
   "source": [
    "We need the observed test statistic"
   ]
  },
  {
   "cell_type": "code",
   "execution_count": null,
   "id": "a6f2d9a4",
   "metadata": {
    "slideshow": {
     "slide_type": "fragment"
    }
   },
   "outputs": [],
   "source": [
    "est_mean = np.mean(our_sample_df['Annual.Salary'])\n",
    "est_mean"
   ]
  },
  {
   "cell_type": "markdown",
   "id": "122a77ae",
   "metadata": {
    "slideshow": {
     "slide_type": "fragment"
    }
   },
   "source": [
    "One bootstrap sample"
   ]
  },
  {
   "cell_type": "code",
   "execution_count": null,
   "id": "313be1f2",
   "metadata": {
    "slideshow": {
     "slide_type": "fragment"
    }
   },
   "outputs": [],
   "source": [
    "# a bootstrap sample\n",
    "resample_1 = our_sample_df.sample(300,replace=True)\n",
    "resample_1 "
   ]
  },
  {
   "cell_type": "markdown",
   "id": "920fd513",
   "metadata": {
    "slideshow": {
     "slide_type": "slide"
    }
   },
   "source": [
    "##### Bootstrap Sample vs Original Sample"
   ]
  },
  {
   "cell_type": "code",
   "execution_count": null,
   "id": "a641ecea",
   "metadata": {
    "slideshow": {
     "slide_type": "fragment"
    }
   },
   "outputs": [],
   "source": [
    "#overlapping histograms\n",
    "\n",
    "plt.hist(resample_1['Annual.Salary'], bins=15, alpha=0.5, label='Resample') ## alpha controls opacity\n",
    "plt.hist(our_sample_df['Annual.Salary'], bins=15, alpha=0.5, label='sample')\n",
    "plt.legend(loc='upper right')\n",
    "plt.title('Distributions of Sample vs Resample')\n",
    "plt.xlabel('salary')\n",
    "plt.xticks(np.arange(25000, 200000, 50000))\n",
    "plt.ylabel('Frequency')\n",
    "plt.show()"
   ]
  },
  {
   "cell_type": "markdown",
   "id": "c0bd177e",
   "metadata": {
    "slideshow": {
     "slide_type": "slide"
    }
   },
   "source": [
    "We calculate the resampled mean"
   ]
  },
  {
   "cell_type": "code",
   "execution_count": null,
   "id": "578ffe55",
   "metadata": {
    "slideshow": {
     "slide_type": "fragment"
    }
   },
   "outputs": [],
   "source": [
    "resampled_mean_1 = np.mean(resample_1['Annual.Salary'])\n",
    "\n",
    "resampled_mean_1"
   ]
  },
  {
   "cell_type": "code",
   "execution_count": null,
   "id": "5d6bf02c",
   "metadata": {
    "slideshow": {
     "slide_type": "fragment"
    }
   },
   "outputs": [],
   "source": [
    "resample_2 = our_sample_df.sample(300,replace=True)\n",
    "resampled_mean_2 = np.mean(resample_2['Annual.Salary'])\n",
    "resampled_mean_2"
   ]
  },
  {
   "cell_type": "code",
   "execution_count": null,
   "id": "d23e55ec",
   "metadata": {},
   "outputs": [],
   "source": [
    "plt.hist(resample_1['Annual.Salary'], bins=15, alpha=0.5, label='Resample') ## alpha controls opacity\n",
    "plt.hist(our_sample_df['Annual.Salary'], bins=15, alpha=0.5, label='sample')\n",
    "plt.legend(loc='upper right')\n",
    "plt.title('Distributions of Sample vs Resample')\n",
    "plt.xlabel('salary')\n",
    "plt.scatter(resampled_mean_1, -10, color='skyblue', s=40);\n",
    "plt.xticks(np.arange(25000, 200000, 50000))\n",
    "plt.ylabel('Frequency')\n",
    "plt.show()"
   ]
  },
  {
   "cell_type": "markdown",
   "id": "92fee734",
   "metadata": {
    "slideshow": {
     "slide_type": "slide"
    }
   },
   "source": [
    "Resample our sample a set number of times:"
   ]
  },
  {
   "cell_type": "code",
   "execution_count": null,
   "id": "cdda31dc",
   "metadata": {
    "slideshow": {
     "slide_type": "fragment"
    }
   },
   "outputs": [],
   "source": [
    "def bootstrap_mean(original_sample, label, replications):\n",
    "    \"\"\"Simulate sample mean:\n",
    "    original_sample: df containing the original data\n",
    "    label: label of column containing the variable\n",
    "    replications: number of bootstrap samples\n",
    "    Returns array of bootstrap sample means\n",
    "    \"\"\"\n",
    "    means = np.array([])\n",
    "    for i in np.arange(replications):\n",
    "        bootstrap_sample = original_sample.sample(len(original_sample),replace=True)\n",
    "        resampled_mean = np.mean(bootstrap_sample[label])\n",
    "        means = np.append(means, resampled_mean)\n",
    "        \n",
    "    return means"
   ]
  },
  {
   "cell_type": "code",
   "execution_count": null,
   "id": "3d388351",
   "metadata": {
    "slideshow": {
     "slide_type": "fragment"
    }
   },
   "outputs": [],
   "source": [
    "bstrap_means = bootstrap_mean(our_sample_df, 'Annual.Salary', 2000)"
   ]
  },
  {
   "cell_type": "code",
   "execution_count": null,
   "id": "7364fa83",
   "metadata": {
    "slideshow": {
     "slide_type": "fragment"
    }
   },
   "outputs": [],
   "source": [
    "plt.hist(bstrap_means)\n",
    "plt.scatter(est_mean, -10, color='purple', s=40);"
   ]
  },
  {
   "cell_type": "markdown",
   "id": "58368683",
   "metadata": {
    "slideshow": {
     "slide_type": "slide"
    }
   },
   "source": [
    "We have done the bootstrap resample. Now we can create our confidence interval. We want 99% CI."
   ]
  },
  {
   "cell_type": "markdown",
   "id": "3c807eaa",
   "metadata": {
    "slideshow": {
     "slide_type": "fragment"
    }
   },
   "source": [
    "What percentiles do we want for a 99% CI?"
   ]
  },
  {
   "cell_type": "code",
   "execution_count": null,
   "id": "d62c421f",
   "metadata": {
    "slideshow": {
     "slide_type": "fragment"
    }
   },
   "outputs": [],
   "source": [
    "left = np.percentile(bstrap_means, ???)\n",
    "left"
   ]
  },
  {
   "cell_type": "code",
   "execution_count": null,
   "id": "8ca88376",
   "metadata": {
    "slideshow": {
     "slide_type": "fragment"
    }
   },
   "outputs": [],
   "source": [
    "right = np.percentile(bstrap_means,???)\n",
    "right"
   ]
  },
  {
   "cell_type": "code",
   "execution_count": null,
   "id": "921e07b0",
   "metadata": {
    "slideshow": {
     "slide_type": "fragment"
    }
   },
   "outputs": [],
   "source": [
    "print('CI: [', str(left), ',', str(right), \"]\")"
   ]
  },
  {
   "cell_type": "markdown",
   "id": "2847948c",
   "metadata": {
    "slideshow": {
     "slide_type": "fragment"
    }
   },
   "source": [
    "This gives a 99% confidence interval using a **percentile bootstrap.** (note that you might get a slightly different CI every time you run the procedure)."
   ]
  },
  {
   "cell_type": "code",
   "execution_count": null,
   "id": "3e0350f1",
   "metadata": {
    "slideshow": {
     "slide_type": "slide"
    }
   },
   "outputs": [],
   "source": [
    "pop_mean = np.mean(chicago_df['Annual.Salary'])\n",
    "plt.hist(bstrap_means)\n",
    "plt.scatter(pop_mean, -14, color='red', s=40)\n",
    "plt.plot([left, right], [0, 0], color='gold', lw=3, zorder=1);"
   ]
  },
  {
   "cell_type": "markdown",
   "id": "ef32d47e",
   "metadata": {
    "slideshow": {
     "slide_type": "slide"
    }
   },
   "source": [
    "### Basic Bootstrap for this example"
   ]
  },
  {
   "cell_type": "code",
   "execution_count": null,
   "id": "727fc2af",
   "metadata": {
    "slideshow": {
     "slide_type": "fragment"
    }
   },
   "outputs": [],
   "source": [
    "#calculate percentiles\n",
    "L1 = np.percentile(bstrap_means - est_mean, 0.5)\n",
    "U1 = np.percentile(bstrap_means - est_mean, 99.5)"
   ]
  },
  {
   "cell_type": "code",
   "execution_count": null,
   "id": "755b2ba0",
   "metadata": {
    "slideshow": {
     "slide_type": "fragment"
    }
   },
   "outputs": [],
   "source": [
    "#make CI\n",
    "[est_mean-U1, est_mean-L1]"
   ]
  },
  {
   "cell_type": "code",
   "execution_count": null,
   "id": "c73035fe",
   "metadata": {},
   "outputs": [],
   "source": [
    "plt.hist(bstrap_means)\n",
    "\n",
    "plt.plot([est_mean-U1, est_mean-L1], [-15, -15], color='red', lw=3, zorder=1,label=\"Basic Bootstrap\");\n",
    "plt.plot([np.percentile(bstrap_means, 0.5), np.percentile(bstrap_means,99.5)], [0, 0], color='gold', lw=3, zorder=1, label = 'Percentile Bootstrap');\n",
    "\n",
    "plt.scatter(pop_mean, -14, color='purple', s=40, zorder = 2)\n",
    "plt.title('BootStrap Distribution')\n",
    "plt.ylabel('Frequency')\n",
    "plt.xlabel('Annual Salary')\n",
    "plt.legend(loc = 'upper left')\n",
    "plt.show()"
   ]
  },
  {
   "cell_type": "markdown",
   "id": "0ee1f5a9",
   "metadata": {
    "slideshow": {
     "slide_type": "slide"
    }
   },
   "source": [
    "### Why are there two methods?\n",
    "\n",
    "Last time we said we can compute CI by:\n",
    "\n",
    " - basic bootstrap:  $\\hat{\\theta} - \\theta$\n",
    "\n",
    "    \n",
    " - percentile bootstrap:   $\\hat{\\theta}$"
   ]
  },
  {
   "cell_type": "markdown",
   "id": "fe145aba",
   "metadata": {
    "slideshow": {
     "slide_type": "fragment"
    }
   },
   "source": [
    "We get confidence intervals in both cases....what's the difference?!"
   ]
  },
  {
   "cell_type": "markdown",
   "id": "0cb69257",
   "metadata": {
    "slideshow": {
     "slide_type": "fragment"
    }
   },
   "source": [
    "Above, we computed the percentile and basic bootstrap for a 99% confidence interval for the mean annual salary of **City of Chicago employees**"
   ]
  },
  {
   "cell_type": "markdown",
   "id": "09c84715",
   "metadata": {
    "slideshow": {
     "slide_type": "slide"
    }
   },
   "source": [
    "### In general...\n",
    "\n",
    "Percentile Bootstrap is easier to compute $[L_0, U_0]$\n",
    "\n",
    "   - Assumes symmetric around $\\theta$\n",
    " \n",
    "    \n",
    "Basic Bootstrap \n",
    "\n",
    "   - Works better in general\n",
    "    \n",
    "   - a little more complicated to compute: $[\\hat{\\theta} - U_1, \\hat{\\theta}-L_1]$\n"
   ]
  },
  {
   "cell_type": "markdown",
   "id": "6ecc2e08",
   "metadata": {
    "slideshow": {
     "slide_type": "slide"
    }
   },
   "source": [
    "### To see this, consider when our sample is biased !"
   ]
  },
  {
   "cell_type": "code",
   "execution_count": null,
   "id": "90b640e8",
   "metadata": {
    "slideshow": {
     "slide_type": "fragment"
    }
   },
   "outputs": [],
   "source": [
    "np.random.seed(13)\n",
    "our_sample_df2 = chicago_df.sample(16, replace=False)\n",
    "sample_mean = np.mean(our_sample_df2['Annual.Salary'])\n",
    "\n",
    "plt.hist(our_sample_df2['Annual.Salary'])\n",
    "\n",
    "plt.scatter(pop_mean, -.1, color='purple', s=40)\n",
    "plt.scatter(sample_mean, -.1, color='blue', s=40)\n",
    "plt.title('Biased Original Sample')\n",
    "plt.ylabel('Frequency')\n",
    "plt.xlabel('Annual Salary')\n",
    "plt.show()"
   ]
  },
  {
   "cell_type": "code",
   "execution_count": null,
   "id": "b66879fe",
   "metadata": {
    "slideshow": {
     "slide_type": "fragment"
    }
   },
   "outputs": [],
   "source": [
    "pop_mean - sample_mean"
   ]
  },
  {
   "cell_type": "code",
   "execution_count": null,
   "id": "c58b3c4a",
   "metadata": {
    "slideshow": {
     "slide_type": "fragment"
    }
   },
   "outputs": [],
   "source": [
    "#you can ignore this code for now\n",
    "#there is a lot going on here\n",
    "#but really we are just calculating the two different confidence intervals and putting them on the graph\n",
    "np.random.seed(0)\n",
    "bstrap2 = bootstrap_mean(our_sample_df2, 'Annual.Salary', 100)\n",
    "L_0_sample_bias = np.percentile(bstrap2-sample_mean,5)\n",
    "U_0_sample_bias = np.percentile(bstrap2-sample_mean,95)\n",
    "#bootstrap distribution\n",
    "plt.hist(bstrap2)\n",
    "#both confidence intervals\n",
    "plt.plot([sample_mean-U_0_sample_bias,sample_mean-L_0_sample_bias], [-1, -1], color='red', lw=3, zorder=1, label = \"Basic Bootstrap\");\n",
    "plt.plot([np.percentile(bstrap2, 5), np.percentile(bstrap2,95)], [-.3, -.3], color='gold', lw=3, zorder=1, label = \"Percentile Bootstrap\");\n",
    "\n",
    "#plotting the means\n",
    "plt.scatter(pop_mean, -.1, color='purple', s=40, label = 'pop mean')\n",
    "plt.scatter(sample_mean, -.1, color='blue', s=40, label = 'sample mean')\n",
    "#extras\n",
    "plt.title('Bootstrap Distribution (from biased sample)')\n",
    "plt.ylabel('Frequency')\n",
    "plt.xlabel('Annual Salary')\n",
    "plt.legend()\n",
    "plt.xticks(np.arange(95000,130000,15000))\n",
    "plt.show()"
   ]
  },
  {
   "cell_type": "markdown",
   "id": "7264efee",
   "metadata": {
    "slideshow": {
     "slide_type": "slide"
    }
   },
   "source": [
    "## We could also have a biased bootstrap distribution!"
   ]
  },
  {
   "cell_type": "code",
   "execution_count": null,
   "id": "c31ccf83",
   "metadata": {},
   "outputs": [],
   "source": [
    "np.random.seed(6)\n",
    "our_sample_df = chicago_df.sample(20)\n",
    "plt.hist(our_sample_df['Annual.Salary'])\n",
    "plt.scatter(pop_mean, -.1, color='purple', s=40)\n",
    "plt.scatter(np.mean(our_sample_df['Annual.Salary']), -.1, color='red', s=40)\n",
    "plt.title('One Sample Distribution')\n",
    "plt.ylabel('Frequency')\n",
    "plt.xlabel('Annual Salary')\n",
    "plt.show()"
   ]
  },
  {
   "cell_type": "code",
   "execution_count": null,
   "id": "b87463a5",
   "metadata": {
    "slideshow": {
     "slide_type": "fragment"
    }
   },
   "outputs": [],
   "source": [
    "np.mean(our_sample_df['Annual.Salary']) - pop_mean"
   ]
  },
  {
   "cell_type": "code",
   "execution_count": null,
   "id": "90722dca",
   "metadata": {
    "slideshow": {
     "slide_type": "slide"
    }
   },
   "outputs": [],
   "source": [
    "np.random.seed(6)\n",
    "bstrap_means_bias = bootstrap_mean(our_sample_df, 'Annual.Salary', 5)\n",
    "plt.hist(bstrap_means_bias)\n",
    "plt.scatter(pop_mean, -.1, color='purple', s=40)\n",
    "plt.title('Biased Bootstrap Distribution')\n",
    "plt.ylabel('Frequency')\n",
    "plt.xlabel('Annual Salary')\n",
    "plt.show()"
   ]
  },
  {
   "cell_type": "markdown",
   "id": "23b2c26b",
   "metadata": {
    "slideshow": {
     "slide_type": "fragment"
    }
   },
   "source": [
    "Here we get the following for the bootstrap CI:"
   ]
  },
  {
   "cell_type": "code",
   "execution_count": null,
   "id": "50edf908",
   "metadata": {
    "slideshow": {
     "slide_type": "fragment"
    }
   },
   "outputs": [],
   "source": [
    "#percentile\n",
    "[np.percentile(bstrap_means_bias, 0.5), np.percentile(bstrap_means_bias,99.5)]"
   ]
  },
  {
   "cell_type": "code",
   "execution_count": null,
   "id": "6a0836bb",
   "metadata": {
    "slideshow": {
     "slide_type": "fragment"
    }
   },
   "outputs": [],
   "source": [
    "##basic bootstrap\n",
    "L_0_bias = np.percentile(bstrap_means_bias-est_mean,2.5)\n",
    "U_0_bias = np.percentile(bstrap_means_bias-est_mean,97.5)\n",
    "[np.mean(bstrap_means_bias)-U_0_bias,np.mean(bstrap_means_bias)-L_0_bias]"
   ]
  },
  {
   "cell_type": "markdown",
   "id": "90b0a0e5",
   "metadata": {
    "slideshow": {
     "slide_type": "slide"
    }
   },
   "source": [
    "### This corresponds to this visualization!"
   ]
  },
  {
   "cell_type": "code",
   "execution_count": null,
   "id": "180b03f3",
   "metadata": {
    "slideshow": {
     "slide_type": "fragment"
    }
   },
   "outputs": [],
   "source": [
    "plt.hist(bstrap_means_bias)\n",
    "plt.plot([np.mean(bstrap_means_bias)-U_0_bias,np.mean(bstrap_means_bias)-L_0_bias], [0, 0], color='red', lw=3, zorder=1, label = \"Basic Bootstrap\");\n",
    "plt.plot([np.percentile(bstrap_means_bias, 2.5), np.percentile(bstrap_means_bias,97.5)], [-.02, -.02], color='gold', lw=3, zorder=1, label = \"Percentile Bootstrap\");\n",
    "plt.scatter(pop_mean, -.05, color='purple', s=40, label = 'pop mean')\n",
    "plt.scatter(np.mean(bstrap_means_bias), -.05, color='blue', s=40, label = 'sample mean')\n",
    "plt.title('Biased Bootstrap Distribution')\n",
    "plt.ylabel('Frequency')\n",
    "plt.xlabel('Annual Salary')\n",
    "plt.legend(loc = 'upper left')\n",
    "plt.show()"
   ]
  },
  {
   "cell_type": "markdown",
   "id": "90d43b0e",
   "metadata": {
    "slideshow": {
     "slide_type": "fragment"
    }
   },
   "source": [
    "Hence the Basic Bootstrap method of computing Confidence Intervals is generally better than the percentile method."
   ]
  },
  {
   "cell_type": "markdown",
   "id": "876e2336",
   "metadata": {
    "slideshow": {
     "slide_type": "slide"
    }
   },
   "source": [
    "If we want to be more certain that we capture the\n",
    "population parameter (i.e., increase our confidence level)\n",
    "should we use a wider interval or a smaller interval?\n",
    "\n",
    "\n",
    "\n",
    "Are there any drawbacks to using a wider interval?"
   ]
  },
  {
   "attachments": {
    "comic.png": {
     "image/png": "[encoded data removed]"
    }
   },
   "cell_type": "markdown",
   "id": "2965a069",
   "metadata": {
    "slideshow": {
     "slide_type": "fragment"
    }
   },
   "source": [
    "![](attachment:comic.png)"
   ]
  },
  {
   "cell_type": "markdown",
   "id": "c62cf391",
   "metadata": {
    "slideshow": {
     "slide_type": "slide"
    }
   },
   "source": [
    "## If time..."
   ]
  },
  {
   "cell_type": "markdown",
   "id": "ab1fb1a7",
   "metadata": {
    "slideshow": {
     "slide_type": "fragment"
    }
   },
   "source": [
    "Up above we created one bootstrap distribution and found CI's (both percentile and basic)"
   ]
  },
  {
   "cell_type": "code",
   "execution_count": null,
   "id": "cce80962",
   "metadata": {
    "slideshow": {
     "slide_type": "fragment"
    }
   },
   "outputs": [],
   "source": [
    "plt.hist(bstrap_means)\n",
    "\n",
    "plt.plot([est_mean-U1, est_mean-L1], [-15, -15], color='red', lw=3, zorder=1,label=\"Basic Bootstrap\");\n",
    "plt.plot([np.percentile(bstrap_means, 0.5), np.percentile(bstrap_means,99.5)], [0, 0], color='gold', lw=3, zorder=1, label = 'Percentile Bootstrap');\n",
    "\n",
    "plt.scatter(pop_mean, -14, color='purple', s=40, zorder = 2)\n",
    "plt.title('BootStrap Distribution')\n",
    "plt.ylabel('Frequency')\n",
    "plt.xlabel('Annual Salary')\n",
    "plt.legend(loc = 'upper left')\n",
    "plt.show()"
   ]
  },
  {
   "cell_type": "markdown",
   "id": "dad22bf6",
   "metadata": {
    "slideshow": {
     "slide_type": "slide"
    }
   },
   "source": [
    "## This is one Bootstrap Distribution\n",
    "\n",
    "We see in this case it does contain the population mean!\n",
    "\n",
    "Let's repeat this process 100 times.\n",
    "\n",
    "We want to see how often the true population parameter is in the confidence interval. For a 95% CI, does our CI actually contain the true pop parameter 95% of the time?"
   ]
  },
  {
   "cell_type": "markdown",
   "id": "312b4048",
   "metadata": {
    "slideshow": {
     "slide_type": "fragment"
    }
   },
   "source": [
    "To do this, fill in the ???? below.\n",
    "We want a 95% percentile bootstrap CI. "
   ]
  },
  {
   "cell_type": "code",
   "execution_count": null,
   "id": "174539be",
   "metadata": {
    "slideshow": {
     "slide_type": "slide"
    }
   },
   "outputs": [],
   "source": [
    "# Iterate the process 100 times, \n",
    "# Sampling 50 times from the chicago salary data\n",
    "# Include a counter that determines if the CI contains the true mean\n",
    "\n",
    "\n",
    "ci_level = ???\n",
    "ci_hit_count = ????\n",
    "boot_resample = 100\n",
    "true_mean = np.mean(chicago_df['Annual.Salary'])\n",
    "for k in np.arange(0,??):\n",
    "    sample = chicago_df.sample(??, replace=False)        \n",
    "    boot_samp = bootstrap_mean(sample, 'Annual.Salary', boot_resample)\n",
    "          \n",
    "    L0 = np.percentile(???, ci_level/2)\n",
    "    U0 = np.percentile(???, 100-ci_level/2)\n",
    "    \n",
    "    #check if percentile bootstrap CI contains the true mean ??\n",
    "    if ?? < ??? < ??:\n",
    "        ?????\n",
    "        \n",
    "print(ci_hit_count/??)"
   ]
  }
 ],
 "metadata": {
  "kernelspec": {
   "display_name": "Python 3 (ipykernel)",
   "language": "python",
   "name": "python3"
  },
  "language_info": {
   "codemirror_mode": {
    "name": "ipython",
    "version": 3
   },
   "file_extension": ".py",
   "mimetype": "text/x-python",
   "name": "python",
   "nbconvert_exporter": "python",
   "pygments_lexer": "ipython3",
   "version": "3.9.12"
  }
 },
 "nbformat": 4,
 "nbformat_minor": 5
}
