{
 "cells": [
  {
   "cell_type": "markdown",
   "id": "a45e7fde",
   "metadata": {
    "slideshow": {
     "slide_type": "slide"
    },
    "tags": [
     "hide_code"
    ]
   },
   "source": [
    "<center> \n",
    "\n",
    "# Probability and Distributions \n",
    "\n",
    "## Dr. Lange- University of Chicago\n",
    "## Data 11800 - Winter 2024 \n",
    "\n",
    "<img src=\"https://raw.githubusercontent.com/amandakube/Data118LectureImages/main/UChicago_DSI.png\" alt=\"UC-DSI\" width=\"500\" height=\"600\">\n",
    "    \n",
    "</center>"
   ]
  },
  {
   "cell_type": "code",
   "execution_count": 8,
   "id": "06d77cf3",
   "metadata": {},
   "outputs": [],
   "source": [
    "import matplotlib as plt"
   ]
  },
  {
   "cell_type": "markdown",
   "id": "1c3476ac",
   "metadata": {
    "slideshow": {
     "slide_type": "slide"
    }
   },
   "source": [
    "## So far...\n",
    "\n",
    "### Basic Probability Rules\n",
    "\n",
    "-  $\\text{P}(E^C) = 1 - \\text{P}(E)$ for any event $E$\n",
    "\n",
    "- $\\text{P}(A \\cup B) = \\text{P}(A) +\n",
    "\\text{P}(B) - \\text{P}(A \\cap B)$\n",
    "\n",
    "\n",
    "- Given two **independent** events, \n",
    "$\\text{P}(A \\cap B) = \\text{P}(A)\\text{P}(B)$\n",
    "\n",
    "- **Multiplication rule in general**: $\\text{P}(A \\text{ and } B) = \\text{P}(A|B) \\text{P}(B)$. Note that this follows directly from the definition of conditional probability\n",
    "\n",
    "- $P(A|B)= \\frac{P(A \\cap B)}{P(B)} $\n",
    "\n",
    "\n",
    "### Some Distributions\n",
    "\n",
    " - Uniform Discrete Probability Distribution\n",
    "\n",
    " - Weighted Discrete Probability Distribution"
   ]
  },
  {
   "cell_type": "markdown",
   "id": "ad3e8a16",
   "metadata": {
    "slideshow": {
     "slide_type": "slide"
    }
   },
   "source": [
    "## Think back to sampling\n",
    "\n",
    "Many different types of sampling. Most involve....\n",
    "\n",
    "**Probabilistic sampling:** selection is based on probability (which is known before the sample is drawn)\n",
    "\n",
    "Recall: a simple random sample (SRS) of size n from a population is one in which every group of n units has an equal chance of being selected as the sample.\n",
    "\n",
    "SRS is a probabilistic sample\n",
    "\n",
    "\n",
    "\n",
    "Not all sampling schemes are probabilistic; for example **sample of convenience** (e.g., sample consists of whoever walks by at a certain moment).\n",
    "\n",
    "Understanding and quantifying uncertainty is easier for probabilistic sampling."
   ]
  },
  {
   "cell_type": "markdown",
   "id": "252a2046",
   "metadata": {
    "slideshow": {
     "slide_type": "slide"
    }
   },
   "source": [
    "## This notebook\n",
    "\n",
    "*  Distributions\n",
    "    \n",
    "    Discrete:\n",
    "\n",
    "     - Uniform\n",
    "   \n",
    "     - Binomial\n",
    "    \n",
    "  Continuous:\n",
    "    \n",
    "     - Normal\n",
    "     \n",
    "\n",
    "\n",
    "* More Simulation"
   ]
  },
  {
   "cell_type": "markdown",
   "id": "07f2eca6",
   "metadata": {
    "slideshow": {
     "slide_type": "slide"
    }
   },
   "source": [
    "### Distributions\n",
    "\n",
    "In data science, the word “empirical” means “observed”. Empirical distributions are distributions of observed data."
   ]
  },
  {
   "cell_type": "markdown",
   "id": "7945a8eb",
   "metadata": {
    "slideshow": {
     "slide_type": "fragment"
    }
   },
   "source": [
    "In general, distributions refer to the spread of a statistic or parameter. How likely is some value to occur?\n",
    "\n",
    "Empirical Probability Distribution\n",
    "\n",
    " - The observed distribution\n",
    " \n",
    " - An experiment can be repeated and recorded\n",
    "    \n",
    "Probability Distribution\n",
    "\n",
    " - Not based on observed data but rather theoretical\n",
    " \n",
    " - It can be studied and understood without any sample or experiment\n",
    "   "
   ]
  },
  {
   "cell_type": "markdown",
   "id": "d0ea5f01",
   "metadata": {
    "slideshow": {
     "slide_type": "slide"
    }
   },
   "source": [
    "### Last time we saw the simulation:\n",
    "\n",
    "Rolling a 6 sided die exactly one time and recording the outcome. \n",
    "\n",
    "\n",
    "<center>\n",
    "<img src=\"https://raw.githubusercontent.com/SusannaLange/Data_118_images/main/images/Probability/distrib.png\" alt=\"empirical_prob\" width=\"60%\">\n",
    "    \n",
    "</center>\n",
    "\n"
   ]
  },
  {
   "cell_type": "markdown",
   "id": "f11a6831",
   "metadata": {
    "slideshow": {
     "slide_type": "slide"
    }
   },
   "source": [
    "## Observations\n",
    "\n",
    "As the sample size increases, the empirical histogram of the sample more closely resembles the histogram of the population. "
   ]
  },
  {
   "cell_type": "markdown",
   "id": "5248278d",
   "metadata": {
    "slideshow": {
     "slide_type": "slide"
    }
   },
   "source": [
    "But distributions can take on different shapes"
   ]
  },
  {
   "cell_type": "markdown",
   "id": "be337904",
   "metadata": {
    "slideshow": {
     "slide_type": "fragment"
    }
   },
   "source": [
    "<img src=\"https://github.com/SusannaLange/Data_118_images/blob/main/DSSI_images/distributions.png?raw=true\" width=\"800\">"
   ]
  },
  {
   "cell_type": "markdown",
   "id": "5f9c0d3c",
   "metadata": {
    "slideshow": {
     "slide_type": "slide"
    }
   },
   "source": [
    "### Measures of Center and Spread"
   ]
  },
  {
   "cell_type": "markdown",
   "id": "b9afb6ef",
   "metadata": {
    "slideshow": {
     "slide_type": "slide"
    }
   },
   "source": [
    "There are certain values or statistics that are useful when discussing any probability distribution.\n",
    "\n",
    " - Measures of center\n",
    " \n",
    " - Measures of spread"
   ]
  },
  {
   "cell_type": "markdown",
   "id": "6fcccb2f",
   "metadata": {
    "slideshow": {
     "slide_type": "slide"
    }
   },
   "source": [
    "The **mean** of given data is used to get a sense of the center of the distribution.\n",
    "\n",
    "Let $X$ be a discrete random variable, with outcomes $x_1,x_2,...,x_k$ . Let $p_i = P(X = x_i).$\n",
    "\n",
    "- denoted $\\mu$ or $\\bar{x}$ or $E(X)$\n",
    "\n",
    "- the average of the data\n",
    "\n",
    "- tells us the balance point of the distribution\n",
    "\n",
    "\n",
    "Given finite data $x_1, x_2, ..., x_n$ the mean is \n",
    "\n",
    "\n",
    "$$\\mu_X = E(X)=x_1p_1+x_2p_2+...+x_kp_k=\\sum_{i=1}^kx_ip_i$$\n"
   ]
  },
  {
   "cell_type": "markdown",
   "id": "a2ffab69",
   "metadata": {
    "slideshow": {
     "slide_type": "fragment"
    }
   },
   "source": [
    "The **variance** of the discrete random variable $X$ with data $x_1, x_2, ..., x_n$ and mean $\\mu$, is defined by\n",
    "\n",
    "$$\\sigma^2_X = Var(X)=p_1(x_1-\\mu_X)^2+p_2(x_2-\\mu_X)^2+...+p_k(x_k-\\mu_X)^2$$\n",
    "$$=\\sum_{i=1}^kp_i(x_i-\\mu_X)^2$$\n",
    "\n",
    "\n",
    "The **standard deviation** is given by $$\\sigma_X = \\sqrt{Var(X)}$$\n",
    "\n",
    "\n",
    "\n",
    " - variance is denoted $\\sigma^2$\n",
    " \n",
    " - standard deviation is denoted $\\sigma$\n",
    " \n",
    " - How far away from the mean is the data?"
   ]
  },
  {
   "cell_type": "markdown",
   "id": "8ce5a74b",
   "metadata": {
    "slideshow": {
     "slide_type": "slide"
    }
   },
   "source": [
    "## There are a few important probability distributions we will focus on:\n",
    "    \n",
    "    \n",
    "- Uniform\n",
    "\n",
    "\n",
    "- Binomial \n",
    "\n",
    "\n",
    "- Normal"
   ]
  },
  {
   "cell_type": "markdown",
   "id": "1d951335",
   "metadata": {
    "slideshow": {
     "slide_type": "slide"
    }
   },
   "source": [
    "Suppose a lottery ticket has a 1 in 4 chance of winning (any prize). If we buy 5 tickets, what is the probability that exactly one of them is a winning ticket?"
   ]
  },
  {
   "cell_type": "markdown",
   "id": "277f5aa3",
   "metadata": {
    "slideshow": {
     "slide_type": "slide"
    }
   },
   "source": [
    "## The Binomial distribution ##"
   ]
  },
  {
   "cell_type": "markdown",
   "id": "05173870",
   "metadata": {
    "slideshow": {
     "slide_type": "fragment"
    }
   },
   "source": [
    "Describes the probability of **Bernoulli trials**. Such a sequence satisfies\n",
    "\n",
    "*   There are a fixed, $n$, number of trials\n",
    "*   There are exactly two possibile  outcomes - often times described as 'success' or 'failure'.\n",
    "*   Each trial is independent (i.e. does not depend on outcomes of previous trials)\n",
    "*   The probability of success, $p$, is the same for each trial"
   ]
  },
  {
   "cell_type": "markdown",
   "id": "e2d7b91e",
   "metadata": {
    "slideshow": {
     "slide_type": "fragment"
    }
   },
   "source": [
    "Suppose a lottery ticket has a 1 in 4 chance of winning (any prize). If we buy 5 tickets, what is the probability that exactly one of them is a winning ticket?\n",
    "\n",
    "n = 5\n",
    "\n",
    "winning - success\n",
    "\n",
    "p = 1/4"
   ]
  },
  {
   "cell_type": "markdown",
   "id": "90a2a3a9",
   "metadata": {
    "slideshow": {
     "slide_type": "slide"
    }
   },
   "source": [
    "How do we assign probabilities?"
   ]
  },
  {
   "cell_type": "markdown",
   "id": "71ee33de",
   "metadata": {
    "slideshow": {
     "slide_type": "fragment"
    }
   },
   "source": [
    "For a trial of $n$ experiments, we are interested in the probability of exactly $j$ successes, where $1 \\leq j \\leq n$. \n",
    "\n",
    "Let $X$ record the number of successes, then \n",
    "\n",
    "$$P(X=j) = b(n,p,j) = {n \\choose j} p^j (1-p)^{n-j}.$$\n",
    "\n",
    "\n",
    "\n",
    "We say $X ∼B(n,p)$"
   ]
  },
  {
   "cell_type": "markdown",
   "id": "16dee6d1",
   "metadata": {
    "slideshow": {
     "slide_type": "slide"
    }
   },
   "source": [
    "### Binomial coefficient"
   ]
  },
  {
   "cell_type": "markdown",
   "id": "a198ec0d",
   "metadata": {
    "slideshow": {
     "slide_type": "fragment"
    }
   },
   "source": [
    "What is ${n \\choose j}$?  It is actually called the *binomial coefficient*.\n",
    "\n",
    "\n",
    "${n \\choose j}$ counts the number of ways to choose $j$ objects from a set of $n$ while ignoring the order. \n",
    "\n"
   ]
  },
  {
   "cell_type": "markdown",
   "id": "5a9aec7b",
   "metadata": {
    "slideshow": {
     "slide_type": "fragment"
    }
   },
   "source": [
    "Assume non-negative numbers $n$ and $j$ with $0 \\leq j \\leq n$,\n",
    "\n",
    "\n",
    "$${n \\choose j} = \\frac{n!}{j!(n-j)!} = \\frac{n(n-1)(n-2)\\cdot \\cdot \\cdot (n-(j+1))(n-j)!}{j! (n-j)!}$$\n",
    "\n",
    "$$= \\frac{n(n-1)(n-2)\\cdot \\cdot \\cdot (n-(j+1))}{j!}$$ \n",
    "\n",
    "There are $j!$ ways of ordering the $j$ chosen elements, so dividing by $j!$ gives us the number of subsets of size $j$ from an $n$ element set."
   ]
  },
  {
   "cell_type": "markdown",
   "id": "82a032b1",
   "metadata": {
    "slideshow": {
     "slide_type": "fragment"
    }
   },
   "source": [
    "Note: this corresponds to choosing from a collection of objects without replacement where the order of the objects chosen does not matter -  that is, it only matters if an object is chosen or not. All of the objects are placed into *indistinguishable* positions."
   ]
  },
  {
   "cell_type": "markdown",
   "id": "a73bc1aa",
   "metadata": {
    "slideshow": {
     "slide_type": "fragment"
    }
   },
   "source": [
    "$P(X=j)  ={n \\choose j} p^j (1-p)^{n-j}$ counts the probability of exactly $j$ successes in $n$ trials\n",
    "\n",
    "\n",
    "\n",
    "**Back to example** Suppose a lottery ticket has a 1 in 4 chance of winning (any prize). If we buy 5 tickets, what is the probability that exactly one of them is a winning ticket?\n",
    "\n",
    "Here:\n",
    "\n",
    "n = 5\n",
    "\n",
    "winning - success\n",
    "\n",
    "p = 1/4 \n",
    "\n",
    "j = 1\n",
    "\n",
    "The probability of a sequence of one S and four F is given by:\n",
    "\n",
    "$$\\frac{1}{4} \\cdot \\frac{3}{4}\\cdot \\frac{3}{4} \\cdot\\frac{3}{4} \\cdot\\frac{3}{4}\\\\\n",
    "= \\frac{1}{4} \\cdot \\Big(\\frac{3}{4}\\Big)^4 $$\n",
    "\n",
    "\n",
    "Since there are ${5 \\choose 1}$ ways to place the win - success. So we have\n",
    "\n",
    "$P(X=1) = {5 \\choose 1} \\frac{1}{4} \\cdot \\Big(\\frac{3}{4}\\Big)^4$\n",
    " \n",
    "\n"
   ]
  },
  {
   "cell_type": "code",
   "execution_count": 9,
   "id": "a60bec51",
   "metadata": {
    "slideshow": {
     "slide_type": "slide"
    }
   },
   "outputs": [
    {
     "data": {
      "text/plain": [
       "0.3955078125"
      ]
     },
     "execution_count": 9,
     "metadata": {},
     "output_type": "execute_result"
    }
   ],
   "source": [
    "5*(1/4)*(3/4)**4"
   ]
  },
  {
   "cell_type": "markdown",
   "id": "69628338",
   "metadata": {
    "slideshow": {
     "slide_type": "slide"
    }
   },
   "source": [
    "##### Optional informative aside for general case:\n",
    " - trials are independent, probabilities are multiplicative, so the probability of a sequence containing $j$ successes and $n-j$ failures is $$\\underbrace{p \\cdot p \\cdot \\cdot \\cdot p}_\\text{j times} \\cdot \\underbrace{(1-p) \\cdot \\cdot \\cdot (1-p)}_\\text{n-j times}  = p^j\\, (1-p)^{n-j}.$$ \n",
    " \n",
    " - There are ${n \\choose j}$ such sequences as we are choosing $j$ places in our sequence of length $n$ to be successes. Therefore ${n \\choose j} p^j (1-p)^{n-j}$ gives the probability there are exactly $j$ successes in $n$ trials."
   ]
  },
  {
   "cell_type": "markdown",
   "id": "cde9748d",
   "metadata": {
    "slideshow": {
     "slide_type": "slide"
    }
   },
   "source": [
    "**Binomial or not?**"
   ]
  },
  {
   "cell_type": "markdown",
   "id": "bfdd2cda",
   "metadata": {
    "slideshow": {
     "slide_type": "fragment"
    }
   },
   "source": [
    "- \n",
    "<code style=\"background:Thistle;color:black\">  X = outcome of rolling a fair six-sided die 6 times. \"Success\" is rolling a 1, \"failure\" is rolling a 2 or higher. </code>"
   ]
  },
  {
   "cell_type": "markdown",
   "id": "adf325bf",
   "metadata": {
    "slideshow": {
     "slide_type": "fragment"
    }
   },
   "source": [
    "- \n",
    "<code style=\"background:Thistle;color:black\"> X =  number of stocks on the NY stock exchange which increase in price on Ocotober 27, 2025. </code>\n"
   ]
  },
  {
   "cell_type": "markdown",
   "id": "32f745a0",
   "metadata": {
    "slideshow": {
     "slide_type": "fragment"
    }
   },
   "source": [
    "- \n",
    "<code style=\"background:Thistle;color:black\"> X = number of games Chicago Bears will win next season. </code>"
   ]
  },
  {
   "cell_type": "markdown",
   "id": "60452393",
   "metadata": {
    "slideshow": {
     "slide_type": "fragment"
    }
   },
   "source": [
    "- \n",
    "<code style=\"background:Thistle;color:black\">  A couple decides to have children until they have a girl. X = number of boys the couple will have. </code>\n"
   ]
  },
  {
   "cell_type": "markdown",
   "id": "834c8789",
   "metadata": {
    "slideshow": {
     "slide_type": "fragment"
    }
   },
   "source": [
    "- \n",
    "<code style=\"background:Thistle;color:black\"> Number of girls among the next 3873 children born in Cook County hospital. </code>"
   ]
  },
  {
   "cell_type": "markdown",
   "id": "732d8c5d",
   "metadata": {
    "slideshow": {
     "slide_type": "slide"
    }
   },
   "source": [
    "**Example: Mathematical vs Simulation** \n",
    "\n",
    "We toss a fair six-sided die 6 times. \"Success\" is rolling a 1, \"failure\" is rolling a 2 or higher. Is this a Bernoulli trail?"
   ]
  },
  {
   "cell_type": "markdown",
   "id": "f8beb9c1",
   "metadata": {
    "slideshow": {
     "slide_type": "fragment"
    }
   },
   "source": [
    "*   There are a fixed, $n$, number of trials\n",
    "\n",
    "*   There are exactly two possibile  outcomes - often times described as 'success' or 'failure'.\n",
    "\n",
    "*   Each trial is independent (i.e. does not depend on outcomes of previous trials)\n",
    "\n",
    "*   The probability of success, $p$, is the same for each trial"
   ]
  },
  {
   "cell_type": "markdown",
   "id": "a4148236",
   "metadata": {
    "slideshow": {
     "slide_type": "fragment"
    }
   },
   "source": [
    "Sample space...sequences of 6 outcomes S or F such as \"SSFSFF\""
   ]
  },
  {
   "cell_type": "markdown",
   "id": "fa3d6634",
   "metadata": {
    "slideshow": {
     "slide_type": "fragment"
    }
   },
   "source": [
    "When the experiments do not affect each other, the probability is the product of the probabilities of individual experiments."
   ]
  },
  {
   "cell_type": "markdown",
   "id": "20c03afb",
   "metadata": {
    "slideshow": {
     "slide_type": "fragment"
    }
   },
   "source": [
    "For example, probability of getting \"SSFSFF\" is $$\\frac{1}{6}\\cdot \\frac{1}{6}\\cdot\\frac{5}{6}\\cdot\\frac{1}{6}\\cdot\\frac{5}{6}\\cdot\\frac{5}{6}$$"
   ]
  },
  {
   "cell_type": "markdown",
   "id": "f207e8fa",
   "metadata": {
    "slideshow": {
     "slide_type": "slide"
    }
   },
   "source": [
    "What might we be interested in?"
   ]
  },
  {
   "cell_type": "markdown",
   "id": "76e01cee",
   "metadata": {
    "slideshow": {
     "slide_type": "fragment"
    }
   },
   "source": [
    "What is the probability of getting exactly 3 successes?"
   ]
  },
  {
   "cell_type": "markdown",
   "id": "b6a66e9d",
   "metadata": {
    "slideshow": {
     "slide_type": "fragment"
    }
   },
   "source": [
    "We have $n= 6$, $p=\\frac{1}{6}$, $j=3$."
   ]
  },
  {
   "cell_type": "markdown",
   "id": "0d03d117",
   "metadata": {
    "slideshow": {
     "slide_type": "fragment"
    }
   },
   "source": [
    "$$P(X=j) = b(n,p,j) = {n \\choose j} p^j (1-p)^{n-j}.$$"
   ]
  },
  {
   "cell_type": "markdown",
   "id": "591c2539",
   "metadata": {
    "slideshow": {
     "slide_type": "fragment"
    }
   },
   "source": [
    "$$P(X=3) = b(n=6,p=1/6,j=3) = {6 \\choose 3} (1/6)^3 (5/6)^{3}$$\n",
    "\n",
    "$$\\approx 0.0535$$"
   ]
  },
  {
   "cell_type": "markdown",
   "id": "ad276ada",
   "metadata": {
    "slideshow": {
     "slide_type": "slide"
    }
   },
   "source": [
    "We can visualize this distribution!"
   ]
  },
  {
   "cell_type": "code",
   "execution_count": 10,
   "id": "db61c0f3",
   "metadata": {
    "slideshow": {
     "slide_type": "fragment"
    }
   },
   "outputs": [
    {
     "name": "stderr",
     "output_type": "stream",
     "text": [
      "/var/folders/s_/fr0jyz7s5qv1_648_n3yrj940000gn/T/ipykernel_21644/2077011245.py:6: DeprecationWarning: `np.math` is a deprecated alias for the standard library `math` module (Deprecated Numpy 1.25). Replace usages of `np.math` with `math`\n",
      "  n_choose_j = np.math.factorial(n)/(np.math.factorial(j)*np.math.factorial(n-j))\n"
     ]
    },
    {
     "ename": "AttributeError",
     "evalue": "module 'matplotlib' has no attribute 'xlabel'",
     "output_type": "error",
     "traceback": [
      "\u001b[0;31m---------------------------------------------------------------------------\u001b[0m",
      "\u001b[0;31mAttributeError\u001b[0m                            Traceback (most recent call last)",
      "Cell \u001b[0;32mIn[10], line 16\u001b[0m\n\u001b[1;32m     13\u001b[0m     binomial_list\u001b[38;5;241m.\u001b[39mappend(binomial_prob(n, p, i))\n\u001b[1;32m     15\u001b[0m pd\u001b[38;5;241m.\u001b[39mDataFrame({\u001b[38;5;124m'\u001b[39m\u001b[38;5;124mlegend\u001b[39m\u001b[38;5;124m'\u001b[39m: binomial_list})\u001b[38;5;241m.\u001b[39mplot\u001b[38;5;241m.\u001b[39mbar(legend\u001b[38;5;241m=\u001b[39m());\n\u001b[0;32m---> 16\u001b[0m \u001b[43mplt\u001b[49m\u001b[38;5;241;43m.\u001b[39;49m\u001b[43mxlabel\u001b[49m(\u001b[38;5;124m'\u001b[39m\u001b[38;5;124mNumber of Successes\u001b[39m\u001b[38;5;124m'\u001b[39m)\n\u001b[1;32m     17\u001b[0m plt\u001b[38;5;241m.\u001b[39mylabel(\u001b[38;5;124m\"\u001b[39m\u001b[38;5;124mProbability\u001b[39m\u001b[38;5;124m\"\u001b[39m)\n\u001b[1;32m     18\u001b[0m plt\u001b[38;5;241m.\u001b[39mtitle(\u001b[38;5;124m'\u001b[39m\u001b[38;5;124mB(6,1/6): Number of Successes in 6 Tosses\u001b[39m\u001b[38;5;124m'\u001b[39m)\n",
      "File \u001b[0;32m~/opt/anaconda3/envs/myenv/lib/python3.12/site-packages/matplotlib/_api/__init__.py:217\u001b[0m, in \u001b[0;36mcaching_module_getattr.<locals>.__getattr__\u001b[0;34m(name)\u001b[0m\n\u001b[1;32m    215\u001b[0m \u001b[38;5;28;01mif\u001b[39;00m name \u001b[38;5;129;01min\u001b[39;00m props:\n\u001b[1;32m    216\u001b[0m     \u001b[38;5;28;01mreturn\u001b[39;00m props[name]\u001b[38;5;241m.\u001b[39m\u001b[38;5;21m__get__\u001b[39m(instance)\n\u001b[0;32m--> 217\u001b[0m \u001b[38;5;28;01mraise\u001b[39;00m \u001b[38;5;167;01mAttributeError\u001b[39;00m(\n\u001b[1;32m    218\u001b[0m     \u001b[38;5;124mf\u001b[39m\u001b[38;5;124m\"\u001b[39m\u001b[38;5;124mmodule \u001b[39m\u001b[38;5;132;01m{\u001b[39;00m\u001b[38;5;28mcls\u001b[39m\u001b[38;5;241m.\u001b[39m\u001b[38;5;18m__module__\u001b[39m\u001b[38;5;132;01m!r}\u001b[39;00m\u001b[38;5;124m has no attribute \u001b[39m\u001b[38;5;132;01m{\u001b[39;00mname\u001b[38;5;132;01m!r}\u001b[39;00m\u001b[38;5;124m\"\u001b[39m)\n",
      "\u001b[0;31mAttributeError\u001b[0m: module 'matplotlib' has no attribute 'xlabel'"
     ]
    },
    {
     "data": {
      "image/png": "[encoded data removed]",
      "text/plain": [
       "<Figure size 640x480 with 1 Axes>"
      ]
     },
     "metadata": {},
     "output_type": "display_data"
    }
   ],
   "source": [
    "import numpy as np\n",
    "import math as math\n",
    "import pandas as pd\n",
    "\n",
    "def binomial_prob(n, p, j):\n",
    "    n_choose_j = np.math.factorial(n)/(np.math.factorial(j)*np.math.factorial(n-j))\n",
    "    return  n_choose_j*p**j*(1-p)**(n-j)\n",
    "\n",
    "binomial_list =[]\n",
    "n=6\n",
    "p=1/6\n",
    "for i in range(0,7):\n",
    "    binomial_list.append(binomial_prob(n, p, i))\n",
    "\n",
    "pd.DataFrame({'legend': binomial_list}).plot.bar(legend=());\n",
    "plt.xlabel('Number of Successes')\n",
    "plt.ylabel(\"Probability\")\n",
    "plt.title('B(6,1/6): Number of Successes in 6 Tosses')\n",
    "plt.show()"
   ]
  },
  {
   "cell_type": "markdown",
   "id": "ec29b841",
   "metadata": {
    "slideshow": {
     "slide_type": "slide"
    }
   },
   "source": [
    "### Expected Value and Variance for Binomial"
   ]
  },
  {
   "cell_type": "markdown",
   "id": "764187e2",
   "metadata": {
    "slideshow": {
     "slide_type": "fragment"
    }
   },
   "source": [
    "Suppose we roll a 6 sided die  -  $X$ records the number of successes - 'rolling a 1'. ---> discrete binomial"
   ]
  },
  {
   "cell_type": "markdown",
   "id": "7f4b66f0",
   "metadata": {
    "slideshow": {
     "slide_type": "fragment"
    }
   },
   "source": [
    "$$E(X) = 0 \\cdot b(6,1/6, 0)+ 1\\cdot b(6,1/6, 1)+2\\cdot b(6,1/6, 2)+3\\cdot b(6,1/6, 3)+4\\cdot b(6,1/6, 4)+5\\cdot b(6,1/6, 5)+6\\cdot b(6,1/6, 6)$$ \n",
    "\n",
    "$$= 1$$"
   ]
  },
  {
   "cell_type": "markdown",
   "id": "2d735aab",
   "metadata": {
    "slideshow": {
     "slide_type": "slide"
    }
   },
   "source": [
    "Recall...this matches what we saw graphically:"
   ]
  },
  {
   "cell_type": "code",
   "execution_count": 11,
   "id": "416f42d9",
   "metadata": {
    "slideshow": {
     "slide_type": "fragment"
    }
   },
   "outputs": [
    {
     "name": "stderr",
     "output_type": "stream",
     "text": [
      "/var/folders/s_/fr0jyz7s5qv1_648_n3yrj940000gn/T/ipykernel_21644/3053201406.py:3: DeprecationWarning: `np.math` is a deprecated alias for the standard library `math` module (Deprecated Numpy 1.25). Replace usages of `np.math` with `math`\n",
      "  n_choose_j = np.math.factorial(n)/(np.math.factorial(j)*np.math.factorial(n-j))\n"
     ]
    },
    {
     "ename": "NameError",
     "evalue": "name 'legend' is not defined",
     "output_type": "error",
     "traceback": [
      "\u001b[0;31m---------------------------------------------------------------------------\u001b[0m",
      "\u001b[0;31mNameError\u001b[0m                                 Traceback (most recent call last)",
      "Cell \u001b[0;32mIn[11], line 12\u001b[0m\n\u001b[1;32m      9\u001b[0m \u001b[38;5;28;01mfor\u001b[39;00m i \u001b[38;5;129;01min\u001b[39;00m \u001b[38;5;28mrange\u001b[39m(\u001b[38;5;241m0\u001b[39m,\u001b[38;5;241m7\u001b[39m):\n\u001b[1;32m     10\u001b[0m     binomial_list\u001b[38;5;241m.\u001b[39mappend(binomial_prob(n, p, i))\n\u001b[0;32m---> 12\u001b[0m pd\u001b[38;5;241m.\u001b[39mDataFrame({\u001b[43mlegend\u001b[49m: binomial_list})\u001b[38;5;241m.\u001b[39mplot\u001b[38;5;241m.\u001b[39mbar(legend\u001b[38;5;241m=\u001b[39m());\n\u001b[1;32m     13\u001b[0m plt\u001b[38;5;241m.\u001b[39mxlabel(\u001b[38;5;124m'\u001b[39m\u001b[38;5;124mNumber of Successes\u001b[39m\u001b[38;5;124m'\u001b[39m)\n\u001b[1;32m     14\u001b[0m plt\u001b[38;5;241m.\u001b[39mylabel(\u001b[38;5;124m\"\u001b[39m\u001b[38;5;124mProbability\u001b[39m\u001b[38;5;124m\"\u001b[39m);\n",
      "\u001b[0;31mNameError\u001b[0m: name 'legend' is not defined"
     ]
    }
   ],
   "source": [
    "import math\n",
    "def binomial_prob(n, p, j):\n",
    "    n_choose_j = np.math.factorial(n)/(np.math.factorial(j)*np.math.factorial(n-j))\n",
    "    return  n_choose_j*p**j*(1-p)**(n-j)\n",
    "\n",
    "binomial_list =[]\n",
    "n=6\n",
    "p=1/6\n",
    "for i in range(0,7):\n",
    "    binomial_list.append(binomial_prob(n, p, i))\n",
    "\n",
    "pd.DataFrame({legend: binomial_list}).plot.bar(legend=());\n",
    "plt.xlabel('Number of Successes')\n",
    "plt.ylabel(\"Probability\");\n",
    "plt.scatter(n*p, 0.005, color='purple', s=30, zorder=2);\n",
    "plt.title('B(6,1/6): Number of Successes in 6 Tosses')"
   ]
  },
  {
   "cell_type": "markdown",
   "id": "41fcb2b1",
   "metadata": {
    "slideshow": {
     "slide_type": "fragment"
    }
   },
   "source": [
    "For a **Binomial Distribution**\n",
    "\n",
    "The mean is $\\mu_X = np$\n",
    "\n",
    "$Var(X) = np(1 −p)$"
   ]
  },
  {
   "cell_type": "markdown",
   "id": "b8d84682",
   "metadata": {
    "slideshow": {
     "slide_type": "fragment"
    }
   },
   "source": [
    "**Simulation of binomial data**\n",
    "\n",
    "```python\n",
    "np.random.binomial(n,p,n_sim)\n",
    "```\n",
    "\n",
    "n - number of trials\n",
    "\n",
    "p - probability of success\n",
    "\n",
    "n_sims - number of times to draw a number"
   ]
  },
  {
   "cell_type": "code",
   "execution_count": null,
   "id": "b977a496",
   "metadata": {
    "slideshow": {
     "slide_type": "fragment"
    }
   },
   "outputs": [],
   "source": [
    "np.random.binomial(10,1/6,100)"
   ]
  },
  {
   "cell_type": "markdown",
   "id": "39767bd1",
   "metadata": {
    "slideshow": {
     "slide_type": "slide"
    }
   },
   "source": [
    "## Histograms of various binomial distributions\n",
    "\n",
    "We are varying n and p. Also shown are:\n",
    "- the location of the binomial mean (purple dot)\n",
    "- an interval centered at mean and with half-width equal to two standard deviations (red line)\n",
    "\n",
    "The data plotted are generated using 10,000 simulations."
   ]
  },
  {
   "cell_type": "code",
   "execution_count": null,
   "id": "efb11ce0",
   "metadata": {
    "slideshow": {
     "slide_type": "fragment"
    }
   },
   "outputs": [],
   "source": [
    "n=30\n",
    "p=0.1\n",
    "plt.hist(np.random.binomial(n,p,10000),bins=np.arange(0,13,1), density =True)\n",
    "plt.scatter(n*p, -0.002, color='purple', s=30, zorder=2);\n",
    "plt.plot([n*p-2*np.sqrt(n*p*(1-p)), n*p+2*np.sqrt(n*p*(1-p))], [-0.001, -0.001], color='red', lw=3, zorder=1)\n",
    "plt.title(\"Binomial distribution with n=\"+str(n)+\" and p=\"+str(p))\n",
    "plt.show()"
   ]
  },
  {
   "cell_type": "code",
   "execution_count": null,
   "id": "d11b1059",
   "metadata": {
    "scrolled": true,
    "slideshow": {
     "slide_type": "fragment"
    }
   },
   "outputs": [],
   "source": [
    "n=30\n",
    "p=0.5\n",
    "plt.hist(np.random.binomial(n,p,10000),bins=np.arange(5,25,1), density = True)\n",
    "plt.title(\"Binomial distribution with n=\"+str(n)+\" and p=\"+str(p))\n",
    "plt.scatter(n*p, -0.002, color='purple', s=30, zorder=2);\n",
    "plt.plot([n*p-2*np.sqrt(n*p*(1-p)), n*p+2*np.sqrt(n*p*(1-p))], [-0.001, -0.001], color='red', lw=3, zorder=1)\n",
    "plt.show()"
   ]
  },
  {
   "cell_type": "code",
   "execution_count": null,
   "id": "7c66a655",
   "metadata": {
    "scrolled": true,
    "slideshow": {
     "slide_type": "fragment"
    }
   },
   "outputs": [],
   "source": [
    "n=300\n",
    "p=0.1\n",
    "plt.hist(np.random.binomial(n,p,10000),bins=np.arange(15,50,1), density = True)\n",
    "plt.scatter(n*p, -0.002, color='purple', s=30, zorder=2);\n",
    "plt.plot([n*p-2*np.sqrt(n*p*(1-p)), n*p+2*np.sqrt(n*p*(1-p))], [-0.001, -0.001], color='red', lw=3, zorder=1)\n",
    "plt.title(\"Binomial distribution with n=\"+str(n)+\" and p=\"+str(p))\n",
    "plt.show()"
   ]
  },
  {
   "cell_type": "markdown",
   "id": "95ed94a5",
   "metadata": {
    "slideshow": {
     "slide_type": "slide"
    }
   },
   "source": [
    "**Discrete**\n",
    "\n",
    " - Counts of events (days with rain, number of deaths)\n",
    "    \n",
    " - Presence / absence \n",
    "\n",
    " - Dice, cards\n",
    "    \n",
    " - Names, nationalities, dates \n",
    "\n",
    "**Continuous** \n",
    "\n",
    " - Physical measurements: Temperature, height, insolation.\n",
    "        \n",
    " - Numerical data like salaries\n"
   ]
  },
  {
   "cell_type": "markdown",
   "id": "026ff598",
   "metadata": {
    "slideshow": {
     "slide_type": "fragment"
    }
   },
   "source": [
    "Our goal is to estimate the population based on our sample. We don't always have discrete data..... sometimes we have **continuous data.**"
   ]
  },
  {
   "cell_type": "markdown",
   "id": "910761b3",
   "metadata": {
    "slideshow": {
     "slide_type": "slide"
    }
   },
   "source": [
    "We will illustrate this new concept with salary data from City of Chicago:\n",
    "\n",
    "https://data.cityofchicago.org/Administration-Finance/Current-Employee-Names-Salaries-and-Position-Title/xzkq-xp2w\n",
    "\n",
    "This file has been edited to remove part-time and hourly employees. We also removed the column showing the names of the employees."
   ]
  },
  {
   "cell_type": "code",
   "execution_count": null,
   "id": "536ed6b0",
   "metadata": {
    "slideshow": {
     "slide_type": "fragment"
    }
   },
   "outputs": [],
   "source": [
    "import pandas as pd\n",
    "import numpy as np\n",
    "import matplotlib.pyplot as plt\n",
    "plt.style.use('fivethirtyeight')\n",
    "\n",
    "chicago_df = pd.read_csv('https://raw.githubusercontent.com/SusannaLange/Data_118_images/main/Data/ChicagoSalary.csv')\n",
    "chicago_df.sample(5)"
   ]
  },
  {
   "cell_type": "code",
   "execution_count": null,
   "id": "12892bc7",
   "metadata": {
    "slideshow": {
     "slide_type": "fragment"
    }
   },
   "outputs": [],
   "source": [
    "chicago_bins = np.arange(10000, 280000, 10000)\n",
    "chicago_df.hist('Annual.Salary', bins = chicago_bins);\n",
    "\n",
    "plt.title('Distribution of population Salaries')\n",
    "plt.ylabel('Frequency')\n",
    "plt.xlabel('Salary');"
   ]
  },
  {
   "cell_type": "code",
   "execution_count": null,
   "id": "267e2072",
   "metadata": {
    "slideshow": {
     "slide_type": "fragment"
    }
   },
   "outputs": [],
   "source": [
    "chicago_df.loc[chicago_df['Annual.Salary']==100000]"
   ]
  },
  {
   "cell_type": "code",
   "execution_count": null,
   "id": "48a794f7",
   "metadata": {
    "slideshow": {
     "slide_type": "fragment"
    }
   },
   "outputs": [],
   "source": [
    "chicago_df.loc[(chicago_df['Annual.Salary'] >= 90000) & (chicago_df['Annual.Salary']<= 100000)]"
   ]
  },
  {
   "cell_type": "markdown",
   "id": "70fd551e",
   "metadata": {
    "slideshow": {
     "slide_type": "slide"
    }
   },
   "source": [
    "What happens if we look at the distribution of observations (salaries) in a sample? Recall this is the **empirical distribution** of the data in the sample. **How does it compare to the distribution of data shown above?**"
   ]
  },
  {
   "cell_type": "code",
   "execution_count": null,
   "id": "a5aa1593",
   "metadata": {
    "slideshow": {
     "slide_type": "fragment"
    }
   },
   "outputs": [],
   "source": [
    "# Histogram of empirical distributions of 10 random salaries\n",
    "chicago_df.sample(10).hist('Annual.Salary', bins = chicago_bins);\n",
    "\n",
    "plt.title('Distribution of sample Salaries')\n",
    "plt.ylabel('Frequency')\n",
    "plt.xlabel('Salary');"
   ]
  },
  {
   "cell_type": "code",
   "execution_count": null,
   "id": "9ea42283",
   "metadata": {
    "slideshow": {
     "slide_type": "slide"
    }
   },
   "outputs": [],
   "source": [
    "# Histogram of empirical distributions of 100 random salaries\n",
    "chicago_df.sample(100).hist('Annual.Salary', bins = chicago_bins);\n",
    "plt.title('Distribution of sample Salaries')\n",
    "plt.ylabel('Frequency')\n",
    "plt.xlabel('Salary');"
   ]
  },
  {
   "cell_type": "code",
   "execution_count": null,
   "id": "e539303f",
   "metadata": {
    "slideshow": {
     "slide_type": "slide"
    }
   },
   "outputs": [],
   "source": [
    "# Histogram of empirical distributions of 1000 random salaries\n",
    "chicago_df.sample(1000).hist('Annual.Salary', bins = chicago_bins);\n",
    "plt.title('Distribution of sample Salaries')\n",
    "plt.ylabel('Frequency')\n",
    "plt.xlabel('Salary');"
   ]
  },
  {
   "cell_type": "markdown",
   "id": "f00011a5",
   "metadata": {
    "slideshow": {
     "slide_type": "fragment"
    }
   },
   "source": [
    "Note:\n",
    "    \n",
    "   In a random sample, you don't always capture well extreme values in the population."
   ]
  },
  {
   "cell_type": "markdown",
   "id": "2ad62bcb",
   "metadata": {
    "slideshow": {
     "slide_type": "slide"
    }
   },
   "source": [
    "## Empirical distribution of a statistic\n",
    "\n",
    "Frequently, we are interested in numerical quantities associated with a population - these are called **parameters**:\n",
    "\n",
    "- What is the average salary in City of Chicago?\n",
    "- What is the median salary in City of Chicago?\n",
    "- What is the percent of people who will vote for candidate B in the next election?"
   ]
  },
  {
   "cell_type": "markdown",
   "id": "c99f7117",
   "metadata": {
    "slideshow": {
     "slide_type": "slide"
    }
   },
   "source": [
    "To learn about the value of an unknown parameter, we rely on functions of the data - these are called **statistics**:\n",
    "\n",
    "- Sample mean\n",
    "- Sample median\n",
    "- Sample proportion\n",
    "\n",
    "Different samples could lead to different values of the statistic, and it is important to understand the distribution of the statistic. This knowledge can be used to assess the **\"quality of your parameter estimates\".**"
   ]
  },
  {
   "cell_type": "markdown",
   "id": "38e7daa8",
   "metadata": {
    "slideshow": {
     "slide_type": "slide"
    }
   },
   "source": [
    "### Average  and median salary\n",
    "\n",
    "- Our dataset is the population of salaries \n",
    "- Use simulations to understand the **probability distribution** of the sample mean and sample median"
   ]
  },
  {
   "cell_type": "code",
   "execution_count": null,
   "id": "ed92c232",
   "metadata": {
    "slideshow": {
     "slide_type": "fragment"
    }
   },
   "outputs": [],
   "source": [
    "# extract salaries and calculate average salary\n",
    "salary=chicago_df['Annual.Salary']\n",
    "print('population average: (usually unknown)', np.mean(salary))\n",
    "\n",
    "print('sample average:', np.mean(np.random.choice(salary, 10, replace = False)))"
   ]
  },
  {
   "cell_type": "markdown",
   "id": "e7f0e813",
   "metadata": {
    "slideshow": {
     "slide_type": "slide"
    }
   },
   "source": [
    "This one estimate is not that great....would be better if we could collect these sample means and plot them!"
   ]
  },
  {
   "cell_type": "code",
   "execution_count": null,
   "id": "6bd09382",
   "metadata": {
    "slideshow": {
     "slide_type": "slide"
    }
   },
   "outputs": [],
   "source": [
    "outcomes = np.array([])\n",
    "for i in np.arange(100):\n",
    "    outcomes = np.append(outcomes, np.mean(np.random.choice(salary, 10,replace=False)))\n",
    "    \n",
    "        \n",
    "outcomes"
   ]
  },
  {
   "cell_type": "code",
   "execution_count": null,
   "id": "c397ed3e",
   "metadata": {},
   "outputs": [],
   "source": [
    "plt.hist(outcomes, bins = 20)\n",
    "plt.title(\"100 samples of mean of size n=10\")\n",
    "plt.xlabel('Annual salary sample mean')\n",
    "plt.ylabel('frequency')\n",
    "plt.scatter(np.mean(salary), -0.0012, color='red', s=30)\n",
    "plt.show()"
   ]
  },
  {
   "cell_type": "markdown",
   "id": "7c7a1c9f",
   "metadata": {
    "slideshow": {
     "slide_type": "slide"
    }
   },
   "source": [
    "### Law of Large Numbers"
   ]
  },
  {
   "cell_type": "markdown",
   "id": "7e1b4cc4",
   "metadata": {
    "slideshow": {
     "slide_type": "fragment"
    }
   },
   "source": [
    "As the sample size is increased, the mean of the sample gets closer to the population mean."
   ]
  },
  {
   "cell_type": "markdown",
   "id": "e98db752",
   "metadata": {
    "slideshow": {
     "slide_type": "fragment"
    }
   },
   "source": [
    "Not specific to this distribution!"
   ]
  },
  {
   "cell_type": "markdown",
   "id": "208b6dd2",
   "metadata": {
    "slideshow": {
     "slide_type": "fragment"
    }
   },
   "source": [
    "This is true in general!!! (with a few conditions)\n",
    "The **Law of Large Numbers** says if we repeat an experiment a large number of times we expect the empirical results to be close to the theoretical.\n",
    "\n",
    "Conditions for the result to hold:\n",
    "\n",
    " - Each experiment has no effect on any other experiment\n",
    " \n",
    " - Each experiment is done under the same conditions"
   ]
  },
  {
   "cell_type": "markdown",
   "id": "6c68e739",
   "metadata": {
    "slideshow": {
     "slide_type": "slide"
    }
   },
   "source": [
    "### Normal Distribution"
   ]
  },
  {
   "cell_type": "markdown",
   "id": "54eca753",
   "metadata": {
    "slideshow": {
     "slide_type": "fragment"
    }
   },
   "source": [
    "The most important continuous distribution.\n",
    "\n",
    "- height\n",
    "\n",
    "- weight\n",
    "\n",
    "- SAT scores"
   ]
  },
  {
   "cell_type": "markdown",
   "id": "7f6ce7d6",
   "metadata": {
    "slideshow": {
     "slide_type": "fragment"
    }
   },
   "source": [
    "This distribution is continuous and its density function is defined by $\\displaystyle{f(x)=\\frac{1}{\\sigma \\sqrt{2\\pi}}e^{\\left(-\\frac{1}{2}\\left(\\frac{x-\\mu}{\\sigma}\\right)^{2}\\right)}}$, where $X \\in (-\\infty, \\infty)$"
   ]
  },
  {
   "cell_type": "markdown",
   "id": "91f00578",
   "metadata": {
    "slideshow": {
     "slide_type": "slide"
    }
   },
   "source": [
    "Important facts about the normal distribution:"
   ]
  },
  {
   "cell_type": "markdown",
   "id": "67296b78",
   "metadata": {
    "slideshow": {
     "slide_type": "fragment"
    }
   },
   "source": [
    " - A normal distribution is symmetric and bell-shaped, giving it the nickname \"bell-curve\"."
   ]
  },
  {
   "cell_type": "markdown",
   "id": "a4099b0c",
   "metadata": {
    "slideshow": {
     "slide_type": "fragment"
    }
   },
   "source": [
    " - The mean, median and mode are exactly the same."
   ]
  },
  {
   "cell_type": "markdown",
   "id": "bdd4da12",
   "metadata": {
    "slideshow": {
     "slide_type": "fragment"
    }
   },
   "source": [
    " - Defined entirely by its mean and standard deviation!"
   ]
  },
  {
   "cell_type": "markdown",
   "id": "ac0176d9",
   "metadata": {
    "slideshow": {
     "slide_type": "fragment"
    }
   },
   "source": [
    "If $X$ is a continuous Normal r.v, then $X ∼ N(\\mu,\\sigma)$"
   ]
  },
  {
   "cell_type": "markdown",
   "id": "34604a46",
   "metadata": {},
   "source": [
    "<img src=\"https://github.com/SusannaLange/Data_118_images/blob/main/DSSI_images/normal_bell.png?raw=true\" width=\"800\">"
   ]
  },
  {
   "cell_type": "markdown",
   "id": "68d4888e",
   "metadata": {},
   "source": [
    "\n",
    "<img src=\"https://github.com/SusannaLange/Data_118_images/blob/main/DSSI_images/normal_sd.png?raw=true\" width=\"800\">"
   ]
  },
  {
   "cell_type": "markdown",
   "id": "6b85e415",
   "metadata": {
    "slideshow": {
     "slide_type": "slide"
    }
   },
   "source": [
    "The special case of the normal distribution is called the **standard normal**, where $\\mu=0$ and $\\sigma=1$."
   ]
  },
  {
   "cell_type": "markdown",
   "id": "891ec628",
   "metadata": {
    "slideshow": {
     "slide_type": "fragment"
    }
   },
   "source": [
    "If $X  ∼  N(\\mu, \\sigma)$ then we can *transform* it to a standard normal, by normalizing it! That is:\n",
    "\n",
    "$$\\frac{X-\\mu}{\\sigma}$$"
   ]
  },
  {
   "cell_type": "markdown",
   "id": "6acabbfd",
   "metadata": {
    "slideshow": {
     "slide_type": "fragment"
    }
   },
   "source": [
    "Note we can sample from a normal distribution by specifying the parameters"
   ]
  },
  {
   "cell_type": "code",
   "execution_count": null,
   "id": "4024573f",
   "metadata": {
    "slideshow": {
     "slide_type": "fragment"
    }
   },
   "outputs": [],
   "source": [
    "np.random.normal(15, 3)"
   ]
  },
  {
   "cell_type": "markdown",
   "id": "5b6c184b",
   "metadata": {
    "slideshow": {
     "slide_type": "slide"
    }
   },
   "source": [
    "One reason (among many) that we care about the normal distribution."
   ]
  },
  {
   "cell_type": "markdown",
   "id": "a520413c",
   "metadata": {
    "slideshow": {
     "slide_type": "fragment"
    }
   },
   "source": [
    "It shows up a lot!!!"
   ]
  },
  {
   "cell_type": "markdown",
   "id": "2d7445b2",
   "metadata": {
    "slideshow": {
     "slide_type": "fragment"
    }
   },
   "source": [
    "Recall we experimented with rolling a 6 sided die?"
   ]
  },
  {
   "cell_type": "code",
   "execution_count": null,
   "id": "84c4d5eb",
   "metadata": {
    "slideshow": {
     "slide_type": "fragment"
    }
   },
   "outputs": [
    {
     "data": {
      "text/plain": [
       "3.62"
      ]
     },
     "execution_count": 1,
     "metadata": {},
     "output_type": "execute_result"
    }
   ],
   "source": [
    "import numpy as np\n",
    "import pandas as pd\n",
    "import matplotlib.pyplot as plt\n",
    "%matplotlib inline\n",
    "\n",
    "die = pd.DataFrame(\n",
    "    {\n",
    "        'Face': np.arange(1, 7),\n",
    "    }\n",
    ")\n",
    "np.mean(die.sample(50, replace=True))"
   ]
  },
  {
   "cell_type": "code",
   "execution_count": null,
   "id": "449e3264",
   "metadata": {
    "slideshow": {
     "slide_type": "fragment"
    }
   },
   "outputs": [],
   "source": [
    "def face_mean_sim(nsim):\n",
    "    \"\"\"Simulates nsim repetions of 50 dice rolls and returns their sample mean.\"\"\"\n",
    "    means = np.array([])\n",
    "    for i in np.arange(nsim):\n",
    "        means = np.append(means, np.mean(die.sample(50, replace=True)))\n",
    "    return means"
   ]
  },
  {
   "cell_type": "code",
   "execution_count": null,
   "id": "bec26ce3",
   "metadata": {
    "slideshow": {
     "slide_type": "fragment"
    }
   },
   "outputs": [
    {
     "data": {
      "text/plain": [
       "array([3.86, 3.72, 3.68, 3.6 , 3.48, 3.4 , 3.3 , 3.8 , 3.42, 3.66])"
      ]
     },
     "execution_count": 5,
     "metadata": {},
     "output_type": "execute_result"
    }
   ],
   "source": [
    "ten_runs = face_mean_sim(10)\n",
    "ten_runs"
   ]
  },
  {
   "cell_type": "code",
   "execution_count": null,
   "id": "38b8986f",
   "metadata": {
    "slideshow": {
     "slide_type": "fragment"
    }
   },
   "outputs": [
    {
     "data": {
      "image/png": "[encoded data removed]",
      "text/plain": [
       "<Figure size 640x480 with 1 Axes>"
      ]
     },
     "metadata": {},
     "output_type": "display_data"
    }
   ],
   "source": [
    "plt.hist(ten_runs);\n",
    "plt.xlabel('Mean')\n",
    "plt.ylabel('Frequency')\n",
    "plt.title('Mean Dice Roll Simulation: Ten Runs')\n",
    "plt.show() "
   ]
  },
  {
   "cell_type": "code",
   "execution_count": null,
   "id": "0bf084f0",
   "metadata": {
    "slideshow": {
     "slide_type": "fragment"
    }
   },
   "outputs": [
    {
     "data": {
      "text/plain": [
       "(array([1.000e+00, 1.000e+00, 0.000e+00, 5.000e+00, 1.400e+01, 1.900e+01,\n",
       "        3.700e+01, 6.100e+01, 1.780e+02, 2.190e+02, 3.090e+02, 4.540e+02,\n",
       "        8.780e+02, 7.740e+02, 9.000e+02, 9.830e+02, 9.830e+02, 1.165e+03,\n",
       "        8.060e+02, 6.840e+02, 4.980e+02, 4.850e+02, 2.140e+02, 1.550e+02,\n",
       "        9.100e+01, 5.300e+01, 1.300e+01, 7.000e+00, 8.000e+00, 5.000e+00]),\n",
       " array([2.46      , 2.52466667, 2.58933333, 2.654     , 2.71866667,\n",
       "        2.78333333, 2.848     , 2.91266667, 2.97733333, 3.042     ,\n",
       "        3.10666667, 3.17133333, 3.236     , 3.30066667, 3.36533333,\n",
       "        3.43      , 3.49466667, 3.55933333, 3.624     , 3.68866667,\n",
       "        3.75333333, 3.818     , 3.88266667, 3.94733333, 4.012     ,\n",
       "        4.07666667, 4.14133333, 4.206     , 4.27066667, 4.33533333,\n",
       "        4.4       ]),\n",
       " <BarContainer object of 30 artists>)"
      ]
     },
     "execution_count": 7,
     "metadata": {},
     "output_type": "execute_result"
    },
    {
     "data": {
      "image/png": "[encoded data removed]",
      "text/plain": [
       "<Figure size 800x800 with 3 Axes>"
      ]
     },
     "metadata": {},
     "output_type": "display_data"
    }
   ],
   "source": [
    "fig, axs = plt.subplots(3, figsize=(8, 8))\n",
    "fig.suptitle('Mean Dice Roll Simulation: 100, 1000, and 10000')\n",
    "fig.tight_layout()\n",
    "axs[0].hist(face_mean_sim(100), 30)\n",
    "axs[1].hist(face_mean_sim(1_000), 30)\n",
    "axs[2].hist(face_mean_sim(10_000), 30)\n",
    "#plt.show()"
   ]
  },
  {
   "cell_type": "markdown",
   "id": "6e23cc5b",
   "metadata": {
    "slideshow": {
     "slide_type": "fragment"
    }
   },
   "source": [
    "This is because of the **Central Limit Theorem**!\n",
    "\n",
    "If you take sufficiently large random samples from a population with replacement, the distribution of sample means will be approximately normally distributed."
   ]
  }
 ],
 "metadata": {
  "kernelspec": {
   "display_name": "Python 3 (ipykernel)",
   "language": "python",
   "name": "python3"
  },
  "language_info": {
   "codemirror_mode": {
    "name": "ipython",
    "version": 3
   },
   "file_extension": ".py",
   "mimetype": "text/x-python",
   "name": "python",
   "nbconvert_exporter": "python",
   "pygments_lexer": "ipython3",
   "version": "3.12.1"
  },
  "rise": {
   "enable_chalkboard": true,
   "scroll": true
  }
 },
 "nbformat": 4,
 "nbformat_minor": 5
}
