{
 "cells": [
  {
   "cell_type": "markdown",
   "id": "a45e7fde",
   "metadata": {
    "slideshow": {
     "slide_type": "slide"
    },
    "tags": [
     "hide_code"
    ]
   },
   "source": [
    "<center> \n",
    "\n",
    "# Functions, Conditionals, and Iteration\n",
    "\n",
    "## Dr. Lange - University of Chicago\n",
    "## Data 11800 - Winter 2024 \n",
    "\n",
    "<img src=\"https://raw.githubusercontent.com/amandakube/Data118LectureImages/main/UChicago_DSI.png\" alt=\"UC-DSI\" width=\"500\" height=\"600\">\n",
    "    \n",
    "</center>"
   ]
  },
  {
   "cell_type": "code",
   "execution_count": 4,
   "id": "0983b02c",
   "metadata": {
    "slideshow": {
     "slide_type": "skip"
    }
   },
   "outputs": [],
   "source": [
    "#import the basics!\n",
    "\n",
    "import numpy as np\n",
    "import pandas as pd"
   ]
  },
  {
   "cell_type": "markdown",
   "id": "0bc6a814",
   "metadata": {
    "slideshow": {
     "slide_type": "slide"
    }
   },
   "source": [
    "## Today\n",
    "\n",
    "* Functions\n",
    "* Conditionals\n",
    "* Iteration"
   ]
  },
  {
   "cell_type": "markdown",
   "id": "e6d7cda7",
   "metadata": {
    "slideshow": {
     "slide_type": "slide"
    }
   },
   "source": [
    "## Goals: \n",
    "\n",
    "- Functions \n",
    "    \n",
    "    - User defined functions\n",
    "\n",
    "    - How to apply them to DataFrames\n",
    "    \n",
    "- Conditionals\n",
    "\n",
    "    - if statements\n",
    "    \n",
    "- Iteration\n",
    "\n",
    "    - for loops\n",
    " "
   ]
  },
  {
   "cell_type": "markdown",
   "id": "19ecbc8c",
   "metadata": {
    "slideshow": {
     "slide_type": "slide"
    }
   },
   "source": [
    "## We have seen built-in functions"
   ]
  },
  {
   "cell_type": "markdown",
   "id": "282efe2a",
   "metadata": {
    "slideshow": {
     "slide_type": "fragment"
    }
   },
   "source": [
    "| Built-in Python Functions     | Description |\n",
    "| ----------- | ----------- |\n",
    "| print(...)      | Print function: Returns the output. |\n",
    "| max(...)      | Maximum function: Returns the maximum of the given inputs. |\n",
    "| min(...)   | Minimum function: Returns the maximum of the given inputs.  |\n",
    "| abs(...)     | Absolute value function: Returns the absolute value of the given input. |\n",
    "| round(...)   | Rounding function: Returns the rounded input. |\n",
    "| len(...)   | Length function: Returns the length of given input. |\n",
    "| type(...)   | Data Type function: Returns the datatype of the input. |"
   ]
  },
  {
   "cell_type": "markdown",
   "id": "e80b1fab",
   "metadata": {
    "slideshow": {
     "slide_type": "fragment"
    }
   },
   "source": [
    "We may want to repeat some process multiple times but there is no built-in function to rely on... \n"
   ]
  },
  {
   "cell_type": "markdown",
   "id": "00c9a317",
   "metadata": {
    "slideshow": {
     "slide_type": "slide"
    }
   },
   "source": [
    "## We can write our own functions!"
   ]
  },
  {
   "cell_type": "markdown",
   "id": "7431fd24",
   "metadata": {
    "slideshow": {
     "slide_type": "fragment"
    }
   },
   "source": [
    "Replacing multiple lines of code with a function allows seemless reuse of a process or computation."
   ]
  },
  {
   "cell_type": "markdown",
   "id": "99a501da",
   "metadata": {
    "slideshow": {
     "slide_type": "slide"
    }
   },
   "source": [
    "\n",
    "<img src=\"https://github.com/SusannaLange/Data_118_images/blob/main/DSSI_images/function_photo.png?raw=true\" width=\"800\">\n",
    "\n",
    "Photo Source: Data8 Textbook"
   ]
  },
  {
   "cell_type": "markdown",
   "id": "c60a09e0",
   "metadata": {
    "slideshow": {
     "slide_type": "slide"
    }
   },
   "source": [
    "## Let's explore this function"
   ]
  },
  {
   "cell_type": "code",
   "execution_count": null,
   "id": "425d549c",
   "metadata": {
    "slideshow": {
     "slide_type": "fragment"
    }
   },
   "outputs": [],
   "source": [
    "def double(x):\n",
    "    \"\"\"Double the input x\"\"\"\n",
    "    \n",
    "    y = 2*x\n",
    "    \n",
    "    return y   "
   ]
  },
  {
   "cell_type": "markdown",
   "id": "dcb6c49c",
   "metadata": {
    "slideshow": {
     "slide_type": "fragment"
    }
   },
   "source": [
    "Note, we need the return statement, otherwise nothing will be returned!\n",
    "\n",
    "The return statement\n",
    "\n",
    " \n",
    " - Immediately terminates the function \n",
    " \n",
    " \n",
    " - Allows for the output to be stored\n",
    " \n",
    "\n",
    "We haven't really computed anything yet, we've just **defined** the new function"
   ]
  },
  {
   "cell_type": "markdown",
   "id": "b7253056",
   "metadata": {
    "slideshow": {
     "slide_type": "fragment"
    }
   },
   "source": [
    "We've defined this function with the intent of a numerical input...but we can input whatever we want."
   ]
  },
  {
   "cell_type": "code",
   "execution_count": null,
   "id": "d8b24dec",
   "metadata": {
    "slideshow": {
     "slide_type": "fragment"
    }
   },
   "outputs": [],
   "source": [
    "double(3)"
   ]
  },
  {
   "cell_type": "code",
   "execution_count": null,
   "id": "3d38bf27",
   "metadata": {
    "slideshow": {
     "slide_type": "fragment"
    }
   },
   "outputs": [],
   "source": [
    "double(4.5)"
   ]
  },
  {
   "cell_type": "code",
   "execution_count": null,
   "id": "1640aae3",
   "metadata": {
    "slideshow": {
     "slide_type": "fragment"
    }
   },
   "outputs": [],
   "source": [
    "double('data')"
   ]
  },
  {
   "cell_type": "markdown",
   "id": "724c874d",
   "metadata": {
    "slideshow": {
     "slide_type": "slide"
    }
   },
   "source": [
    "## We can even double an expression or an array"
   ]
  },
  {
   "cell_type": "code",
   "execution_count": null,
   "id": "26026f91",
   "metadata": {
    "slideshow": {
     "slide_type": "fragment"
    }
   },
   "outputs": [],
   "source": [
    "double(np.array([1,2,3]))"
   ]
  },
  {
   "cell_type": "code",
   "execution_count": null,
   "id": "fbbc4e27",
   "metadata": {
    "slideshow": {
     "slide_type": "fragment"
    }
   },
   "outputs": [],
   "source": [
    "double(2*3)"
   ]
  },
  {
   "cell_type": "markdown",
   "id": "9b40edfe",
   "metadata": {
    "slideshow": {
     "slide_type": "slide"
    }
   },
   "source": [
    "### Importance of docstring!\n",
    "\n",
    "\n",
    "\n",
    "Documentation on what your function does \n",
    "\n",
    "\n",
    "It can contain: \n",
    "\n",
    " - arguments\n",
    " \n",
    " \n",
    " - function’s purpose\n",
    " \n",
    " \n",
    " - information about return values"
   ]
  },
  {
   "cell_type": "code",
   "execution_count": null,
   "id": "1f7363a0",
   "metadata": {
    "slideshow": {
     "slide_type": "fragment"
    }
   },
   "outputs": [],
   "source": [
    "help(double)"
   ]
  },
  {
   "cell_type": "markdown",
   "id": "4b4bd7c0",
   "metadata": {
    "slideshow": {
     "slide_type": "slide"
    }
   },
   "source": [
    "## Return vs print Discussion"
   ]
  },
  {
   "cell_type": "markdown",
   "id": "443d1a2a",
   "metadata": {
    "slideshow": {
     "slide_type": "fragment"
    }
   },
   "source": [
    "<mark style=\"background:Thistle;color:black\"> What's the difference between print and return?! </mark>"
   ]
  },
  {
   "cell_type": "markdown",
   "id": "95456b02",
   "metadata": {
    "slideshow": {
     "slide_type": "fragment"
    }
   },
   "source": [
    "Answer here"
   ]
  },
  {
   "cell_type": "markdown",
   "id": "51f292f3",
   "metadata": {
    "slideshow": {
     "slide_type": "slide"
    }
   },
   "source": [
    "Consider the following two functions:"
   ]
  },
  {
   "cell_type": "code",
   "execution_count": 2,
   "id": "1a66377f",
   "metadata": {
    "slideshow": {
     "slide_type": "fragment"
    }
   },
   "outputs": [],
   "source": [
    "def convert_temp(fahrenheit):\n",
    "    \"\"\"This function converts fahrenheit to celsius\"\"\"\n",
    "    \n",
    "    celsius = 5/9*(fahrenheit-32)\n",
    "    print(\"Hi, I'm in the function and celsius =\", celsius)\n",
    "    \n",
    "    return np.round(celsius,decimals=2)"
   ]
  },
  {
   "cell_type": "code",
   "execution_count": 1,
   "id": "f4c033cd",
   "metadata": {
    "slideshow": {
     "slide_type": "fragment"
    }
   },
   "outputs": [],
   "source": [
    "def convert_temp2(fahrenheit):\n",
    "    \"\"\"This function converts fahrenheit to celsius\"\"\"\n",
    "    \n",
    "    celsius = 5/9*(fahrenheit-32)\n",
    "    print(\"Hi, I'm in the function and celsius =\", celsius)\n",
    "    \n",
    "    print(np.round(celsius,decimals=2))"
   ]
  },
  {
   "cell_type": "markdown",
   "id": "de7b29f7",
   "metadata": {},
   "source": [
    "What is the difference between 'convert_temp' and 'convert_temp2'?\n",
    "Let's investigate."
   ]
  },
  {
   "cell_type": "code",
   "execution_count": 5,
   "id": "f0243160",
   "metadata": {
    "slideshow": {
     "slide_type": "fragment"
    }
   },
   "outputs": [
    {
     "name": "stdout",
     "output_type": "stream",
     "text": [
      "Hi, I'm in the function and celsius = 20.0\n"
     ]
    }
   ],
   "source": [
    "temp = convert_temp(68)"
   ]
  },
  {
   "cell_type": "code",
   "execution_count": 6,
   "id": "f9a7222c",
   "metadata": {
    "slideshow": {
     "slide_type": "fragment"
    }
   },
   "outputs": [
    {
     "name": "stdout",
     "output_type": "stream",
     "text": [
      "Hi, I'm in the function and celsius = 20.0\n",
      "20.0\n"
     ]
    }
   ],
   "source": [
    "temp2 = convert_temp2(68)"
   ]
  },
  {
   "cell_type": "code",
   "execution_count": 7,
   "id": "0cb03007",
   "metadata": {
    "slideshow": {
     "slide_type": "fragment"
    }
   },
   "outputs": [
    {
     "name": "stdout",
     "output_type": "stream",
     "text": [
      "20.0\n"
     ]
    }
   ],
   "source": [
    "print(temp)"
   ]
  },
  {
   "cell_type": "code",
   "execution_count": 8,
   "id": "02d37d07",
   "metadata": {
    "slideshow": {
     "slide_type": "fragment"
    }
   },
   "outputs": [
    {
     "name": "stdout",
     "output_type": "stream",
     "text": [
      "None\n"
     ]
    }
   ],
   "source": [
    "print(temp2)"
   ]
  },
  {
   "cell_type": "markdown",
   "id": "3e1b5232",
   "metadata": {
    "slideshow": {
     "slide_type": "slide"
    }
   },
   "source": [
    "## Name Scoping - what meaning do names have where? \n",
    "\n",
    "### INDENTATION matters in Python..."
   ]
  },
  {
   "cell_type": "markdown",
   "id": "23b3e0cc",
   "metadata": {
    "slideshow": {
     "slide_type": "slide"
    }
   },
   "source": [
    "**Important:** Variables defined inside function bodies are not visible outside the function"
   ]
  },
  {
   "cell_type": "code",
   "execution_count": null,
   "id": "500d7107",
   "metadata": {},
   "outputs": [],
   "source": [
    "def convert_temp(fahrenheit):\n",
    "    \"\"\"This function converts fahrenheit to celsius\"\"\"\n",
    "    \n",
    "    celsius = 5/9*(fahrenheit-32)\n",
    "    print(\"Hi, I'm in the function and celsius =\", celsius)\n",
    "    \n",
    "    return np.round(celsius,decimals=2)"
   ]
  },
  {
   "cell_type": "code",
   "execution_count": null,
   "id": "5d411519",
   "metadata": {},
   "outputs": [],
   "source": [
    "celsius"
   ]
  },
  {
   "cell_type": "markdown",
   "id": "a24eec91",
   "metadata": {
    "slideshow": {
     "slide_type": "fragment"
    }
   },
   "source": [
    "Where different variables are defined is called *scoping* in programming languages.\n",
    "\n",
    "In general, you want to be thoughtful with your variable and function naming"
   ]
  },
  {
   "cell_type": "markdown",
   "id": "7f4ae662",
   "metadata": {},
   "source": [
    "Variables defined outside of functions are known as **global variables**, while variables inside of functions are **local variables**. In general you should refrain from directly referring to global variables inside of a function. However, it is possible."
   ]
  },
  {
   "cell_type": "markdown",
   "id": "fdbcb347",
   "metadata": {},
   "source": [
    "In contrast, once a function is called, any local variables are gone forever. (Unless you return them)."
   ]
  },
  {
   "cell_type": "code",
   "execution_count": null,
   "id": "d9aa9020",
   "metadata": {
    "slideshow": {
     "slide_type": "fragment"
    }
   },
   "outputs": [],
   "source": [
    "#In fact, you can reuse the name outside of the function and it is a different variable\n",
    "celsius = \"Hi, I'm a string!\"\n",
    "\n",
    "print('The result of the function is:', convert_temp(68), '\\n')\n",
    "print('The value of celsius outside the function is:', celsius)"
   ]
  },
  {
   "cell_type": "markdown",
   "id": "7d27bbb7",
   "metadata": {
    "slideshow": {
     "slide_type": "slide"
    }
   },
   "source": [
    "### Now that we've defined our own function..."
   ]
  },
  {
   "cell_type": "code",
   "execution_count": null,
   "id": "1f75c362",
   "metadata": {
    "slideshow": {
     "slide_type": "fragment"
    }
   },
   "outputs": [],
   "source": [
    "help(convert_temp)"
   ]
  },
  {
   "cell_type": "markdown",
   "id": "069b3dcf",
   "metadata": {
    "slideshow": {
     "slide_type": "fragment"
    }
   },
   "source": [
    "We can call the help (built-in function) on any function we create!!! It gives us the docstring we wrote."
   ]
  },
  {
   "cell_type": "markdown",
   "id": "06aa806c",
   "metadata": {
    "slideshow": {
     "slide_type": "slide"
    }
   },
   "source": [
    "### Let's try another example. Here we write a function that takes two values as input (two arguments)."
   ]
  },
  {
   "cell_type": "code",
   "execution_count": null,
   "id": "5af76ce7",
   "metadata": {
    "slideshow": {
     "slide_type": "fragment"
    }
   },
   "outputs": [],
   "source": [
    "def register_class(Student_ID, class_name):\n",
    "    \"\"\"Takes Student_ID and class_name as input,\n",
    "    Returns a message about registration\"\"\"\n",
    "    \n",
    "    message = \"Thank you student with ID:\" \\\n",
    "                + str(Student_ID) + \" for registering for \"\\\n",
    "                + str(class_name)\n",
    "    \n",
    "    return message"
   ]
  },
  {
   "cell_type": "code",
   "execution_count": null,
   "id": "4c17de61",
   "metadata": {
    "slideshow": {
     "slide_type": "fragment"
    }
   },
   "outputs": [],
   "source": [
    "register_class(12345, 'Calculus')"
   ]
  },
  {
   "cell_type": "code",
   "execution_count": null,
   "id": "27cd314f",
   "metadata": {
    "slideshow": {
     "slide_type": "fragment"
    }
   },
   "outputs": [],
   "source": [
    "register_class(12345, 'Introduction to Statistics')"
   ]
  },
  {
   "cell_type": "markdown",
   "id": "7b8cfeba",
   "metadata": {
    "slideshow": {
     "slide_type": "slide"
    }
   },
   "source": [
    "### Note order does matter when calling a function!!"
   ]
  },
  {
   "cell_type": "code",
   "execution_count": null,
   "id": "463d0f59",
   "metadata": {
    "slideshow": {
     "slide_type": "fragment"
    }
   },
   "outputs": [],
   "source": [
    "register_class('Calculus', 12345)"
   ]
  },
  {
   "cell_type": "markdown",
   "id": "581c0478",
   "metadata": {
    "slideshow": {
     "slide_type": "fragment"
    }
   },
   "source": [
    "We can also call the function by being explicit about the arguments"
   ]
  },
  {
   "cell_type": "code",
   "execution_count": null,
   "id": "2696d2ac",
   "metadata": {
    "slideshow": {
     "slide_type": "fragment"
    }
   },
   "outputs": [],
   "source": [
    "register_class(Student_ID = 12345, class_name = \"Calculus\")"
   ]
  },
  {
   "cell_type": "markdown",
   "id": "20a4ca35",
   "metadata": {
    "slideshow": {
     "slide_type": "fragment"
    }
   },
   "source": [
    "If we do this, we can switch around the order in the argument."
   ]
  },
  {
   "cell_type": "code",
   "execution_count": null,
   "id": "5b6adff8",
   "metadata": {
    "slideshow": {
     "slide_type": "fragment"
    }
   },
   "outputs": [],
   "source": [
    "register_class(class_name = \"Calculus\", Student_ID = 12345)"
   ]
  },
  {
   "cell_type": "markdown",
   "id": "993c553b",
   "metadata": {
    "slideshow": {
     "slide_type": "fragment"
    }
   },
   "source": [
    "Note: the function as written *requires* two arguments"
   ]
  },
  {
   "cell_type": "code",
   "execution_count": null,
   "id": "bacc980a",
   "metadata": {
    "slideshow": {
     "slide_type": "fragment"
    }
   },
   "outputs": [],
   "source": [
    "register_class(class_name = \"Calculus\")"
   ]
  },
  {
   "cell_type": "markdown",
   "id": "da59debe",
   "metadata": {
    "slideshow": {
     "slide_type": "slide"
    }
   },
   "source": [
    "## Making default arguments in our functions!"
   ]
  },
  {
   "cell_type": "markdown",
   "id": "d45b3c6c",
   "metadata": {
    "slideshow": {
     "slide_type": "fragment"
    }
   },
   "source": [
    "How do we do this for our own functions?"
   ]
  },
  {
   "cell_type": "markdown",
   "id": "e8065c2b",
   "metadata": {
    "slideshow": {
     "slide_type": "fragment"
    }
   },
   "source": [
    "By assigning the variable in the function definition."
   ]
  },
  {
   "cell_type": "code",
   "execution_count": 9,
   "id": "9d4a5921",
   "metadata": {
    "slideshow": {
     "slide_type": "fragment"
    }
   },
   "outputs": [],
   "source": [
    "def register_class(Student_ID, class_name = 'Calculus'):\n",
    "    \"\"\"Takes Student_ID and class_name as input,\n",
    "    Returns a message about registration\"\"\"\n",
    "    \n",
    "    message = \"Thank you student with ID:\" \\\n",
    "                + str(Student_ID) + \" for registering for \"\\\n",
    "                + str(class_name)\n",
    "    \n",
    "    return message"
   ]
  },
  {
   "cell_type": "markdown",
   "id": "6c83f8fa",
   "metadata": {
    "slideshow": {
     "slide_type": "fragment"
    }
   },
   "source": [
    "Now we can call this function with one or two arguments."
   ]
  },
  {
   "cell_type": "code",
   "execution_count": null,
   "id": "6431d2bb",
   "metadata": {
    "slideshow": {
     "slide_type": "fragment"
    }
   },
   "outputs": [],
   "source": [
    "register_class(12345)"
   ]
  },
  {
   "cell_type": "code",
   "execution_count": null,
   "id": "343324c4",
   "metadata": {
    "slideshow": {
     "slide_type": "fragment"
    }
   },
   "outputs": [],
   "source": [
    "register_class(12345, 'math')"
   ]
  },
  {
   "cell_type": "markdown",
   "id": "56d037bd",
   "metadata": {
    "slideshow": {
     "slide_type": "slide"
    }
   },
   "source": [
    "Calling the help function on your function allows you to see the default settings"
   ]
  },
  {
   "cell_type": "code",
   "execution_count": 10,
   "id": "0a6f425e",
   "metadata": {
    "slideshow": {
     "slide_type": "fragment"
    }
   },
   "outputs": [
    {
     "name": "stdout",
     "output_type": "stream",
     "text": [
      "Help on function register_class in module __main__:\n",
      "\n",
      "register_class(Student_ID, class_name='Calculus')\n",
      "    Takes Student_ID and class_name as input,\n",
      "    Returns a message about registration\n",
      "\n"
     ]
    }
   ],
   "source": [
    "help(register_class)"
   ]
  },
  {
   "cell_type": "markdown",
   "id": "c536d53d",
   "metadata": {
    "slideshow": {
     "slide_type": "slide"
    }
   },
   "source": [
    "### <mark style=\"background-color: Thistle\"> Code comprehension - Multiple Choice</mark>"
   ]
  },
  {
   "cell_type": "markdown",
   "id": "d96b8896",
   "metadata": {
    "slideshow": {
     "slide_type": "slide"
    }
   },
   "source": [
    "## Now we can build our own functions, but how do we apply them to DataFrames?"
   ]
  },
  {
   "cell_type": "markdown",
   "id": "c24ca558",
   "metadata": {},
   "source": [
    "Let's define a function that replaces any numbers greater than 100 with 100"
   ]
  },
  {
   "cell_type": "code",
   "execution_count": 1,
   "id": "dcbea449",
   "metadata": {
    "slideshow": {
     "slide_type": "fragment"
    }
   },
   "outputs": [],
   "source": [
    "def cut_off(age):\n",
    "    '''returns min of input and age'''\n",
    "    return min(age, 100)"
   ]
  },
  {
   "cell_type": "code",
   "execution_count": 2,
   "id": "496c1309",
   "metadata": {
    "slideshow": {
     "slide_type": "fragment"
    }
   },
   "outputs": [
    {
     "name": "stdout",
     "output_type": "stream",
     "text": [
      "adjusted age of 70 is: 70\n",
      "adjusted age of 170 is: 100\n"
     ]
    }
   ],
   "source": [
    "print('adjusted age of 70 is:', cut_off(70))\n",
    "print('adjusted age of 170 is:', cut_off(170))"
   ]
  },
  {
   "cell_type": "markdown",
   "id": "25d036dc",
   "metadata": {
    "slideshow": {
     "slide_type": "slide"
    }
   },
   "source": [
    "Create a DataFrame"
   ]
  },
  {
   "cell_type": "code",
   "execution_count": 5,
   "id": "c8dfff25",
   "metadata": {
    "slideshow": {
     "slide_type": "fragment"
    }
   },
   "outputs": [
    {
     "data": {
      "text/html": [
       "<div>\n",
       "<style scoped>\n",
       "    .dataframe tbody tr th:only-of-type {\n",
       "        vertical-align: middle;\n",
       "    }\n",
       "\n",
       "    .dataframe tbody tr th {\n",
       "        vertical-align: top;\n",
       "    }\n",
       "\n",
       "    .dataframe thead th {\n",
       "        text-align: right;\n",
       "    }\n",
       "</style>\n",
       "<table border=\"1\" class=\"dataframe\">\n",
       "  <thead>\n",
       "    <tr style=\"text-align: right;\">\n",
       "      <th></th>\n",
       "      <th>Person</th>\n",
       "      <th>Age</th>\n",
       "    </tr>\n",
       "  </thead>\n",
       "  <tbody>\n",
       "    <tr>\n",
       "      <th>0</th>\n",
       "      <td>A</td>\n",
       "      <td>63</td>\n",
       "    </tr>\n",
       "    <tr>\n",
       "      <th>1</th>\n",
       "      <td>B</td>\n",
       "      <td>101</td>\n",
       "    </tr>\n",
       "    <tr>\n",
       "      <th>2</th>\n",
       "      <td>C</td>\n",
       "      <td>99</td>\n",
       "    </tr>\n",
       "    <tr>\n",
       "      <th>3</th>\n",
       "      <td>D</td>\n",
       "      <td>102</td>\n",
       "    </tr>\n",
       "  </tbody>\n",
       "</table>\n",
       "</div>"
      ],
      "text/plain": [
       "  Person  Age\n",
       "0      A   63\n",
       "1      B  101\n",
       "2      C   99\n",
       "3      D  102"
      ]
     },
     "execution_count": 5,
     "metadata": {},
     "output_type": "execute_result"
    }
   ],
   "source": [
    "ages = pd.DataFrame(\n",
    "    {'Person': np.array(['A', 'B', 'C', 'D']),\n",
    "    'Age': np.array([63, 101, 99, 102])}\n",
    ")\n",
    "ages"
   ]
  },
  {
   "cell_type": "markdown",
   "id": "03a02297",
   "metadata": {
    "slideshow": {
     "slide_type": "slide"
    }
   },
   "source": [
    "### Using \"apply()\" on a single column\n",
    "\n",
    "Provide the function name and the column on which to apply the function\n",
    "\n",
    "`apply()` returns a Series"
   ]
  },
  {
   "cell_type": "code",
   "execution_count": 6,
   "id": "a93a8af4",
   "metadata": {
    "slideshow": {
     "slide_type": "fragment"
    }
   },
   "outputs": [
    {
     "data": {
      "text/plain": [
       "0     63\n",
       "1    100\n",
       "2     99\n",
       "3    100\n",
       "Name: Age, dtype: int64"
      ]
     },
     "execution_count": 6,
     "metadata": {},
     "output_type": "execute_result"
    }
   ],
   "source": [
    "ages['Age'].apply(cut_off)"
   ]
  },
  {
   "cell_type": "markdown",
   "id": "6e249f70",
   "metadata": {
    "slideshow": {
     "slide_type": "slide"
    }
   },
   "source": [
    "Note, it is often good practice to retain the original data when you are modifying it for further analysis (so you don't lose data that may be useful in the future and you have a record of what you did.)\n",
    "\n",
    "If you want to augment the table you need to do so explicitly"
   ]
  },
  {
   "cell_type": "code",
   "execution_count": 7,
   "id": "c119662e",
   "metadata": {},
   "outputs": [
    {
     "data": {
      "text/html": [
       "<div>\n",
       "<style scoped>\n",
       "    .dataframe tbody tr th:only-of-type {\n",
       "        vertical-align: middle;\n",
       "    }\n",
       "\n",
       "    .dataframe tbody tr th {\n",
       "        vertical-align: top;\n",
       "    }\n",
       "\n",
       "    .dataframe thead th {\n",
       "        text-align: right;\n",
       "    }\n",
       "</style>\n",
       "<table border=\"1\" class=\"dataframe\">\n",
       "  <thead>\n",
       "    <tr style=\"text-align: right;\">\n",
       "      <th></th>\n",
       "      <th>Person</th>\n",
       "      <th>Age</th>\n",
       "    </tr>\n",
       "  </thead>\n",
       "  <tbody>\n",
       "    <tr>\n",
       "      <th>0</th>\n",
       "      <td>A</td>\n",
       "      <td>63</td>\n",
       "    </tr>\n",
       "    <tr>\n",
       "      <th>1</th>\n",
       "      <td>B</td>\n",
       "      <td>101</td>\n",
       "    </tr>\n",
       "    <tr>\n",
       "      <th>2</th>\n",
       "      <td>C</td>\n",
       "      <td>99</td>\n",
       "    </tr>\n",
       "    <tr>\n",
       "      <th>3</th>\n",
       "      <td>D</td>\n",
       "      <td>102</td>\n",
       "    </tr>\n",
       "  </tbody>\n",
       "</table>\n",
       "</div>"
      ],
      "text/plain": [
       "  Person  Age\n",
       "0      A   63\n",
       "1      B  101\n",
       "2      C   99\n",
       "3      D  102"
      ]
     },
     "execution_count": 7,
     "metadata": {},
     "output_type": "execute_result"
    }
   ],
   "source": [
    "ages"
   ]
  },
  {
   "cell_type": "code",
   "execution_count": 8,
   "id": "d74a4831",
   "metadata": {
    "slideshow": {
     "slide_type": "fragment"
    }
   },
   "outputs": [
    {
     "data": {
      "text/html": [
       "<div>\n",
       "<style scoped>\n",
       "    .dataframe tbody tr th:only-of-type {\n",
       "        vertical-align: middle;\n",
       "    }\n",
       "\n",
       "    .dataframe tbody tr th {\n",
       "        vertical-align: top;\n",
       "    }\n",
       "\n",
       "    .dataframe thead th {\n",
       "        text-align: right;\n",
       "    }\n",
       "</style>\n",
       "<table border=\"1\" class=\"dataframe\">\n",
       "  <thead>\n",
       "    <tr style=\"text-align: right;\">\n",
       "      <th></th>\n",
       "      <th>Person</th>\n",
       "      <th>Age</th>\n",
       "      <th>AgeCutoff</th>\n",
       "    </tr>\n",
       "  </thead>\n",
       "  <tbody>\n",
       "    <tr>\n",
       "      <th>0</th>\n",
       "      <td>A</td>\n",
       "      <td>63</td>\n",
       "      <td>63</td>\n",
       "    </tr>\n",
       "    <tr>\n",
       "      <th>1</th>\n",
       "      <td>B</td>\n",
       "      <td>101</td>\n",
       "      <td>100</td>\n",
       "    </tr>\n",
       "    <tr>\n",
       "      <th>2</th>\n",
       "      <td>C</td>\n",
       "      <td>99</td>\n",
       "      <td>99</td>\n",
       "    </tr>\n",
       "    <tr>\n",
       "      <th>3</th>\n",
       "      <td>D</td>\n",
       "      <td>102</td>\n",
       "      <td>100</td>\n",
       "    </tr>\n",
       "  </tbody>\n",
       "</table>\n",
       "</div>"
      ],
      "text/plain": [
       "  Person  Age  AgeCutoff\n",
       "0      A   63         63\n",
       "1      B  101        100\n",
       "2      C   99         99\n",
       "3      D  102        100"
      ]
     },
     "execution_count": 8,
     "metadata": {},
     "output_type": "execute_result"
    }
   ],
   "source": [
    "ages['AgeCutoff'] = ages['Age'].apply(cut_off)\n",
    "ages"
   ]
  },
  {
   "cell_type": "markdown",
   "id": "58dbe88b",
   "metadata": {
    "slideshow": {
     "slide_type": "slide"
    }
   },
   "source": [
    "When applying functions to dataframes it is sometimes useful to use \"anonymous\" (unnamed) functions.   \n",
    "\n",
    "These are called **\"lambda functions\".**\n",
    "\n",
    "Note, lambda functions are also handy for impressing friends and family!\n"
   ]
  },
  {
   "cell_type": "markdown",
   "id": "c6f3b8be",
   "metadata": {
    "slideshow": {
     "slide_type": "fragment"
    }
   },
   "source": [
    "Here's the above example done with a lambda function. Note this has the advantage of not having to save the cutoff function as above."
   ]
  },
  {
   "cell_type": "code",
   "execution_count": null,
   "id": "668c0291",
   "metadata": {
    "slideshow": {
     "slide_type": "fragment"
    }
   },
   "outputs": [],
   "source": [
    "ages.Age.apply(lambda x: min(x,100))"
   ]
  },
  {
   "cell_type": "markdown",
   "id": "de82c7c8",
   "metadata": {
    "slideshow": {
     "slide_type": "fragment"
    }
   },
   "source": [
    "In the above example, the `x` variable is bound to each value in the `Age` column because we called it on `ages.Age`"
   ]
  },
  {
   "cell_type": "markdown",
   "id": "68034c0f",
   "metadata": {},
   "source": [
    "Note there's really very little different between lambda functions and the ordinary functions we've been defining. In fact, one could theoretically define a function using lambda functions."
   ]
  },
  {
   "cell_type": "code",
   "execution_count": null,
   "id": "09afbc4a",
   "metadata": {},
   "outputs": [],
   "source": [
    "double = (lambda x: x*2)\n",
    "double(4)"
   ]
  },
  {
   "cell_type": "markdown",
   "id": "a2cef559",
   "metadata": {},
   "source": [
    "Though you should avoid doing this in part because often you will use a function many times."
   ]
  },
  {
   "cell_type": "markdown",
   "id": "99091735",
   "metadata": {},
   "source": [
    "One limitation lambda functions do not have is single inputs."
   ]
  },
  {
   "cell_type": "code",
   "execution_count": null,
   "id": "3fa1ee2c",
   "metadata": {},
   "outputs": [],
   "source": [
    "mult = (lambda x,y: x*y)\n",
    "mult(3,7)"
   ]
  },
  {
   "cell_type": "markdown",
   "id": "0090a6a1",
   "metadata": {
    "slideshow": {
     "slide_type": "slide"
    }
   },
   "source": [
    "With lambda functions we can also have the variable bind to entire rows.  This is useful when your functions need to access multiple columns.\n",
    "\n",
    "Note that we have to use `axis=\"columns\"` (or `axis = 1`) so that the lambda function is applied to each row."
   ]
  },
  {
   "cell_type": "code",
   "execution_count": null,
   "id": "9bea0273",
   "metadata": {
    "slideshow": {
     "slide_type": "fragment"
    }
   },
   "outputs": [],
   "source": [
    "ages['NewDiff'] = ages.apply(lambda x: x.Age - x.AgeCutoff, axis='columns')                         \n",
    "ages"
   ]
  },
  {
   "cell_type": "code",
   "execution_count": null,
   "id": "0da0b6eb",
   "metadata": {},
   "outputs": [],
   "source": [
    "ages['Average'] = ages.apply(lambda x: min(x.Age, x.AgeCutoff), axis='columns')                         \n",
    "ages"
   ]
  },
  {
   "cell_type": "markdown",
   "id": "ab867053",
   "metadata": {
    "slideshow": {
     "slide_type": "slide"
    }
   },
   "source": [
    "Description of \"axis\" from the python documentation\n",
    "\n",
    "**axis**: *{0 or 'index', 1 or 'columns'}, default 0*\n",
    "<br>\n",
    "Axis along which the function is applied:\n",
    "- 0 or 'index': apply function to each column.\n",
    "- 1 or 'columns': apply function to each row."
   ]
  },
  {
   "cell_type": "markdown",
   "id": "533a8247",
   "metadata": {
    "slideshow": {
     "slide_type": "slide"
    }
   },
   "source": [
    "### <mark style=\"background-color: Thistle\"> Code comprehension - Your Turn</mark>\n",
    "\n",
    "Define a function that takes two inputs x and y and return the value \n",
    "$$x^2+5y$$\n",
    "\n",
    "The default value of y should be -1.\n",
    "\n",
    "Call this function my_function.\n",
    "\n",
    "Test your function by calling my_function(2,6) and my_function(5)"
   ]
  },
  {
   "cell_type": "code",
   "execution_count": null,
   "id": "14ff263b",
   "metadata": {},
   "outputs": [],
   "source": [
    "#your function here"
   ]
  },
  {
   "cell_type": "markdown",
   "id": "8502697a",
   "metadata": {
    "slideshow": {
     "slide_type": "slide"
    }
   },
   "source": [
    "## Conditional Statements"
   ]
  },
  {
   "cell_type": "markdown",
   "id": "2efaee5f",
   "metadata": {
    "slideshow": {
     "slide_type": "fragment"
    }
   },
   "source": [
    "There are some situations where we want to proceed with a task or perform an action dependent on whether a certain condition, or perhaps conditions, have been satisfied."
   ]
  },
  {
   "cell_type": "markdown",
   "id": "8ef2232f",
   "metadata": {
    "slideshow": {
     "slide_type": "fragment"
    }
   },
   "source": [
    "Conditional statements have the form of an \"if-then\" statement *if* statement `P`, the hypothesis, occurs, *then* statement `Q`, the conclusion, also occurs.\n"
   ]
  },
  {
   "cell_type": "markdown",
   "id": "cf43eb49",
   "metadata": {
    "slideshow": {
     "slide_type": "slide"
    }
   },
   "source": [
    "How do we write this in code? We utilize the `if` expression in Python.\n",
    "\n",
    "The statement below will execute the indented block *conclusion*, if the *hypothesis* is true; otherwise, if *hypothesis* is not true, then the indented block is ignored:\n",
    "\n",
    "```python\n",
    "if hypothesis:\n",
    "    conclusion\n",
    "```"
   ]
  },
  {
   "cell_type": "code",
   "execution_count": null,
   "id": "6d990f2f",
   "metadata": {
    "slideshow": {
     "slide_type": "fragment"
    }
   },
   "outputs": [],
   "source": [
    "x=2\n",
    "\n",
    "if x > 0:\n",
    "    print('Positive')"
   ]
  },
  {
   "cell_type": "code",
   "execution_count": null,
   "id": "8a7ef527",
   "metadata": {
    "slideshow": {
     "slide_type": "fragment"
    }
   },
   "outputs": [],
   "source": [
    "x = -6\n",
    "if x > 0:\n",
    "    print('Positive')"
   ]
  },
  {
   "cell_type": "markdown",
   "id": "e0351fce",
   "metadata": {
    "slideshow": {
     "slide_type": "slide"
    }
   },
   "source": [
    "If we want this to output something when we enter a negative number we can do the following:"
   ]
  },
  {
   "cell_type": "code",
   "execution_count": null,
   "id": "64094393",
   "metadata": {
    "slideshow": {
     "slide_type": "fragment"
    }
   },
   "outputs": [],
   "source": [
    "x = -6\n",
    "\n",
    "if x > 0:\n",
    "    print('Positive')\n",
    "    \n",
    "if x < 0:\n",
    "    print('Negative')"
   ]
  },
  {
   "cell_type": "markdown",
   "id": "2cdd9a7b",
   "metadata": {
    "slideshow": {
     "slide_type": "fragment"
    }
   },
   "source": [
    "What happens in the above code block, the first if condition is tested, and then the next if condition is tested."
   ]
  },
  {
   "cell_type": "markdown",
   "id": "ebf0093a",
   "metadata": {
    "slideshow": {
     "slide_type": "slide"
    }
   },
   "source": [
    "### We can use `elif` statement instead.\n",
    "\n",
    "Used in combination with an `if` expression, an `elif` statement is only checked if all previous statements evaluate to False. This allows us to check if our first condition is true, otherwise we move to evaluate the truth value of the next statement."
   ]
  },
  {
   "cell_type": "code",
   "execution_count": null,
   "id": "9397949a",
   "metadata": {},
   "outputs": [],
   "source": [
    "if x > 0:\n",
    "    print('Positive')\n",
    "    \n",
    "elif x < 0:\n",
    "    print('Negative')"
   ]
  },
  {
   "cell_type": "markdown",
   "id": "9d8d7fc4",
   "metadata": {
    "slideshow": {
     "slide_type": "fragment"
    }
   },
   "source": [
    "We haven't addressed all possibilities! What happens when we enter 0? Let's redefine the function to have an option in each case."
   ]
  },
  {
   "cell_type": "code",
   "execution_count": null,
   "id": "f37a42a9",
   "metadata": {
    "slideshow": {
     "slide_type": "fragment"
    }
   },
   "outputs": [],
   "source": [
    "x=0\n",
    "\n",
    "if x > 0:\n",
    "    print('Positive')\n",
    "    \n",
    "elif x < 0:\n",
    "    print('Negative')    "
   ]
  },
  {
   "cell_type": "markdown",
   "id": "a148bab6",
   "metadata": {},
   "source": [
    "To address this we can add another condition."
   ]
  },
  {
   "cell_type": "code",
   "execution_count": null,
   "id": "6aa01914",
   "metadata": {
    "slideshow": {
     "slide_type": "fragment"
    }
   },
   "outputs": [],
   "source": [
    "if x > 0:\n",
    "    print('Positive')\n",
    "    \n",
    "elif x < 0:\n",
    "    print('Negative')  \n",
    "    \n",
    "elif x == 0:\n",
    "    print('Neither positive nor negative')"
   ]
  },
  {
   "cell_type": "markdown",
   "id": "74a45bb6",
   "metadata": {
    "slideshow": {
     "slide_type": "slide"
    }
   },
   "source": [
    "## Else statement"
   ]
  },
  {
   "cell_type": "markdown",
   "id": "bf5b2bb4",
   "metadata": {
    "slideshow": {
     "slide_type": "fragment"
    }
   },
   "source": [
    "In an `elif` statement each condition is checked until a condition is true. Often we can replace the last `elif` statement with an `else` statement, whose body will be executed only if all the previous comparisons are false."
   ]
  },
  {
   "cell_type": "markdown",
   "id": "6b5df66a",
   "metadata": {
    "slideshow": {
     "slide_type": "fragment"
    }
   },
   "source": [
    "At this point, all other conditions have been evaluated and none executed. Thus, there is no condition or hypothesis associated with the `else` statement. If it is reached, the conclusion of the `else` statement is executed."
   ]
  },
  {
   "cell_type": "code",
   "execution_count": null,
   "id": "77e6ad36",
   "metadata": {
    "slideshow": {
     "slide_type": "fragment"
    }
   },
   "outputs": [],
   "source": [
    "if x > 0:\n",
    "    print('Positive')\n",
    "    \n",
    "elif x < 0:\n",
    "    print('Negative')  \n",
    "    \n",
    "else:\n",
    "    print('Neither positive nor negative')\n"
   ]
  },
  {
   "cell_type": "code",
   "execution_count": null,
   "id": "1d5a32ff",
   "metadata": {
    "slideshow": {
     "slide_type": "fragment"
    }
   },
   "outputs": [],
   "source": [
    "x = 0  \n",
    "if x > 0:\n",
    "    print('Positive')\n",
    "    \n",
    "elif x < 0:\n",
    "    print('Negative')  \n",
    "    \n",
    "else:\n",
    "    print('Neither positive nor negative')\n"
   ]
  },
  {
   "cell_type": "markdown",
   "id": "83b7ed07",
   "metadata": {
    "slideshow": {
     "slide_type": "slide"
    }
   },
   "source": [
    "## The General Format"
   ]
  },
  {
   "cell_type": "markdown",
   "id": "2372960c",
   "metadata": {
    "slideshow": {
     "slide_type": "fragment"
    }
   },
   "source": [
    "\n",
    "```python\n",
    "if hypothesis_1:\n",
    "    conclusion_1\n",
    "else:\n",
    "    conclusion_2\n",
    "```\n",
    "    \n",
    "Or we could have $n+1$ conclusions for a chosen $n$ in which case we have the format:\n",
    "    \n",
    "```python\n",
    "if hypothesis_1:\n",
    "    conclusion_1\n",
    "elif hypothesis_2:\n",
    "    conclusion_2\n",
    "... \n",
    "elif hypothesis_n:\n",
    "    conclusion_n\n",
    "else:\n",
    "    conclusion    \n",
    "```    "
   ]
  },
  {
   "cell_type": "markdown",
   "id": "10ff572d",
   "metadata": {
    "slideshow": {
     "slide_type": "fragment"
    }
   },
   "source": [
    "BE CAREFUL!!!  Since the `else` statement is executed without checking a condition, you want to be absolutely certain that all desired possibilies are accounted for in the previous condition(s)."
   ]
  },
  {
   "cell_type": "code",
   "execution_count": null,
   "id": "f58315ba",
   "metadata": {},
   "outputs": [],
   "source": [
    "def sign(x):\n",
    "    '''returns if a number is positive or negative'''\n",
    "    if x > 0:\n",
    "        return('Positive')\n",
    "    \n",
    "    elif x < 0:\n",
    "        return('Negative')  \n",
    "    \n",
    "    else:\n",
    "        return('Neither positive nor negative')"
   ]
  },
  {
   "cell_type": "code",
   "execution_count": null,
   "id": "61265961",
   "metadata": {},
   "outputs": [],
   "source": [
    "ages['Sign'] = ages['Age'].apply(sign)                         \n",
    "ages"
   ]
  },
  {
   "cell_type": "markdown",
   "id": "2e542933",
   "metadata": {
    "slideshow": {
     "slide_type": "slide"
    }
   },
   "source": [
    "## For Statements"
   ]
  },
  {
   "cell_type": "markdown",
   "id": "9a58d9e3",
   "metadata": {
    "slideshow": {
     "slide_type": "fragment"
    }
   },
   "source": [
    "Repeat code a specified number of times (called iteration)"
   ]
  },
  {
   "cell_type": "markdown",
   "id": "cdd7fed0",
   "metadata": {
    "slideshow": {
     "slide_type": "fragment"
    }
   },
   "source": [
    "`for` iterates over the contents of a list (or an array, or a series...)\n",
    "Remember - indentation matters...\n",
    "\n",
    "\n",
    "```python\n",
    "for item in sequence:\n",
    "    action    \n",
    "```"
   ]
  },
  {
   "cell_type": "markdown",
   "id": "8bbe04df",
   "metadata": {
    "slideshow": {
     "slide_type": "fragment"
    }
   },
   "source": [
    "And for each of the *items* in *sequence* the indented body of the `for` statement is executed (here \"action\").\n",
    "\n",
    " – or the indented body is \"looped\" – "
   ]
  },
  {
   "cell_type": "markdown",
   "id": "dcedb78b",
   "metadata": {
    "slideshow": {
     "slide_type": "slide"
    }
   },
   "source": [
    "## An example"
   ]
  },
  {
   "cell_type": "code",
   "execution_count": null,
   "id": "d7ff464b",
   "metadata": {
    "slideshow": {
     "slide_type": "fragment"
    }
   },
   "outputs": [],
   "source": [
    "list_of_things= [\"red\", 2, 7.3, \"dog\"]\n",
    "\n",
    "for element in list_of_things:\n",
    "    print(element)"
   ]
  },
  {
   "cell_type": "markdown",
   "id": "81086430",
   "metadata": {
    "slideshow": {
     "slide_type": "fragment"
    }
   },
   "source": [
    "We chose the *iterator* element, but we could choose anything we want."
   ]
  },
  {
   "cell_type": "code",
   "execution_count": null,
   "id": "ecb5b20d",
   "metadata": {
    "slideshow": {
     "slide_type": "fragment"
    }
   },
   "outputs": [],
   "source": [
    "for i in list_of_things:\n",
    "    print(i)"
   ]
  },
  {
   "cell_type": "markdown",
   "id": "c12df217",
   "metadata": {
    "slideshow": {
     "slide_type": "slide"
    }
   },
   "source": [
    "### What can we iterate over?"
   ]
  },
  {
   "cell_type": "markdown",
   "id": "9ad03005",
   "metadata": {
    "slideshow": {
     "slide_type": "fragment"
    }
   },
   "source": [
    "Some common things:\n",
    "\n",
    "- list\n",
    "     - `['item1', 'item2']`\n",
    " \n",
    " - array\n",
    "     - `np.arange(10)`\n",
    "     \n",
    "     - `np.array([2,4,6,8])`\n",
    "     "
   ]
  },
  {
   "cell_type": "code",
   "execution_count": null,
   "id": "d0289595",
   "metadata": {
    "slideshow": {
     "slide_type": "fragment"
    }
   },
   "outputs": [],
   "source": [
    "for i in [1,2,3]:\n",
    "    print(i)"
   ]
  },
  {
   "cell_type": "markdown",
   "id": "4796e121",
   "metadata": {
    "slideshow": {
     "slide_type": "fragment"
    }
   },
   "source": [
    "We could also specify a *range* of values"
   ]
  },
  {
   "cell_type": "code",
   "execution_count": null,
   "id": "5c8b0ed1",
   "metadata": {
    "slideshow": {
     "slide_type": "fragment"
    }
   },
   "outputs": [],
   "source": [
    "for i in np.arange(3): \n",
    "    print(i)"
   ]
  },
  {
   "cell_type": "code",
   "execution_count": null,
   "id": "a7433cab",
   "metadata": {
    "slideshow": {
     "slide_type": "fragment"
    }
   },
   "outputs": [],
   "source": [
    "for i in np.arange(1,3): #we could choose the starting and ending values here too.\n",
    "    print(i)"
   ]
  },
  {
   "cell_type": "markdown",
   "id": "ebb3bc38",
   "metadata": {
    "slideshow": {
     "slide_type": "fragment"
    }
   },
   "source": [
    "The iterator, i, does not have to appear in the body of the for statement, or for loop."
   ]
  },
  {
   "cell_type": "code",
   "execution_count": null,
   "id": "55d8e6d0",
   "metadata": {
    "slideshow": {
     "slide_type": "fragment"
    }
   },
   "outputs": [],
   "source": [
    "for i in np.arange(3):\n",
    "    print('hello')"
   ]
  },
  {
   "cell_type": "markdown",
   "id": "8d8c4b50",
   "metadata": {
    "slideshow": {
     "slide_type": "fragment"
    }
   },
   "source": [
    "Often for loops are useful just to repeat something a specified number of times."
   ]
  },
  {
   "cell_type": "markdown",
   "id": "7d528ff9",
   "metadata": {
    "slideshow": {
     "slide_type": "slide"
    }
   },
   "source": [
    "## Nested *for* loops"
   ]
  },
  {
   "cell_type": "markdown",
   "id": "c234b037",
   "metadata": {
    "slideshow": {
     "slide_type": "fragment"
    }
   },
   "source": [
    "Suppose we have two lists, and we want to pair every element in `list_1` with every element in `list_2`. \n",
    "\n",
    "This takes the following form:\n",
    "\n",
    "```python\n",
    "for item_1 in list_1:\n",
    "    for item_2 in list_2:\n",
    "        print(item_1, item_2)\n",
    "```"
   ]
  },
  {
   "cell_type": "markdown",
   "id": "20fd45ae",
   "metadata": {
    "slideshow": {
     "slide_type": "notes"
    }
   },
   "source": [
    "We *could* write out by hand all the possible combinations pairing elements of `list_1` with `list_2` … or, we could use nested `for` statements to systematically consider each element in `list_2` for each element in `list_1`."
   ]
  },
  {
   "cell_type": "markdown",
   "id": "49ee1cdf",
   "metadata": {
    "slideshow": {
     "slide_type": "slide"
    }
   },
   "source": [
    "### Example\n",
    "\n",
    "\n",
    "\n",
    "Suppose we want to find all possible combinations of the below lists."
   ]
  },
  {
   "cell_type": "code",
   "execution_count": null,
   "id": "597c56dd",
   "metadata": {
    "slideshow": {
     "slide_type": "fragment"
    }
   },
   "outputs": [],
   "source": [
    "my_animals = ['dog', 'cat', 'cow']\n",
    "\n",
    "adjectives = ['hairy', 'scary', 'cute']"
   ]
  },
  {
   "cell_type": "code",
   "execution_count": null,
   "id": "599a7ba3",
   "metadata": {
    "slideshow": {
     "slide_type": "fragment"
    }
   },
   "outputs": [],
   "source": [
    "for adj in adjectives:\n",
    "    for animal in my_animals:\n",
    "        print(adj, animal)"
   ]
  },
  {
   "cell_type": "markdown",
   "id": "06f2600e",
   "metadata": {
    "slideshow": {
     "slide_type": "slide"
    }
   },
   "source": [
    "Order of the inner and outer *for* loops does matter!"
   ]
  },
  {
   "cell_type": "code",
   "execution_count": null,
   "id": "28863b09",
   "metadata": {
    "slideshow": {
     "slide_type": "fragment"
    }
   },
   "outputs": [],
   "source": [
    "for animal in my_animals:\n",
    "    for adj in adjectives:\n",
    "        print(adj, animal)"
   ]
  },
  {
   "cell_type": "markdown",
   "id": "ab8f7c8c",
   "metadata": {
    "slideshow": {
     "slide_type": "slide"
    }
   },
   "source": [
    "## We can use this to count things"
   ]
  },
  {
   "cell_type": "code",
   "execution_count": null,
   "id": "d9051d5b",
   "metadata": {
    "slideshow": {
     "slide_type": "fragment"
    }
   },
   "outputs": [],
   "source": [
    "count = 0\n",
    "\n",
    "for adj in adjectives:\n",
    "    for animal in my_animals:\n",
    "        if animal.startswith('c'):\n",
    "            print(adj,animal)\n",
    "            count = count + 1\n",
    "        \n",
    "print(count)"
   ]
  },
  {
   "cell_type": "markdown",
   "id": "505e0fb1",
   "metadata": {
    "slideshow": {
     "slide_type": "slide"
    }
   },
   "source": [
    "## Our Python repertoire:\n",
    "\n",
    "* Arithmetic Operations\n",
    "* Comparisons\n",
    "* Assignment Statements\n",
    "* Call Expressions\n",
    "* Arrays\n",
    "* Lists\n",
    "* DataFrames\n",
    "* Groupby\n",
    "* Pivot_table\n",
    "* Merge\n",
    "* Functions\n",
    "* Conditionals\n",
    "* Iteration"
   ]
  },
  {
   "cell_type": "markdown",
   "id": "22190b4d",
   "metadata": {
    "slideshow": {
     "slide_type": "slide"
    }
   },
   "source": [
    "### Optional extras\n",
    "\n",
    "#### That is,  some additional notes (optional...not tested on, but cool)\n",
    "\n",
    "Please keep reading if you want to know some extra material on functions and for loops and if statements!"
   ]
  },
  {
   "cell_type": "markdown",
   "id": "e42e56ea",
   "metadata": {
    "slideshow": {
     "slide_type": "fragment"
    }
   },
   "source": [
    "We can use the `break` option to stop a `for loop`."
   ]
  },
  {
   "cell_type": "code",
   "execution_count": null,
   "id": "d80eb380",
   "metadata": {
    "slideshow": {
     "slide_type": "fragment"
    }
   },
   "outputs": [],
   "source": [
    "for x in range(6): # 0 to 5\n",
    "    if x == 3: \n",
    "        break\n",
    "    print(x)"
   ]
  },
  {
   "cell_type": "markdown",
   "id": "f6b2536d",
   "metadata": {
    "slideshow": {
     "slide_type": "fragment"
    }
   },
   "source": [
    "We can use the `continue` option to stop the current iteration of the loop and continue with the next iteration"
   ]
  },
  {
   "cell_type": "code",
   "execution_count": null,
   "id": "e31f21bd",
   "metadata": {
    "slideshow": {
     "slide_type": "fragment"
    }
   },
   "outputs": [],
   "source": [
    "list_of_things= [\"red\", 2, 7.3, \"dog\"]\n",
    "\n",
    "for element in list_of_things:\n",
    "    if element == 7.3:\n",
    "        continue\n",
    "    print(element)"
   ]
  },
  {
   "cell_type": "markdown",
   "id": "69ba9015",
   "metadata": {
    "slideshow": {
     "slide_type": "fragment"
    }
   },
   "source": [
    "If we want to ensure a user inputs the correct (or expected) datatype into our function.\n",
    "\n",
    "\n",
    "We could use `assert` statement. This doesn't check but rather asserts a condition is true.\n",
    "\n",
    "Useful because it encodes in the error message."
   ]
  },
  {
   "cell_type": "code",
   "execution_count": null,
   "id": "8e5a14d0",
   "metadata": {
    "slideshow": {
     "slide_type": "fragment"
    }
   },
   "outputs": [],
   "source": [
    "def double(x):\n",
    "    \"\"\"Double the input x\"\"\"\n",
    "    assert type(x) == int or type(x) == float\n",
    "    y = 2*x\n",
    "    \n",
    "    return y "
   ]
  },
  {
   "cell_type": "code",
   "execution_count": null,
   "id": "a9275ad1",
   "metadata": {
    "slideshow": {
     "slide_type": "fragment"
    }
   },
   "outputs": [],
   "source": [
    "double(5)"
   ]
  },
  {
   "cell_type": "code",
   "execution_count": null,
   "id": "722f750f",
   "metadata": {
    "slideshow": {
     "slide_type": "fragment"
    }
   },
   "outputs": [],
   "source": [
    "double(4.9)"
   ]
  },
  {
   "cell_type": "code",
   "execution_count": null,
   "id": "d2d40dfb",
   "metadata": {
    "slideshow": {
     "slide_type": "fragment"
    }
   },
   "outputs": [],
   "source": [
    "double('data')"
   ]
  }
 ],
 "metadata": {
  "kernelspec": {
   "display_name": "Python 3 (ipykernel)",
   "language": "python",
   "name": "python3"
  },
  "language_info": {
   "codemirror_mode": {
    "name": "ipython",
    "version": 3
   },
   "file_extension": ".py",
   "mimetype": "text/x-python",
   "name": "python",
   "nbconvert_exporter": "python",
   "pygments_lexer": "ipython3",
   "version": "3.12.0"
  }
 },
 "nbformat": 4,
 "nbformat_minor": 5
}
