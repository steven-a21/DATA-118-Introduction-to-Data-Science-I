{
 "cells": [
  {
   "cell_type": "markdown",
   "id": "a45e7fde",
   "metadata": {
    "slideshow": {
     "slide_type": "slide"
    },
    "tags": [
     "hide_code"
    ]
   },
   "source": [
    "<center> \n",
    "\n",
    "# Probability\n",
    "\n",
    "## Dr. Lange- University of Chicago\n",
    "## Data 11800 - Winter 2024 \n",
    "\n",
    "<img src=\"https://raw.githubusercontent.com/amandakube/Data118LectureImages/main/UChicago_DSI.png\" alt=\"UC-DSI\" width=\"500\" height=\"600\">\n",
    "    \n",
    "</center>"
   ]
  },
  {
   "cell_type": "code",
   "execution_count": 8,
   "id": "cbc7e1d0",
   "metadata": {},
   "outputs": [],
   "source": [
    "import numpy as np\n",
    "import pandas as pd\n",
    "\n",
    "\n",
    "\n",
    "import matplotlib.pyplot as plt\n",
    "plt.style.use('fivethirtyeight')"
   ]
  },
  {
   "cell_type": "markdown",
   "id": "547f9463",
   "metadata": {
    "slideshow": {
     "slide_type": "slide"
    }
   },
   "source": [
    "## So far...\n",
    "\n",
    "DataFrame manipulation \n",
    "\n",
    "Python Coding\n",
    "\n",
    "Data Collection + Sampling\n"
   ]
  },
  {
   "cell_type": "markdown",
   "id": "c358f0f6",
   "metadata": {
    "hideCode": false,
    "hidePrompt": false,
    "slideshow": {
     "slide_type": "slide"
    }
   },
   "source": [
    "## Simulation"
   ]
  },
  {
   "cell_type": "markdown",
   "id": "ebf490e3",
   "metadata": {
    "hideCode": false,
    "hidePrompt": false,
    "slideshow": {
     "slide_type": "fragment"
    }
   },
   "source": [
    "We can use the np.random.choice function in combination with for loops to *simulate* an experiment, or to repeat an experiment!\n",
    "\n",
    "There are several steps in designing and executing a simulation:\n",
    "\n",
    " - Conceptualize what to simulate;\n",
    " \n",
    " - Simulate one instance;\n",
    " \n",
    " - Decide on the number of repetitions;\n",
    " \n",
    " - Summarize the results of the simulation."
   ]
  },
  {
   "cell_type": "markdown",
   "id": "0912df50",
   "metadata": {
    "slideshow": {
     "slide_type": "slide"
    }
   },
   "source": [
    "## Let's simulate an experiment.\n",
    "\n",
    "Rolling a six sided die 100 times. Count how many rolls are $\\geq$ 3."
   ]
  },
  {
   "cell_type": "markdown",
   "id": "00e057ae",
   "metadata": {
    "slideshow": {
     "slide_type": "fragment"
    }
   },
   "source": [
    "One instance corresponds to rolling one die and counting the number greater than 3.\n",
    "\n",
    "We need to\n",
    "\n",
    " -  define a die\n",
    " \n",
    " -  produce 1 random number\n",
    "\n",
    " -  count a 1 if this random number is $>$ 3."
   ]
  },
  {
   "cell_type": "markdown",
   "id": "1f2120ce",
   "metadata": {
    "slideshow": {
     "slide_type": "slide"
    }
   },
   "source": [
    "We will need the np.random.choice() function here!!!\n",
    "\n",
    "```python \n",
    "np.random.choice(my_array, size = num, replace = True) \n",
    "```"
   ]
  },
  {
   "cell_type": "code",
   "execution_count": 1,
   "id": "b077df67",
   "metadata": {
    "slideshow": {
     "slide_type": "fragment"
    }
   },
   "outputs": [
    {
     "data": {
      "text/plain": [
       "array([1, 2, 3, 4, 5, 6])"
      ]
     },
     "execution_count": 1,
     "metadata": {},
     "output_type": "execute_result"
    }
   ],
   "source": [
    "import numpy as np\n",
    "import pandas as pd\n",
    "\n",
    "die = np.arange(1, 7)\n",
    "die"
   ]
  },
  {
   "cell_type": "markdown",
   "id": "fce732a8",
   "metadata": {
    "slideshow": {
     "slide_type": "slide"
    }
   },
   "source": [
    "#### One instance..."
   ]
  },
  {
   "cell_type": "code",
   "execution_count": 2,
   "id": "d6f40198",
   "metadata": {
    "slideshow": {
     "slide_type": "fragment"
    }
   },
   "outputs": [
    {
     "name": "stdout",
     "output_type": "stream",
     "text": [
      "[3]\n"
     ]
    },
    {
     "data": {
      "text/plain": [
       "0"
      ]
     },
     "execution_count": 2,
     "metadata": {},
     "output_type": "execute_result"
    }
   ],
   "source": [
    "one_roll = np.random.choice(die, 1)\n",
    "print(one_roll)\n",
    "\n",
    "#check if greater than or equal to 3\n",
    "one_roll > 3\n",
    "\n",
    "\n",
    "count = 0\n",
    "if one_roll>3:\n",
    "    count = count +1\n",
    "    \n",
    "count"
   ]
  },
  {
   "cell_type": "markdown",
   "id": "0dbe45bf",
   "metadata": {
    "slideshow": {
     "slide_type": "slide"
    }
   },
   "source": [
    "#### How do we extend this? What about 2 rolls?"
   ]
  },
  {
   "cell_type": "code",
   "execution_count": 3,
   "id": "34499b24",
   "metadata": {
    "slideshow": {
     "slide_type": "fragment"
    }
   },
   "outputs": [
    {
     "name": "stdout",
     "output_type": "stream",
     "text": [
      "[1 6]\n"
     ]
    },
    {
     "ename": "ValueError",
     "evalue": "The truth value of an array with more than one element is ambiguous. Use a.any() or a.all()",
     "output_type": "error",
     "traceback": [
      "\u001b[0;31m---------------------------------------------------------------------------\u001b[0m",
      "\u001b[0;31mValueError\u001b[0m                                Traceback (most recent call last)",
      "Cell \u001b[0;32mIn[3], line 8\u001b[0m\n\u001b[1;32m      5\u001b[0m two_rolls \u001b[38;5;241m>\u001b[39m\u001b[38;5;241m3\u001b[39m\n\u001b[1;32m      7\u001b[0m count \u001b[38;5;241m=\u001b[39m \u001b[38;5;241m0\u001b[39m\n\u001b[0;32m----> 8\u001b[0m \u001b[38;5;28;01mif\u001b[39;00m two_rolls\u001b[38;5;241m>\u001b[39m\u001b[38;5;241m3\u001b[39m:\n\u001b[1;32m      9\u001b[0m     count \u001b[38;5;241m=\u001b[39m count \u001b[38;5;241m+\u001b[39m\u001b[38;5;241m1\u001b[39m\n\u001b[1;32m     11\u001b[0m count\n",
      "\u001b[0;31mValueError\u001b[0m: The truth value of an array with more than one element is ambiguous. Use a.any() or a.all()"
     ]
    }
   ],
   "source": [
    "two_rolls = np.random.choice(die, 2)\n",
    "print(two_rolls)\n",
    "\n",
    "#check if greater than or equal to 3\n",
    "two_rolls >3\n",
    "\n",
    "count = 0\n",
    "if two_rolls>3:\n",
    "    count = count +1\n",
    "    \n",
    "count\n",
    "\n",
    "\n"
   ]
  },
  {
   "cell_type": "code",
   "execution_count": 4,
   "id": "ea1e9222",
   "metadata": {
    "slideshow": {
     "slide_type": "fragment"
    }
   },
   "outputs": [
    {
     "data": {
      "text/plain": [
       "1"
      ]
     },
     "execution_count": 4,
     "metadata": {},
     "output_type": "execute_result"
    }
   ],
   "source": [
    "#This also works\n",
    "sum(two_rolls >3)"
   ]
  },
  {
   "cell_type": "markdown",
   "id": "5a97c46a",
   "metadata": {
    "slideshow": {
     "slide_type": "slide"
    }
   },
   "source": [
    "#### How do we extend this to get our answer? n =100"
   ]
  },
  {
   "cell_type": "code",
   "execution_count": 5,
   "id": "2abff914",
   "metadata": {
    "slideshow": {
     "slide_type": "fragment"
    }
   },
   "outputs": [
    {
     "name": "stdout",
     "output_type": "stream",
     "text": [
      "[2 1 1 4 1 1 4 4 4 3 1 6 1 4 4 2 3 5 1 1 6 6 4 6 2 5 5 5 3 5 4 5 5 1 1 2 3\n",
      " 1 3 1 3 4 1 3 6 4 2 6 2 5 5 3 4 2 1 2 5 4 2 5 6 2 1 6 3 3 6 1 2 5 4 5 1 5\n",
      " 3 3 6 6 5 2 4 3 2 4 4 5 6 3 2 4 2 1 2 1 4 1 6 1 4 1]\n",
      "[False False False  True False False  True  True  True  True False  True\n",
      " False  True  True False  True  True False False  True  True  True  True\n",
      " False  True  True  True  True  True  True  True  True False False False\n",
      "  True False  True False  True  True False  True  True  True False  True\n",
      " False  True  True  True  True False False False  True  True False  True\n",
      "  True False False  True  True  True  True False False  True  True  True\n",
      " False  True  True  True  True  True  True False  True  True False  True\n",
      "  True  True  True  True False  True False False False False  True False\n",
      "  True False  True False]\n"
     ]
    },
    {
     "data": {
      "text/plain": [
       "48"
      ]
     },
     "execution_count": 5,
     "metadata": {},
     "output_type": "execute_result"
    }
   ],
   "source": [
    "n_rolls = np.random.choice(die, 100)\n",
    "print(n_rolls)\n",
    "\n",
    "#check if greater than or equal to 3\n",
    "print(n_rolls >=3)\n",
    "\n",
    "sum(n_rolls >3)"
   ]
  },
  {
   "cell_type": "markdown",
   "id": "cdbde9f3",
   "metadata": {
    "slideshow": {
     "slide_type": "fragment"
    }
   },
   "source": [
    "This is one experiment. Rolling a six sided die 100 times and counting the number of values $>$ 3."
   ]
  },
  {
   "cell_type": "markdown",
   "id": "0937da22",
   "metadata": {
    "slideshow": {
     "slide_type": "slide"
    }
   },
   "source": [
    "Is this number close to what we might have guessed? To see where this number falls, we might perform another experiment!!!!!!\n",
    "New experiment: Repeat this experiment 1000 times!!! This means\n",
    "\n",
    "Repeat 1000 times:\n",
    "    Rolling a six sided die 100 times and counting the number of values $>$ 3."
   ]
  },
  {
   "cell_type": "code",
   "execution_count": 7,
   "id": "7878bd3d",
   "metadata": {
    "slideshow": {
     "slide_type": "fragment"
    }
   },
   "outputs": [],
   "source": [
    "stored_values = []\n",
    "num_experiments = 1000\n",
    "\n",
    "\n",
    "for i in np.arange(num_experiments): #this goes from 0 to 999\n",
    "    n_rolls = np.random.choice(die, 100)\n",
    "    stored_values.append(sum(n_rolls >3))"
   ]
  },
  {
   "cell_type": "code",
   "execution_count": 8,
   "id": "e8fd0c25",
   "metadata": {
    "slideshow": {
     "slide_type": "fragment"
    }
   },
   "outputs": [
    {
     "ename": "NameError",
     "evalue": "name 'plt' is not defined",
     "output_type": "error",
     "traceback": [
      "\u001b[0;31m---------------------------------------------------------------------------\u001b[0m",
      "\u001b[0;31mNameError\u001b[0m                                 Traceback (most recent call last)",
      "Cell \u001b[0;32mIn[8], line 2\u001b[0m\n\u001b[1;32m      1\u001b[0m pd\u001b[38;5;241m.\u001b[39mDataFrame({\u001b[38;5;124m'\u001b[39m\u001b[38;5;124m# Rolls > 3 out of 100 \u001b[39m\u001b[38;5;130;01m\\n\u001b[39;00m\u001b[38;5;124m Repeated \u001b[39m\u001b[38;5;124m'\u001b[39m \u001b[38;5;241m+\u001b[39m\u001b[38;5;28mstr\u001b[39m(num_experiments) \u001b[38;5;241m+\u001b[39m \u001b[38;5;124m'\u001b[39m\u001b[38;5;124m times\u001b[39m\u001b[38;5;124m'\u001b[39m: stored_values})\u001b[38;5;241m.\u001b[39mhist(bins\u001b[38;5;241m=\u001b[39mnp\u001b[38;5;241m.\u001b[39marange(\u001b[38;5;241m30\u001b[39m, \u001b[38;5;241m75\u001b[39m,\u001b[38;5;241m2\u001b[39m));\n\u001b[0;32m----> 2\u001b[0m \u001b[43mplt\u001b[49m\u001b[38;5;241m.\u001b[39mxlabel(\u001b[38;5;124m'\u001b[39m\u001b[38;5;124mNumber of Rolls\u001b[39m\u001b[38;5;124m'\u001b[39m)\n\u001b[1;32m      3\u001b[0m plt\u001b[38;5;241m.\u001b[39mylabel(\u001b[38;5;124m'\u001b[39m\u001b[38;5;124mFrequency\u001b[39m\u001b[38;5;124m'\u001b[39m)\n",
      "\u001b[0;31mNameError\u001b[0m: name 'plt' is not defined"
     ]
    },
    {
     "data": {
      "image/png": "[encoded data removed]",
      "text/plain": [
       "<Figure size 640x480 with 1 Axes>"
      ]
     },
     "metadata": {},
     "output_type": "display_data"
    }
   ],
   "source": [
    "pd.DataFrame({'# Rolls > 3 out of 100 \\n Repeated ' +str(num_experiments) + ' times': stored_values}).hist(bins=np.arange(30, 75,2));\n",
    "plt.xlabel('Number of Rolls')\n",
    "plt.ylabel('Frequency')"
   ]
  },
  {
   "cell_type": "markdown",
   "id": "a991cacf",
   "metadata": {
    "slideshow": {
     "slide_type": "slide"
    }
   },
   "source": [
    "### Simulation\n",
    "\n",
    "\n",
    "- another method of data collection\n",
    "    - computer mimics a real world situation\n",
    "    \n",
    "- contains an element of randomness....    "
   ]
  },
  {
   "cell_type": "markdown",
   "id": "c905e44d",
   "metadata": {
    "slideshow": {
     "slide_type": "slide"
    }
   },
   "source": [
    "### New Goal: Learn some Statistics\n",
    "\n",
    "Motivation: \n",
    "\n",
    "1. To understand randomness better\n",
    "\n",
    "    - `np.random.choice(['red','blue])` vs `np.random.choice(['red','blue], p =[0.2, 0.8])`\n",
    "\n",
    "\n",
    "2. **Statistics can help us understand our data!!!!**"
   ]
  },
  {
   "cell_type": "markdown",
   "id": "9c5df23b",
   "metadata": {
    "slideshow": {
     "slide_type": "fragment"
    }
   },
   "source": [
    "How do we make conclusions about the data? We use statistics."
   ]
  },
  {
   "cell_type": "markdown",
   "id": "ab9705d5",
   "metadata": {
    "slideshow": {
     "slide_type": "slide"
    }
   },
   "source": [
    "\n",
    "<center>\n",
    "\n",
    "<img src=\"https://raw.githubusercontent.com/SusannaLange/Data_118_images/main/images/Probability/stat_inference.png\" width=\"700\">\n",
    "    \n",
    "</center>"
   ]
  },
  {
   "cell_type": "markdown",
   "id": "4c6cb9a1",
   "metadata": {
    "slideshow": {
     "slide_type": "slide"
    }
   },
   "source": [
    "## Probability"
   ]
  },
  {
   "cell_type": "markdown",
   "id": "fac4b8ba",
   "metadata": {
    "slideshow": {
     "slide_type": "fragment"
    }
   },
   "source": [
    "Probability is the science of how likely events are to happen."
   ]
  },
  {
   "cell_type": "markdown",
   "id": "f6e2700b",
   "metadata": {
    "slideshow": {
     "slide_type": "fragment"
    }
   },
   "source": [
    "The probability of something occuring is a number between 0 and 1. (thought of as a percentage)\n",
    "\n",
    "\n",
    "- 0 impossible to happen\n",
    "\n",
    "- 1 (guaranteed to occur)"
   ]
  },
  {
   "cell_type": "markdown",
   "id": "2fdcd5f9",
   "metadata": {
    "slideshow": {
     "slide_type": "fragment"
    }
   },
   "source": [
    "In more technical terms...."
   ]
  },
  {
   "cell_type": "markdown",
   "id": "4b8576e2",
   "metadata": {
    "slideshow": {
     "slide_type": "slide"
    }
   },
   "source": [
    "# Probability: Definitions and Rules "
   ]
  },
  {
   "cell_type": "markdown",
   "id": "e4107e9f",
   "metadata": {
    "slideshow": {
     "slide_type": "fragment"
    }
   },
   "source": [
    "\n",
    "**Random phenomenon or chance experiment**:  where individual outcomes are uncertain\n",
    "\n",
    "\n",
    "**Random Variable (denoted by X)**: Represents the outcome of the experiment.\n",
    "\n",
    "**Sample space (denoted by S)**: the set, or collection, of all possible outcomes of a phenomenon\n",
    "\n",
    "\n",
    "**Event (denoted by A, B)**: An outcome or a set of outcomes of a random phenomenon\n"
   ]
  },
  {
   "cell_type": "markdown",
   "id": "584dd1e9",
   "metadata": {
    "slideshow": {
     "slide_type": "slide"
    }
   },
   "source": [
    "**For example,** Rolling a six-sided die and recording the outcome (this is the random phenomenon)\n",
    "Let $X$ denote the outcome of this experiment. (Note here $X$ is the random variable)\n",
    "\n",
    "The sample space S is the set of integers from 1 to 6: \n",
    "\n",
    "S=$\\{1,2,3,4,5,6\\}$"
   ]
  },
  {
   "cell_type": "markdown",
   "id": "32262c89",
   "metadata": {
    "slideshow": {
     "slide_type": "slide"
    }
   },
   "source": [
    "## Pause"
   ]
  },
  {
   "cell_type": "markdown",
   "id": "a237e465",
   "metadata": {
    "slideshow": {
     "slide_type": "fragment"
    }
   },
   "source": [
    "What is a set? "
   ]
  },
  {
   "cell_type": "markdown",
   "id": "9236ce49",
   "metadata": {
    "slideshow": {
     "slide_type": "fragment"
    }
   },
   "source": [
    "A **set** is a collection of objects! Usually denoted with { }\n",
    "\n",
    "Sets are not ordered. We just care if the element is there or not.\n",
    "\n",
    "{1,2,3} = {3,2,1} = {2,1,3} = {1,1,1,2,3} <--- The convention is to not repeat elements \n",
    "\n"
   ]
  },
  {
   "cell_type": "markdown",
   "id": "1413ec94",
   "metadata": {
    "slideshow": {
     "slide_type": "fragment"
    }
   },
   "source": [
    "A collection of any objects can be in a set.\n",
    "\n",
    "A = {'red', 1, 2, 3.1415}"
   ]
  },
  {
   "cell_type": "markdown",
   "id": "3a7a43ca",
   "metadata": {
    "slideshow": {
     "slide_type": "slide"
    }
   },
   "source": [
    "**Notation**\n",
    "\n",
    "\n",
    "Element of:\n",
    "\n",
    "$x \\in A$    ----> Says 'The element x is in A' or 'The x is an element of A'.\n",
    "\n",
    "Subset of:\n",
    "\n",
    "$C \\subseteq A$  ---> Says 'The set C is contained in A'"
   ]
  },
  {
   "cell_type": "markdown",
   "id": "7705eaf7",
   "metadata": {
    "slideshow": {
     "slide_type": "fragment"
    }
   },
   "source": [
    "Examples:\n",
    "    \n",
    "$\\{1,2,'red'\\} \\subseteq \\{1,2,3,4,'red', 'blue'\\}$ \n",
    "\n",
    "$'red' \\in \\{1,2,'red'\\}$"
   ]
  },
  {
   "cell_type": "markdown",
   "id": "2cb1480e",
   "metadata": {
    "slideshow": {
     "slide_type": "slide"
    }
   },
   "source": [
    "## Back to main program"
   ]
  },
  {
   "cell_type": "markdown",
   "id": "0fc7fa3f",
   "metadata": {
    "slideshow": {
     "slide_type": "fragment"
    }
   },
   "source": [
    " Rolling a six-sided die and recording the outcome (this is the random phenomenon)\n",
    "Let $X$ denote the outcome of this experiment. (Note here $X$ is the random variable)\n",
    "\n",
    "The sample space S is the set of integers from 1 to 6: \n",
    "\n",
    "S=$\\{1,2,3,4,5,6\\}$\n",
    "\n",
    "We could be interested in the events:\n",
    "A = 'An even number is rolled' = $\\{2,4,6\\}$.\n",
    "\n",
    "E = 'A 3 is rolled.' = $\\{3\\}$."
   ]
  },
  {
   "cell_type": "markdown",
   "id": "6bdae523",
   "metadata": {
    "slideshow": {
     "slide_type": "slide"
    }
   },
   "source": [
    "**Another example** Randomly choosing 100 births at a Chicago hospital and recording the number of boys."
   ]
  },
  {
   "cell_type": "markdown",
   "id": "ea908dbd",
   "metadata": {
    "slideshow": {
     "slide_type": "fragment"
    }
   },
   "source": [
    "##### <code style=\"background:Thistle;color:black\">What is the sample space?:</code>\n",
    " "
   ]
  },
  {
   "cell_type": "markdown",
   "id": "dab3e98f",
   "metadata": {
    "slideshow": {
     "slide_type": "fragment"
    }
   },
   "source": [
    "Answer here:\n",
    "    \n",
    "The sample space is "
   ]
  },
  {
   "cell_type": "markdown",
   "id": "d0016afe",
   "metadata": {
    "slideshow": {
     "slide_type": "fragment"
    }
   },
   "source": [
    "Some events: \n",
    "\n",
    "A is the event that less than half of the babies are boys. A is the set of integers from 0 to 49.\n",
    "\n",
    "B is the event that less than 20 of the babies are boys. B is the set of integers from 0 to 19."
   ]
  },
  {
   "cell_type": "markdown",
   "id": "25b0834e",
   "metadata": {
    "slideshow": {
     "slide_type": "slide"
    }
   },
   "source": [
    "Now, how do we assign probabilities?"
   ]
  },
  {
   "cell_type": "markdown",
   "id": "664e314e",
   "metadata": {
    "slideshow": {
     "slide_type": "fragment"
    }
   },
   "source": [
    "By defining what's called a **distribution function**. That is, a function that assigns probabilities to events!\n",
    "\n",
    "We will be working with discrete sample spaces.\n"
   ]
  },
  {
   "cell_type": "markdown",
   "id": "75219a17",
   "metadata": {
    "slideshow": {
     "slide_type": "fragment"
    }
   },
   "source": [
    "**Definition:** Suppose our experiment has a finite number of outcomes. Let $X$ be a random variable and $S$ the sample space. A **probability mass function (pmf)** for $X$ is a real valued function $m$ whose domain is $S$ and which satisfies:\n",
    "\n",
    " - $m(w) \\geq 0$ for all outcomes $w \\in S$\n",
    " \n",
    " - $\\sum_{w \\in S} m(w) =1$ "
   ]
  },
  {
   "cell_type": "markdown",
   "id": "147e1c98",
   "metadata": {
    "slideshow": {
     "slide_type": "slide"
    }
   },
   "source": [
    "For the event with just one outcome, $\\{w\\}$, the probability mass function function tells us that \n",
    "\n",
    "$P(\\{w\\}) = m(w)$.\n",
    "\n",
    "Further, for any event, $E$, \n",
    "\n",
    "$P(E) = \\sum_{w \\in E} m(w)$"
   ]
  },
  {
   "cell_type": "markdown",
   "id": "952bedc1",
   "metadata": {
    "slideshow": {
     "slide_type": "slide"
    }
   },
   "source": [
    "The following defines a collection of probabilites. \n",
    "\n",
    "##### <code style=\"background:Thistle;color:black\">Is this a probability distribution?:</code>\n",
    " "
   ]
  },
  {
   "cell_type": "markdown",
   "id": "53b69fc2",
   "metadata": {
    "slideshow": {
     "slide_type": "fragment"
    }
   },
   "source": [
    "| x| x = 0 | x = 1 | x =2 |\n",
    "| :- | -: | :-: | :-: |  \n",
    "| P(X=x) | $\\frac{1}{4}$| $\\frac{2}{4}$ | $\\frac{1}{4}$"
   ]
  },
  {
   "cell_type": "markdown",
   "id": "e660f683",
   "metadata": {
    "slideshow": {
     "slide_type": "slide"
    }
   },
   "source": [
    "The following defines a collection of probabilites. \n",
    "\n",
    "##### <code style=\"background:Thistle;color:black\">Is this a probability distribution?:</code>\n",
    " "
   ]
  },
  {
   "cell_type": "markdown",
   "id": "b3d521e2",
   "metadata": {
    "slideshow": {
     "slide_type": "fragment"
    }
   },
   "source": [
    "| x| x = 0 | x = 1 | x =2 | x =3\n",
    "| :- | -: | :-: | :-: |   :-: | \n",
    "| P(X=x) | $ - \\frac{1}{2}$| $\\frac{1}{2}$ | $\\frac{1}{4}$| $\\frac{3}{4}$"
   ]
  },
  {
   "cell_type": "markdown",
   "id": "1e77dd00",
   "metadata": {
    "slideshow": {
     "slide_type": "slide"
    }
   },
   "source": [
    "### Uniform Distribution"
   ]
  },
  {
   "cell_type": "markdown",
   "id": "7d0925e8",
   "metadata": {
    "slideshow": {
     "slide_type": "fragment"
    }
   },
   "source": [
    "The **uniform distribution** on a discrete sample space $S$ is the function defined by\n",
    "\n",
    "$$P(\\{w\\}) = m(w) = \\frac{1}{n}$$\n",
    "\n",
    "for every $w \\in S$.\n",
    "\n",
    "\n",
    "Each outcome is equally likely!"
   ]
  },
  {
   "cell_type": "markdown",
   "id": "0280b389",
   "metadata": {
    "slideshow": {
     "slide_type": "fragment"
    }
   },
   "source": [
    "If $E$ is an event then $$P(E) = \\text{Number of Outcomes in E} \\cdot \\frac{1}{n} = \\frac{\\text{Number of Outcomes in E}}{n}$$"
   ]
  },
  {
   "cell_type": "markdown",
   "id": "9e62039b",
   "metadata": {
    "slideshow": {
     "slide_type": "slide"
    }
   },
   "source": [
    "**Back to example of rolling a die**\n",
    "\n",
    "Rolling a fair 6 sided die follows a uniform distribution as every outcome is equally likely!\n",
    "\n",
    "So $$P(\\text{\"rolling a 3\"}) = P(\\{3\\})= m(3) = \\frac{1}{6}$$\n",
    "\n",
    "\n",
    "and \n",
    "\n",
    "\n",
    "$$P(\\text{\"rolling an even number\"}) = P(\\{2,4,6\\})=m(3)$$\n",
    "$$= \\sum_{w \\in \\{2,4,6\\}} m(w) = \\frac{1}{6} + \\frac{1}{6} + \\frac{1}{6} = \\frac{3}{6}$$"
   ]
  },
  {
   "cell_type": "markdown",
   "id": "7da96d20",
   "metadata": {
    "slideshow": {
     "slide_type": "slide"
    }
   },
   "source": [
    "##### <code style=\"background:Thistle;color:black\">Concept Check: What if we toss a coin 3 times and we record the outcome of each flip?</code>\n"
   ]
  },
  {
   "cell_type": "markdown",
   "id": "f10f96c2",
   "metadata": {
    "slideshow": {
     "slide_type": "fragment"
    }
   },
   "source": [
    "What is the sample space?\n",
    "\n",
    "\n",
    "A. $\\{H, T\\}$\n",
    "\n",
    "\n",
    "B. $\\{HHH, HHT, HTH, HTT, TTH, TTT, THT, THH\\}$"
   ]
  },
  {
   "cell_type": "markdown",
   "id": "40f1e13a",
   "metadata": {
    "slideshow": {
     "slide_type": "fragment"
    }
   },
   "source": [
    "Each of the outcomes is equally likely -----> uniform distribution"
   ]
  },
  {
   "cell_type": "markdown",
   "id": "0e8f9c71",
   "metadata": {
    "slideshow": {
     "slide_type": "fragment"
    }
   },
   "source": [
    "##### <code style=\"background:Thistle;color:black\">Concept Check: Let E be the event \"get exactly 2 heads\" Find P(E).</code>\n"
   ]
  },
  {
   "cell_type": "markdown",
   "id": "29e47763",
   "metadata": {
    "slideshow": {
     "slide_type": "fragment"
    }
   },
   "source": [
    "$$P(E) = \\frac{\\text{# outcomes in event}}{\\text{total outcomes}} = \\frac{???}{???} $$"
   ]
  },
  {
   "cell_type": "markdown",
   "id": "5ec7f2ac",
   "metadata": {
    "slideshow": {
     "slide_type": "slide"
    }
   },
   "source": [
    "### Events"
   ]
  },
  {
   "cell_type": "markdown",
   "id": "77b5b2bd",
   "metadata": {
    "slideshow": {
     "slide_type": "fragment"
    }
   },
   "source": [
    "Recall an event is a subset of a sample space. It may be useful to combine or see how events interact.\n",
    "\n",
    "\n"
   ]
  },
  {
   "cell_type": "markdown",
   "id": "ee73fb8a",
   "metadata": {
    "slideshow": {
     "slide_type": "fragment"
    }
   },
   "source": [
    "Suppose we are rolling a 6 sided die and A is the event we roll an even $A = \\{2, 4, 6\\}$, $B$ is the event we roll at least a 4 so $B= \\{4, 5, 6\\}$.\n"
   ]
  },
  {
   "cell_type": "markdown",
   "id": "12d518c5",
   "metadata": {
    "slideshow": {
     "slide_type": "fragment"
    }
   },
   "source": [
    "We can define new events in the following ways:"
   ]
  },
  {
   "cell_type": "markdown",
   "id": "e82ffd5b",
   "metadata": {
    "slideshow": {
     "slide_type": "slide"
    }
   },
   "source": [
    "**Complement of an event**: The complement of an event $A$ is the event that $A$ does not occur, denoted by $A^C$.\n",
    "\n",
    " $A^C$ is rolling an odd number: $A^C=\\{1,3,5\\}$ \n",
    "\n",
    "<center>\n",
    "\n",
    "<img src=\"https://raw.githubusercontent.com/SusannaLange/Data_118_images/main/images/Probability/complement.png\" width=\"300\">\n",
    "    \n",
    "</center>"
   ]
  },
  {
   "cell_type": "markdown",
   "id": "47237cf1",
   "metadata": {
    "slideshow": {
     "slide_type": "slide"
    }
   },
   "source": [
    "**Compound events**: Events built from combinations of other events.\n",
    "\n",
    "**Union:** ($A$ or $B$) = ($A\\cup B$): set of all outcomes in $A$, or in $B$, or in both.\n",
    "\n",
    "With $A = \\{2, 4, 6\\}$ and $B= \\{4, 5, 6\\}$ the union, or $A \\cup B = \\{2, 4, 5, 6\\}$\n",
    "<center>\n",
    "    \n",
    "<img src=\"https://raw.githubusercontent.com/SusannaLange/Data_118_images/main/images/Probability/union.png\" width=\"300\">\n",
    "    \n",
    "</center>"
   ]
  },
  {
   "cell_type": "markdown",
   "id": "03de6a78",
   "metadata": {
    "slideshow": {
     "slide_type": "slide"
    }
   },
   "source": [
    "**Intersection:**  ($A$ and $B$) = ($A\\cap B$): set of all outcomes that are in $A$ and in $B$.\n",
    "\n",
    "\n",
    "\n",
    "With $A = \\{2, 4, 6\\}$ and $B= \\{4, 5, 6\\}$ the intersection, or $A \\cap B = \\{ 4, 6\\}$\n",
    "<center>\n",
    "    \n",
    "<img src=\"https://raw.githubusercontent.com/SusannaLange/Data_118_images/main/images/Probability/intersection.png\" width=\"300\">\n",
    "    \n",
    "</center>\n"
   ]
  },
  {
   "cell_type": "markdown",
   "id": "a646132a",
   "metadata": {
    "slideshow": {
     "slide_type": "slide"
    }
   },
   "source": [
    "**Mutually exclusive events**: Events $A$ and $B$ are mutually exclusive (or disjoint) if they have no outcomes in common. Examples:\n",
    "For example, A is the set of evens and B is rolling a 3. Then A and B are disjoint.\n"
   ]
  },
  {
   "cell_type": "markdown",
   "id": "6daf0fba",
   "metadata": {
    "slideshow": {
     "slide_type": "slide"
    }
   },
   "source": [
    "# **Rules of Probability:**\n",
    "    \n",
    "    \n",
    "    \n",
    "**Addition Rule** The rule of addition (also known as the \"OR\" rule) states that the probability of two or more **mutually exclusive** events occurring is the sum of the probabilities of the individual events occurring.\n",
    "\n",
    "A = {2,4,6} (rolling evens)\n",
    "\n",
    "B = {3} (rolling 3)\n",
    "\n",
    "Then $P(A \\text{ or } B) = P(A \\cup B) = \\frac{3}{6} + \\frac{1}{6} = \\frac{4}{6}$"
   ]
  },
  {
   "cell_type": "markdown",
   "id": "ca7204a7",
   "metadata": {
    "slideshow": {
     "slide_type": "fragment"
    }
   },
   "source": [
    "**BE CAREFUL! Only true for mutually exclusive events!!!**"
   ]
  },
  {
   "cell_type": "markdown",
   "id": "576889b3",
   "metadata": {
    "slideshow": {
     "slide_type": "slide"
    }
   },
   "source": [
    "What happens if they do overlap?!"
   ]
  },
  {
   "cell_type": "markdown",
   "id": "083f26be",
   "metadata": {
    "slideshow": {
     "slide_type": "fragment"
    }
   },
   "source": [
    "This is not mutually exclusive (they do overlap!)\n",
    "\n",
    "A = {4, 6}  \n",
    "\n",
    "B = {4, 5} \n",
    "\n",
    "Then $P(A \\text{ or } B) =  P(A \\cup B) =  \\frac{2}{6} + \\frac{1}{6} = \\frac{3}{6} \\neq \\frac{4}{6}$"
   ]
  },
  {
   "cell_type": "markdown",
   "id": "f8399919",
   "metadata": {
    "slideshow": {
     "slide_type": "slide"
    }
   },
   "source": [
    "- $\\text{P}(A \\cup B) = \\text{P}(A) +\n",
    "\\text{P}(B) - \\text{P}(A \\cap B)$   **True in general!!**"
   ]
  },
  {
   "cell_type": "markdown",
   "id": "7bcb3bcd",
   "metadata": {
    "slideshow": {
     "slide_type": "fragment"
    }
   },
   "source": [
    "When can we multiply? Depends on....\n",
    "\n",
    "**Independent events:**  Knowledge that an event $B$ has occured does not effect the probability that some other event A occurs.\n",
    "\n",
    "Example: Rolling a die twice. First outcome has no effect on second."
   ]
  },
  {
   "cell_type": "markdown",
   "id": "dfccdd31",
   "metadata": {
    "slideshow": {
     "slide_type": "fragment"
    }
   },
   "source": [
    "The **multiplication rule** (also known as the \"AND\" rule) states that the probability of two independent events occurring together is equal to the product of their individual probabilities."
   ]
  },
  {
   "cell_type": "markdown",
   "id": "7186208e",
   "metadata": {
    "slideshow": {
     "slide_type": "fragment"
    }
   },
   "source": [
    "**Example:** Suppose you have a bag containing 3 red balls and 2 green balls. If you want to find the probability of drawing a red ball (then put this back in the bag: With replacement) and in the second draw you get a green ball, you would use the rule of multiplication:"
   ]
  },
  {
   "cell_type": "markdown",
   "id": "0b70a480",
   "metadata": {
    "slideshow": {
     "slide_type": "fragment"
    }
   },
   "source": [
    "A = {'red' on first}\n",
    "\n",
    "B = {'green' on second}\n",
    "\n",
    "$P(A \\text{ and } B) = P(A \\cap B)= P(A)*P(B) = \\frac{3}{5}\\cdot \\frac{2}{5} = \\frac{6}{25}$ We can do this because A and B are independent events."
   ]
  },
  {
   "cell_type": "markdown",
   "id": "137ff219",
   "metadata": {
    "slideshow": {
     "slide_type": "slide"
    }
   },
   "source": [
    "**Complement Rule** \n",
    "Instead of computing the probability of an event directly, we can calculate the probability of everything else:\n",
    "For any event E, \n",
    "\n",
    "$\\text{P}(E^C) = 1 - \\text{P}(E)$"
   ]
  },
  {
   "cell_type": "markdown",
   "id": "2a642dda",
   "metadata": {
    "slideshow": {
     "slide_type": "fragment"
    }
   },
   "source": [
    "For example, (again assume rolling a 6 sided die and recording the output)\n",
    "\n",
    "if we want to compute $P(\\text{rolling a number larger than 1})$ we can instead find \n",
    "$$1-P(\\text{rolling a 1}) = 1 - \\frac{1}{6} = \\frac{5}{6}$$\n",
    "\n",
    "\n",
    "If the complement is smaller, then the above formula is useful."
   ]
  },
  {
   "cell_type": "markdown",
   "id": "a715b8db",
   "metadata": {
    "slideshow": {
     "slide_type": "slide"
    }
   },
   "source": [
    "## Basic Probability Rules\n",
    "\n",
    "-  $\\text{P}(E^C) = 1 - \\text{P}(E)$ for any event $E$\n",
    "\n",
    "- $\\text{P}(A \\cup B) = \\text{P}(A) +\n",
    "\\text{P}(B) - \\text{P}(A \\cap B)$\n",
    "\n",
    "\n",
    "- Given two **independent** events, \n",
    "$\\text{P}(A \\cap B) = \\text{P}(A)\\text{P}(B)$"
   ]
  },
  {
   "cell_type": "markdown",
   "id": "86cb975e",
   "metadata": {
    "slideshow": {
     "slide_type": "slide"
    }
   },
   "source": [
    "## Conditional Probability\n",
    "We can also compute **conditional probabilities**. The conditional probability is the probability that an event B will occur given the knowledge than event A has already occured. This is denoted $P(B|A)$. <--- this is read as 'Probability of B given A'"
   ]
  },
  {
   "cell_type": "markdown",
   "id": "d3bd89f0",
   "metadata": {
    "slideshow": {
     "slide_type": "fragment"
    }
   },
   "source": [
    "For example, suppose we roll a six sided die once. Let random variable $X$ be the outcome. Suppose we have \n",
    "\n",
    "A = 'a 6 is rolled'\n",
    "\n",
    "B= ' a number greater than 4 is rolled'\n",
    "\n",
    "\n",
    "Now, suppose the die is rolled and we are told B has occured. \n",
    "Calculate the probability of A given that we know B has occured. "
   ]
  },
  {
   "cell_type": "markdown",
   "id": "17000c0d",
   "metadata": {
    "slideshow": {
     "slide_type": "fragment"
    }
   },
   "source": [
    "We can think of this as restricting the sample space to the event B. Hence \n",
    "$$P(A |B) = \\frac{\\text{1 outcome in A that's also in B}}{\\text{2 outcomes in B}}= \\frac{1}{2}$$"
   ]
  },
  {
   "cell_type": "markdown",
   "id": "8550c450",
   "metadata": {
    "slideshow": {
     "slide_type": "fragment"
    }
   },
   "source": [
    "In general $$P(A|B)= \\frac{P(A \\cap B)}{P(B)} $$"
   ]
  },
  {
   "cell_type": "markdown",
   "id": "55269062",
   "metadata": {
    "slideshow": {
     "slide_type": "slide"
    }
   },
   "source": [
    "\n",
    "\n",
    "If $\\text{P}(A) \\ne 0$, the **conditional probability** of event $A$\n",
    "given $B$ has occurred, denoted by $\\text{P}(A|B)$, is defined by,\n",
    "\n",
    "$$ P(A|B) = \\frac{P(B \\text{ and } A)}{P(B)}$$\n",
    "\n",
    "\n",
    "<center>\n",
    "\n",
    "<img src=\"https://raw.githubusercontent.com/SusannaLange/Data_118_images/main/images/Probability/conditionalprobability.png\" width=\"500\">\n",
    "    \n",
    "</center>"
   ]
  },
  {
   "cell_type": "markdown",
   "id": "8c0a4fe2",
   "metadata": {
    "slideshow": {
     "slide_type": "slide"
    }
   },
   "source": [
    "Example:\n",
    "- Select one subject at random in US;\n",
    "- B is the event that the subject read a book last week;\n",
    "- A is the event that the subject is a college student;\n",
    "- Consider P(B|A) versus P(B): the fraction of college students who read a book last week is likely different than the fraction of US population who did not.\n"
   ]
  },
  {
   "cell_type": "markdown",
   "id": "54d19467",
   "metadata": {
    "slideshow": {
     "slide_type": "slide"
    }
   },
   "source": [
    "### Relationship between Intersections and Multiplication?!"
   ]
  },
  {
   "cell_type": "markdown",
   "id": "b9be3609",
   "metadata": {
    "slideshow": {
     "slide_type": "fragment"
    }
   },
   "source": [
    "**Multiplication rule**: $\\text{P}(A \\text{ and } B) = \\text{P}(A|B) \\text{P}(B)$. Note that this follows directly from the definition of conditional probability."
   ]
  },
  {
   "cell_type": "markdown",
   "id": "fd295630",
   "metadata": {
    "slideshow": {
     "slide_type": "fragment"
    }
   },
   "source": [
    "**If two events are independent**, where knowledge that an event $B$ has occured does not effect the probability that some other event A occurs then \n",
    "$\\text{P}(A|B) =\\text{P}(A)$ (or equivalently, $\\text{P}(B|A) = \\text{P}(B)$)\n",
    "\n",
    "Equivalent condition for **independence**: \n",
    "$$\\text{P}(A \\text{ and } B)= \\text{P}(A \\cap B)  = \\text{P}(A) \\text{P}(B)$$\n",
    "\n",
    "Hence to check for independence we can check for any of the following:\n"
   ]
  },
  {
   "cell_type": "markdown",
   "id": "6e8fe208",
   "metadata": {
    "slideshow": {
     "slide_type": "fragment"
    }
   },
   "source": [
    "$P(A|B) = P(A)$\n",
    "\n",
    "$P(B|A) = P(B)$ \n",
    "\n",
    "$P(A \\cap B)  = P(A)P(B)$"
   ]
  },
  {
   "cell_type": "markdown",
   "id": "8cdbf6cb",
   "metadata": {
    "slideshow": {
     "slide_type": "slide"
    }
   },
   "source": [
    "**Small example**\n",
    "We do not always have a uniform distribution where everything is equally likely...we could have a weighted distribution! \n",
    "\n",
    "Suppose we have 4 items in a bag: <span style = \"color:red\"> red marble </span>, <span style = \"color:purple\"> purple stone </span>, <span style = \"color:green\"> green stone </span>, <span style = \"color:blue\"> blue marble</span>\n",
    "But the probabilites of drawing different colors are weighted:\n",
    "\n",
    "$m('$<span style = \"color:red\"> red marble </span>$') = \\frac{1}{3}$\n",
    "\n",
    "$m('$<span style = \"color:green\"> green stone </span>$') = \\frac{1}{6}$\n",
    "\n",
    "$m('$<span style = \"color:purple\"> purple stone </span>$') = \\frac{1}{12}$\n",
    "\n",
    "$m('$<span style = \"color:blue\"> blue marble </span>$') = \\frac{5}{12}$"
   ]
  },
  {
   "cell_type": "markdown",
   "id": "cd2df192",
   "metadata": {
    "slideshow": {
     "slide_type": "fragment"
    }
   },
   "source": [
    "<code style=\"background:Thistle;color:black\"> Is the above a valid distribution function?\n",
    "</code>"
   ]
  },
  {
   "cell_type": "code",
   "execution_count": null,
   "id": "091ec9c2",
   "metadata": {
    "slideshow": {
     "slide_type": "fragment"
    }
   },
   "outputs": [],
   "source": [
    "answer"
   ]
  },
  {
   "cell_type": "markdown",
   "id": "b5a6a57d",
   "metadata": {
    "slideshow": {
     "slide_type": "fragment"
    }
   },
   "source": [
    "<code style=\"background:Thistle;color:black\"> You randomly choose one item from the bag. What is the probability you choose a stone?\n",
    "</code>"
   ]
  },
  {
   "cell_type": "markdown",
   "id": "3230d81f",
   "metadata": {
    "slideshow": {
     "slide_type": "fragment"
    }
   },
   "source": [
    "answer"
   ]
  },
  {
   "cell_type": "markdown",
   "id": "d8729727",
   "metadata": {
    "slideshow": {
     "slide_type": "fragment"
    }
   },
   "source": [
    "<code style=\"background:Thistle;color:black\"> Suppose you randomly choose one item from the bag and you know it is a marble. Given this info, what is the probability your item is purple?\n",
    "</code>"
   ]
  },
  {
   "cell_type": "code",
   "execution_count": null,
   "id": "1dc8dfa2",
   "metadata": {
    "slideshow": {
     "slide_type": "fragment"
    }
   },
   "outputs": [],
   "source": [
    "answer"
   ]
  },
  {
   "cell_type": "markdown",
   "id": "d0dd2778",
   "metadata": {
    "slideshow": {
     "slide_type": "fragment"
    }
   },
   "source": [
    "<code style=\"background:Thistle;color:black\"> Suppose you randomly choose one item from the bag and you know it is a marble. Given this info, what is the probability your item is blue?\n",
    "</code>"
   ]
  },
  {
   "cell_type": "code",
   "execution_count": null,
   "id": "1ea02b1c",
   "metadata": {
    "slideshow": {
     "slide_type": "fragment"
    }
   },
   "outputs": [],
   "source": [
    "answer"
   ]
  },
  {
   "cell_type": "markdown",
   "id": "f0cd9e79",
   "metadata": {
    "hideCode": false,
    "hidePrompt": true,
    "slideshow": {
     "slide_type": "slide"
    }
   },
   "source": [
    "We can calculate probabilities mathematically and also by simulation!"
   ]
  },
  {
   "cell_type": "markdown",
   "id": "3aabff04",
   "metadata": {
    "hideCode": false,
    "hidePrompt": true,
    "slideshow": {
     "slide_type": "fragment"
    }
   },
   "source": [
    "**For example:** suppose we roll a 6 sided die once. Since each outcome is equally likely to occur (i.e. this follows a uniform distribution), then we know\n",
    "\n",
    "$P(\\text{'rolling a 1'}) = \\frac{1}{6}$\n",
    "\n",
    "$P(\\text{'rolling a 2'}) = \\frac{1}{6}$\n",
    "\n",
    "$P(\\text{'rolling a 3'}) = \\frac{1}{6}$\n",
    "\n",
    "$P(\\text{'rolling a 4'}) = \\frac{1}{6}$\n",
    "\n",
    "$P(\\text{'rolling a 5'}) = \\frac{1}{6}$\n",
    "\n",
    "$P(\\text{'rolling a 6'}) = \\frac{1}{6}$\n"
   ]
  },
  {
   "cell_type": "markdown",
   "id": "6a1163b6",
   "metadata": {
    "hideCode": false,
    "hidePrompt": true,
    "slideshow": {
     "slide_type": "slide"
    }
   },
   "source": [
    "But we can also **simulate** this and estimate the probability **by observation**"
   ]
  },
  {
   "cell_type": "markdown",
   "id": "cc243e68",
   "metadata": {
    "hideCode": false,
    "hidePrompt": true,
    "slideshow": {
     "slide_type": "fragment"
    }
   },
   "source": [
    "Here we'll create and sample from a DataFrame!"
   ]
  },
  {
   "cell_type": "code",
   "execution_count": null,
   "id": "798c1c85",
   "metadata": {
    "hideCode": false,
    "hidePrompt": true,
    "slideshow": {
     "slide_type": "fragment"
    }
   },
   "outputs": [],
   "source": [
    "import pandas as pd\n",
    "import numpy as np\n",
    "import matplotlib.pyplot as plt\n",
    "plt.style.use('fivethirtyeight')\n",
    "\n",
    "die = pd.DataFrame(\n",
    "   {\n",
    "       'Face': np.arange(1, 7),\n",
    "   })\n",
    "die"
   ]
  },
  {
   "cell_type": "code",
   "execution_count": null,
   "id": "75e28f4a",
   "metadata": {
    "hideCode": false,
    "hidePrompt": true,
    "slideshow": {
     "slide_type": "fragment"
    }
   },
   "outputs": [],
   "source": [
    "die.sample(1)"
   ]
  },
  {
   "cell_type": "code",
   "execution_count": null,
   "id": "3bdcdbd4",
   "metadata": {
    "hideCode": false,
    "hidePrompt": true,
    "slideshow": {
     "slide_type": "fragment"
    }
   },
   "outputs": [],
   "source": [
    "die.sample(5) ##Oops recall the default is to sample without replacement"
   ]
  },
  {
   "cell_type": "code",
   "execution_count": null,
   "id": "1fe7dff4",
   "metadata": {
    "hideCode": false,
    "hidePrompt": true,
    "slideshow": {
     "slide_type": "fragment"
    }
   },
   "outputs": [],
   "source": [
    "die.sample(100, replace = True)  #this creates a new dataframe with 100 number of rows"
   ]
  },
  {
   "cell_type": "code",
   "execution_count": null,
   "id": "89ee47af",
   "metadata": {},
   "outputs": [],
   "source": []
  },
  {
   "cell_type": "markdown",
   "id": "aa010b70",
   "metadata": {
    "hideCode": false,
    "hidePrompt": true,
    "slideshow": {
     "slide_type": "slide"
    }
   },
   "source": [
    "If we sample from a DataFrame, we can directly plot the results:"
   ]
  },
  {
   "cell_type": "code",
   "execution_count": null,
   "id": "94b0786d",
   "metadata": {},
   "outputs": [],
   "source": [
    "#this code graphs the true distribution\n",
    "portions = pd.DataFrame(\n",
    "   {\n",
    "       'Face': [1, 2, 3, 4, 5, 6],\n",
    "   })\n",
    "portions"
   ]
  },
  {
   "cell_type": "code",
   "execution_count": null,
   "id": "b590534f",
   "metadata": {},
   "outputs": [],
   "source": [
    "roll_bins = np.arange(0.5, 7, 1)\n",
    "plt.hist(np.arange(1,7), density = True, bins=roll_bins)#\n",
    "\n",
    "plt.scatter(3.5, 0.005, color='purple', s=30, zorder=2);\n",
    "plt.title('True Distribution')  \n",
    "plt.ylabel('Probability')\n",
    "plt.xlabel('Roll of the Die')\n",
    "plt.show()\n",
    "\n"
   ]
  },
  {
   "cell_type": "code",
   "execution_count": null,
   "id": "ce8b57c0",
   "metadata": {},
   "outputs": [],
   "source": [
    "#roll_bins = np.arange(0.5, 7, 1)\n",
    "#roll_bins\n",
    "np.arange(1,7)"
   ]
  },
  {
   "cell_type": "code",
   "execution_count": null,
   "id": "1d3fd495",
   "metadata": {
    "hideCode": false,
    "hidePrompt": true,
    "slideshow": {
     "slide_type": "fragment"
    }
   },
   "outputs": [],
   "source": [
    "# note, starting the bins at 0.5 will give us bars centered nicely over the face numbers\n",
    "df= die.sample(12, replace=True) \n",
    "roll_bins = np.arange(0.5, 7, 1) \n",
    "df.hist(bins=roll_bins,density=True)\n",
    "plt.title('12 rolls')\n",
    "average = df.mean()\n",
    "\n",
    "plt.scatter(average, 0.005, color='purple', s=30, zorder=2);\n",
    "plt.ylabel('Probability')\n",
    "plt.xlabel('Roll of the Die')"
   ]
  },
  {
   "cell_type": "code",
   "execution_count": null,
   "id": "bd856ed8",
   "metadata": {
    "hideCode": false,
    "hidePrompt": true,
    "slideshow": {
     "slide_type": "fragment"
    }
   },
   "outputs": [],
   "source": [
    "df = die.sample(100, replace=True)\n",
    "df.hist(bins=roll_bins, density=True)\n",
    "plt.ylabel('Probability')\n",
    "plt.title('100 rolls')\n",
    "average = df.mean()\n",
    "print(average)\n",
    "plt.scatter(average, 0.005, color='purple', s=30, zorder=2);\n",
    "plt.xlabel('Roll of the Die')\n"
   ]
  },
  {
   "cell_type": "code",
   "execution_count": null,
   "id": "cad15135",
   "metadata": {
    "hideCode": false,
    "hidePrompt": true,
    "slideshow": {
     "slide_type": "fragment"
    }
   },
   "outputs": [],
   "source": [
    "df = die.sample(1000, replace=True)\n",
    "df.hist(bins=roll_bins, density=True)\n",
    "plt.ylabel('Probability')\n",
    "plt.title('1000 rolls')\n",
    "average = df.mean()\n",
    "print(average)\n",
    "plt.scatter(average, 0.005, color='purple', s=30, zorder=2);\n",
    "plt.xlabel('Roll of the Die')\n"
   ]
  },
  {
   "cell_type": "code",
   "execution_count": null,
   "id": "fcf6ba5d",
   "metadata": {
    "hideCode": false,
    "hidePrompt": true,
    "slideshow": {
     "slide_type": "fragment"
    }
   },
   "outputs": [],
   "source": [
    "\n",
    "df = die.sample(100_000, replace=True)\n",
    "df.hist(bins=roll_bins, density=True)\n",
    "plt.ylabel('Probability')\n",
    "plt.title('100,000 rolls')\n",
    "average = df.mean()\n",
    "print(average)\n",
    "plt.scatter(average, 0.005, color='purple', s=30, zorder=2);\n",
    "\n",
    "plt.xlabel('Roll of the Die')"
   ]
  },
  {
   "cell_type": "markdown",
   "id": "5e1dbc0e",
   "metadata": {
    "hideCode": false,
    "hidePrompt": true,
    "slideshow": {
     "slide_type": "slide"
    }
   },
   "source": [
    "In fact, this has a special name. An **empirical distribution** is a distribution of observed data."
   ]
  },
  {
   "cell_type": "markdown",
   "id": "d0cf331e",
   "metadata": {
    "hideCode": false,
    "hidePrompt": true,
    "slideshow": {
     "slide_type": "fragment"
    }
   },
   "source": [
    "We can calculate the observed probabilies:"
   ]
  },
  {
   "cell_type": "code",
   "execution_count": null,
   "id": "002d497a",
   "metadata": {
    "hideCode": false,
    "hidePrompt": true,
    "slideshow": {
     "slide_type": "fragment"
    }
   },
   "outputs": [],
   "source": [
    "empirical_probabilites = (die.sample(1_000, replace=True).value_counts())/1_000\n",
    "empirical_probabilites "
   ]
  },
  {
   "cell_type": "code",
   "execution_count": null,
   "id": "88bfe668",
   "metadata": {},
   "outputs": [],
   "source": [
    "1/6"
   ]
  }
 ],
 "metadata": {
  "kernelspec": {
   "display_name": "Python 3 (ipykernel)",
   "language": "python",
   "name": "python3"
  },
  "language_info": {
   "codemirror_mode": {
    "name": "ipython",
    "version": 3
   },
   "file_extension": ".py",
   "mimetype": "text/x-python",
   "name": "python",
   "nbconvert_exporter": "python",
   "pygments_lexer": "ipython3",
   "version": "3.12.1"
  },
  "rise": {
   "enable_chalkboard": true,
   "scroll": true
  }
 },
 "nbformat": 4,
 "nbformat_minor": 5
}
