{
 "cells": [
  {
   "cell_type": "markdown",
   "id": "a45e7fde",
   "metadata": {
    "slideshow": {
     "slide_type": "slide"
    },
    "tags": [
     "hide_code"
    ]
   },
   "source": [
    "<center> \n",
    "\n",
    "# Introduction to Data Science\n",
    "    \n",
    "## Arrays\n",
    "\n",
    "### Dr. Lange\n",
    "### Data 118 - Winter 2024 \n",
    "    \n",
    "</center>\n",
    "<center> \n",
    "<img src=\"https://raw.githubusercontent.com/amandakube/Data118LectureImages/main/UChicago_DSI.png\" alt=\"UC-DSI\" width=\"600\" height=\"700\">\n",
    "</center>"
   ]
  },
  {
   "cell_type": "markdown",
   "id": "e4af5aca",
   "metadata": {
    "slideshow": {
     "slide_type": "slide"
    }
   },
   "source": [
    "### Last time:\n",
    "\n",
    "We explored\n",
    " - names/assignments\n",
    " \n",
    " - operations/comparisons\n",
    " \n",
    " - lists/arrays\n",
    " \n",
    " - built-in functions and methods\n",
    " \n",
    "### Goal for today\n",
    "\n",
    " - more lists\n",
    " \n",
    " - arrays"
   ]
  },
  {
   "cell_type": "markdown",
   "id": "95dc8388",
   "metadata": {
    "slideshow": {
     "slide_type": "slide"
    }
   },
   "source": [
    "## Some review\n",
    "Built in functions take the form\n",
    "\n",
    "```python \n",
    "function_name()\n",
    "```\n",
    "and methods are of the form\n",
    "```python \n",
    "object.method()\n",
    "```\n",
    "\n",
    "For example:\n",
    "\n",
    "```print(), type()```....functions or methods??\n",
    "\n",
    "```.count(), .replace()```....functions or methods??"
   ]
  },
  {
   "cell_type": "markdown",
   "id": "a171ad0e",
   "metadata": {
    "slideshow": {
     "slide_type": "slide"
    }
   },
   "source": [
    "\n",
    "## Grouping Data using Arrays \n",
    " (from the NumPy library)\n",
    "\n",
    "<img style=\"float: right;\" src=\"https://raw.githubusercontent.com/amandakube/Data118LectureImages/main/NumPy.png\" alt=\"NumPy Logo\" width=\"100\" height=\"100\">\n",
    "\n",
    "Arrays contain a sequence of values"
   ]
  },
  {
   "cell_type": "markdown",
   "id": "5c8502bf",
   "metadata": {
    "slideshow": {
     "slide_type": "fragment"
    }
   },
   "source": [
    "\n",
    " - All elements of an array must have the same data type\n",
    " \n",
    "   - Why? Numpy arrays were built for efficient computation"
   ]
  },
  {
   "cell_type": "markdown",
   "id": "ea7ae4c1",
   "metadata": {
    "slideshow": {
     "slide_type": "fragment"
    }
   },
   "source": [
    " - Can perform operations on all elements in one step\n",
    " \n",
    " \n",
    " - When two arrays are added they must have the same size \n",
    " \n",
    "   - Corresponds to elementwise addition"
   ]
  },
  {
   "cell_type": "markdown",
   "id": "656c9129",
   "metadata": {
    "slideshow": {
     "slide_type": "slide"
    }
   },
   "source": [
    "<img style=\"float: right;\" src=\"https://raw.githubusercontent.com/amandakube/Data118LectureImages/main/NumPy.png\" alt=\"NumPy Logo\" width=\"200\" height=\"200\">\n",
    "\n",
    "Arrays “form the core of nearly the entire ecosystem of data science tools in Python”\n",
    "\n",
    "<font color='red'>Arrays are not built-in to Python, we get them from the NumPy library</font>"
   ]
  },
  {
   "cell_type": "markdown",
   "id": "ef998708",
   "metadata": {
    "slideshow": {
     "slide_type": "slide"
    }
   },
   "source": [
    "### Lists vs Arrays\n",
    "\n",
    "* Lists are more flexible:\n",
    "  * Can contain elements of different types.\n",
    "\n",
    "\n",
    "* Numpy arrays have some other advantages:\n",
    "  * Size – They take up less computer memory than lists\n",
    "  * Performance - They faster to access than lists\n",
    "  * Functionality - NumPy have optimized functions such as linear algebra operations built in.\n",
    "\n",
    "The advantages of arrays become more noticeable as the number of values you are storing in them increases\n",
    "* “Big Data”"
   ]
  },
  {
   "cell_type": "markdown",
   "id": "824c9d58",
   "metadata": {
    "slideshow": {
     "slide_type": "slide"
    }
   },
   "source": [
    "### Creating an array\n",
    "\n",
    "\n",
    "First import the NumPy library!!\n",
    "\n",
    "```python \n",
    "import numpy as np\n",
    "\n",
    "np.array([])\n",
    "```"
   ]
  },
  {
   "cell_type": "code",
   "execution_count": 2,
   "id": "be42cfc6",
   "metadata": {
    "slideshow": {
     "slide_type": "fragment"
    }
   },
   "outputs": [],
   "source": [
    "import numpy as np"
   ]
  },
  {
   "cell_type": "markdown",
   "id": "76df300e",
   "metadata": {
    "slideshow": {
     "slide_type": "fragment"
    }
   },
   "source": [
    "You may get an error running this line.\n",
    "\n",
    "If so, you might need to install numpy...\n",
    "Run the following in your commandline/terminal:\n",
    "\n",
    "`pip install numpy`\n",
    "\n",
    "\n",
    "(may need pip3)"
   ]
  },
  {
   "cell_type": "markdown",
   "id": "19eb8909",
   "metadata": {
    "slideshow": {
     "slide_type": "fragment"
    }
   },
   "source": [
    "Check if this import works:\n",
    "\n",
    "If not, you may need \n",
    "`pip install pandas`"
   ]
  },
  {
   "cell_type": "code",
   "execution_count": 4,
   "id": "45a9adaf",
   "metadata": {
    "slideshow": {
     "slide_type": "fragment"
    }
   },
   "outputs": [
    {
     "ename": "ModuleNotFoundError",
     "evalue": "No module named 'pandas'",
     "output_type": "error",
     "traceback": [
      "\u001b[0;31m---------------------------------------------------------------------------\u001b[0m",
      "\u001b[0;31mModuleNotFoundError\u001b[0m                       Traceback (most recent call last)",
      "\u001b[1;32m/Users/stevenalnemri/Desktop/DATA 118/LECTURES/Lecture_03_arrays.ipynb Cell 13\u001b[0m line \u001b[0;36m1\n\u001b[0;32m----> <a href='vscode-notebook-cell:/Users/stevenalnemri/Desktop/DATA%20118/LECTURES/Lecture_03_arrays.ipynb#X15sZmlsZQ%3D%3D?line=0'>1</a>\u001b[0m \u001b[39mimport\u001b[39;00m \u001b[39mpandas\u001b[39;00m \u001b[39mas\u001b[39;00m \u001b[39mpd\u001b[39;00m\n",
      "\u001b[0;31mModuleNotFoundError\u001b[0m: No module named 'pandas'"
     ]
    }
   ],
   "source": [
    "import pandas as pd"
   ]
  },
  {
   "cell_type": "markdown",
   "id": "775708fa",
   "metadata": {
    "slideshow": {
     "slide_type": "slide"
    }
   },
   "source": [
    "#### Creating an array"
   ]
  },
  {
   "cell_type": "code",
   "execution_count": null,
   "id": "c1d0db72",
   "metadata": {
    "slideshow": {
     "slide_type": "fragment"
    }
   },
   "outputs": [],
   "source": [
    "np.array([1,2])"
   ]
  },
  {
   "cell_type": "markdown",
   "id": "e1a07553",
   "metadata": {
    "slideshow": {
     "slide_type": "slide"
    }
   },
   "source": [
    "We said lists can have elements of different type.\n"
   ]
  },
  {
   "cell_type": "code",
   "execution_count": null,
   "id": "7a37d973",
   "metadata": {
    "slideshow": {
     "slide_type": "fragment"
    }
   },
   "outputs": [],
   "source": [
    "tomato_list = [22, 38, 26, 35, 35,'tomato']\n",
    "print(tomato_list) "
   ]
  },
  {
   "cell_type": "markdown",
   "id": "28cf5219",
   "metadata": {
    "slideshow": {
     "slide_type": "fragment"
    }
   },
   "source": [
    "**What happens if we try to put different data types in an array?!**"
   ]
  },
  {
   "cell_type": "code",
   "execution_count": null,
   "id": "5c4dff4d",
   "metadata": {
    "slideshow": {
     "slide_type": "fragment"
    }
   },
   "outputs": [],
   "source": [
    "tomato_array = np.array([22, 38, 26, 35, 35,'tomato'])\n",
    "print(tomato_array)"
   ]
  },
  {
   "cell_type": "markdown",
   "id": "b8ce727c",
   "metadata": {
    "slideshow": {
     "slide_type": "fragment"
    }
   },
   "source": [
    "A list has different types, an array will default to one, i.e. all ints were changed to strings\n",
    "\n",
    "\n",
    "An array will make sure everything is the same type"
   ]
  },
  {
   "cell_type": "markdown",
   "id": "8ddd8fde",
   "metadata": {
    "slideshow": {
     "slide_type": "slide"
    }
   },
   "source": [
    "### One way to make an array:\n",
    "\n",
    "```python\n",
    "\n",
    "np.array([])\n",
    "\n",
    "```\n",
    "\n",
    "### Another way!\n",
    "#### Ranges (in numpy arrays)\n",
    "\n",
    "\n",
    "Arange is an array of consecutive numbers:\n",
    "\n",
    "```python \n",
    "np.arange(end)\n",
    "```\n",
    " An array of increasing integers from 0 up to `end - 1`\n",
    "\n",
    "\n",
    "In other words, calling ```np.arange()``` creates a half-closed interval \\[start,end) - the end value is not included"
   ]
  },
  {
   "cell_type": "code",
   "execution_count": null,
   "id": "ebb7e36d",
   "metadata": {
    "slideshow": {
     "slide_type": "fragment"
    }
   },
   "outputs": [],
   "source": [
    "np.arange(6)"
   ]
  },
  {
   "cell_type": "markdown",
   "id": "170ba102",
   "metadata": {
    "slideshow": {
     "slide_type": "slide"
    }
   },
   "source": [
    "### np.arange default settings\n",
    "\n",
    "`np.arange(start, end)`: An array of increasing integers from `start` up to `end - 1`\n",
    "\n",
    "`np.arange(start, end - 1, step)`: A range with `step` between consecutive values\n",
    "\n",
    "The range always includes `start` but excludes `end - 1`\n"
   ]
  },
  {
   "cell_type": "code",
   "execution_count": null,
   "id": "d7658aa9",
   "metadata": {
    "slideshow": {
     "slide_type": "fragment"
    }
   },
   "outputs": [
    {
     "ename": "NameError",
     "evalue": "name 'np' is not defined",
     "output_type": "error",
     "traceback": [
      "\u001b[0;31m---------------------------------------------------------------------------\u001b[0m",
      "\u001b[0;31mNameError\u001b[0m                                 Traceback (most recent call last)",
      "\u001b[1;32m/Users/stevenalnemri/Desktop/DATA 118/LECTURES/Lecture_03_arrays.ipynb Cell 24\u001b[0m line \u001b[0;36m1\n\u001b[0;32m----> <a href='vscode-notebook-cell:/Users/stevenalnemri/Desktop/DATA%20118/LECTURES/Lecture_03_arrays.ipynb#X32sZmlsZQ%3D%3D?line=0'>1</a>\u001b[0m np\u001b[39m.\u001b[39marange(\u001b[39m2\u001b[39m,\u001b[39m6\u001b[39m)\n",
      "\u001b[0;31mNameError\u001b[0m: name 'np' is not defined"
     ]
    }
   ],
   "source": [
    "np.arange(2,6)"
   ]
  },
  {
   "cell_type": "code",
   "execution_count": null,
   "id": "22a65a85",
   "metadata": {
    "slideshow": {
     "slide_type": "fragment"
    }
   },
   "outputs": [],
   "source": [
    "np.arange(2,6,2)"
   ]
  },
  {
   "cell_type": "markdown",
   "id": "d01ad098",
   "metadata": {
    "slideshow": {
     "slide_type": "slide"
    }
   },
   "source": [
    "### What can we explore using arrays?\n",
    "\n",
    " - Extraction and Slicing (extracting elements and sub-arrays)\n",
    " \n",
    " - Attributes (characteristics of arrays: shape, ndim, size)\n",
    " \n",
    " - Methods and Built-in Functions\n",
    "\n",
    " - Manipulation of Arrays (Operations, reshaping, ...)"
   ]
  },
  {
   "cell_type": "markdown",
   "id": "bac6634f",
   "metadata": {
    "slideshow": {
     "slide_type": "slide"
    }
   },
   "source": [
    "### Extraction and slicing \n",
    "\n",
    " - one dimensional arrays work exactly the same as lists!"
   ]
  },
  {
   "cell_type": "code",
   "execution_count": null,
   "id": "cfa63d06",
   "metadata": {
    "slideshow": {
     "slide_type": "fragment"
    }
   },
   "outputs": [],
   "source": [
    "prime20_array = np.array([2, 3, 5, 7, 11, 13, 17, 19])"
   ]
  },
  {
   "cell_type": "code",
   "execution_count": null,
   "id": "0b4f996c",
   "metadata": {
    "slideshow": {
     "slide_type": "fragment"
    }
   },
   "outputs": [],
   "source": [
    "print(prime20_array[1]) #extracts second element\n",
    "\n",
    "prime20_array[1:4] #starting at index 1 and up to (but excluding) index 4"
   ]
  },
  {
   "cell_type": "markdown",
   "id": "b8903114",
   "metadata": {
    "slideshow": {
     "slide_type": "slide"
    }
   },
   "source": [
    "### <mark style=\"background-color: Thistle\"> Code comprehension - same or different</mark>"
   ]
  },
  {
   "cell_type": "markdown",
   "id": "0048c0a4",
   "metadata": {
    "slideshow": {
     "slide_type": "slide"
    }
   },
   "source": [
    "### Arrays have attributes\n",
    "\n",
    "Characteristics of the object!\n",
    "(See \n",
    "[Online documentation](https://numpy.org/doc/stable/reference/generated/numpy.ndarray.html))\n",
    "\n",
    "- Size ---> .size\n",
    "\n",
    "- Shape ---> .shape"
   ]
  },
  {
   "cell_type": "code",
   "execution_count": null,
   "id": "00963772",
   "metadata": {
    "slideshow": {
     "slide_type": "subslide"
    }
   },
   "outputs": [],
   "source": [
    "prime20_array.size"
   ]
  },
  {
   "cell_type": "code",
   "execution_count": null,
   "id": "3a493e18",
   "metadata": {
    "slideshow": {
     "slide_type": "fragment"
    }
   },
   "outputs": [],
   "source": [
    "prime20_array.shape"
   ]
  },
  {
   "cell_type": "markdown",
   "id": "8cbb7158",
   "metadata": {
    "slideshow": {
     "slide_type": "slide"
    }
   },
   "source": [
    "### Arrays have useful methods\n",
    "\n",
    " -  .sum()\n",
    "    \n",
    " -  .reshape()\n",
    "\n",
    " -  .nonzero()\n",
    " \n",
    " \n",
    " (very incomplete list)\n",
    " \n",
    "(see the documentation for a complete list: \n",
    "[Online documentation](https://numpy.org/doc/stable/reference/generated/numpy.ndarray.html){preview-link=\"true\"}\n",
    ")"
   ]
  },
  {
   "cell_type": "code",
   "execution_count": null,
   "id": "772f74d5",
   "metadata": {
    "slideshow": {
     "slide_type": "fragment"
    }
   },
   "outputs": [],
   "source": [
    "print(prime50_array.sum())"
   ]
  },
  {
   "cell_type": "code",
   "execution_count": null,
   "id": "20daf183",
   "metadata": {
    "slideshow": {
     "slide_type": "fragment"
    }
   },
   "outputs": [],
   "source": [
    "#often there are multiple ways to solve a problem\n",
    "print(sum(prime50_array))\n",
    "print(np.sum(prime50_array)) #sum built in function (from NumPy library)"
   ]
  },
  {
   "cell_type": "code",
   "execution_count": null,
   "id": "b1aa3693",
   "metadata": {
    "slideshow": {
     "slide_type": "fragment"
    }
   },
   "outputs": [],
   "source": [
    "#In fact...\n",
    "print(prime50_array.size)\n",
    "print(len(prime50_array))"
   ]
  },
  {
   "cell_type": "markdown",
   "id": "83af6864",
   "metadata": {
    "slideshow": {
     "slide_type": "slide"
    }
   },
   "source": [
    "## Arrays have many useful built-in functions!"
   ]
  },
  {
   "cell_type": "code",
   "execution_count": null,
   "id": "c6393091",
   "metadata": {
    "slideshow": {
     "slide_type": "fragment"
    }
   },
   "outputs": [],
   "source": [
    "print(np.count_nonzero(np.array([1,2,0,2,1,0,2])))\n",
    "\n",
    "print(np.mean(prime50_array))"
   ]
  },
  {
   "cell_type": "markdown",
   "id": "3c9ebae3",
   "metadata": {
    "slideshow": {
     "slide_type": "slide"
    }
   },
   "source": [
    "## Another reason why arrays are useful!\n",
    "\n",
    "Elementwise operations!"
   ]
  },
  {
   "cell_type": "code",
   "execution_count": null,
   "id": "73b70b37",
   "metadata": {
    "slideshow": {
     "slide_type": "fragment"
    }
   },
   "outputs": [],
   "source": [
    "array_1 = np.arange(10)   #np.arange(10) = [0,1,2,3,4,5,6,7,8,9]\n",
    "array_2 = np.array([1,2,3,4,5,6,7,8,9,10])\n",
    "\n",
    "sum_array = array_1 + array_2\n",
    "sum_array"
   ]
  },
  {
   "cell_type": "code",
   "execution_count": null,
   "id": "d3167721",
   "metadata": {
    "slideshow": {
     "slide_type": "fragment"
    }
   },
   "outputs": [],
   "source": [
    "##What happens in the code below?\n",
    "np.array([1,2,3]) + np.array([4,5,6,7])"
   ]
  },
  {
   "cell_type": "markdown",
   "id": "55c5e252",
   "metadata": {
    "slideshow": {
     "slide_type": "slide"
    }
   },
   "source": [
    "### <mark style=\"background-color: Thistle\"> Code comprehension</mark>\n",
    "\n",
    "\n",
    "Why does this stop at 29 and not 30?"
   ]
  },
  {
   "cell_type": "code",
   "execution_count": null,
   "id": "1bb9ae79",
   "metadata": {
    "slideshow": {
     "slide_type": "fragment"
    }
   },
   "outputs": [],
   "source": [
    "print(np.arange(1,31,2))"
   ]
  },
  {
   "cell_type": "markdown",
   "id": "62607f6c",
   "metadata": {
    "slideshow": {
     "slide_type": "slide"
    }
   },
   "source": [
    "### Format code and text"
   ]
  },
  {
   "cell_type": "markdown",
   "id": "4d66033d",
   "metadata": {
    "slideshow": {
     "slide_type": "fragment"
    }
   },
   "source": [
    "What if we want to print a nice statement involving an array?  (With code output and text?)"
   ]
  },
  {
   "cell_type": "code",
   "execution_count": null,
   "id": "a8493238",
   "metadata": {
    "slideshow": {
     "slide_type": "fragment"
    }
   },
   "outputs": [],
   "source": [
    "prices = np.array([200, 31.5, 87.25])\n",
    "\n",
    "print(\"prices:\", prices) #the quotes correspond to printing an exact string.\n",
    "                        #But prices here is a variable\n",
    " #Note the comma is necessary!!!!!!!! "
   ]
  },
  {
   "cell_type": "code",
   "execution_count": null,
   "id": "04c9fbc0",
   "metadata": {
    "slideshow": {
     "slide_type": "slide"
    }
   },
   "outputs": [],
   "source": [
    "##These both work to print the same thing!\n",
    "print(\"final prices are \" + str(prices))"
   ]
  },
  {
   "cell_type": "markdown",
   "id": "192ac688",
   "metadata": {
    "slideshow": {
     "slide_type": "fragment"
    }
   },
   "source": [
    "### What if I wanted to add a period after and say:\n",
    "\n",
    "final prices are [200,31.5 ,87.25]."
   ]
  },
  {
   "cell_type": "code",
   "execution_count": null,
   "id": "5bbfbe5d",
   "metadata": {
    "slideshow": {
     "slide_type": "fragment"
    }
   },
   "outputs": [],
   "source": [
    "###write answer here"
   ]
  },
  {
   "cell_type": "markdown",
   "id": "cebd97a6",
   "metadata": {
    "slideshow": {
     "slide_type": "slide"
    }
   },
   "source": [
    "### We can even use functions in our print statements!"
   ]
  },
  {
   "cell_type": "code",
   "execution_count": null,
   "id": "6e1be6dc",
   "metadata": {
    "slideshow": {
     "slide_type": "fragment"
    }
   },
   "outputs": [],
   "source": [
    "\n",
    "print(\"final prices are \" + str(np.round(prices,1)) + \".\")\n"
   ]
  },
  {
   "cell_type": "markdown",
   "id": "26f5cfde",
   "metadata": {
    "slideshow": {
     "slide_type": "slide"
    }
   },
   "source": [
    "# We can also extract elements from an array! "
   ]
  },
  {
   "cell_type": "markdown",
   "id": "df845422",
   "metadata": {
    "slideshow": {
     "slide_type": "fragment"
    }
   },
   "source": [
    "This works exactly the same as list extraction and slicing!"
   ]
  },
  {
   "cell_type": "code",
   "execution_count": null,
   "id": "ce434a90",
   "metadata": {
    "slideshow": {
     "slide_type": "fragment"
    }
   },
   "outputs": [],
   "source": [
    "Passenger_array = np.array([22, 38, 26, 35, 35])\n",
    "Passenger_array[1] #extracts the second element"
   ]
  },
  {
   "cell_type": "code",
   "execution_count": null,
   "id": "000e7aeb",
   "metadata": {
    "slideshow": {
     "slide_type": "fragment"
    }
   },
   "outputs": [],
   "source": [
    "Passenger_array[1:2] #starting at index 1 and up to (but excluding) index 2"
   ]
  },
  {
   "cell_type": "code",
   "execution_count": null,
   "id": "76c8b82e",
   "metadata": {
    "slideshow": {
     "slide_type": "fragment"
    }
   },
   "outputs": [],
   "source": [
    "Passenger_array[::2] "
   ]
  },
  {
   "cell_type": "code",
   "execution_count": null,
   "id": "67a29999",
   "metadata": {
    "slideshow": {
     "slide_type": "fragment"
    }
   },
   "outputs": [],
   "source": [
    "#what does the above line of code do again? \n",
    "#replace me with an explanation"
   ]
  },
  {
   "cell_type": "markdown",
   "id": "f9cace18",
   "metadata": {
    "slideshow": {
     "slide_type": "slide"
    }
   },
   "source": [
    "### <mark style=\"background-color: Thistle\"> Code comprehension</mark>\n"
   ]
  }
 ],
 "metadata": {
  "kernelspec": {
   "display_name": "Python 3 (ipykernel)",
   "language": "python",
   "name": "python3"
  },
  "language_info": {
   "codemirror_mode": {
    "name": "ipython",
    "version": 3
   },
   "file_extension": ".py",
   "mimetype": "text/x-python",
   "name": "python",
   "nbconvert_exporter": "python",
   "pygments_lexer": "ipython3",
   "version": "3.12.0"
  }
 },
 "nbformat": 4,
 "nbformat_minor": 5
}
