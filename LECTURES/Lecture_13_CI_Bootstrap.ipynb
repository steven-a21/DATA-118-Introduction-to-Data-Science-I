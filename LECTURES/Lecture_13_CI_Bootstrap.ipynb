{
 "cells": [
  {
   "cell_type": "markdown",
   "id": "48915326",
   "metadata": {
    "slideshow": {
     "slide_type": "slide"
    }
   },
   "source": [
    "<center> \n",
    "\n",
    "# Confidence Intervals and Bootstrap\n",
    "  \n",
    "\n",
    "## Dr. Lange- University of Chicago\n",
    "## Data 11800 - Winter 2024 \n",
    "\n",
    "<img src=\"https://raw.githubusercontent.com/amandakube/Data118LectureImages/main/UChicago_DSI.png\" alt=\"UC-DSI\" width=\"500\" height=\"600\">\n",
    "    \n",
    "</center>"
   ]
  },
  {
   "cell_type": "code",
   "execution_count": null,
   "id": "ee487b3a",
   "metadata": {
    "slideshow": {
     "slide_type": "skip"
    }
   },
   "outputs": [],
   "source": [
    "import numpy as np\n",
    "import pandas as pd\n",
    "\n",
    "%matplotlib inline\n",
    "import matplotlib.pyplot as plt\n",
    "plt.style.use('fivethirtyeight')\n",
    "import warnings\n",
    "warnings.simplefilter('ignore', FutureWarning)"
   ]
  },
  {
   "cell_type": "markdown",
   "id": "a041f632",
   "metadata": {
    "slideshow": {
     "slide_type": "slide"
    }
   },
   "source": [
    "## Last time: Hypothesis Testing and AB Testing"
   ]
  },
  {
   "cell_type": "markdown",
   "id": "5afb786e",
   "metadata": {
    "slideshow": {
     "slide_type": "fragment"
    }
   },
   "source": [
    "In **hypothesis testing** you are answering the question, “Is the population like this or not?”\n",
    "Or \"Is our observed sample likely to be compatible with a null distribution? \"\n",
    "\n",
    "We could also be interested In **estimation**, you are answering the question, “What is the population like?” "
   ]
  },
  {
   "cell_type": "markdown",
   "id": "9d9e7182",
   "metadata": {
    "slideshow": {
     "slide_type": "slide"
    }
   },
   "source": [
    "## Estimation and Confidence Intervals\n",
    "\n",
    "Let's consider now the problem of estimation: use a sample statistic as an estimator of a parameter of the population. Is this a good estimator? How can we use simulations to learn about properties of estimators?\n",
    "\n",
    "We estimate from a known population to understand properties of the estimator.\n"
   ]
  },
  {
   "cell_type": "markdown",
   "id": "729c02c4",
   "metadata": {
    "slideshow": {
     "slide_type": "fragment"
    }
   },
   "source": [
    "Use a sample statistic as an estimator of a parameter of the population.\n",
    "\n",
    "If we report only the estimator, we probably will not hit the exact population parameter. \n",
    "\n",
    "If we report a range of plausible values we have a good shot at capturing the parameter.\n",
    "\n",
    "A plausible range of values for the population parameter is called a **confidence interval (CI)**.\n",
    "\n",
    "\n",
    "\n",
    "\n",
    "We will also show how to calculate 95% and 99% confidence intervals. We first need to talk about percentiles."
   ]
  },
  {
   "cell_type": "markdown",
   "id": "71c61448",
   "metadata": {
    "slideshow": {
     "slide_type": "slide"
    }
   },
   "source": [
    "### Percentiles and quantiles \n",
    "\n",
    "**Median:** The value that splits an ordered lists in two halves.\n",
    "\n",
    "**Percentile:** Let $p$ be a number between $0$ and $100$. The $p$-th percentile of a collection is a value $v$ that divides the data so that \n",
    "\n",
    "-  $p\\%$ are $\\leq v$ and \n",
    "\n",
    "-  $(100-p)\\%$ are $> v$.\n",
    "\n",
    "The 0.5 percentile is the median.\n",
    "\n",
    "**NOTE**: Percentile has many different definitions (as we shall soon see) in general all these values agree approximately for large data sets, but may differ substantially for small ones."
   ]
  },
  {
   "cell_type": "markdown",
   "id": "f0f13837",
   "metadata": {
    "slideshow": {
     "slide_type": "slide"
    }
   },
   "source": [
    "In words:  $p$-th percentile is the score that is less than or equal to $p\\%$ of the scores.\n",
    "\n",
    "For example, Suppose we have the array\n",
    "```python\n",
    "elements= np.array([43, 20, 51, 7, 28, 34])\n",
    "```"
   ]
  },
  {
   "cell_type": "code",
   "execution_count": null,
   "id": "48280af3",
   "metadata": {
    "slideshow": {
     "slide_type": "fragment"
    }
   },
   "outputs": [],
   "source": [
    "elements = np.array([43, 20, 51, 7, 28, 34])\n",
    "\n",
    "np.sort(elements)"
   ]
  },
  {
   "cell_type": "code",
   "execution_count": null,
   "id": "2d1f52b9",
   "metadata": {
    "slideshow": {
     "slide_type": "fragment"
    }
   },
   "outputs": [],
   "source": [
    "#note we might not always get a value from the data\n",
    "np.percentile(elements,50)  #the median!"
   ]
  },
  {
   "cell_type": "code",
   "execution_count": null,
   "id": "530297b1",
   "metadata": {
    "slideshow": {
     "slide_type": "fragment"
    }
   },
   "outputs": [],
   "source": [
    "# the quantile function in numpy \n",
    "np.quantile(elements,0.5)"
   ]
  },
  {
   "cell_type": "markdown",
   "id": "4a040376",
   "metadata": {},
   "source": [
    "### An optional aside on more info about percentile in numpy.\n",
    "\n",
    "(we will be skipping this in class)"
   ]
  },
  {
   "cell_type": "markdown",
   "id": "55d6ece2",
   "metadata": {
    "slideshow": {
     "slide_type": "slide"
    }
   },
   "source": [
    "Our definition of percentile, above is what you've likely seen if you've encountered the term before. \n",
    "However, it has a problem, for instance consider our sorted data \n",
    "\n",
    "\n",
    "```[ 7, 20, 28, 34, 43, 51]```\n"
   ]
  },
  {
   "cell_type": "markdown",
   "id": "f6275e52",
   "metadata": {
    "slideshow": {
     "slide_type": "fragment"
    }
   },
   "source": [
    " - If we try to determine the $10$-th percentile. As the data set only has $6$ elements, for any value $V$ either $0\\%$ of the data lies below $V$ or at least $\\frac{1}{6} \\approx 16.7\\%$ of the data lies below $V$."
   ]
  },
  {
   "cell_type": "markdown",
   "id": "720e1c0d",
   "metadata": {
    "slideshow": {
     "slide_type": "slide"
    }
   },
   "source": [
    "Despite this the function np.percentile still returns a value"
   ]
  },
  {
   "cell_type": "code",
   "execution_count": null,
   "id": "114519a2",
   "metadata": {
    "slideshow": {
     "slide_type": "fragment"
    }
   },
   "outputs": [],
   "source": [
    "elements = np.array([43, 20, 51, 7, 28, 34])\n",
    "np.sort(elements)"
   ]
  },
  {
   "cell_type": "code",
   "execution_count": null,
   "id": "1bff64a4",
   "metadata": {
    "slideshow": {
     "slide_type": "fragment"
    }
   },
   "outputs": [],
   "source": [
    "np.percentile(elements,10)"
   ]
  },
  {
   "cell_type": "code",
   "execution_count": null,
   "id": "290aaa23",
   "metadata": {
    "slideshow": {
     "slide_type": "fragment"
    }
   },
   "outputs": [],
   "source": [
    "#same answer this way too.\n",
    "np.quantile(elements, 0.1)"
   ]
  },
  {
   "cell_type": "markdown",
   "id": "3c97ffd7",
   "metadata": {
    "slideshow": {
     "slide_type": "fragment"
    }
   },
   "source": [
    "Surprisingly this value is greater than $7$. The ```np.percentile``` function can be described using the following definition of percentile. "
   ]
  },
  {
   "cell_type": "markdown",
   "id": "07594a34",
   "metadata": {},
   "source": [
    "### end of optional aside"
   ]
  },
  {
   "cell_type": "markdown",
   "id": "3ad8c122",
   "metadata": {
    "slideshow": {
     "slide_type": "slide"
    }
   },
   "source": [
    "**Percentile:** Let $V$ be an array. The $p$-th percentile of $V$ is the value $p\\%$ of the way from the minimum to the maximum in a sorted copy of $V$. If we end up between values a weighted average is used.\n",
    "\n",
    "With this definition: \n",
    "*   The $0$-th percentile is the minimum value.\n",
    "*   The $50$-th percentile is the median.\n",
    "*   The $100$-th percentile is the maximum value."
   ]
  },
  {
   "cell_type": "markdown",
   "id": "e5ab1702",
   "metadata": {
    "slideshow": {
     "slide_type": "slide"
    }
   },
   "source": [
    "### For our example array"
   ]
  },
  {
   "cell_type": "code",
   "execution_count": null,
   "id": "84cab804",
   "metadata": {
    "slideshow": {
     "slide_type": "fragment"
    }
   },
   "outputs": [],
   "source": [
    "elements = np.array([43, 20, 51, 7, 28, 34])\n",
    "np.sort(elements)"
   ]
  },
  {
   "cell_type": "code",
   "execution_count": null,
   "id": "b969e5f6",
   "metadata": {
    "slideshow": {
     "slide_type": "fragment"
    }
   },
   "outputs": [],
   "source": [
    "print(\"0-th percentile is\", np.percentile(elements,0))\n",
    "print(\"20-th percentile is\", np.percentile(elements,20))\n",
    "print(\"40-th percentile is\", np.percentile(elements,40))\n",
    "print(\"60-th percentile is\", np.percentile(elements,60))\n",
    "print(\"80-th percentile is\", np.percentile(elements,80))\n",
    "print(\"100-th percentile is\", np.percentile(elements,100))"
   ]
  },
  {
   "cell_type": "markdown",
   "id": "1eca5d77",
   "metadata": {
    "slideshow": {
     "slide_type": "slide"
    }
   },
   "source": [
    "Another way to split up data is with quartiles. This splits data into $4$ chunks of equal size."
   ]
  },
  {
   "cell_type": "markdown",
   "id": "336a0132",
   "metadata": {
    "slideshow": {
     "slide_type": "fragment"
    }
   },
   "source": [
    "<center>\n",
    "<img src = \"https://raw.githubusercontent.com/SusannaLange/Data_118_images/main/images/Probability/quantile.png\" width=\"400\" style=\"display: inline-block; margin: 0\" />\n",
    "</center>"
   ]
  },
  {
   "cell_type": "markdown",
   "id": "0408335a",
   "metadata": {
    "slideshow": {
     "slide_type": "slide"
    }
   },
   "source": [
    "The ```np.percentile``` has a few options if you want slightly different behavior. \n",
    "\n",
    " - Alternately ```np.quantile``` allows you to input numbers representing probabilities between $0$ and $1$, as opposed to percents."
   ]
  },
  {
   "cell_type": "code",
   "execution_count": null,
   "id": "11ab341b",
   "metadata": {
    "slideshow": {
     "slide_type": "fragment"
    }
   },
   "outputs": [],
   "source": [
    "print(np.quantile(elements,0.17))\n",
    "print(np.percentile(elements,17))"
   ]
  },
  {
   "cell_type": "markdown",
   "id": "d1a78374",
   "metadata": {
    "slideshow": {
     "slide_type": "fragment"
    }
   },
   "source": [
    "**Some other options for percentile in default settings**"
   ]
  },
  {
   "cell_type": "code",
   "execution_count": null,
   "id": "8ab278a5",
   "metadata": {
    "slideshow": {
     "slide_type": "fragment"
    }
   },
   "outputs": [],
   "source": [
    "#Recall our array:\n",
    "\n",
    "np.sort(elements)"
   ]
  },
  {
   "cell_type": "code",
   "execution_count": null,
   "id": "852028fa",
   "metadata": {
    "slideshow": {
     "slide_type": "fragment"
    }
   },
   "outputs": [],
   "source": [
    "# np.quantile and np.percentile have options for what to yield\n",
    "interp=['linear', 'higher', 'lower', 'nearest', 'midpoint']\n",
    "\n",
    "#We used linear (corresponds to a weighted average)\n",
    "\n",
    "\n",
    "# np.quantile and np.percentile have options for what to yield\n",
    "interp=['linear', 'higher', 'lower', 'nearest', 'midpoint']\n",
    "for i in interp: \n",
    "    print(i,np.quantile(elements,.5,interpolation=i))\n"
   ]
  },
  {
   "cell_type": "markdown",
   "id": "90b49876",
   "metadata": {
    "slideshow": {
     "slide_type": "slide"
    }
   },
   "source": [
    "## Confidence Intervals"
   ]
  },
  {
   "cell_type": "markdown",
   "id": "5967b808",
   "metadata": {
    "slideshow": {
     "slide_type": "fragment"
    }
   },
   "source": [
    "Given a population and a parameter of interest, $\\theta$\n",
    "\n",
    " - Estimator: a function of data, $\\hat{\\theta}$\n",
    "\n",
    " - If we report only the estimator, we probably won’t hit the exact population parameter. If we report a range of plausible values we have a good shot at capturing the parameter.\n",
    "\n",
    " - A plausible range of values for the population parameter is called a confidence interval (CI)."
   ]
  },
  {
   "cell_type": "markdown",
   "id": "4e203fa9",
   "metadata": {
    "slideshow": {
     "slide_type": "fragment"
    }
   },
   "source": [
    "How do we calculate a confidence interval....depends on what we know about the distribution."
   ]
  },
  {
   "cell_type": "markdown",
   "id": "221ad4e8",
   "metadata": {
    "slideshow": {
     "slide_type": "slide"
    }
   },
   "source": [
    "#### Option 1: Assume we know distribution for $\\hat{\\theta} - \\theta$"
   ]
  },
  {
   "cell_type": "markdown",
   "id": "318641f5",
   "metadata": {
    "slideshow": {
     "slide_type": "fragment"
    }
   },
   "source": [
    "<center>\n",
    "<img src = \"https://raw.githubusercontent.com/SusannaLange/Data_118_images/main/images/Probability/ci_image_1.png\" width=\"400\" style=\"display: inline-block; margin: 0\" />\n",
    "</center>"
   ]
  },
  {
   "cell_type": "markdown",
   "id": "a73fa54f",
   "metadata": {
    "slideshow": {
     "slide_type": "fragment"
    }
   },
   "source": [
    "\n",
    "$\\theta$ - the population parameter of interest\n",
    "\n",
    "\n",
    "$\\hat{\\theta}$  - estimate based on a sample of n observations\n",
    "\n",
    "Assume that the sampling distribution for $\\hat{\\theta} - {\\theta}$  is known"
   ]
  },
  {
   "cell_type": "markdown",
   "id": "60e6d1f7",
   "metadata": {
    "slideshow": {
     "slide_type": "fragment"
    }
   },
   "source": [
    "\n",
    "From the picture above, with probability 0.98:\n",
    "$L_0 \\leq \\hat{\\theta}  −\\theta  \\leq U_0$\n",
    "\n",
    "\n",
    "$\\hat{\\theta}  −U_0 \\leq \\theta \\leq\\hat{\\theta}  −L_0$\n",
    "\n",
    "\n",
    "We call $[\\hat{\\theta} −U_0, \\hat{\\theta} −L_0]$ a $98\\%$ confidence interval. Or a confidence interval at confidence level $98\\%$"
   ]
  },
  {
   "cell_type": "markdown",
   "id": "9e67f513",
   "metadata": {
    "slideshow": {
     "slide_type": "slide"
    }
   },
   "source": [
    "### Interpretation of Confidence Intervals"
   ]
  },
  {
   "cell_type": "markdown",
   "id": "30a57ace",
   "metadata": {
    "slideshow": {
     "slide_type": "fragment"
    }
   },
   "source": [
    "What does “98% confidence” mean"
   ]
  },
  {
   "cell_type": "markdown",
   "id": "9402e2b4",
   "metadata": {
    "slideshow": {
     "slide_type": "fragment"
    }
   },
   "source": [
    "<center>\n",
    "<img src = \"https://raw.githubusercontent.com/SusannaLange/Data_118_images/main/images/Probability/ci_image2.png\" width=\"500\" style=\"display: inline-block; margin: 0\" />\n",
    "</center>"
   ]
  },
  {
   "cell_type": "markdown",
   "id": "78753e18",
   "metadata": {
    "slideshow": {
     "slide_type": "fragment"
    }
   },
   "source": [
    "\n",
    " - The probability statements we made were about the distribution of $\\hat{\\theta}-\\theta$.\n",
    "\n",
    " - About 98% of the intervals constructed like this will cover the true population parameter $\\theta$.\n",
    "\n",
    " - After using a sample to construct an interval, the constructed interval either covers $\\theta$ or not. We don’t know!"
   ]
  },
  {
   "cell_type": "markdown",
   "id": "b02eab7b",
   "metadata": {
    "slideshow": {
     "slide_type": "slide"
    }
   },
   "source": [
    "##### Option 2: Suppose we know the sampling distribution for $\\hat{\\theta}$ "
   ]
  },
  {
   "cell_type": "markdown",
   "id": "be59f1d1",
   "metadata": {
    "slideshow": {
     "slide_type": "fragment"
    }
   },
   "source": [
    "<center>\n",
    "<img src = \"https://raw.githubusercontent.com/SusannaLange/Data_118_images/main/images/Probability/ci_image3.png\" width=\"500\" style=\"display: inline-block; margin: 0\" />\n",
    "</center>"
   ]
  },
  {
   "cell_type": "markdown",
   "id": "201b7b3f",
   "metadata": {
    "slideshow": {
     "slide_type": "fragment"
    }
   },
   "source": [
    " - Assume that the sampling distribution for $\\hat{\\theta}$ is known\n",
    "\n",
    " - Assume that it is symmetric around $\\theta$\n",
    "\n",
    " - Then, $U_1 −\\theta = \\theta −L_1 = W$ (width)\n",
    "\n",
    " - From the picture above, with probability 0.90:\n",
    "$$|\\hat{\\theta} −\\theta|\\leq W$$\n",
    "\n",
    "\n",
    "$$\\hat{\\theta} −W \\leq \\theta  \\leq \\hat{\\theta} + W$$\n",
    "\n",
    " -We call $[\\hat{\\theta} −W , \\hat{\\theta}+ W ]$ a 90% confidence interval"
   ]
  },
  {
   "cell_type": "markdown",
   "id": "3430d346",
   "metadata": {
    "slideshow": {
     "slide_type": "slide"
    }
   },
   "source": [
    "### How to calculate confidence intervals (CI)"
   ]
  },
  {
   "cell_type": "markdown",
   "id": "71457c23",
   "metadata": {
    "slideshow": {
     "slide_type": "fragment"
    }
   },
   "source": [
    "To calculate confidence intervals we need the sampling\n",
    "distribution of $\\hat{\\theta}$ or $\\hat{\\theta} −\\theta$\n",
    "\n",
    "\n",
    " - Classical statistical methods use mathematics to solve this....we use simulation:\n",
    " \n",
    " \n",
    " - In Option 1, (know distribution $\\hat{\\theta} −\\theta$):  CI is $[\\hat{\\theta} −U_0, \\hat{\\theta} −L_0]$\n",
    "\n",
    "        \n",
    " - In Option  2, (know distribution $\\hat{\\theta}$): CI is $[\\hat{\\theta} −W , \\hat{\\theta} + W ]$\n"
   ]
  },
  {
   "cell_type": "markdown",
   "id": "ba23af0a",
   "metadata": {
    "slideshow": {
     "slide_type": "slide"
    }
   },
   "source": [
    "### Example"
   ]
  },
  {
   "cell_type": "markdown",
   "id": "ef87d646",
   "metadata": {
    "slideshow": {
     "slide_type": "slide"
    }
   },
   "source": [
    "\n",
    "## Global warming \n",
    "\n",
    "\n",
    "#### What percentage of Americans believe in global warming? Do the beliefs differ by gender or political party? "
   ]
  },
  {
   "cell_type": "markdown",
   "id": "7d1c7309",
   "metadata": {
    "slideshow": {
     "slide_type": "fragment"
    }
   },
   "source": [
    "Gallup's annual survey about the environment, conducted March 2018, found that Americans' opinions about global warming, like many other issues, have increasingly become politically polarized:\n",
    "\n",
    "https://news.gallup.com/poll/231530/global-warming-concern-steady-despite-partisan-shifts.aspx\n",
    "\n",
    "\n"
   ]
  },
  {
   "cell_type": "markdown",
   "id": "c545a21c",
   "metadata": {
    "slideshow": {
     "slide_type": "fragment"
    }
   },
   "source": [
    "To investigate the public beliefs on global warming, we downloaded data from Gallup Analytics (used to be freely available to everybody on University of Chicago campus):\n",
    "\n",
    "https://analyticscampus.gallup.com/Tables/\n"
   ]
  },
  {
   "cell_type": "markdown",
   "id": "267589ff",
   "metadata": {
    "slideshow": {
     "slide_type": "fragment"
    }
   },
   "source": [
    "We will focus first on the following question.\n",
    "*Thinking about what is said in the news, in your view is the seriousness of global warming:*\n",
    "-  generally exaggerated\n",
    "-  generally correct\n",
    "-  or is it generally underestimated?\t\n",
    "\n",
    "We will construct a 99% confidence interval for proportion of Americans who believe that **the seriousness of global warming is generally underestimated.**"
   ]
  },
  {
   "cell_type": "code",
   "execution_count": null,
   "id": "9dc4d465",
   "metadata": {
    "scrolled": true,
    "slideshow": {
     "slide_type": "slide"
    }
   },
   "outputs": [],
   "source": [
    "gallup_df = pd.read_csv('https://raw.githubusercontent.com/SusannaLange/Data_118_Images/main/Data/GlobalWarming.csv')\n",
    "\n",
    "gallup_df.head(7)"
   ]
  },
  {
   "cell_type": "markdown",
   "id": "4adfc71e",
   "metadata": {
    "slideshow": {
     "slide_type": "fragment"
    }
   },
   "source": [
    "Parameter of interest?? Population Proportion\n",
    "\n",
    "We will focus on 2016 data"
   ]
  },
  {
   "cell_type": "markdown",
   "id": "8ca9ba2e",
   "metadata": {
    "slideshow": {
     "slide_type": "fragment"
    }
   },
   "source": [
    "In order to build our inference on the parameter of interest (population proportion), we need to know the counts of subjects in each category. Note that the data only shows the sample proportions rounded to the \"nearest\" integer."
   ]
  },
  {
   "cell_type": "markdown",
   "id": "5c533888",
   "metadata": {
    "slideshow": {
     "slide_type": "fragment"
    }
   },
   "source": [
    "We know\n",
    "\n",
    "- N = 1019\n",
    "\n",
    "- Suppose we know the population proportion of those who answered 'generally underestimated' is .4\n",
    "\n",
    "- individuals were independently sampled"
   ]
  },
  {
   "cell_type": "markdown",
   "id": "69020eff",
   "metadata": {
    "slideshow": {
     "slide_type": "slide"
    }
   },
   "source": [
    "### So we can simulate the sampling distribution "
   ]
  },
  {
   "cell_type": "code",
   "execution_count": null,
   "id": "d040cbc8",
   "metadata": {
    "slideshow": {
     "slide_type": "fragment"
    }
   },
   "outputs": [],
   "source": [
    "# simulate a sample of n subjects with a given probability of answering \"yes\"\n",
    "# output sample proportions\n",
    "def gallup_sim(n,pyes,nsim):\n",
    "    outcomes = np.array([])\n",
    "    for i in np.arange(nsim):\n",
    "        outcomes = np.append(outcomes, sum(np.random.choice(['Yes','Other'], n, p=[pyes, 1-pyes])=='Yes'))\n",
    "    return outcomes/n"
   ]
  },
  {
   "cell_type": "code",
   "execution_count": null,
   "id": "7f64518c",
   "metadata": {
    "slideshow": {
     "slide_type": "fragment"
    }
   },
   "outputs": [],
   "source": [
    "gallup_sim(1019,0.4,5)"
   ]
  },
  {
   "cell_type": "markdown",
   "id": "265273c1",
   "metadata": {
    "slideshow": {
     "slide_type": "slide"
    }
   },
   "source": [
    "If we know the population proportion, we can simulate the sampling distribution of the sample proportion."
   ]
  },
  {
   "cell_type": "code",
   "execution_count": null,
   "id": "7d544610",
   "metadata": {
    "slideshow": {
     "slide_type": "fragment"
    }
   },
   "outputs": [],
   "source": [
    "# we are simulating now the sampling distribution when the population parameter is 0.4\n",
    "np.random.seed(0)\n",
    "simulation_results=gallup_sim(1019,0.4,1000)\n",
    "plt.hist(simulation_results,bins=np.arange(0.35,0.45,0.01))\n",
    "plt.scatter(0.4, -10, color='purple', s=100)\n",
    "plt.title(\"P(Yes)=0.4 and 1000 simulations\")\n",
    "plt.show()"
   ]
  },
  {
   "cell_type": "code",
   "execution_count": null,
   "id": "d4b731a1",
   "metadata": {
    "slideshow": {
     "slide_type": "fragment"
    }
   },
   "outputs": [],
   "source": [
    "# the average of the 1000 estimates\n",
    "np.mean(simulation_results)"
   ]
  },
  {
   "cell_type": "markdown",
   "id": "9b780bc6",
   "metadata": {
    "slideshow": {
     "slide_type": "slide"
    }
   },
   "source": [
    "Each simulation result is an estimation of the true probability. Their distribution is centered at the true proportion (no bias).\n",
    "\n",
    "How far are most simulation results from the truth? \n",
    "\n",
    "We need to define \"most\" - let's say we ignore the 1% most extreme values, 0.5% on each tail. Symmetry helps here.\n",
    "\n",
    "\n",
    "\n",
    "Note: know distribution $\\hat{\\theta}$: CI is $[\\hat{\\theta} −W , \\hat{\\theta} + W ]$"
   ]
  },
  {
   "cell_type": "code",
   "execution_count": null,
   "id": "ba53b4dd",
   "metadata": {
    "slideshow": {
     "slide_type": "fragment"
    }
   },
   "outputs": [],
   "source": [
    "# the 0.005 quantile of the 1000 simulated samples\n",
    "np.percentile(simulation_results,0.5)"
   ]
  },
  {
   "cell_type": "code",
   "execution_count": null,
   "id": "d6803836",
   "metadata": {
    "slideshow": {
     "slide_type": "fragment"
    }
   },
   "outputs": [],
   "source": [
    "# the 0.995 quantile of the 1000 simulated samples\n",
    "np.percentile(simulation_results,99.5)"
   ]
  },
  {
   "cell_type": "code",
   "execution_count": null,
   "id": "edd4332a",
   "metadata": {
    "slideshow": {
     "slide_type": "slide"
    }
   },
   "outputs": [],
   "source": [
    "# how wide to the left of 0.4 are most of the simulated \n",
    "0.4-np.percentile(simulation_results,0.5)"
   ]
  },
  {
   "cell_type": "code",
   "execution_count": null,
   "id": "92ced8e1",
   "metadata": {
    "slideshow": {
     "slide_type": "fragment"
    }
   },
   "outputs": [],
   "source": [
    "# how wide to the right of 0.4 are most of the simulated\n",
    "np.percentile(simulation_results,99.5)-0.4"
   ]
  },
  {
   "cell_type": "markdown",
   "id": "8ca22011",
   "metadata": {
    "slideshow": {
     "slide_type": "fragment"
    }
   },
   "source": [
    "Most simulations are approximately within 0.038 of the true proportions. \n",
    "\n",
    "It suggests the following **99% confidence interval:**\n",
    "$$[obsProp - 0.038, obsProp+0.038]$$\n",
    "\n",
    "$$[0.399 - 0.038, .399+0.038] = [0.361, 0.427]$$\n",
    "\n",
    "Note that we used simulations from a population with 40% of subjects answering \"yes\" to obtain the **width of the confidence interval**. Obviously, in practice we do not know the true value."
   ]
  },
  {
   "cell_type": "code",
   "execution_count": null,
   "id": "f1d47348",
   "metadata": {},
   "outputs": [],
   "source": [
    "np.random.seed(0)\n",
    "simulation_results=gallup_sim(1019,0.4,1000)\n",
    "plt.hist(simulation_results,bins=np.arange(0.34,0.47,0.01))\n",
    "plt.scatter(0.4, -10, color='purple', s=100)\n",
    "plt.plot([0.361, 0.427], [0, 0], color='yellow', lw=3, zorder=1);\n",
    "plt.title(\"P(Yes)=0.4 and 1000 simulations\")\n",
    "plt.show()"
   ]
  },
  {
   "cell_type": "markdown",
   "id": "1940378a",
   "metadata": {
    "slideshow": {
     "slide_type": "slide"
    }
   },
   "source": [
    "Normally we have only one sample!  What can we do?\n",
    "\n",
    "**Note....above, we assumed population proportion is 0.4 here, and we never have that information!!**"
   ]
  },
  {
   "cell_type": "markdown",
   "id": "754a625e",
   "metadata": {
    "slideshow": {
     "slide_type": "fragment"
    }
   },
   "source": [
    " - To calculate confidence intervals we need the sampling distribution of $\\hat{\\theta}$ or $\\hat{\\theta} −\\theta$\n",
    "    \n",
    "Intuitively, we can generate the sampling distribution as follows:\n",
    "- From the population\n",
    "- Draw samples of the same size\n",
    "- Calculate their $(\\hat\\theta-\\theta)$ or $\\hat\\theta$\n",
    "- Obtain their distribution    \n",
    "  \n",
    "\n",
    "\n",
    "\n",
    "...we don't have the population....Normally we have only one sample!"
   ]
  },
  {
   "cell_type": "markdown",
   "id": "a073fcd4",
   "metadata": {
    "slideshow": {
     "slide_type": "slide"
    }
   },
   "source": [
    "## The Bootstrap"
   ]
  },
  {
   "cell_type": "markdown",
   "id": "5b2016d8",
   "metadata": {
    "slideshow": {
     "slide_type": "slide"
    }
   },
   "source": [
    "**The bootstrap way:**\n",
    "    \n",
    "    \n",
    " - Declare the sample to be the \"population\"\n",
    "\n",
    " - Draw samples of the same size from the \"new population\"\n",
    "\n",
    " - Calculate the corresponding estimates, $\\hat{\\theta}$\n",
    " \n",
    " - Obtain their distribution\n",
    "\n",
    " - The samples are drawn with replacement"
   ]
  },
  {
   "cell_type": "markdown",
   "id": "c0ec916e",
   "metadata": {
    "slideshow": {
     "slide_type": "slide"
    }
   },
   "source": [
    "<center>\n",
    "<img src = \"https://raw.githubusercontent.com/SusannaLange/Data_118_images/main/images/Probability/bootstrap.png\" width=\"800\" style=\"display: inline-block; margin: 0\" />\n",
    "</center>"
   ]
  },
  {
   "cell_type": "markdown",
   "id": "aec03173",
   "metadata": {
    "slideshow": {
     "slide_type": "slide"
    }
   },
   "source": [
    "What is bootstrap again?\n",
    "\n",
    "\n",
    " - A bootstrap sample is a random sample taken with replacement from the original sample.\n",
    "\n",
    " - A bootstrap statistic is the statistic calculated from a bootstrap sample.\n",
    "\n",
    " - A bootstrap distribution is the empirical distribution of many bootstrap statistics."
   ]
  },
  {
   "cell_type": "markdown",
   "id": "c3dc9268",
   "metadata": {
    "slideshow": {
     "slide_type": "slide"
    }
   },
   "source": [
    "### Basic Bootstrap Method"
   ]
  },
  {
   "cell_type": "markdown",
   "id": "13489cf1",
   "metadata": {
    "slideshow": {
     "slide_type": "fragment"
    }
   },
   "source": [
    " Recall that $[\\hat{\\theta}−U_1, \\hat{\\theta}−L_1]$ is a confidence interval if\n",
    "sampling distribution of $\\hat{\\theta} −\\theta$ is known\n",
    "\n",
    " - The bootstrap version of Option 1 (replace percentiles with their bootstrap approximations): $[\\hat{\\theta} −U^b_1, \\hat{\\theta} −L^b_1 ]$ is called a basic bootstrap CI"
   ]
  },
  {
   "cell_type": "markdown",
   "id": "786500d8",
   "metadata": {
    "slideshow": {
     "slide_type": "slide"
    }
   },
   "source": [
    "<center>\n",
    "<img src = \"https://raw.githubusercontent.com/SusannaLange/Data_118_images/main/images/Probability/bootstrap2.png\" width=\"800\" style=\"display: inline-block; margin: 0\" />\n",
    "</center>"
   ]
  },
  {
   "cell_type": "markdown",
   "id": "9bd9909a",
   "metadata": {
    "slideshow": {
     "slide_type": "fragment"
    }
   },
   "source": [
    "#### Percentile Bootstrap"
   ]
  },
  {
   "cell_type": "markdown",
   "id": "7f371cf6",
   "metadata": {
    "slideshow": {
     "slide_type": "fragment"
    }
   },
   "source": [
    "Replace $W$ with $\\hat{W}$  in $[\\hat{\\theta} −W , \\hat{\\theta} + W]$\n",
    "\n",
    " - The bootstrap version of Option 2 (sampling distribution of $\\hat{\\theta}$): $[ L^b_1 ,U^b_1]$ is called a percentile bootstrap CI\n",
    "\n",
    "\n",
    " - Basic bootstrap CI is based on less assumptions\n"
   ]
  },
  {
   "cell_type": "markdown",
   "id": "acb4e99b",
   "metadata": {
    "slideshow": {
     "slide_type": "slide"
    }
   },
   "source": [
    "### For our example"
   ]
  },
  {
   "cell_type": "markdown",
   "id": "03fc6c7c",
   "metadata": {
    "slideshow": {
     "slide_type": "slide"
    }
   },
   "source": [
    "## Bootstrap\n",
    "\n",
    "\n",
    "**Percentile**\n",
    "\n",
    "Recall that we are interested in the proportion of Americans who believe that the seriousness of global warming is generally underestimated ($\\theta$) and we want to construct a 95% CI based on the sample of n=1019 subjects. \n",
    "\n",
    "We use $\\hat\\theta=403/1019 = 0.3954$."
   ]
  },
  {
   "cell_type": "code",
   "execution_count": null,
   "id": "26ada6f0",
   "metadata": {
    "slideshow": {
     "slide_type": "fragment"
    }
   },
   "outputs": [],
   "source": [
    "# my data consist of 403 \"yes\" and 616 \"other\" - for simplicity I will code them with 1 and 2\n",
    "\n",
    "my_data=1+np.zeros(1019)\n",
    "my_data[403:1019]=2\n",
    "\n",
    "sum(my_data==1)"
   ]
  },
  {
   "cell_type": "code",
   "execution_count": null,
   "id": "b96c86fe",
   "metadata": {
    "slideshow": {
     "slide_type": "skip"
    }
   },
   "outputs": [],
   "source": [
    "#wondering where the 403 came from? # We will assume that 403 people (181 male and 222 female) (.34*527=179.18 ->181)\n",
    "# responded yes to \"generally underestimated\""
   ]
  },
  {
   "cell_type": "code",
   "execution_count": null,
   "id": "469669aa",
   "metadata": {
    "slideshow": {
     "slide_type": "fragment"
    }
   },
   "outputs": [],
   "source": [
    "# note the choice I make for the \"parameter\" replace\n",
    "bootstrap_sample=np.random.choice(my_data,1019,replace=True)\n",
    "sum(bootstrap_sample==1)"
   ]
  },
  {
   "cell_type": "markdown",
   "id": "98457621",
   "metadata": {
    "slideshow": {
     "slide_type": "slide"
    }
   },
   "source": [
    "**Repeat the problem (this is the resampling bit)**"
   ]
  },
  {
   "cell_type": "code",
   "execution_count": null,
   "id": "99996214",
   "metadata": {
    "slideshow": {
     "slide_type": "fragment"
    }
   },
   "outputs": [],
   "source": [
    "# collect the results from nboots samples \n",
    "def gallup_resampling(my_data,nboots):\n",
    "    '''Write a doc string here...'''\n",
    "    outcomes = np.array([])\n",
    "    for i in np.arange(nboots):\n",
    "        bootstrap_sample=np.random.choice(my_data,len(my_data),replace=True)\n",
    "        num_yes=sum(bootstrap_sample==1) #1 is yes\n",
    "        outcomes = np.append(outcomes, num_yes/len(my_data))\n",
    "    return outcomes"
   ]
  },
  {
   "cell_type": "markdown",
   "id": "e59afbfa",
   "metadata": {
    "slideshow": {
     "slide_type": "fragment"
    }
   },
   "source": [
    "<code style=\"background:Thistle;color:black\"> How is this different than a permutation test? </code>"
   ]
  },
  {
   "cell_type": "markdown",
   "id": "e81d2caf",
   "metadata": {
    "slideshow": {
     "slide_type": "slide"
    }
   },
   "source": [
    "### We can visualize the results"
   ]
  },
  {
   "cell_type": "code",
   "execution_count": null,
   "id": "64bf7c7d",
   "metadata": {
    "scrolled": true,
    "slideshow": {
     "slide_type": "fragment"
    }
   },
   "outputs": [],
   "source": [
    "np.random.seed(0)\n",
    "bootstrap_results=gallup_resampling(my_data,1000)\n",
    "plt.hist(bootstrap_results,bins=np.arange(0.35,0.45,0.005))\n",
    "plt.scatter(0.3954, -5, color='purple', s=100) \n",
    "plt.title(\"obsP=0.3954 and 1000 bootstrap samples\")\n",
    "plt.show()"
   ]
  },
  {
   "cell_type": "markdown",
   "id": "b0adae48",
   "metadata": {
    "slideshow": {
     "slide_type": "slide"
    }
   },
   "source": [
    "**Goal:** Use this to build a confidence interval!\n",
    "Since we're using **percentile bootstrap** at a 95% confidence interval, we need the 2.5 and 97.5 percentiles."
   ]
  },
  {
   "cell_type": "code",
   "execution_count": null,
   "id": "1b6f2185",
   "metadata": {
    "scrolled": true,
    "slideshow": {
     "slide_type": "fragment"
    }
   },
   "outputs": [],
   "source": [
    "np.percentile(bootstrap_results,2.5)"
   ]
  },
  {
   "cell_type": "code",
   "execution_count": null,
   "id": "a07eb3bf",
   "metadata": {
    "slideshow": {
     "slide_type": "fragment"
    }
   },
   "outputs": [],
   "source": [
    "np.percentile(bootstrap_results,97.5)"
   ]
  },
  {
   "cell_type": "code",
   "execution_count": null,
   "id": "8030e56e",
   "metadata": {
    "slideshow": {
     "slide_type": "fragment"
    }
   },
   "outputs": [],
   "source": [
    "##Note we can alternately use quantiles here!! note the difference.\n",
    "np.quantile(bootstrap_results,0.025)\n",
    "np.quantile(bootstrap_results,0.975)"
   ]
  },
  {
   "cell_type": "markdown",
   "id": "c80225db",
   "metadata": {
    "slideshow": {
     "slide_type": "slide"
    }
   },
   "source": [
    "This gives [0.3640, 0.4249] as a 95% confidence interval. This is called a **percentile bootstrap confidence interval** (note that you might get a slightly different CI every time you run the procedure)."
   ]
  },
  {
   "cell_type": "markdown",
   "id": "8eeb180c",
   "metadata": {
    "slideshow": {
     "slide_type": "slide"
    }
   },
   "source": [
    "## Bootstrap\n",
    "\n",
    "\n",
    "**Basic Bootstrap**\n",
    "\n",
    "Recall that we are interested in the proportion of Americans who believe that the seriousness of global warming is generally underestimated ($\\theta$) and we want to construct a 95% CI based on the sample of n=1019 subjects that shows  $\\hat\\theta=403/1019 = 0.3954$."
   ]
  },
  {
   "cell_type": "markdown",
   "id": "1ff83578",
   "metadata": {
    "slideshow": {
     "slide_type": "fragment"
    }
   },
   "source": [
    "The first portion is exactly the same!\n",
    "\n",
    "Simulating the data and randomly sampling! The difference is the distribution (considering $\\hat{\\theta}-\\theta$) and the CI calculation.\n",
    "\n",
    "Note we treat the test statistic as the population parameter, hence we use 403/1019 as $\\theta$ when computing the distribution of $\\hat{\\theta}-\\theta$."
   ]
  },
  {
   "cell_type": "code",
   "execution_count": null,
   "id": "e01dec49",
   "metadata": {
    "slideshow": {
     "slide_type": "slide"
    }
   },
   "outputs": [],
   "source": [
    "# for the sampling distribution of Option 1\n",
    "plt.hist(bootstrap_results-403/1019,bins=np.arange(-0.05,0.05,0.005))\n",
    "plt.scatter(0, -5, color='purple', s=100)\n",
    "plt.title('Distribution of Differences')\n",
    "plt.show()"
   ]
  },
  {
   "cell_type": "markdown",
   "id": "86a02afb",
   "metadata": {
    "slideshow": {
     "slide_type": "fragment"
    }
   },
   "source": [
    "**Goal:** Use this to build a confidence interval!\n",
    "Since we're using **basic bootstrap** at a 95% confidence interval, we **still** need the 2.5 and 97.5 percentiles."
   ]
  },
  {
   "cell_type": "code",
   "execution_count": null,
   "id": "0c404249",
   "metadata": {
    "slideshow": {
     "slide_type": "fragment"
    }
   },
   "outputs": [],
   "source": [
    "L_0 = np.percentile(bootstrap_results-403/1019,2.5)\n",
    "U_0 = np.percentile(bootstrap_results-403/1019,97.5)\n",
    "L_0"
   ]
  },
  {
   "cell_type": "code",
   "execution_count": null,
   "id": "ea68bd4c",
   "metadata": {
    "slideshow": {
     "slide_type": "fragment"
    }
   },
   "outputs": [],
   "source": [
    "[403/1019-U_0,403/1019-L_0]"
   ]
  },
  {
   "cell_type": "markdown",
   "id": "9781b5c3",
   "metadata": {
    "slideshow": {
     "slide_type": "slide"
    }
   },
   "source": [
    "In the above simulation, we used only the observed data. It allows us to state that the 95% CI for the true proportion is: [0.365,0.427]  (note that you might get a slightly different CI every time you run the procedure).\n",
    "\n",
    "This is a **basic bootstrap 95% confidence interval.**"
   ]
  },
  {
   "cell_type": "code",
   "execution_count": null,
   "id": "767bc335",
   "metadata": {},
   "outputs": [],
   "source": []
  }
 ],
 "metadata": {
  "kernelspec": {
   "display_name": "Python 3 (ipykernel)",
   "language": "python",
   "name": "python3"
  },
  "language_info": {
   "codemirror_mode": {
    "name": "ipython",
    "version": 3
   },
   "file_extension": ".py",
   "mimetype": "text/x-python",
   "name": "python",
   "nbconvert_exporter": "python",
   "pygments_lexer": "ipython3",
   "version": "3.9.12"
  }
 },
 "nbformat": 4,
 "nbformat_minor": 5
}
