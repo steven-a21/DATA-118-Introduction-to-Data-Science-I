{
 "cells": [
  {
   "cell_type": "markdown",
   "id": "48915326",
   "metadata": {
    "slideshow": {
     "slide_type": "slide"
    }
   },
   "source": [
    "<center> \n",
    "\n",
    "# Multiple Testing\n",
    "\n",
    "## Dr. Lange- University of Chicago\n",
    "## Data 11800 - Winter 2024 \n",
    "\n",
    "<img src=\"https://raw.githubusercontent.com/amandakube/Data118LectureImages/main/UChicago_DSI.png\" alt=\"UC-DSI\" width=\"500\" height=\"600\">\n",
    "    \n",
    "</center>"
   ]
  },
  {
   "cell_type": "code",
   "execution_count": null,
   "id": "4b3d3651",
   "metadata": {},
   "outputs": [],
   "source": [
    "import numpy as np\n",
    "import pandas as pd\n",
    "\n",
    "%matplotlib inline\n",
    "import matplotlib.pyplot as plt\n",
    "plt.style.use('fivethirtyeight')"
   ]
  },
  {
   "cell_type": "markdown",
   "id": "75b6a541",
   "metadata": {
    "slideshow": {
     "slide_type": "slide"
    }
   },
   "source": [
    "# Multiple Testing"
   ]
  },
  {
   "cell_type": "markdown",
   "id": "8b88cc75",
   "metadata": {
    "slideshow": {
     "slide_type": "fragment"
    }
   },
   "source": [
    "## Hypotheses Testing (Recap)\n",
    "\n",
    "Ingredients:\n",
    "* A null hypothesis H0\n",
    "* An alternative hypothesis HA\n",
    "* A test statistic (in many situations associated to a model)\n",
    "* A decision or a measure of significance (P-value = P (A|H0))\n",
    "\n",
    "<img src=\"https://raw.githubusercontent.com/amandakube/Data118LectureImages/main/Errors.png\" alt=\"Type1 and Type2 Errors\" width=\"700\">\n",
    "\n",
    "\n",
    "* A Type 1 Error is rejecting the H0 when it is true.\n",
    "* A Type 2 Error is failing to reject the H0 when it is false."
   ]
  },
  {
   "cell_type": "markdown",
   "id": "9bb7d3ec",
   "metadata": {
    "slideshow": {
     "slide_type": "slide"
    }
   },
   "source": [
    "## Decisions: Type 1 and Type 2 Errors\n",
    "\n",
    "Four possible results of a test (Q: What are false positive and false negatives?)\n",
    "\n",
    "|             | H0 Accepted                   | H0 Rejected                   |   |   |\n",
    "|-------------|-------------------------------|-------------------------------|---|---|\n",
    "| H0 is True  | Correct decision, Prob = 1 − α | Type 1 error, Prob = α         |   |   |\n",
    "| H0 is False | Type 2 error, Prob = β         | Correct decision, Prob = 1 − β |   |   |\n",
    "\n",
    "Power of a significance test measures its ability to detect an\n",
    "alternative hypothesis: 1 − β."
   ]
  },
  {
   "cell_type": "markdown",
   "id": "02990eb1",
   "metadata": {
    "slideshow": {
     "slide_type": "fragment"
    }
   },
   "source": [
    "<center>\n",
    "<img src=\"https://raw.githubusercontent.com/SusannaLange/Data_118_images/main/images/Probability/error_graph.png\" alt=\"error_dist\" width=\"600\">\n",
    "    </center>"
   ]
  },
  {
   "cell_type": "markdown",
   "id": "fbd519ad",
   "metadata": {
    "slideshow": {
     "slide_type": "fragment"
    }
   },
   "source": [
    "False positive - medical trial was effective...when it really was not ---> Type I error\n",
    "(rejecting the null when it is really true)\n",
    "\n",
    "\n",
    "False negative - medical trial was not effect ... when it really was ---> Type II error"
   ]
  },
  {
   "cell_type": "markdown",
   "id": "3764e360",
   "metadata": {
    "slideshow": {
     "slide_type": "slide"
    }
   },
   "source": [
    "#### Multiple hypothesis testing...\n",
    "\n",
    "is the scenario that we are conducting several hypothesis tests at the same time."
   ]
  },
  {
   "cell_type": "markdown",
   "id": "50a9cefc",
   "metadata": {
    "slideshow": {
     "slide_type": "slide"
    }
   },
   "source": [
    "<img src=\"https://raw.githubusercontent.com/SusannaLange/Data_118_images/main/images/Probability/jelly_beans.png\" alt=\"jelly_beans\" width=\"700\">"
   ]
  },
  {
   "cell_type": "markdown",
   "id": "35048057",
   "metadata": {
    "slideshow": {
     "slide_type": "fragment"
    }
   },
   "source": [
    "Find jelly bean example here: https://xkcd.com/882/ "
   ]
  },
  {
   "cell_type": "markdown",
   "id": "9a8f7cb6",
   "metadata": {
    "slideshow": {
     "slide_type": "slide"
    }
   },
   "source": [
    "### Another example"
   ]
  },
  {
   "cell_type": "markdown",
   "id": "0d38f018",
   "metadata": {
    "slideshow": {
     "slide_type": "fragment"
    }
   },
   "source": [
    "Suppose a company Malp Pharmaceuticals is testing a new drug.\n",
    "\n",
    "\n",
    " - The company thinks the drug might help support the liver, so they perform trials on 7 groups of patients with each group having one of 7 different types of liver disease. \n"
   ]
  },
  {
   "cell_type": "markdown",
   "id": "47d0f3c7",
   "metadata": {
    "slideshow": {
     "slide_type": "fragment"
    }
   },
   "source": [
    " - Each groups was split into a treatment group and a control, a one sided hypothesis test was carried out to see if the treatment group had improved biomarkers over the control"
   ]
  },
  {
   "cell_type": "markdown",
   "id": "10cb85ca",
   "metadata": {
    "slideshow": {
     "slide_type": "slide"
    }
   },
   "source": [
    "### The following p-values were found"
   ]
  },
  {
   "cell_type": "markdown",
   "id": "c69ef9bb",
   "metadata": {
    "slideshow": {
     "slide_type": "fragment"
    }
   },
   "source": [
    "|             | Group 1 | Group 2 | Group 3 | Group 4 | Group 5 | Group 6 | Group 7 |\n",
    "| ----------- | :------:| :------:| :------:| :------:| :------:| :------:| :------:|\n",
    "| **p-value** | 0.255014| 0.375766| 0.852235| 0.034189| 0.187971| 0.183354| 0.771669|"
   ]
  },
  {
   "cell_type": "markdown",
   "id": "90a123fa",
   "metadata": {
    "slideshow": {
     "slide_type": "fragment"
    }
   },
   "source": [
    "Note, Group 4, had improved biomarkers over the control with p-value **0.034 < 0.05**\n",
    "\n",
    " - the result is significant at the level 0.05. "
   ]
  },
  {
   "cell_type": "markdown",
   "id": "2fbb2f47",
   "metadata": {
    "slideshow": {
     "slide_type": "fragment"
    }
   },
   "source": [
    "<code style=\"background:Thistle;color:black\"> **Question:** Is this good evidence that the new drug works?\n",
    "</code>\n"
   ]
  },
  {
   "cell_type": "markdown",
   "id": "c6a13121",
   "metadata": {
    "slideshow": {
     "slide_type": "slide"
    }
   },
   "source": [
    "### Issue"
   ]
  },
  {
   "cell_type": "markdown",
   "id": "3f6f524d",
   "metadata": {
    "slideshow": {
     "slide_type": "fragment"
    }
   },
   "source": [
    "Even thought there's only a 5% chance of a Type I error happening with Group 4, **there's a greater than 5% chance of a Type I error occuring to one of the treatment groups.**"
   ]
  },
  {
   "cell_type": "markdown",
   "id": "b5ccf5ee",
   "metadata": {
    "slideshow": {
     "slide_type": "fragment"
    }
   },
   "source": [
    "Because we are performing **Multiple Hypothesis Tests**"
   ]
  },
  {
   "cell_type": "markdown",
   "id": "38ad99c8",
   "metadata": {
    "slideshow": {
     "slide_type": "slide"
    }
   },
   "source": [
    "### Simulation"
   ]
  },
  {
   "cell_type": "markdown",
   "id": "4ad0526b",
   "metadata": {
    "slideshow": {
     "slide_type": "fragment"
    }
   },
   "source": [
    " - We'll assume that the drug does nothing.\n",
    " \n",
    "More techically - For each group the biomarker level for the treatment group differs randomly from the control according to a normal distribution with mean 0. \n",
    "\n",
    "Note: The normal distribution here can be replaced with any distribution and we get the same result."
   ]
  },
  {
   "cell_type": "markdown",
   "id": "f124b53a",
   "metadata": {
    "slideshow": {
     "slide_type": "slide"
    }
   },
   "source": [
    "\n",
    "We will simulate how often this random fluctuation would lead to the above study finding that the drug helps treat at least 1 of the 7 seven diseases. "
   ]
  },
  {
   "cell_type": "markdown",
   "id": "5a166f1e",
   "metadata": {
    "slideshow": {
     "slide_type": "fragment"
    }
   },
   "source": [
    "Simulate this by...\n",
    " 1. graphing the null distribution (in blue)\n",
    " 2. plotting 7 randomly chosen test-statistics (purple points)\n",
    " 3. Calculates 'Are any of those randomly chosen values significant?'\n",
    " 4. If yes ---> adding one to counter"
   ]
  },
  {
   "cell_type": "code",
   "execution_count": null,
   "id": "6a54659f",
   "metadata": {
    "slideshow": {
     "slide_type": "fragment"
    }
   },
   "outputs": [],
   "source": [
    "#this plots a histogram with 7 test_stats plotted!\n",
    "def hist_plot(test_differences):\n",
    "    '''Visualizes the corresponding graph with 7  test_stats'''\n",
    "    plt.hist(normdist)\n",
    "\n",
    "    for i in test_differences:\n",
    "        plt.scatter(i, -14, color='purple', s=40)\n",
    "    plt.title('7 test statistics')\n",
    "    plt.ylabel('Frequency')\n",
    "    plt.xlabel('Difference in Means')\n",
    "    plt.show()"
   ]
  },
  {
   "cell_type": "code",
   "execution_count": null,
   "id": "9448ff6c",
   "metadata": {
    "slideshow": {
     "slide_type": "fragment"
    }
   },
   "outputs": [],
   "source": [
    "#hide code...i.e. not really important for this example\n",
    "#this would not be tested on \n",
    "# Generate a normal distribution, with mu = 0 and sigma = 1\n",
    "normdist = np.random.normal(0,1,10000)\n",
    "\n",
    "# compute the p-value for our 1-sided test.\n",
    "# It returns the proportion of values in normdist that are less than r\n",
    "def pValue(r):\n",
    "    '''Calculcates the p value'''\n",
    "    numLess = (normdist<r).sum()\n",
    "    return numLess/10000\n",
    "\n",
    "# run 1000 trials each trial generate 7 random numbers from normdist\n",
    "significantCount = 0\n",
    "for i in range(0,1000):\n",
    "    test_differences = np.random.normal(0,1,7) #generating 7 sample means\n",
    "    test_pvalues = []\n",
    "    # compute p-values for the corresponding sample means\n",
    "    for r in test_differences:\n",
    "        test_pvalues.append(pValue(r))   \n",
    "    #this graphs one of the 1000 graphs to visualize    \n",
    "    if i == 500:\n",
    "        hist_plot(test_differences)\n",
    "    # Check if at least 1 of the trials would have found \n",
    "    # a result significant at the 5% level\n",
    "    if min(test_pvalues) < 0.05:\n",
    "        significantCount += 1\n",
    "        \n",
    "print('Pobability of at least one Type I error (assuming all nulls are true):', significantCount/1000)"
   ]
  },
  {
   "cell_type": "markdown",
   "id": "7fab20fe",
   "metadata": {
    "slideshow": {
     "slide_type": "slide"
    }
   },
   "source": [
    " - We see that we would obtain a result this significant around 30.6% of the time. \n",
    "\n",
    "\n",
    "\n",
    " - Therefore, the trials did not give good statistical evidence that the drug does anything at all. "
   ]
  },
  {
   "cell_type": "markdown",
   "id": "cdd9a107",
   "metadata": {
    "slideshow": {
     "slide_type": "slide"
    }
   },
   "source": [
    "### How likely is a Type I error in general?"
   ]
  },
  {
   "cell_type": "markdown",
   "id": "186d86ea",
   "metadata": {
    "slideshow": {
     "slide_type": "fragment"
    }
   },
   "source": [
    "In general, if we perform $m$ hypothesis tests, what is the probability of at least 1 false positive? Assume a statistical significince level of $\\alpha = 0.05$."
   ]
  },
  {
   "cell_type": "markdown",
   "id": "21809da2",
   "metadata": {
    "slideshow": {
     "slide_type": "fragment"
    }
   },
   "source": [
    "**Goal:** P(Making at least 1 error in $m$ tests) = 1 - P(Not making an error in $m$ tests)"
   ]
  },
  {
   "cell_type": "markdown",
   "id": "b05d75ff",
   "metadata": {
    "slideshow": {
     "slide_type": "fragment"
    }
   },
   "source": [
    "\n",
    "P(Making an error assuming the null hypothesis is true) $ = \\alpha$\n",
    "\n",
    "P(Not making an error) $ = 1 - \\alpha$\n",
    "\n",
    "P(Not making an error in $m$ tests) $ = (1 - \\alpha)^m$\n",
    "\n",
    "\n",
    "P(Making at least 1 error in m tests) $= 1 - (1 - \\alpha)^m$"
   ]
  },
  {
   "cell_type": "markdown",
   "id": "50bb377e",
   "metadata": {
    "slideshow": {
     "slide_type": "fragment"
    }
   },
   "source": [
    "For our example above with $m=7$ and $\\alpha = 0.05$ we have $1-(1-0.05)^7 = .30$ \n",
    "\n",
    "\n",
    "Thus a 30% chance of making a Type I error!"
   ]
  },
  {
   "cell_type": "code",
   "execution_count": null,
   "id": "03aa4ec7",
   "metadata": {},
   "outputs": [],
   "source": [
    "1-(1-0.05)**7"
   ]
  },
  {
   "cell_type": "markdown",
   "id": "daf04673",
   "metadata": {
    "slideshow": {
     "slide_type": "slide"
    }
   },
   "source": [
    "## False positives"
   ]
  },
  {
   "cell_type": "markdown",
   "id": "11a9e12a",
   "metadata": {
    "slideshow": {
     "slide_type": "fragment"
    }
   },
   "source": [
    "\n",
    "<img src=\"https://raw.githubusercontent.com/SusannaLange/Data_118_images/main/images/Probability/False_error_graph.png\" alt=\"False_error\" width=\"700\">"
   ]
  },
  {
   "cell_type": "markdown",
   "id": "33895105",
   "metadata": {
    "slideshow": {
     "slide_type": "slide"
    }
   },
   "source": [
    "## Multiple Hypothesis Testing"
   ]
  },
  {
   "cell_type": "markdown",
   "id": "14fc1a1f",
   "metadata": {
    "slideshow": {
     "slide_type": "fragment"
    }
   },
   "source": [
    "Suppose we are testing $H_1$, $H_2$, ....$H_m$ hypotheses"
   ]
  },
  {
   "cell_type": "markdown",
   "id": "5f0462d2",
   "metadata": {
    "slideshow": {
     "slide_type": "fragment"
    }
   },
   "source": [
    "|       | Fail to reject $H_0$  | Reject $H_0$ | Total|\n",
    "| --------------------- |:--------------:| :-------------:| :-------------:|\n",
    "| **$H_0$ True**      |  U             |     V          |    $m_0$         |\n",
    "| **$H_0$ NOT True**  |     T          |   S           |       $m$-$m_0$    |\n",
    "| Total               |       $m$-R         |   R           |      $m$         |\n"
   ]
  },
  {
   "cell_type": "markdown",
   "id": "ab34c6e5",
   "metadata": {
    "slideshow": {
     "slide_type": "fragment"
    }
   },
   "source": [
    " - $m_0$ total True Hypotheses\n",
    " \n",
    " - R total rejections\n",
    "  \n",
    " - V is the number of false positives (Type I error) (also called \"false discoveries\")\n",
    " \n",
    " - S is the number of true positives (also called \"true discoveries\")\n",
    " \n",
    " - T is the number of false negatives (Type II error)\n",
    "\n",
    " - U is the number of true negatives"
   ]
  },
  {
   "cell_type": "markdown",
   "id": "09df5000",
   "metadata": {
    "slideshow": {
     "slide_type": "fragment"
    }
   },
   "source": [
    "Error Rates we can control:\n",
    "* Family-wise error rate (FWER): P(V > 0)\n",
    "* Per family error rate: E(V)\n",
    "* False Discovery Rate (FDR): E(V/R)"
   ]
  },
  {
   "cell_type": "markdown",
   "id": "b8350798",
   "metadata": {
    "slideshow": {
     "slide_type": "slide"
    }
   },
   "source": [
    "**Idea** We want to somehow control how many 'false positives' we have from multiple hypothesis testing."
   ]
  },
  {
   "cell_type": "markdown",
   "id": "0eb07531",
   "metadata": {
    "slideshow": {
     "slide_type": "slide"
    }
   },
   "source": [
    "## How do we do this? \n",
    "\n",
    "## Controlling for Type I error."
   ]
  },
  {
   "cell_type": "markdown",
   "id": "8ced1d33",
   "metadata": {
    "slideshow": {
     "slide_type": "fragment"
    }
   },
   "source": [
    "We can adjust the significance level in a certain way to account for the number of hypothesis tests performed\n",
    "\n",
    " - so that the probability of observing at least one significant result due to chance remains below your desired significance level."
   ]
  },
  {
   "cell_type": "markdown",
   "id": "6a79e43b",
   "metadata": {
    "slideshow": {
     "slide_type": "fragment"
    }
   },
   "source": [
    "Controlling FWER:\n",
    "    \n",
    "* Sidak: $\\displaystyle \\gamma = 1 - (1 - \\alpha)^{1/m}$\n",
    "* Bonferroni correction: $\\displaystyle \\gamma = \\alpha/m$\n"
   ]
  },
  {
   "cell_type": "markdown",
   "id": "44ef7315",
   "metadata": {
    "slideshow": {
     "slide_type": "slide"
    }
   },
   "source": [
    "## Sidak correction\n",
    "\n",
    "We adjust our significance level so that our new level of significance is $\\displaystyle{1 - (1 - \\alpha)^{1/m}}$\n",
    "\n",
    "\n",
    "That is, we reject $H_i$ if $p_i <1 - (1 - \\alpha)^{1/m}$"
   ]
  },
  {
   "cell_type": "markdown",
   "id": "a33ce500",
   "metadata": {
    "slideshow": {
     "slide_type": "slide"
    }
   },
   "source": [
    "## Bonferroni correction\n"
   ]
  },
  {
   "cell_type": "markdown",
   "id": "4bc038c7",
   "metadata": {
    "slideshow": {
     "slide_type": "fragment"
    }
   },
   "source": [
    "We adjust our significance level so that our new level of significance is $\\displaystyle{\\frac{\\alpha}{m}}$\n",
    "\n",
    "\n",
    "That is, we reject $H_i$ if $p_i < \\frac{\\alpha}{m}$\n",
    "\n"
   ]
  },
  {
   "cell_type": "markdown",
   "id": "60866e33",
   "metadata": {
    "slideshow": {
     "slide_type": "fragment"
    }
   },
   "source": [
    "**For example,** if we want to have an experiment wide Type I\n",
    "error rate of 0.05 when we perform 10,000 hypothesis tests,\n",
    "we’d need a p-value of 0.05/10000 = $5 \\times 10^{-6}$ to declare\n",
    "significance using **Bonferroni correction**\n",
    "\n",
    "Using **Sidak correction** we'd need a p-value of $1-(1-0.05)^{\\frac{1}{10,000}} = 5.129 \\times 10^{-6}$"
   ]
  },
  {
   "cell_type": "markdown",
   "id": "e503370b",
   "metadata": {
    "slideshow": {
     "slide_type": "fragment"
    }
   },
   "source": [
    "<code style=\"background:Thistle;color:black\"> **In our example,** if we want to have an experiment wide Type I\n",
    "error rate of 0.05 when we perform 7 hypothesis tests, what would we need the p-value to be using Bonferroni?\n",
    "</code>\n"
   ]
  },
  {
   "cell_type": "markdown",
   "id": "c7ecb1f9",
   "metadata": {
    "slideshow": {
     "slide_type": "fragment"
    }
   },
   "source": [
    "Recall, we had the following p-values:\n",
    "\n",
    "|             | Group 1 | Group 2 | Group 3 | Group 4 | Group 5 | Group 6 | Group 7 |\n",
    "| ----------- | :------:| :------:| :------:| :------:| :------:| :------:| :------:|\n",
    "| **p-value** | 0.255014| 0.375766| 0.852235| 0.034189| 0.187971| 0.183354| 0.771669|"
   ]
  },
  {
   "cell_type": "markdown",
   "id": "fcc806ea",
   "metadata": {
    "slideshow": {
     "slide_type": "slide"
    }
   },
   "source": [
    "## P-hacking"
   ]
  },
  {
   "cell_type": "markdown",
   "id": "71e809b4",
   "metadata": {
    "slideshow": {
     "slide_type": "fragment"
    }
   },
   "source": [
    "Idea that we can find significant associations if we perform enough experiments....and then report those results!\n"
   ]
  },
  {
   "cell_type": "markdown",
   "id": "2c67beb1",
   "metadata": {
    "slideshow": {
     "slide_type": "slide"
    }
   },
   "source": [
    "<img src=\"https://raw.githubusercontent.com/SusannaLange/Data_118_images/main/images/Probability/p_hacking.png\" alt=\"p_hacking\" width=\"700\">"
   ]
  },
  {
   "cell_type": "markdown",
   "id": "8d7abe62",
   "metadata": {
    "slideshow": {
     "slide_type": "fragment"
    }
   },
   "source": [
    "**Note:** there are 1066 food questions and 26 other variables with information on subjects. You can potentially look for $1,066\\times 26=27,716$ associations."
   ]
  },
  {
   "cell_type": "markdown",
   "id": "98d51032",
   "metadata": {
    "slideshow": {
     "slide_type": "skip"
    }
   },
   "source": [
    "More information here: https://fivethirtyeight.com/features/you-cant-trust-what-you-read-about-nutrition/ if interested"
   ]
  },
  {
   "cell_type": "markdown",
   "id": "bc265b7d",
   "metadata": {
    "slideshow": {
     "slide_type": "slide"
    }
   },
   "source": [
    "**To recap:** Adjusting the rate helps to control for the fact that sometimes small p-values (less than 5%) happen by chance, which could lead you to incorrectly reject the true null hypotheses"
   ]
  },
  {
   "cell_type": "code",
   "execution_count": null,
   "id": "0699a7fc",
   "metadata": {},
   "outputs": [],
   "source": []
  }
 ],
 "metadata": {
  "kernelspec": {
   "display_name": "Python 3 (ipykernel)",
   "language": "python",
   "name": "python3"
  },
  "language_info": {
   "codemirror_mode": {
    "name": "ipython",
    "version": 3
   },
   "file_extension": ".py",
   "mimetype": "text/x-python",
   "name": "python",
   "nbconvert_exporter": "python",
   "pygments_lexer": "ipython3",
   "version": "3.9.12"
  }
 },
 "nbformat": 4,
 "nbformat_minor": 5
}
